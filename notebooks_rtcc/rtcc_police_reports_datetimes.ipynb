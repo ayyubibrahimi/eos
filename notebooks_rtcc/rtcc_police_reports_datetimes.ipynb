{
 "cells": [
  {
   "cell_type": "code",
   "execution_count": 103,
   "metadata": {},
   "outputs": [],
   "source": [
    "## what effect does time have on location, district, race, age "
   ]
  },
  {
   "cell_type": "code",
   "execution_count": 104,
   "metadata": {},
   "outputs": [],
   "source": [
    "import pandas as pd\n",
    "\n",
    "def standardize_item_no(df):\n",
    "    df.loc[:, \"item_number\"] = df.item_number.str.lower().str.strip().str.replace(r\"-\", \"\", regex=False)\n",
    "    return df\n",
    "\n",
    "def clean():\n",
    "    df1 = pd.read_csv(\"../data/electronic_police_report_2018.csv\")\n",
    "    df2 = pd.read_csv(\"../data/electronic_police_report_2019.csv\")\n",
    "    df3 = pd.read_csv(\"../data/electronic_police_report_2020.csv\")\n",
    "    df4 = pd.read_csv(\"../data/electronic_police_report_2021.csv\")\n",
    "    df5 = pd.read_csv(\"../data/electronic_police_report_2022.csv\")\n",
    "    df1[\"year\"] = 2018\n",
    "    df2[\"year\"] = 2019\n",
    "    df3[\"year\"] = 2020\n",
    "    df4[\"year\"] = 2021\n",
    "    df5[\"year\"] = 2022\n",
    "    dfs = [df1, df2, df3, df4, df5]\n",
    "    dfa = pd.concat(dfs, join=\"outer\")\n",
    "    dfa = dfa.pipe(standardize_item_no)\n",
    "\n",
    "    dfb = pd.read_csv(\"../data/rtcc.csv\")\n",
    "    dfb[\"footage_requested\"] = \"1\"\n",
    "    dfb = dfb.pipe(standardize_item_no)\n",
    "\n",
    "    df = pd.merge(dfa, dfb, on=\"item_number\")\n",
    "    return df"
   ]
  },
  {
   "cell_type": "code",
   "execution_count": 105,
   "metadata": {},
   "outputs": [
    {
     "name": "stderr",
     "output_type": "stream",
     "text": [
      "C:\\Users\\PC\\AppData\\Local\\Temp\\ipykernel_20232\\1662552057.py:11: DtypeWarning: Columns (21) have mixed types. Specify dtype option on import or set low_memory=False.\n",
      "  df4 = pd.read_csv(\"../data/electronic_police_report_2021.csv\")\n",
      "C:\\Users\\PC\\AppData\\Local\\Temp\\ipykernel_20232\\1662552057.py:12: DtypeWarning: Columns (21) have mixed types. Specify dtype option on import or set low_memory=False.\n",
      "  df5 = pd.read_csv(\"../data/electronic_police_report_2022.csv\")\n"
     ]
    }
   ],
   "source": [
    "df = clean()"
   ]
  },
  {
   "cell_type": "code",
   "execution_count": 106,
   "metadata": {},
   "outputs": [
    {
     "data": {
      "text/plain": [
       "array(['d2077118', 'e1274818', 'l2194418', ..., 'j2225922', 'a1349122',\n",
       "       'a3158222'], dtype=object)"
      ]
     },
     "execution_count": 106,
     "metadata": {},
     "output_type": "execute_result"
    }
   ],
   "source": [
    "df.item_number.unique()"
   ]
  },
  {
   "cell_type": "code",
   "execution_count": 107,
   "metadata": {},
   "outputs": [],
   "source": [
    "df = df.drop_duplicates(subset=[\"offender_race\", \"offender_gender\", \"item_number\"])"
   ]
  },
  {
   "cell_type": "code",
   "execution_count": null,
   "metadata": {},
   "outputs": [],
   "source": []
  },
  {
   "cell_type": "code",
   "execution_count": 108,
   "metadata": {},
   "outputs": [
    {
     "name": "stderr",
     "output_type": "stream",
     "text": [
      "C:\\Users\\PC\\AppData\\Local\\Temp\\ipykernel_20232\\2673563878.py:1: FutureWarning: The default value of regex will change from True to False in a future version.\n",
      "  datetimes = (df.occurred_date_time.str.replace(r\"(\\w{4})-(\\w{1,2})-(\\w{1,2})\", r\"\\2/\\3/\\1\").str.extract(r\"(\\w{2}):(\\w{2}):?(\\w{2})?\"))\n"
     ]
    }
   ],
   "source": [
    "datetimes = (df.occurred_date_time.str.replace(r\"(\\w{4})-(\\w{1,2})-(\\w{1,2})\", r\"\\2/\\3/\\1\").str.extract(r\"(\\w{2}):(\\w{2}):?(\\w{2})?\"))\n",
    "df.loc[:, \"occurred_datetime\"] = datetimes[0]"
   ]
  },
  {
   "cell_type": "code",
   "execution_count": 109,
   "metadata": {},
   "outputs": [
    {
     "data": {
      "text/plain": [
       "occurred_datetime  district  offender_race\n",
       "22                 1         BLACK            17\n",
       "                             UNKNOWN           6\n",
       "                             WHITE             3\n",
       "                   2         BLACK            14\n",
       "                             UNKNOWN           4\n",
       "                             WHITE             2\n",
       "                   3         BLACK            24\n",
       "                             UNKNOWN          10\n",
       "                             HISPANIC          1\n",
       "                             WHITE             1\n",
       "                   4         BLACK            16\n",
       "                             UNKNOWN           2\n",
       "                             WHITE             1\n",
       "                   5         BLACK            11\n",
       "                             UNKNOWN          10\n",
       "                             WHITE             1\n",
       "                   6         BLACK            12\n",
       "                             UNKNOWN           7\n",
       "                             WHITE             1\n",
       "                   7         BLACK            29\n",
       "                             UNKNOWN          12\n",
       "                             HISPANIC          1\n",
       "                             WHITE             1\n",
       "                   8         BLACK            47\n",
       "                             WHITE            15\n",
       "                             UNKNOWN           9\n",
       "                             HISPANIC          2\n",
       "Name: offender_race, dtype: int64"
      ]
     },
     "execution_count": 109,
     "metadata": {},
     "output_type": "execute_result"
    }
   ],
   "source": [
    "df = df[df.occurred_datetime.fillna(\"\").str.contains(\"22\")]\n",
    "df.groupby([\"occurred_datetime\", \"district\"]).offender_race.value_counts()"
   ]
  },
  {
   "cell_type": "code",
   "execution_count": 110,
   "metadata": {},
   "outputs": [
    {
     "data": {
      "text/plain": [
       "(387, 28)"
      ]
     },
     "execution_count": 110,
     "metadata": {},
     "output_type": "execute_result"
    }
   ],
   "source": [
    "df.shape"
   ]
  },
  {
   "cell_type": "code",
   "execution_count": 111,
   "metadata": {},
   "outputs": [],
   "source": [
    "requested = df[df.footage_requested.isin([\"1\"])]"
   ]
  }
 ],
 "metadata": {
  "kernelspec": {
   "display_name": "Python 3.10.8 64-bit (microsoft store)",
   "language": "python",
   "name": "python3"
  },
  "language_info": {
   "codemirror_mode": {
    "name": "ipython",
    "version": 3
   },
   "file_extension": ".py",
   "mimetype": "text/x-python",
   "name": "python",
   "nbconvert_exporter": "python",
   "pygments_lexer": "ipython3",
   "version": "3.10.9"
  },
  "orig_nbformat": 4,
  "vscode": {
   "interpreter": {
    "hash": "23f823caeccb1684f6bd50492b68bb5eab208de0408f39b2457c6a38c0e8e818"
   }
  }
 },
 "nbformat": 4,
 "nbformat_minor": 2
}
