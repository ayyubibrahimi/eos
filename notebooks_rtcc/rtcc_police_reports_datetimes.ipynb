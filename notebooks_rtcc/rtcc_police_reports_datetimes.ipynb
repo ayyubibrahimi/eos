{
 "cells": [
  {
   "cell_type": "code",
   "execution_count": 301,
   "metadata": {},
   "outputs": [],
   "source": [
    "## what effect does time have on district (and race or age)\n",
    "## replace district w location\n",
    "\n",
    "## is there a stronger correlation between incidents at night by race that spur requests vs incidents at night"
   ]
  },
  {
   "cell_type": "code",
   "execution_count": 302,
   "metadata": {},
   "outputs": [],
   "source": [
    "import pandas as pd\n",
    "from lib import standardize_item_numbers\n",
    "import numpy as np\n",
    "from matplotlib import pyplot as plt\n",
    "from sklearn.linear_model import LinearRegression\n",
    "from sklearn.model_selection import train_test_split\n",
    "from sklearn.metrics import r2_score\n",
    "from sklearn.metrics import mean_squared_error\n",
    "from sklearn.linear_model import LogisticRegression\n",
    "from sklearn import datasets, linear_model\n",
    "from sklearn.preprocessing import StandardScaler, MinMaxScaler\n",
    "from sklearn.tree import DecisionTreeRegressor, DecisionTreeClassifier\n",
    "from sklearn.ensemble import RandomForestRegressor,RandomForestClassifier\n",
    "from sklearn.metrics import f1_score\n",
    "from sklearn.model_selection import KFold\n",
    "import statsmodels.api as sm\n",
    "from scipy import stats"
   ]
  },
  {
   "cell_type": "code",
   "execution_count": 303,
   "metadata": {},
   "outputs": [],
   "source": [
    "def clean():\n",
    "    dfa = pd.read_csv(\"../data/electronic_police_report_2018_2022.csv\")\n",
    "    dfa = dfa.pipe(standardize_item_numbers, [\"item_number\"])\n",
    "\n",
    "    dfb = pd.read_csv(\"../data/rtcc.csv\")\n",
    "    dfb[\"rtcc_requested\"] = \"1\"\n",
    "    dfb = dfb.pipe(standardize_item_numbers, [\"item_number\"])\n",
    "\n",
    "    df = pd.merge(dfa, dfb, on=\"item_number\", how=\"outer\")\n",
    "    return df"
   ]
  },
  {
   "cell_type": "code",
   "execution_count": 304,
   "metadata": {},
   "outputs": [
    {
     "name": "stderr",
     "output_type": "stream",
     "text": [
      "C:\\Users\\PC\\AppData\\Local\\Temp\\ipykernel_11580\\2311211475.py:2: DtypeWarning: Columns (14,20,24,25) have mixed types. Specify dtype option on import or set low_memory=False.\n",
      "  dfa = pd.read_csv(\"../data/electronic_police_report_2018_2022.csv\")\n"
     ]
    }
   ],
   "source": [
    "df = clean()"
   ]
  },
  {
   "cell_type": "code",
   "execution_count": 305,
   "metadata": {},
   "outputs": [
    {
     "data": {
      "text/plain": [
       "Index(['Unnamed: 0', 'item_number', 'district', 'location', 'disposition',\n",
       "       'signal_type', 'signal_description', 'occurred_date_time',\n",
       "       'charge_code', 'charge_description', 'offender_race', 'offender_gender',\n",
       "       'offender_age', 'offender_number', 'person_type', 'victim_race',\n",
       "       'victim_gender', 'victim_age', 'victim_number', 'victim_fatal_status',\n",
       "       'hate_crime', 'report_type', 'year', 'offenderid', 'offenderstatus',\n",
       "       'persontype', 'Signal Code', 'rtcc_requested'],\n",
       "      dtype='object')"
      ]
     },
     "execution_count": 305,
     "metadata": {},
     "output_type": "execute_result"
    }
   ],
   "source": [
    "df.columns"
   ]
  },
  {
   "cell_type": "code",
   "execution_count": 306,
   "metadata": {},
   "outputs": [],
   "source": [
    "df = df.drop_duplicates(subset=[\"offender_race\", \"offender_gender\", \"offender_age\", \"item_number\"])"
   ]
  },
  {
   "cell_type": "code",
   "execution_count": 307,
   "metadata": {},
   "outputs": [],
   "source": [
    "df['occurred_date_time'] = sorted(pd.to_datetime(df['occurred_date_time']))\n",
    "df['hour'] = df['occurred_date_time'].dt.hour\n",
    "df = df[~((df.hour.fillna(\"\") == \"\"))]\n",
    "df.loc[:, \"hour\"] = df.hour.astype(int)"
   ]
  },
  {
   "cell_type": "code",
   "execution_count": 308,
   "metadata": {},
   "outputs": [],
   "source": [
    "# top_50_charge_descs_sr = (pd.Series(df.groupby(\"charge_description\")\n",
    "#                                                 .rtcc_requested.value_counts()\n",
    "#                                                 .sort_values(ascending=False).head(10))\n",
    "# )\n",
    "# top_50_charge_descs_df = (pd.DataFrame(top_50_charge_descs_sr).unstack()\n",
    "#                                                               .reset_index()\n",
    "# )\n",
    "\n",
    "# top_charge_desc_list = [x for x in top_50_charge_descs_df[\"charge_description\"]]"
   ]
  },
  {
   "cell_type": "code",
   "execution_count": 309,
   "metadata": {},
   "outputs": [],
   "source": [
    "# requested_df = df[((df.rtcc_requested == \"1\"))]\n",
    "# not_requested_df = df[~((df.rtcc_requested == \"1\"))]\n",
    "\n",
    "# requested_df = requested_df[requested_df.charge_description.isin(top_charge_desc_list)]\n",
    "# not_requested_df = not_requested_df[not_requested_df.charge_description.isin(top_charge_desc_list)]\n",
    "\n",
    "# requested_hours_ar = np.array(requested_df[\"hour\"])\n",
    "# not_requested_hours_ar = np.array(not_requested_df[\"hour\"])"
   ]
  },
  {
   "cell_type": "code",
   "execution_count": 310,
   "metadata": {},
   "outputs": [],
   "source": [
    "# requested_df.loc[:, \"offender_race\"] = (requested_df.offender_race.str.lower().str.strip().str.replace(r\"unknown\", \"\", regex=False)\n",
    "#                                   .str.replace(r\"^(?!(black)).*\", \"0\", regex=True)\n",
    "#                                   .str.replace(r\"black\", \"1\", regex=False)\n",
    "# )\n",
    "\n",
    "# requested_df[requested_df['offender_race'] == '1'].hour.plot(kind='hist', color='blue', edgecolor='black', alpha=0.5, figsize=(10, 7))\n",
    "# requested_df[requested_df['offender_race'] == '0'].hour.plot(kind='hist', color='magenta', edgecolor='black', alpha=0.5, figsize=(10, 7))\n",
    "# plt.legend(labels=['Blacks', 'Non-Blacks'])\n",
    "# plt.title('Distribution of Surveillance Data Requests to RTCC', size=24)\n",
    "# plt.xlabel('Hour of Day', size=18)\n",
    "# plt.ylabel('Frequency', size=18)"
   ]
  },
  {
   "cell_type": "code",
   "execution_count": 311,
   "metadata": {},
   "outputs": [],
   "source": [
    "# fig, ax = plt.subplots(figsize =(6,4) )\n",
    "# ax.hist(requested_hours_ar, bins =20, color=\"k\", edgecolor = 'black',  alpha=0.5)\n",
    "# ax.set_title(\"NOPD Police Reports where RTCC data was requested by Time of Day\")\n",
    "# plt.show()"
   ]
  },
  {
   "cell_type": "code",
   "execution_count": 312,
   "metadata": {},
   "outputs": [],
   "source": [
    "# fig, ax = plt.subplots(figsize =(6,4) )\n",
    "# ax.hist(not_requested_hours_ar, bins =20, color=\"k\", edgecolor = 'black',  alpha=0.5)\n",
    "# ax.set_title(\"NOPD Police Reports where RTCC data was not requested by Time of Day\")\n",
    "# plt.show()"
   ]
  },
  {
   "cell_type": "code",
   "execution_count": 313,
   "metadata": {},
   "outputs": [
    {
     "data": {
      "text/plain": [
       "THEFT                                    27869\n",
       "SIMPLE BURGLARY                          24536\n",
       "SIMPLE CRIMINAL DAMAGE TO PROPERTY       13749\n",
       "THEFT OF A MOTOR VEHICLE                  8683\n",
       "WARRANT ISSUED BY                         6749\n",
       "DOMESTIC ABUSE BATTERY                    4510\n",
       "BATTERY                                   4289\n",
       "SIMPLE BATTERY                            3894\n",
       "IDENTITY THEFT                            3435\n",
       "POSSESSION OF MARIJUANA (1ST OFFENSE)     3034\n",
       "Name: charge_description, dtype: int64"
      ]
     },
     "execution_count": 313,
     "metadata": {},
     "output_type": "execute_result"
    }
   ],
   "source": [
    "df.charge_description.value_counts().head(10)"
   ]
  },
  {
   "cell_type": "code",
   "execution_count": 314,
   "metadata": {},
   "outputs": [
    {
     "data": {
      "text/html": [
       "<div>\n",
       "<style scoped>\n",
       "    .dataframe tbody tr th:only-of-type {\n",
       "        vertical-align: middle;\n",
       "    }\n",
       "\n",
       "    .dataframe tbody tr th {\n",
       "        vertical-align: top;\n",
       "    }\n",
       "\n",
       "    .dataframe thead th {\n",
       "        text-align: right;\n",
       "    }\n",
       "</style>\n",
       "<table border=\"1\" class=\"dataframe\">\n",
       "  <thead>\n",
       "    <tr style=\"text-align: right;\">\n",
       "      <th></th>\n",
       "      <th>count</th>\n",
       "      <th>unique</th>\n",
       "      <th>top</th>\n",
       "      <th>freq</th>\n",
       "    </tr>\n",
       "    <tr>\n",
       "      <th>rtcc_requested</th>\n",
       "      <th></th>\n",
       "      <th></th>\n",
       "      <th></th>\n",
       "      <th></th>\n",
       "    </tr>\n",
       "  </thead>\n",
       "  <tbody>\n",
       "    <tr>\n",
       "      <th>1</th>\n",
       "      <td>5768</td>\n",
       "      <td>6</td>\n",
       "      <td>BLACK</td>\n",
       "      <td>4251</td>\n",
       "    </tr>\n",
       "  </tbody>\n",
       "</table>\n",
       "</div>"
      ],
      "text/plain": [
       "               count unique    top  freq\n",
       "rtcc_requested                          \n",
       "1               5768      6  BLACK  4251"
      ]
     },
     "execution_count": 314,
     "metadata": {},
     "output_type": "execute_result"
    }
   ],
   "source": [
    "requested_df = df[((df.rtcc_requested == \"1\"))]\n",
    "requested_df.offender_race.groupby(requested_df[\"rtcc_requested\"]).describe()"
   ]
  },
  {
   "cell_type": "code",
   "execution_count": 317,
   "metadata": {},
   "outputs": [
    {
     "name": "stderr",
     "output_type": "stream",
     "text": [
      "C:\\Users\\PC\\AppData\\Local\\Temp\\ipykernel_11580\\3470198927.py:2: SettingWithCopyWarning: \n",
      "A value is trying to be set on a copy of a slice from a DataFrame.\n",
      "Try using .loc[row_indexer,col_indexer] = value instead\n",
      "\n",
      "See the caveats in the documentation: https://pandas.pydata.org/pandas-docs/stable/user_guide/indexing.html#returning-a-view-versus-a-copy\n",
      "  not_requested_df[\"rtcc_requested\"] = \"0\"\n"
     ]
    },
    {
     "data": {
      "text/html": [
       "<div>\n",
       "<style scoped>\n",
       "    .dataframe tbody tr th:only-of-type {\n",
       "        vertical-align: middle;\n",
       "    }\n",
       "\n",
       "    .dataframe tbody tr th {\n",
       "        vertical-align: top;\n",
       "    }\n",
       "\n",
       "    .dataframe thead th {\n",
       "        text-align: right;\n",
       "    }\n",
       "</style>\n",
       "<table border=\"1\" class=\"dataframe\">\n",
       "  <thead>\n",
       "    <tr style=\"text-align: right;\">\n",
       "      <th></th>\n",
       "      <th>count</th>\n",
       "      <th>unique</th>\n",
       "      <th>top</th>\n",
       "      <th>freq</th>\n",
       "    </tr>\n",
       "    <tr>\n",
       "      <th>rtcc_requested</th>\n",
       "      <th></th>\n",
       "      <th></th>\n",
       "      <th></th>\n",
       "      <th></th>\n",
       "    </tr>\n",
       "  </thead>\n",
       "  <tbody>\n",
       "    <tr>\n",
       "      <th>0</th>\n",
       "      <td>140570</td>\n",
       "      <td>7</td>\n",
       "      <td>BLACK</td>\n",
       "      <td>91170</td>\n",
       "    </tr>\n",
       "  </tbody>\n",
       "</table>\n",
       "</div>"
      ],
      "text/plain": [
       "                 count unique    top   freq\n",
       "rtcc_requested                             \n",
       "0               140570      7  BLACK  91170"
      ]
     },
     "execution_count": 317,
     "metadata": {},
     "output_type": "execute_result"
    }
   ],
   "source": [
    "not_requested_df = df[~((df.rtcc_requested == \"1\"))]\n",
    "not_requested_df[\"rtcc_requested\"] = \"0\"\n",
    "not_requested_df.offender_race.groupby(not_requested_df[\"rtcc_requested\"]).describe()"
   ]
  },
  {
   "cell_type": "code",
   "execution_count": 318,
   "metadata": {},
   "outputs": [
    {
     "data": {
      "text/plain": [
       "(161549, 29)"
      ]
     },
     "execution_count": 318,
     "metadata": {},
     "output_type": "execute_result"
    }
   ],
   "source": [
    "not_requested_df = not_requested_df.sample(frac=.5)\n",
    "\n",
    "dfb = pd.concat([not_requested_df, requested_df])\n",
    "dfb = dfb[~((dfb.rtcc_requested.fillna(\"\") == \"\"))]\n",
    "dfb.shape"
   ]
  },
  {
   "cell_type": "code",
   "execution_count": 319,
   "metadata": {},
   "outputs": [],
   "source": [
    "# dfb = df[df.rtcc_requested == \"1\"]\n",
    "dfb['sin_hour'] = np.sin(2 * np.pi * dfb['hour'] / max(dfb['hour'])) \n",
    "dfb['cos_hour'] = np.cos(2 * np.pi * dfb['hour'] / max(dfb['hour']))\n",
    "\n",
    "\n",
    "dfb.loc[:, \"rtcc_requested\"] = dfb.rtcc_requested.astype(float)\n",
    "\n",
    "dfb = dfb[~((dfb.offender_race.fillna(\"\") == \"\"))]\n",
    "dfb = dfb[~((dfb.rtcc_requested.fillna(\"\") == \"\"))]\n",
    "# dfb = dfb[~((dfb.sin_hour.fillna(\"\") == \"\"))]\n",
    "# dfb = dfb[~((dfb.cos_hour.fillna(\"\") == \"\"))]\n",
    "# dfb = dfb[~((dfb.disposition.fillna(\"\") == \"\"))]\n",
    "# dfb = dfb[~((dfb.offender_age.fillna(\"\") == \"\"))]"
   ]
  },
  {
   "cell_type": "code",
   "execution_count": 320,
   "metadata": {},
   "outputs": [],
   "source": [
    "# for col in df:\n",
    "#     if not pd.api.types.is_numeric_dtype(df[col]):\n",
    "#         df = pd.get_dummies(df, columns=[col], prefix=col, drop_first=True)\n",
    "\n",
    "\n",
    "dispositions = pd.get_dummies(dfb[\"disposition\"], drop_first=True)\n",
    "dfb = pd.concat([dfb, dispositions], axis=1)\n",
    "\n",
    "races = pd.get_dummies(dfb[\"offender_race\"], drop_first=True)\n",
    "dfb = pd.concat([dfb, races], axis=1)\n",
    "charges = pd.get_dummies(dfb[\"charge_description\"], drop_first=True)\n",
    "dfb = pd.concat([dfb, charges], axis=1)"
   ]
  },
  {
   "cell_type": "code",
   "execution_count": 321,
   "metadata": {},
   "outputs": [],
   "source": [
    "dfc = dfb[[\"rtcc_requested\", \"cos_hour\", \"sin_hour\", \"ASIAN\",\"BLACK\", \"HISPANIC\", \"UNKNOWN\", \"WHITE\", \"THEFT\", \"SIMPLE BURGLARY\", \"SIMPLE CRIMINAL DAMAGE TO PROPERTY\", \"THEFT OF A MOTOR VEHICLE\", \"WARRANT ISSUED BY\", \"DOMESTIC ABUSE BATTERY\", \"BATTERY\", \"SIMPLE BATTERY\", \"IDENTITY THEFT\", \"POSSESSION OF MARIJUANA (1ST OFFENSE)\"]]"
   ]
  },
  {
   "cell_type": "code",
   "execution_count": 322,
   "metadata": {},
   "outputs": [
    {
     "data": {
      "text/html": [
       "<div>\n",
       "<style scoped>\n",
       "    .dataframe tbody tr th:only-of-type {\n",
       "        vertical-align: middle;\n",
       "    }\n",
       "\n",
       "    .dataframe tbody tr th {\n",
       "        vertical-align: top;\n",
       "    }\n",
       "\n",
       "    .dataframe thead th {\n",
       "        text-align: right;\n",
       "    }\n",
       "</style>\n",
       "<table border=\"1\" class=\"dataframe\">\n",
       "  <thead>\n",
       "    <tr style=\"text-align: right;\">\n",
       "      <th></th>\n",
       "      <th>r</th>\n",
       "      <th>p</th>\n",
       "    </tr>\n",
       "  </thead>\n",
       "  <tbody>\n",
       "    <tr>\n",
       "      <th>rtcc_requested</th>\n",
       "      <td>1.000</td>\n",
       "      <td>0.000</td>\n",
       "    </tr>\n",
       "    <tr>\n",
       "      <th>cos_hour</th>\n",
       "      <td>0.003</td>\n",
       "      <td>0.424</td>\n",
       "    </tr>\n",
       "    <tr>\n",
       "      <th>sin_hour</th>\n",
       "      <td>0.004</td>\n",
       "      <td>0.222</td>\n",
       "    </tr>\n",
       "    <tr>\n",
       "      <th>ASIAN</th>\n",
       "      <td>-0.006</td>\n",
       "      <td>0.081</td>\n",
       "    </tr>\n",
       "    <tr>\n",
       "      <th>BLACK</th>\n",
       "      <td>0.050</td>\n",
       "      <td>0.000</td>\n",
       "    </tr>\n",
       "    <tr>\n",
       "      <th>HISPANIC</th>\n",
       "      <td>-0.002</td>\n",
       "      <td>0.517</td>\n",
       "    </tr>\n",
       "    <tr>\n",
       "      <th>UNKNOWN</th>\n",
       "      <td>-0.035</td>\n",
       "      <td>0.000</td>\n",
       "    </tr>\n",
       "    <tr>\n",
       "      <th>WHITE</th>\n",
       "      <td>-0.027</td>\n",
       "      <td>0.000</td>\n",
       "    </tr>\n",
       "    <tr>\n",
       "      <th>THEFT</th>\n",
       "      <td>-0.059</td>\n",
       "      <td>0.000</td>\n",
       "    </tr>\n",
       "    <tr>\n",
       "      <th>SIMPLE BURGLARY</th>\n",
       "      <td>-0.028</td>\n",
       "      <td>0.000</td>\n",
       "    </tr>\n",
       "    <tr>\n",
       "      <th>SIMPLE CRIMINAL DAMAGE TO PROPERTY</th>\n",
       "      <td>-0.045</td>\n",
       "      <td>0.000</td>\n",
       "    </tr>\n",
       "    <tr>\n",
       "      <th>THEFT OF A MOTOR VEHICLE</th>\n",
       "      <td>0.012</td>\n",
       "      <td>0.001</td>\n",
       "    </tr>\n",
       "    <tr>\n",
       "      <th>WARRANT ISSUED BY</th>\n",
       "      <td>-0.060</td>\n",
       "      <td>0.000</td>\n",
       "    </tr>\n",
       "    <tr>\n",
       "      <th>DOMESTIC ABUSE BATTERY</th>\n",
       "      <td>-0.041</td>\n",
       "      <td>0.000</td>\n",
       "    </tr>\n",
       "    <tr>\n",
       "      <th>BATTERY</th>\n",
       "      <td>-0.014</td>\n",
       "      <td>0.000</td>\n",
       "    </tr>\n",
       "    <tr>\n",
       "      <th>SIMPLE BATTERY</th>\n",
       "      <td>0.009</td>\n",
       "      <td>0.009</td>\n",
       "    </tr>\n",
       "    <tr>\n",
       "      <th>IDENTITY THEFT</th>\n",
       "      <td>-0.028</td>\n",
       "      <td>0.000</td>\n",
       "    </tr>\n",
       "    <tr>\n",
       "      <th>POSSESSION OF MARIJUANA (1ST OFFENSE)</th>\n",
       "      <td>-0.037</td>\n",
       "      <td>0.000</td>\n",
       "    </tr>\n",
       "  </tbody>\n",
       "</table>\n",
       "</div>"
      ],
      "text/plain": [
       "                                           r      p\n",
       "rtcc_requested                         1.000  0.000\n",
       "cos_hour                               0.003  0.424\n",
       "sin_hour                               0.004  0.222\n",
       "ASIAN                                 -0.006  0.081\n",
       "BLACK                                  0.050  0.000\n",
       "HISPANIC                              -0.002  0.517\n",
       "UNKNOWN                               -0.035  0.000\n",
       "WHITE                                 -0.027  0.000\n",
       "THEFT                                 -0.059  0.000\n",
       "SIMPLE BURGLARY                       -0.028  0.000\n",
       "SIMPLE CRIMINAL DAMAGE TO PROPERTY    -0.045  0.000\n",
       "THEFT OF A MOTOR VEHICLE               0.012  0.001\n",
       "WARRANT ISSUED BY                     -0.060  0.000\n",
       "DOMESTIC ABUSE BATTERY                -0.041  0.000\n",
       "BATTERY                               -0.014  0.000\n",
       "SIMPLE BATTERY                         0.009  0.009\n",
       "IDENTITY THEFT                        -0.028  0.000\n",
       "POSSESSION OF MARIJUANA (1ST OFFENSE) -0.037  0.000"
      ]
     },
     "execution_count": 322,
     "metadata": {},
     "output_type": "execute_result"
    }
   ],
   "source": [
    "corr_df = pd.DataFrame(columns=[\"r\", \"p\"])\n",
    "for col in dfc:\n",
    "    if pd.api.types.is_numeric_dtype(dfc[col]):\n",
    "        r, p = stats.pearsonr(dfb.rtcc_requested, dfc[col])\n",
    "        corr_df.loc[col] = [round(r, 3), round(p, 3)]\n",
    "corr_df"
   ]
  },
  {
   "cell_type": "code",
   "execution_count": 323,
   "metadata": {},
   "outputs": [],
   "source": [
    "train, test = train_test_split(dfc, test_size=0.2)\n",
    "\n",
    "x_test = np.array(test)\n",
    "y_test = np.array(test.rtcc_requested)\n",
    "\n",
    "x_train = np.array(train)\n",
    "y_train = np.array(train.rtcc_requested)"
   ]
  },
  {
   "cell_type": "code",
   "execution_count": 324,
   "metadata": {},
   "outputs": [
    {
     "name": "stdout",
     "output_type": "stream",
     "text": [
      "                                 OLS Regression Results                                \n",
      "=======================================================================================\n",
      "Dep. Variable:                      y   R-squared (uncentered):                   1.000\n",
      "Model:                            OLS   Adj. R-squared (uncentered):              1.000\n",
      "Method:                 Least Squares   F-statistic:                          2.518e+33\n",
      "Date:                Sat, 24 Dec 2022   Prob (F-statistic):                        0.00\n",
      "Time:                        12:15:44   Log-Likelihood:                      2.0821e+06\n",
      "No. Observations:               60779   AIC:                                 -4.164e+06\n",
      "Df Residuals:                   60761   BIC:                                 -4.164e+06\n",
      "Df Model:                          18                                                  \n",
      "Covariance Type:            nonrobust                                                  \n",
      "==============================================================================\n",
      "                 coef    std err          t      P>|t|      [0.025      0.975]\n",
      "------------------------------------------------------------------------------\n",
      "x1             1.0000   4.94e-18   2.02e+17      0.000       1.000       1.000\n",
      "x2         -1.977e-16   1.73e-18   -114.066      0.000   -2.01e-16   -1.94e-16\n",
      "x3          3.713e-17   1.99e-18     18.639      0.000    3.32e-17     4.1e-17\n",
      "x4          2.091e-16   2.62e-17      7.983      0.000    1.58e-16     2.6e-16\n",
      "x5          1.441e-16   2.03e-18     71.057      0.000     1.4e-16    1.48e-16\n",
      "x6          1.431e-17   1.27e-17      1.127      0.260   -1.06e-17    3.92e-17\n",
      "x7         -1.134e-16   3.84e-18    -29.527      0.000   -1.21e-16   -1.06e-16\n",
      "x8          2.705e-16   4.16e-18     65.060      0.000    2.62e-16    2.79e-16\n",
      "x9         -3.354e-16    4.2e-18    -79.900      0.000   -3.44e-16   -3.27e-16\n",
      "x10         3.152e-16   5.04e-18     62.550      0.000    3.05e-16    3.25e-16\n",
      "x11        -1.788e-16   5.87e-18    -30.463      0.000    -1.9e-16   -1.67e-16\n",
      "x12        -9.422e-17   7.46e-18    -12.633      0.000   -1.09e-16   -7.96e-17\n",
      "x13         5.323e-17   6.42e-18      8.288      0.000    4.06e-17    6.58e-17\n",
      "x14         -1.12e-16    7.8e-18    -14.355      0.000   -1.27e-16   -9.67e-17\n",
      "x15        -3.133e-17   8.01e-18     -3.911      0.000    -4.7e-17   -1.56e-17\n",
      "x16         3.556e-17   8.51e-18      4.178      0.000    1.89e-17    5.22e-17\n",
      "x17         8.023e-18   1.32e-17      0.607      0.544   -1.79e-17    3.39e-17\n",
      "x18        -1.897e-17   9.39e-18     -2.021      0.043   -3.74e-17   -5.76e-19\n",
      "==============================================================================\n",
      "Omnibus:                     8096.016   Durbin-Watson:                   2.003\n",
      "Prob(Omnibus):                  0.000   Jarque-Bera (JB):            12297.596\n",
      "Skew:                           0.966   Prob(JB):                         0.00\n",
      "Kurtosis:                       4.062   Cond. No.                         16.8\n",
      "==============================================================================\n",
      "\n",
      "Notes:\n",
      "[1] R² is computed without centering (uncentered) since the model does not contain a constant.\n",
      "[2] Standard Errors assume that the covariance matrix of the errors is correctly specified.\n"
     ]
    }
   ],
   "source": [
    "model = sm.OLS(y_train, x_train)\n",
    "results = model.fit()\n",
    "print(results.summary())"
   ]
  },
  {
   "cell_type": "code",
   "execution_count": 325,
   "metadata": {},
   "outputs": [
    {
     "name": "stderr",
     "output_type": "stream",
     "text": [
      "C:\\Users\\PC\\AppData\\Local\\Packages\\PythonSoftwareFoundation.Python.3.10_qbz5n2kfra8p0\\LocalCache\\local-packages\\Python310\\site-packages\\sklearn\\linear_model\\_stochastic_gradient.py:173: FutureWarning: The loss 'log' was deprecated in v1.1 and will be removed in version 1.3. Use `loss='log_loss'` which is equivalent.\n",
      "  warnings.warn(\n"
     ]
    },
    {
     "ename": "KeyboardInterrupt",
     "evalue": "",
     "output_type": "error",
     "traceback": [
      "\u001b[1;31m---------------------------------------------------------------------------\u001b[0m",
      "\u001b[1;31mKeyboardInterrupt\u001b[0m                         Traceback (most recent call last)",
      "Cell \u001b[1;32mIn [325], line 28\u001b[0m\n\u001b[0;32m     26\u001b[0m lrs \u001b[39m=\u001b[39m []\n\u001b[0;32m     27\u001b[0m \u001b[39mfor\u001b[39;00m score \u001b[39min\u001b[39;00m test[\u001b[39m\"\u001b[39m\u001b[39mscores_lr\u001b[39m\u001b[39m\"\u001b[39m]:\n\u001b[1;32m---> 28\u001b[0m     lrs\u001b[39m.\u001b[39mappend(f1_score(y_test, y_pred_lr, average\u001b[39m=\u001b[39;49m\u001b[39m\"\u001b[39;49m\u001b[39mweighted\u001b[39;49m\u001b[39m\"\u001b[39;49m))\n\u001b[0;32m     30\u001b[0m y_pred_sgd \u001b[39m=\u001b[39m sgd\u001b[39m.\u001b[39mpredict(x_test)\n\u001b[0;32m     31\u001b[0m test[\u001b[39m\"\u001b[39m\u001b[39mscores_sgd\u001b[39m\u001b[39m\"\u001b[39m] \u001b[39m=\u001b[39m y_pred_sgd\n",
      "File \u001b[1;32m~\\AppData\\Local\\Packages\\PythonSoftwareFoundation.Python.3.10_qbz5n2kfra8p0\\LocalCache\\local-packages\\Python310\\site-packages\\sklearn\\metrics\\_classification.py:1136\u001b[0m, in \u001b[0;36mf1_score\u001b[1;34m(y_true, y_pred, labels, pos_label, average, sample_weight, zero_division)\u001b[0m\n\u001b[0;32m   1001\u001b[0m \u001b[39mdef\u001b[39;00m \u001b[39mf1_score\u001b[39m(\n\u001b[0;32m   1002\u001b[0m     y_true,\n\u001b[0;32m   1003\u001b[0m     y_pred,\n\u001b[1;32m   (...)\u001b[0m\n\u001b[0;32m   1009\u001b[0m     zero_division\u001b[39m=\u001b[39m\u001b[39m\"\u001b[39m\u001b[39mwarn\u001b[39m\u001b[39m\"\u001b[39m,\n\u001b[0;32m   1010\u001b[0m ):\n\u001b[0;32m   1011\u001b[0m     \u001b[39m\"\"\"Compute the F1 score, also known as balanced F-score or F-measure.\u001b[39;00m\n\u001b[0;32m   1012\u001b[0m \n\u001b[0;32m   1013\u001b[0m \u001b[39m    The F1 score can be interpreted as a harmonic mean of the precision and\u001b[39;00m\n\u001b[1;32m   (...)\u001b[0m\n\u001b[0;32m   1134\u001b[0m \u001b[39m    array([0.66666667, 1.        , 0.66666667])\u001b[39;00m\n\u001b[0;32m   1135\u001b[0m \u001b[39m    \"\"\"\u001b[39;00m\n\u001b[1;32m-> 1136\u001b[0m     \u001b[39mreturn\u001b[39;00m fbeta_score(\n\u001b[0;32m   1137\u001b[0m         y_true,\n\u001b[0;32m   1138\u001b[0m         y_pred,\n\u001b[0;32m   1139\u001b[0m         beta\u001b[39m=\u001b[39;49m\u001b[39m1\u001b[39;49m,\n\u001b[0;32m   1140\u001b[0m         labels\u001b[39m=\u001b[39;49mlabels,\n\u001b[0;32m   1141\u001b[0m         pos_label\u001b[39m=\u001b[39;49mpos_label,\n\u001b[0;32m   1142\u001b[0m         average\u001b[39m=\u001b[39;49maverage,\n\u001b[0;32m   1143\u001b[0m         sample_weight\u001b[39m=\u001b[39;49msample_weight,\n\u001b[0;32m   1144\u001b[0m         zero_division\u001b[39m=\u001b[39;49mzero_division,\n\u001b[0;32m   1145\u001b[0m     )\n",
      "File \u001b[1;32m~\\AppData\\Local\\Packages\\PythonSoftwareFoundation.Python.3.10_qbz5n2kfra8p0\\LocalCache\\local-packages\\Python310\\site-packages\\sklearn\\metrics\\_classification.py:1277\u001b[0m, in \u001b[0;36mfbeta_score\u001b[1;34m(y_true, y_pred, beta, labels, pos_label, average, sample_weight, zero_division)\u001b[0m\n\u001b[0;32m   1148\u001b[0m \u001b[39mdef\u001b[39;00m \u001b[39mfbeta_score\u001b[39m(\n\u001b[0;32m   1149\u001b[0m     y_true,\n\u001b[0;32m   1150\u001b[0m     y_pred,\n\u001b[1;32m   (...)\u001b[0m\n\u001b[0;32m   1157\u001b[0m     zero_division\u001b[39m=\u001b[39m\u001b[39m\"\u001b[39m\u001b[39mwarn\u001b[39m\u001b[39m\"\u001b[39m,\n\u001b[0;32m   1158\u001b[0m ):\n\u001b[0;32m   1159\u001b[0m     \u001b[39m\"\"\"Compute the F-beta score.\u001b[39;00m\n\u001b[0;32m   1160\u001b[0m \n\u001b[0;32m   1161\u001b[0m \u001b[39m    The F-beta score is the weighted harmonic mean of precision and recall,\u001b[39;00m\n\u001b[1;32m   (...)\u001b[0m\n\u001b[0;32m   1274\u001b[0m \u001b[39m    array([0.71..., 0.        , 0.        ])\u001b[39;00m\n\u001b[0;32m   1275\u001b[0m \u001b[39m    \"\"\"\u001b[39;00m\n\u001b[1;32m-> 1277\u001b[0m     _, _, f, _ \u001b[39m=\u001b[39m precision_recall_fscore_support(\n\u001b[0;32m   1278\u001b[0m         y_true,\n\u001b[0;32m   1279\u001b[0m         y_pred,\n\u001b[0;32m   1280\u001b[0m         beta\u001b[39m=\u001b[39;49mbeta,\n\u001b[0;32m   1281\u001b[0m         labels\u001b[39m=\u001b[39;49mlabels,\n\u001b[0;32m   1282\u001b[0m         pos_label\u001b[39m=\u001b[39;49mpos_label,\n\u001b[0;32m   1283\u001b[0m         average\u001b[39m=\u001b[39;49maverage,\n\u001b[0;32m   1284\u001b[0m         warn_for\u001b[39m=\u001b[39;49m(\u001b[39m\"\u001b[39;49m\u001b[39mf-score\u001b[39;49m\u001b[39m\"\u001b[39;49m,),\n\u001b[0;32m   1285\u001b[0m         sample_weight\u001b[39m=\u001b[39;49msample_weight,\n\u001b[0;32m   1286\u001b[0m         zero_division\u001b[39m=\u001b[39;49mzero_division,\n\u001b[0;32m   1287\u001b[0m     )\n\u001b[0;32m   1288\u001b[0m     \u001b[39mreturn\u001b[39;00m f\n",
      "File \u001b[1;32m~\\AppData\\Local\\Packages\\PythonSoftwareFoundation.Python.3.10_qbz5n2kfra8p0\\LocalCache\\local-packages\\Python310\\site-packages\\sklearn\\metrics\\_classification.py:1567\u001b[0m, in \u001b[0;36mprecision_recall_fscore_support\u001b[1;34m(y_true, y_pred, beta, labels, pos_label, average, warn_for, sample_weight, zero_division)\u001b[0m\n\u001b[0;32m   1565\u001b[0m \u001b[39m# Calculate tp_sum, pred_sum, true_sum ###\u001b[39;00m\n\u001b[0;32m   1566\u001b[0m samplewise \u001b[39m=\u001b[39m average \u001b[39m==\u001b[39m \u001b[39m\"\u001b[39m\u001b[39msamples\u001b[39m\u001b[39m\"\u001b[39m\n\u001b[1;32m-> 1567\u001b[0m MCM \u001b[39m=\u001b[39m multilabel_confusion_matrix(\n\u001b[0;32m   1568\u001b[0m     y_true,\n\u001b[0;32m   1569\u001b[0m     y_pred,\n\u001b[0;32m   1570\u001b[0m     sample_weight\u001b[39m=\u001b[39;49msample_weight,\n\u001b[0;32m   1571\u001b[0m     labels\u001b[39m=\u001b[39;49mlabels,\n\u001b[0;32m   1572\u001b[0m     samplewise\u001b[39m=\u001b[39;49msamplewise,\n\u001b[0;32m   1573\u001b[0m )\n\u001b[0;32m   1574\u001b[0m tp_sum \u001b[39m=\u001b[39m MCM[:, \u001b[39m1\u001b[39m, \u001b[39m1\u001b[39m]\n\u001b[0;32m   1575\u001b[0m pred_sum \u001b[39m=\u001b[39m tp_sum \u001b[39m+\u001b[39m MCM[:, \u001b[39m0\u001b[39m, \u001b[39m1\u001b[39m]\n",
      "File \u001b[1;32m~\\AppData\\Local\\Packages\\PythonSoftwareFoundation.Python.3.10_qbz5n2kfra8p0\\LocalCache\\local-packages\\Python310\\site-packages\\sklearn\\metrics\\_classification.py:479\u001b[0m, in \u001b[0;36mmultilabel_confusion_matrix\u001b[1;34m(y_true, y_pred, sample_weight, labels, samplewise)\u001b[0m\n\u001b[0;32m    379\u001b[0m \u001b[39mdef\u001b[39;00m \u001b[39mmultilabel_confusion_matrix\u001b[39m(\n\u001b[0;32m    380\u001b[0m     y_true, y_pred, \u001b[39m*\u001b[39m, sample_weight\u001b[39m=\u001b[39m\u001b[39mNone\u001b[39;00m, labels\u001b[39m=\u001b[39m\u001b[39mNone\u001b[39;00m, samplewise\u001b[39m=\u001b[39m\u001b[39mFalse\u001b[39;00m\n\u001b[0;32m    381\u001b[0m ):\n\u001b[0;32m    382\u001b[0m     \u001b[39m\"\"\"Compute a confusion matrix for each class or sample.\u001b[39;00m\n\u001b[0;32m    383\u001b[0m \n\u001b[0;32m    384\u001b[0m \u001b[39m    .. versionadded:: 0.21\u001b[39;00m\n\u001b[1;32m   (...)\u001b[0m\n\u001b[0;32m    477\u001b[0m \u001b[39m            [1, 2]]])\u001b[39;00m\n\u001b[0;32m    478\u001b[0m \u001b[39m    \"\"\"\u001b[39;00m\n\u001b[1;32m--> 479\u001b[0m     y_type, y_true, y_pred \u001b[39m=\u001b[39m _check_targets(y_true, y_pred)\n\u001b[0;32m    480\u001b[0m     \u001b[39mif\u001b[39;00m sample_weight \u001b[39mis\u001b[39;00m \u001b[39mnot\u001b[39;00m \u001b[39mNone\u001b[39;00m:\n\u001b[0;32m    481\u001b[0m         sample_weight \u001b[39m=\u001b[39m column_or_1d(sample_weight)\n",
      "File \u001b[1;32m~\\AppData\\Local\\Packages\\PythonSoftwareFoundation.Python.3.10_qbz5n2kfra8p0\\LocalCache\\local-packages\\Python310\\site-packages\\sklearn\\metrics\\_classification.py:85\u001b[0m, in \u001b[0;36m_check_targets\u001b[1;34m(y_true, y_pred)\u001b[0m\n\u001b[0;32m     58\u001b[0m \u001b[39m\"\"\"Check that y_true and y_pred belong to the same classification task.\u001b[39;00m\n\u001b[0;32m     59\u001b[0m \n\u001b[0;32m     60\u001b[0m \u001b[39mThis converts multiclass or binary types to a common shape, and raises a\u001b[39;00m\n\u001b[1;32m   (...)\u001b[0m\n\u001b[0;32m     82\u001b[0m \u001b[39my_pred : array or indicator matrix\u001b[39;00m\n\u001b[0;32m     83\u001b[0m \u001b[39m\"\"\"\u001b[39;00m\n\u001b[0;32m     84\u001b[0m check_consistent_length(y_true, y_pred)\n\u001b[1;32m---> 85\u001b[0m type_true \u001b[39m=\u001b[39m type_of_target(y_true, input_name\u001b[39m=\u001b[39;49m\u001b[39m\"\u001b[39;49m\u001b[39my_true\u001b[39;49m\u001b[39m\"\u001b[39;49m)\n\u001b[0;32m     86\u001b[0m type_pred \u001b[39m=\u001b[39m type_of_target(y_pred, input_name\u001b[39m=\u001b[39m\u001b[39m\"\u001b[39m\u001b[39my_pred\u001b[39m\u001b[39m\"\u001b[39m)\n\u001b[0;32m     88\u001b[0m y_type \u001b[39m=\u001b[39m {type_true, type_pred}\n",
      "File \u001b[1;32m~\\AppData\\Local\\Packages\\PythonSoftwareFoundation.Python.3.10_qbz5n2kfra8p0\\LocalCache\\local-packages\\Python310\\site-packages\\sklearn\\utils\\multiclass.py:335\u001b[0m, in \u001b[0;36mtype_of_target\u001b[1;34m(y, input_name)\u001b[0m\n\u001b[0;32m    332\u001b[0m     _assert_all_finite(y, input_name\u001b[39m=\u001b[39minput_name)\n\u001b[0;32m    333\u001b[0m     \u001b[39mreturn\u001b[39;00m \u001b[39m\"\u001b[39m\u001b[39mcontinuous\u001b[39m\u001b[39m\"\u001b[39m \u001b[39m+\u001b[39m suffix\n\u001b[1;32m--> 335\u001b[0m \u001b[39mif\u001b[39;00m (\u001b[39mlen\u001b[39m(np\u001b[39m.\u001b[39;49munique(y)) \u001b[39m>\u001b[39m \u001b[39m2\u001b[39m) \u001b[39mor\u001b[39;00m (y\u001b[39m.\u001b[39mndim \u001b[39m>\u001b[39m\u001b[39m=\u001b[39m \u001b[39m2\u001b[39m \u001b[39mand\u001b[39;00m \u001b[39mlen\u001b[39m(y[\u001b[39m0\u001b[39m]) \u001b[39m>\u001b[39m \u001b[39m1\u001b[39m):\n\u001b[0;32m    336\u001b[0m     \u001b[39mreturn\u001b[39;00m \u001b[39m\"\u001b[39m\u001b[39mmulticlass\u001b[39m\u001b[39m\"\u001b[39m \u001b[39m+\u001b[39m suffix  \u001b[39m# [1, 2, 3] or [[1., 2., 3]] or [[1, 2]]\u001b[39;00m\n\u001b[0;32m    337\u001b[0m \u001b[39melse\u001b[39;00m:\n",
      "File \u001b[1;32m<__array_function__ internals>:180\u001b[0m, in \u001b[0;36munique\u001b[1;34m(*args, **kwargs)\u001b[0m\n",
      "File \u001b[1;32m~\\AppData\\Local\\Packages\\PythonSoftwareFoundation.Python.3.10_qbz5n2kfra8p0\\LocalCache\\local-packages\\Python310\\site-packages\\numpy\\lib\\arraysetops.py:274\u001b[0m, in \u001b[0;36munique\u001b[1;34m(ar, return_index, return_inverse, return_counts, axis, equal_nan)\u001b[0m\n\u001b[0;32m    272\u001b[0m ar \u001b[39m=\u001b[39m np\u001b[39m.\u001b[39masanyarray(ar)\n\u001b[0;32m    273\u001b[0m \u001b[39mif\u001b[39;00m axis \u001b[39mis\u001b[39;00m \u001b[39mNone\u001b[39;00m:\n\u001b[1;32m--> 274\u001b[0m     ret \u001b[39m=\u001b[39m _unique1d(ar, return_index, return_inverse, return_counts, \n\u001b[0;32m    275\u001b[0m                     equal_nan\u001b[39m=\u001b[39;49mequal_nan)\n\u001b[0;32m    276\u001b[0m     \u001b[39mreturn\u001b[39;00m _unpack_tuple(ret)\n\u001b[0;32m    278\u001b[0m \u001b[39m# axis was specified and not None\u001b[39;00m\n",
      "File \u001b[1;32m~\\AppData\\Local\\Packages\\PythonSoftwareFoundation.Python.3.10_qbz5n2kfra8p0\\LocalCache\\local-packages\\Python310\\site-packages\\numpy\\lib\\arraysetops.py:336\u001b[0m, in \u001b[0;36m_unique1d\u001b[1;34m(ar, return_index, return_inverse, return_counts, equal_nan)\u001b[0m\n\u001b[0;32m    334\u001b[0m     aux \u001b[39m=\u001b[39m ar[perm]\n\u001b[0;32m    335\u001b[0m \u001b[39melse\u001b[39;00m:\n\u001b[1;32m--> 336\u001b[0m     ar\u001b[39m.\u001b[39;49msort()\n\u001b[0;32m    337\u001b[0m     aux \u001b[39m=\u001b[39m ar\n\u001b[0;32m    338\u001b[0m mask \u001b[39m=\u001b[39m np\u001b[39m.\u001b[39mempty(aux\u001b[39m.\u001b[39mshape, dtype\u001b[39m=\u001b[39mnp\u001b[39m.\u001b[39mbool_)\n",
      "\u001b[1;31mKeyboardInterrupt\u001b[0m: "
     ]
    }
   ],
   "source": [
    "lr = LogisticRegression(\n",
    "        class_weight= 'balanced',\n",
    "        solver='newton-cg',\n",
    "        fit_intercept=True,\n",
    "    ).fit(x_train, y_train)\n",
    "\n",
    "\n",
    "sgd = linear_model.SGDClassifier(\n",
    "        max_iter=1000,\n",
    "        tol=1e-3,\n",
    "        loss='log',\n",
    "        class_weight='balanced'\n",
    "    ).fit(x_train, y_train)\n",
    "\n",
    "\n",
    "sgd_huber = linear_model.SGDClassifier(\n",
    "        max_iter=1000,\n",
    "        tol=1e-3,\n",
    "        alpha=20,\n",
    "        loss='modified_huber',\n",
    "        class_weight='balanced'\n",
    "    ).fit(x_train, y_train)\n",
    "\n",
    "y_pred_lr = lr.predict(x_test)\n",
    "test[\"scores_lr\"] = y_pred_lr\n",
    "lrs = []\n",
    "for score in test[\"scores_lr\"]:\n",
    "    lrs.append(f1_score(y_test, y_pred_lr, average=\"weighted\"))\n",
    "\n",
    "y_pred_sgd = sgd.predict(x_test)\n",
    "test[\"scores_sgd\"] = y_pred_sgd\n",
    "sgds = []\n",
    "for score in test[\"scores_sgd\"]:\n",
    "    sgds.append(f1_score(y_test, y_pred_sgd, average=\"weighted\"))\n",
    "\n",
    "\n",
    "y_pred_sgd_huber = sgd_huber.predict(x_test)\n",
    "test[\"scores_sgd_huber\"] = y_pred_sgd_huber\n",
    "sgds_huber = []\n",
    "for score in test[\"scores_sgd_huber\"]:\n",
    "    sgds_huber.append(f1_score(y_test, y_pred_sgd_huber, average=\"weighted\"))\n",
    "\n",
    "\n",
    "print(f'Logistic Regression Val f1: {np.mean(lrs):.3f} +- {np.std(lrs):.3f}')\n",
    "print(f'Logistic Regression SGD f1: {np.mean(sgds):.3f} +- {np.std(sgds):.3f}')\n",
    "print(f'SVM Huber Val f1: {np.mean(sgds_huber):.3f} +- {np.std(sgds_huber):.3f}')"
   ]
  },
  {
   "cell_type": "code",
   "execution_count": null,
   "metadata": {},
   "outputs": [
    {
     "name": "stdout",
     "output_type": "stream",
     "text": [
      "Feature: 0, Score: 11.95197\n",
      "Feature: 1, Score: 0.00876\n",
      "Feature: 2, Score: 0.04297\n",
      "Feature: 3, Score: -0.00424\n",
      "Feature: 4, Score: 0.09989\n",
      "Feature: 5, Score: 0.00735\n",
      "Feature: 6, Score: -0.04587\n",
      "Feature: 7, Score: -0.06254\n",
      "Feature: 8, Score: -0.31551\n",
      "Feature: 9, Score: -0.12719\n",
      "Feature: 10, Score: -0.24963\n",
      "Feature: 11, Score: 0.04438\n",
      "Feature: 12, Score: -0.40051\n",
      "Feature: 13, Score: -0.24721\n",
      "Feature: 14, Score: -0.09850\n",
      "Feature: 15, Score: 0.00979\n",
      "Feature: 16, Score: -0.09553\n",
      "Feature: 17, Score: -0.20185\n"
     ]
    },
    {
     "data": {
      "image/png": "[encoded data removed]",
      "text/plain": [
       "<Figure size 640x480 with 1 Axes>"
      ]
     },
     "metadata": {},
     "output_type": "display_data"
    }
   ],
   "source": [
    "log_feat_importance = lr.coef_[0]\n",
    "# summarize feature importance\n",
    "for i,v in enumerate(log_feat_importance):\n",
    " print('Feature: %0d, Score: %.5f' % (i,v))\n",
    "# plot feature importance\n",
    "plt.bar([x for x in range(len(log_feat_importance))], log_feat_importance)\n",
    "plt.show()"
   ]
  },
  {
   "cell_type": "code",
   "execution_count": null,
   "metadata": {},
   "outputs": [
    {
     "name": "stdout",
     "output_type": "stream",
     "text": [
      "Feature: 0, Score: 12.00909\n",
      "Feature: 1, Score: 0.01577\n",
      "Feature: 2, Score: 0.03626\n",
      "Feature: 3, Score: -0.00457\n",
      "Feature: 4, Score: 0.11480\n",
      "Feature: 5, Score: 0.01259\n",
      "Feature: 6, Score: -0.04069\n",
      "Feature: 7, Score: -0.05646\n",
      "Feature: 8, Score: -0.31129\n",
      "Feature: 9, Score: -0.12363\n",
      "Feature: 10, Score: -0.24703\n",
      "Feature: 11, Score: 0.04593\n",
      "Feature: 12, Score: -0.39471\n",
      "Feature: 13, Score: -0.24795\n",
      "Feature: 14, Score: -0.10751\n",
      "Feature: 15, Score: 0.01827\n",
      "Feature: 16, Score: -0.09188\n",
      "Feature: 17, Score: -0.19621\n"
     ]
    },
    {
     "data": {
      "image/png": "[encoded data removed]",
      "text/plain": [
       "<Figure size 640x480 with 1 Axes>"
      ]
     },
     "metadata": {},
     "output_type": "display_data"
    }
   ],
   "source": [
    "log_feat_importance = sgd.coef_[0]\n",
    "# summarize feature importance\n",
    "for i,v in enumerate(log_feat_importance):\n",
    " print('Feature: %0d, Score: %.5f' % (i,v))\n",
    "# plot feature importance\n",
    "plt.bar([x for x in range(len(log_feat_importance))], log_feat_importance)\n",
    "plt.show()"
   ]
  },
  {
   "cell_type": "code",
   "execution_count": null,
   "metadata": {},
   "outputs": [
    {
     "name": "stdout",
     "output_type": "stream",
     "text": [
      "r2 score:  1.0\n",
      "Mean_sqrd_error:  8.290778248657988e-30\n",
      "Root_mean_squared error:  2.8793711550715354e-15\n",
      "Feature: 0, Score: 1.00000\n",
      "Feature: 1, Score: 0.00000\n",
      "Feature: 2, Score: 0.00000\n",
      "Feature: 3, Score: -0.00000\n",
      "Feature: 4, Score: 0.00000\n",
      "Feature: 5, Score: -0.00000\n",
      "Feature: 6, Score: -0.00000\n",
      "Feature: 7, Score: -0.00000\n",
      "Feature: 8, Score: 0.00000\n",
      "Feature: 9, Score: -0.00000\n",
      "Feature: 10, Score: -0.00000\n",
      "Feature: 11, Score: -0.00000\n",
      "Feature: 12, Score: 0.00000\n",
      "Feature: 13, Score: 0.00000\n",
      "Feature: 14, Score: 0.00000\n",
      "Feature: 15, Score: 0.00000\n",
      "Feature: 16, Score: -0.00000\n",
      "Feature: 17, Score: -0.00000\n"
     ]
    },
    {
     "data": {
      "image/png": "[encoded data removed]",
      "text/plain": [
       "<Figure size 640x480 with 1 Axes>"
      ]
     },
     "metadata": {},
     "output_type": "display_data"
    }
   ],
   "source": [
    "LR = LinearRegression()\n",
    "\n",
    "LR.fit(x_train,y_train)\n",
    "y_prediction =  LR.predict(x_test)\n",
    "score=r2_score(y_test,y_prediction)\n",
    "\n",
    "print(\"r2 score: \", score)\n",
    "print(\"Mean_sqrd_error: \", mean_squared_error(y_test,y_prediction))\n",
    "print(\"Root_mean_squared error: \", np.sqrt(mean_squared_error(y_test,y_prediction)))\n",
    "\n",
    "lr_feature_importance = LR.coef_\n",
    "\n",
    "for i,v in enumerate(lr_feature_importance):\n",
    " print('Feature: %0d, Score: %.5f' % (i,v))\n",
    " \n",
    "plt.bar([x for x in range(len(lr_feature_importance))], lr_feature_importance)\n",
    "plt.show()"
   ]
  },
  {
   "cell_type": "code",
   "execution_count": null,
   "metadata": {},
   "outputs": [
    {
     "name": "stdout",
     "output_type": "stream",
     "text": [
      "Feature: 0, Score: 1.00000\n",
      "Feature: 1, Score: 0.00000\n",
      "Feature: 2, Score: 0.00000\n",
      "Feature: 3, Score: 0.00000\n",
      "Feature: 4, Score: 0.00000\n",
      "Feature: 5, Score: 0.00000\n",
      "Feature: 6, Score: 0.00000\n",
      "Feature: 7, Score: 0.00000\n",
      "Feature: 8, Score: 0.00000\n",
      "Feature: 9, Score: 0.00000\n",
      "Feature: 10, Score: 0.00000\n",
      "Feature: 11, Score: 0.00000\n",
      "Feature: 12, Score: 0.00000\n",
      "Feature: 13, Score: 0.00000\n",
      "Feature: 14, Score: 0.00000\n",
      "Feature: 15, Score: 0.00000\n",
      "Feature: 16, Score: 0.00000\n",
      "Feature: 17, Score: 0.00000\n"
     ]
    },
    {
     "data": {
      "image/png": "[encoded data removed]",
      "text/plain": [
       "<Figure size 640x480 with 1 Axes>"
      ]
     },
     "metadata": {},
     "output_type": "display_data"
    }
   ],
   "source": [
    "dtr = DecisionTreeRegressor()\n",
    "\n",
    "dtr.fit(x_train, y_train)\n",
    "\n",
    "dtr_feat_importance = dtr.feature_importances_\n",
    "\n",
    "for i,v in enumerate(dtr_feat_importance):\n",
    " print('Feature: %0d, Score: %.5f' % (i,v))\n",
    "\n",
    "plt.bar([x for x in range(len(dtr_feat_importance))], dtr_feat_importance)\n",
    "plt.show()"
   ]
  },
  {
   "cell_type": "code",
   "execution_count": null,
   "metadata": {},
   "outputs": [
    {
     "name": "stdout",
     "output_type": "stream",
     "text": [
      "Feature: 0, Score: 1.00000\n",
      "Feature: 1, Score: 0.00000\n",
      "Feature: 2, Score: 0.00000\n",
      "Feature: 3, Score: 0.00000\n",
      "Feature: 4, Score: 0.00000\n",
      "Feature: 5, Score: 0.00000\n",
      "Feature: 6, Score: 0.00000\n",
      "Feature: 7, Score: 0.00000\n",
      "Feature: 8, Score: 0.00000\n",
      "Feature: 9, Score: 0.00000\n",
      "Feature: 10, Score: 0.00000\n",
      "Feature: 11, Score: 0.00000\n",
      "Feature: 12, Score: 0.00000\n",
      "Feature: 13, Score: 0.00000\n",
      "Feature: 14, Score: 0.00000\n",
      "Feature: 15, Score: 0.00000\n",
      "Feature: 16, Score: 0.00000\n",
      "Feature: 17, Score: 0.00000\n"
     ]
    },
    {
     "data": {
      "image/png": "[encoded data removed]",
      "text/plain": [
       "<Figure size 640x480 with 1 Axes>"
      ]
     },
     "metadata": {},
     "output_type": "display_data"
    }
   ],
   "source": [
    "dtc = DecisionTreeClassifier()\n",
    "\n",
    "dtc.fit(x_train, y_train)\n",
    "\n",
    "dtc_feat_importance = dtc.feature_importances_\n",
    "\n",
    "for i,v in enumerate(dtc_feat_importance):\n",
    " print('Feature: %0d, Score: %.5f' % (i,v))\n",
    "\n",
    "plt.bar([x for x in range(len(dtc_feat_importance))], dtc_feat_importance)\n",
    "plt.show()"
   ]
  },
  {
   "cell_type": "code",
   "execution_count": null,
   "metadata": {},
   "outputs": [
    {
     "name": "stdout",
     "output_type": "stream",
     "text": [
      "Feature: 0, Score: 1.00000\n",
      "Feature: 1, Score: 0.00000\n",
      "Feature: 2, Score: 0.00000\n",
      "Feature: 3, Score: 0.00000\n",
      "Feature: 4, Score: 0.00000\n",
      "Feature: 5, Score: 0.00000\n",
      "Feature: 6, Score: 0.00000\n",
      "Feature: 7, Score: 0.00000\n",
      "Feature: 8, Score: 0.00000\n",
      "Feature: 9, Score: 0.00000\n",
      "Feature: 10, Score: 0.00000\n",
      "Feature: 11, Score: 0.00000\n",
      "Feature: 12, Score: 0.00000\n",
      "Feature: 13, Score: 0.00000\n",
      "Feature: 14, Score: 0.00000\n",
      "Feature: 15, Score: 0.00000\n",
      "Feature: 16, Score: 0.00000\n",
      "Feature: 17, Score: 0.00000\n"
     ]
    },
    {
     "data": {
      "image/png": "[encoded data removed]",
      "text/plain": [
       "<Figure size 640x480 with 1 Axes>"
      ]
     },
     "metadata": {},
     "output_type": "display_data"
    }
   ],
   "source": [
    "rfr = RandomForestRegressor()\n",
    "\n",
    "rfr.fit(x_train, y_train)\n",
    "\n",
    "rfr_feat_importance = rfr.feature_importances_\n",
    "\n",
    "for i,v in enumerate(rfr_feat_importance):\n",
    " print('Feature: %0d, Score: %.5f' % (i,v))\n",
    "\n",
    "plt.bar([x for x in range(len(rfr_feat_importance))], rfr_feat_importance)\n",
    "plt.show()"
   ]
  },
  {
   "cell_type": "code",
   "execution_count": null,
   "metadata": {},
   "outputs": [
    {
     "name": "stdout",
     "output_type": "stream",
     "text": [
      "Feature: 0, Score: 0.96220\n",
      "Feature: 1, Score: 0.00160\n",
      "Feature: 2, Score: 0.00214\n",
      "Feature: 3, Score: 0.00003\n",
      "Feature: 4, Score: 0.00207\n",
      "Feature: 5, Score: 0.00019\n",
      "Feature: 6, Score: 0.00140\n",
      "Feature: 7, Score: 0.00058\n",
      "Feature: 8, Score: 0.00592\n",
      "Feature: 9, Score: 0.00134\n",
      "Feature: 10, Score: 0.00329\n",
      "Feature: 11, Score: 0.00036\n",
      "Feature: 12, Score: 0.01023\n",
      "Feature: 13, Score: 0.00461\n",
      "Feature: 14, Score: 0.00060\n",
      "Feature: 15, Score: 0.00013\n",
      "Feature: 16, Score: 0.00077\n",
      "Feature: 17, Score: 0.00253\n"
     ]
    },
    {
     "data": {
      "image/png": "[encoded data removed]",
      "text/plain": [
       "<Figure size 640x480 with 1 Axes>"
      ]
     },
     "metadata": {},
     "output_type": "display_data"
    }
   ],
   "source": [
    "rfc = RandomForestClassifier()\n",
    "\n",
    "rfc.fit(x_train, y_train)\n",
    "\n",
    "rfc_feat_importance = rfc.feature_importances_\n",
    "\n",
    "for i,v in enumerate(rfc_feat_importance):\n",
    " print('Feature: %0d, Score: %.5f' % (i,v))\n",
    "\n",
    "plt.bar([x for x in range(len(rfc_feat_importance))], rfc_feat_importance)\n",
    "plt.show()"
   ]
  }
 ],
 "metadata": {
  "kernelspec": {
   "display_name": "Python 3.10.8 64-bit (microsoft store)",
   "language": "python",
   "name": "python3"
  },
  "language_info": {
   "codemirror_mode": {
    "name": "ipython",
    "version": 3
   },
   "file_extension": ".py",
   "mimetype": "text/x-python",
   "name": "python",
   "nbconvert_exporter": "python",
   "pygments_lexer": "ipython3",
   "version": "3.10.9"
  },
  "orig_nbformat": 4,
  "vscode": {
   "interpreter": {
    "hash": "23f823caeccb1684f6bd50492b68bb5eab208de0408f39b2457c6a38c0e8e818"
   }
  }
 },
 "nbformat": 4,
 "nbformat_minor": 2
}
