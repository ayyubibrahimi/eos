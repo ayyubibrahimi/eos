{
 "cells": [
  {
   "cell_type": "code",
   "execution_count": null,
   "metadata": {},
   "outputs": [],
   "source": [
    "import pandas as pd\n",
    "from lib import standardize_item_numbers, standardize_and_drop_rows_w_na_values\n",
    "import matplotlib as plt"
   ]
  },
  {
   "cell_type": "code",
   "execution_count": 26,
   "metadata": {},
   "outputs": [],
   "source": [
    "def clean():\n",
    "    dfa = pd.read_csv(\"../data/electronic_police_report_2018_2022.csv\")\n",
    "    dfa = dfa.pipe(standardize_item_numbers, [\"item_number\"])\n",
    "\n",
    "    dfb = pd.read_csv(\"../data/rtcc.csv\")\n",
    "    dfb[\"rtcc_requested\"] = \"yes\"\n",
    "    dfb = dfb.pipe(standardize_item_numbers, [\"item_number\"])\n",
    "\n",
    "    df = pd.merge(dfa, dfb, on=\"item_number\", how=\"outer\")\n",
    "    return df"
   ]
  },
  {
   "cell_type": "code",
   "execution_count": 27,
   "metadata": {},
   "outputs": [
    {
     "name": "stderr",
     "output_type": "stream",
     "text": [
      "C:\\Users\\PC\\AppData\\Local\\Temp\\ipykernel_11692\\917203085.py:5: DtypeWarning: Columns (14,20,24,25) have mixed types. Specify dtype option on import or set low_memory=False.\n",
      "  dfa = pd.read_csv(\"../data/electronic_police_report_2018_2022.csv\")\n"
     ]
    }
   ],
   "source": [
    "df = clean()"
   ]
  },
  {
   "cell_type": "code",
   "execution_count": 28,
   "metadata": {},
   "outputs": [
    {
     "name": "stderr",
     "output_type": "stream",
     "text": [
      "c:\\Users\\PC\\Desktop\\eos\\nopd_cameras\\notebooks_rtcc\\lib.py:39: SettingWithCopyWarning: \n",
      "A value is trying to be set on a copy of a slice from a DataFrame.\n",
      "Try using .loc[row_indexer,col_indexer] = value instead\n",
      "\n",
      "See the caveats in the documentation: https://pandas.pydata.org/pandas-docs/stable/user_guide/indexing.html#returning-a-view-versus-a-copy\n",
      "  df.loc[:, col] = (\n"
     ]
    }
   ],
   "source": [
    "og_rtcc_df = (df.drop_duplicates(subset=[\"offender_race\", \"offender_gender\", \"item_number\"])\n",
    "        .pipe(standardize_and_drop_rows_w_na_values, [\"offender_race\"])\n",
    ")"
   ]
  },
  {
   "cell_type": "code",
   "execution_count": 29,
   "metadata": {},
   "outputs": [
    {
     "name": "stderr",
     "output_type": "stream",
     "text": [
      "C:\\Users\\PC\\AppData\\Local\\Temp\\ipykernel_11692\\2453901141.py:4: SettingWithCopyWarning: \n",
      "A value is trying to be set on a copy of a slice from a DataFrame.\n",
      "Try using .loc[row_indexer,col_indexer] = value instead\n",
      "\n",
      "See the caveats in the documentation: https://pandas.pydata.org/pandas-docs/stable/user_guide/indexing.html#returning-a-view-versus-a-copy\n",
      "  not_requested_df[\"rtcc_requested\"] = \"no\"\n"
     ]
    }
   ],
   "source": [
    "requested_df = og_rtcc_df[((og_rtcc_df.rtcc_requested == \"yes\"))]\n",
    "\n",
    "not_requested_df = og_rtcc_df[~((og_rtcc_df.rtcc_requested == \"yes\"))]\n",
    "not_requested_df[\"rtcc_requested\"] = \"no\"\n",
    "\n",
    "new_rtcc_df = pd.concat([not_requested_df, requested_df])"
   ]
  },
  {
   "cell_type": "code",
   "execution_count": 30,
   "metadata": {},
   "outputs": [
    {
     "data": {
      "text/html": [
       "<div>\n",
       "<style scoped>\n",
       "    .dataframe tbody tr th:only-of-type {\n",
       "        vertical-align: middle;\n",
       "    }\n",
       "\n",
       "    .dataframe tbody tr th {\n",
       "        vertical-align: top;\n",
       "    }\n",
       "\n",
       "    .dataframe thead th {\n",
       "        text-align: right;\n",
       "    }\n",
       "</style>\n",
       "<table border=\"1\" class=\"dataframe\">\n",
       "  <thead>\n",
       "    <tr style=\"text-align: right;\">\n",
       "      <th></th>\n",
       "      <th></th>\n",
       "      <th></th>\n",
       "      <th>rtcc_requested</th>\n",
       "    </tr>\n",
       "    <tr>\n",
       "      <th>offender_race</th>\n",
       "      <th>signal_description</th>\n",
       "      <th>rtcc_requested</th>\n",
       "      <th></th>\n",
       "    </tr>\n",
       "  </thead>\n",
       "  <tbody>\n",
       "    <tr>\n",
       "      <th>amer. ind.</th>\n",
       "      <th>AGGRAVATED ASSAULT</th>\n",
       "      <th>no</th>\n",
       "      <td>1</td>\n",
       "    </tr>\n",
       "    <tr>\n",
       "      <th>hispanic</th>\n",
       "      <th>AGGRAVATED ASSAULT</th>\n",
       "      <th>yes</th>\n",
       "      <td>5</td>\n",
       "    </tr>\n",
       "    <tr>\n",
       "      <th>white</th>\n",
       "      <th>AGGRAVATED ASSAULT</th>\n",
       "      <th>yes</th>\n",
       "      <td>24</td>\n",
       "    </tr>\n",
       "    <tr>\n",
       "      <th>hispanic</th>\n",
       "      <th>AGGRAVATED ASSAULT</th>\n",
       "      <th>no</th>\n",
       "      <td>40</td>\n",
       "    </tr>\n",
       "    <tr>\n",
       "      <th>black</th>\n",
       "      <th>AGGRAVATED ASSAULT</th>\n",
       "      <th>no</th>\n",
       "      <td>2043</td>\n",
       "    </tr>\n",
       "    <tr>\n",
       "      <th>...</th>\n",
       "      <th>...</th>\n",
       "      <th>...</th>\n",
       "      <td>...</td>\n",
       "    </tr>\n",
       "    <tr>\n",
       "      <th>hispanic</th>\n",
       "      <th>SIMPLE ROBBERY</th>\n",
       "      <th>yes</th>\n",
       "      <td>2</td>\n",
       "    </tr>\n",
       "    <tr>\n",
       "      <th rowspan=\"2\" valign=\"top\">unknown</th>\n",
       "      <th rowspan=\"2\" valign=\"top\">SIMPLE ROBBERY</th>\n",
       "      <th>yes</th>\n",
       "      <td>12</td>\n",
       "    </tr>\n",
       "    <tr>\n",
       "      <th>no</th>\n",
       "      <td>36</td>\n",
       "    </tr>\n",
       "    <tr>\n",
       "      <th>black</th>\n",
       "      <th>SIMPLE ROBBERY</th>\n",
       "      <th>yes</th>\n",
       "      <td>212</td>\n",
       "    </tr>\n",
       "    <tr>\n",
       "      <th>white</th>\n",
       "      <th>SIMPLE ROBBERY</th>\n",
       "      <th>yes</th>\n",
       "      <td>10</td>\n",
       "    </tr>\n",
       "  </tbody>\n",
       "</table>\n",
       "<p>93 rows × 1 columns</p>\n",
       "</div>"
      ],
      "text/plain": [
       "                                                 rtcc_requested\n",
       "offender_race signal_description rtcc_requested                \n",
       "amer. ind.    AGGRAVATED ASSAULT no                           1\n",
       "hispanic      AGGRAVATED ASSAULT yes                          5\n",
       "white         AGGRAVATED ASSAULT yes                         24\n",
       "hispanic      AGGRAVATED ASSAULT no                          40\n",
       "black         AGGRAVATED ASSAULT no                        2043\n",
       "...                                                         ...\n",
       "hispanic      SIMPLE ROBBERY     yes                          2\n",
       "unknown       SIMPLE ROBBERY     yes                         12\n",
       "                                 no                          36\n",
       "black         SIMPLE ROBBERY     yes                        212\n",
       "white         SIMPLE ROBBERY     yes                         10\n",
       "\n",
       "[93 rows x 1 columns]"
      ]
     },
     "execution_count": 30,
     "metadata": {},
     "output_type": "execute_result"
    }
   ],
   "source": [
    "top_signal_requests_df = (pd.Series(requested_df.groupby(\"signal_description\")\n",
    "                                                .rtcc_requested.value_counts()\n",
    "                                                .sort_values(ascending=False).head(10))\n",
    ")\n",
    "top_signal_requests_df = (pd.DataFrame(top_signal_requests_df).unstack()\n",
    "                                                              .reset_index()\n",
    ")\n",
    "\n",
    "top_signal_requests_list = [x for x in top_signal_requests_df[\"signal_description\"]]\n",
    "\n",
    "top_signal_desc_df = new_rtcc_df[new_rtcc_df.signal_description.isin(top_signal_requests_list)]\n",
    "\n",
    "\n",
    "top_signal_desc_df = top_signal_desc_df.groupby([\"offender_race\", \"signal_description\"]).rtcc_requested.value_counts()\n",
    "top_signal_desc_df = pd.DataFrame(top_signal_desc_df).sort_values(\"signal_description\")\n",
    "top_signal_desc_df"
   ]
  },
  {
   "cell_type": "code",
   "execution_count": 31,
   "metadata": {},
   "outputs": [],
   "source": [
    "# top_signal_desc_df.to_csv(\"../analysis/excel/rtcc_requests_by_top_10_signal_descriptions.csv\")"
   ]
  },
  {
   "cell_type": "code",
   "execution_count": 32,
   "metadata": {},
   "outputs": [
    {
     "data": {
      "text/html": [
       "<div>\n",
       "<style scoped>\n",
       "    .dataframe tbody tr th:only-of-type {\n",
       "        vertical-align: middle;\n",
       "    }\n",
       "\n",
       "    .dataframe tbody tr th {\n",
       "        vertical-align: top;\n",
       "    }\n",
       "\n",
       "    .dataframe thead th {\n",
       "        text-align: right;\n",
       "    }\n",
       "</style>\n",
       "<table border=\"1\" class=\"dataframe\">\n",
       "  <thead>\n",
       "    <tr style=\"text-align: right;\">\n",
       "      <th></th>\n",
       "      <th></th>\n",
       "      <th></th>\n",
       "      <th>rtcc_requested</th>\n",
       "    </tr>\n",
       "    <tr>\n",
       "      <th>offender_race</th>\n",
       "      <th>charge_description</th>\n",
       "      <th>rtcc_requested</th>\n",
       "      <th></th>\n",
       "    </tr>\n",
       "  </thead>\n",
       "  <tbody>\n",
       "    <tr>\n",
       "      <th>amer. ind.</th>\n",
       "      <th>AGG. BATTERY</th>\n",
       "      <th>no</th>\n",
       "      <td>1</td>\n",
       "    </tr>\n",
       "    <tr>\n",
       "      <th rowspan=\"2\" valign=\"top\">unknown</th>\n",
       "      <th rowspan=\"2\" valign=\"top\">AGG. BATTERY</th>\n",
       "      <th>no</th>\n",
       "      <td>210</td>\n",
       "    </tr>\n",
       "    <tr>\n",
       "      <th>yes</th>\n",
       "      <td>114</td>\n",
       "    </tr>\n",
       "    <tr>\n",
       "      <th>hispanic</th>\n",
       "      <th>AGG. BATTERY</th>\n",
       "      <th>no</th>\n",
       "      <td>16</td>\n",
       "    </tr>\n",
       "    <tr>\n",
       "      <th>white</th>\n",
       "      <th>AGG. BATTERY</th>\n",
       "      <th>no</th>\n",
       "      <td>91</td>\n",
       "    </tr>\n",
       "    <tr>\n",
       "      <th>...</th>\n",
       "      <th>...</th>\n",
       "      <th>...</th>\n",
       "      <td>...</td>\n",
       "    </tr>\n",
       "    <tr>\n",
       "      <th rowspan=\"2\" valign=\"top\">black</th>\n",
       "      <th rowspan=\"2\" valign=\"top\">USE OF FIREARM IN ROBBERY</th>\n",
       "      <th>yes</th>\n",
       "      <td>130</td>\n",
       "    </tr>\n",
       "    <tr>\n",
       "      <th>no</th>\n",
       "      <td>239</td>\n",
       "    </tr>\n",
       "    <tr>\n",
       "      <th>asian</th>\n",
       "      <th>USE OF FIREARM IN ROBBERY</th>\n",
       "      <th>no</th>\n",
       "      <td>1</td>\n",
       "    </tr>\n",
       "    <tr>\n",
       "      <th>unknown</th>\n",
       "      <th>USE OF FIREARM IN ROBBERY</th>\n",
       "      <th>yes</th>\n",
       "      <td>8</td>\n",
       "    </tr>\n",
       "    <tr>\n",
       "      <th>white</th>\n",
       "      <th>USE OF FIREARM IN ROBBERY</th>\n",
       "      <th>yes</th>\n",
       "      <td>3</td>\n",
       "    </tr>\n",
       "  </tbody>\n",
       "</table>\n",
       "<p>90 rows × 1 columns</p>\n",
       "</div>"
      ],
      "text/plain": [
       "                                                        rtcc_requested\n",
       "offender_race charge_description        rtcc_requested                \n",
       "amer. ind.    AGG. BATTERY              no                           1\n",
       "unknown       AGG. BATTERY              no                         210\n",
       "                                        yes                        114\n",
       "hispanic      AGG. BATTERY              no                          16\n",
       "white         AGG. BATTERY              no                          91\n",
       "...                                                                ...\n",
       "black         USE OF FIREARM IN ROBBERY yes                        130\n",
       "                                        no                         239\n",
       "asian         USE OF FIREARM IN ROBBERY no                           1\n",
       "unknown       USE OF FIREARM IN ROBBERY yes                          8\n",
       "white         USE OF FIREARM IN ROBBERY yes                          3\n",
       "\n",
       "[90 rows x 1 columns]"
      ]
     },
     "execution_count": 32,
     "metadata": {},
     "output_type": "execute_result"
    }
   ],
   "source": [
    "top_charge_requests_sr = (pd.Series(requested_df.groupby(\"charge_description\")\n",
    "                                                .rtcc_requested.value_counts()\n",
    "                                                .sort_values(ascending=False).head(10))\n",
    ")\n",
    "top_charge_requests_df = (pd.DataFrame(top_charge_requests_sr).unstack()\n",
    "                                                              .reset_index()\n",
    ")\n",
    "\n",
    "top_charge_requests_list = [x for x in top_charge_requests_df[\"charge_description\"]]\n",
    "\n",
    "top_charge_desc_df = new_rtcc_df[new_rtcc_df.charge_description.isin(top_charge_requests_list)]\n",
    "\n",
    "\n",
    "top_charge_desc_df = top_charge_desc_df.groupby([\"offender_race\", \"charge_description\"]).rtcc_requested.value_counts()\n",
    "top_charge_desc_df = pd.DataFrame(top_charge_desc_df).sort_values(\"charge_description\")\n",
    "top_charge_desc_df"
   ]
  },
  {
   "cell_type": "code",
   "execution_count": 33,
   "metadata": {},
   "outputs": [],
   "source": [
    "# top_charge_desc_df.to_csv(\"../analysis/excel/rtcc_requests_by_top_10_charge_descriptions.csv\")"
   ]
  }
 ],
 "metadata": {
  "kernelspec": {
   "display_name": "Python 3.10.8 64-bit (microsoft store)",
   "language": "python",
   "name": "python3"
  },
  "language_info": {
   "codemirror_mode": {
    "name": "ipython",
    "version": 3
   },
   "file_extension": ".py",
   "mimetype": "text/x-python",
   "name": "python",
   "nbconvert_exporter": "python",
   "pygments_lexer": "ipython3",
   "version": "3.10.9"
  },
  "orig_nbformat": 4,
  "vscode": {
   "interpreter": {
    "hash": "23f823caeccb1684f6bd50492b68bb5eab208de0408f39b2457c6a38c0e8e818"
   }
  }
 },
 "nbformat": 4,
 "nbformat_minor": 2
}
