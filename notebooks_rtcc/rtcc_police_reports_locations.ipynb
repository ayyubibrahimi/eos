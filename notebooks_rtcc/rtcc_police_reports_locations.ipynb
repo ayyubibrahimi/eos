{
 "cells": [
  {
   "cell_type": "code",
   "execution_count": 383,
   "metadata": {},
   "outputs": [],
   "source": [
    "import pandas as pd\n",
    "from lib import standardize_item_numbers\n",
    "import numpy as np"
   ]
  },
  {
   "cell_type": "code",
   "execution_count": 384,
   "metadata": {},
   "outputs": [],
   "source": [
    "def clean():\n",
    "    dfa = pd.read_csv(\"../data/police_reports/electronic_police_report_2018_2022.csv\")\n",
    "    dfa = dfa.pipe(standardize_item_numbers, [\"item_number\"])\n",
    "\n",
    "    dfb = pd.read_csv(\"../data/real_time_crime_center/rtcc.csv\")\n",
    "    dfb[\"rtcc_requested\"] = \"1\"\n",
    "    dfb = dfb.pipe(standardize_item_numbers, [\"item_number\"])\n",
    "\n",
    "    df = pd.merge(dfa, dfb, on=\"item_number\")\n",
    "    return df"
   ]
  },
  {
   "cell_type": "code",
   "execution_count": 385,
   "metadata": {},
   "outputs": [
    {
     "name": "stderr",
     "output_type": "stream",
     "text": [
      "C:\\Users\\PC\\AppData\\Local\\Temp\\ipykernel_2456\\153542535.py:2: DtypeWarning: Columns (14,20,24,25) have mixed types. Specify dtype option on import or set low_memory=False.\n",
      "  dfa = pd.read_csv(\"../data/police_reports/electronic_police_report_2018_2022.csv\")\n"
     ]
    }
   ],
   "source": [
    "df = clean()"
   ]
  },
  {
   "cell_type": "code",
   "execution_count": 391,
   "metadata": {},
   "outputs": [
    {
     "name": "stderr",
     "output_type": "stream",
     "text": [
      "C:\\Users\\PC\\AppData\\Local\\Temp\\ipykernel_2456\\1998154791.py:1: FutureWarning: The default value of regex will change from True to False in a future version.\n",
      "  df.loc[:, \"location\"] = df.location.str.replace(r\"(\\w+)$\", r\"\\1, New Orleans, Louisiana\")\n"
     ]
    }
   ],
   "source": [
    "df.loc[:, \"location\"] = df.location.str.replace(r\"(\\w+)$\", r\"\\1, New Orleans, Louisiana\")\n",
    "\n",
    "requested = df[[\"item_number\", \"location\"]]\n",
    "\n",
    "requested_1 = requested[:5000]\n",
    "requested_2 = requested[5000:10000]\n",
    "requested_3 = requested[10000:15000]\n",
    "requested_4 = requested[15000:]\n",
    "\n",
    "# requested_1.to_csv(\"../data/real_time_crime_center/rtcc_locations_1.csv\", index=False)\n",
    "# requested_2.to_csv(\"../data/real_time_crime_center/rtcc_locations_2.csv\", index=False)\n",
    "# requested_3.to_csv(\"../data/real_time_crime_center/rtcc_locations_3.csv\", index=False)\n",
    "# requested_4.to_csv(\"../data/real_time_crime_center/rtcc_locations_4.csv\", index=False)"
   ]
  },
  {
   "cell_type": "code",
   "execution_count": 392,
   "metadata": {},
   "outputs": [],
   "source": [
    "requested_1_coordinates = pd.read_csv(\"../data/real_time_crime_center/rtcc_locations_1_coordinates.csv\")\n",
    "requested_1_df = pd.read_csv(\"../data/real_time_crime_center/rtcc_locations_1.csv\")\n",
    "rtcc_1 = pd.concat([requested_1_df, requested_1_coordinates], axis=1)"
   ]
  },
  {
   "cell_type": "code",
   "execution_count": 393,
   "metadata": {},
   "outputs": [],
   "source": [
    "requested_2_coordinates_df = pd.read_csv(\"../data/real_time_crime_center/rtcc_locations_2_coordinates.csv\")\n",
    "requested_2_df = pd.read_csv(\"../data/real_time_crime_center/rtcc_locations_2.csv\")\n",
    "rtcc_2 = pd.concat([requested_2_df, requested_2_coordinates_df], axis=1)"
   ]
  },
  {
   "cell_type": "code",
   "execution_count": 394,
   "metadata": {},
   "outputs": [],
   "source": [
    "requested_3_coordinates_df = pd.read_csv(\"../data/real_time_crime_center/rtcc_locations_3_coordinates.csv\")\n",
    "requested_3_df = pd.read_csv(\"../data/real_time_crime_center/rtcc_locations_3.csv\")\n",
    "rtcc_3 = pd.concat([requested_3_df, requested_3_coordinates_df], axis=1)"
   ]
  },
  {
   "cell_type": "code",
   "execution_count": 395,
   "metadata": {},
   "outputs": [],
   "source": [
    "requested_4_coordinates_df = pd.read_csv(\"../data/real_time_crime_center/rtcc_locations_4_coordinates.csv\")\n",
    "requested_4_df = pd.read_csv(\"../data/real_time_crime_center/rtcc_locations_4.csv\")\n",
    "rtcc_4 = pd.concat([requested_4_df, requested_4_coordinates_df], axis=1)"
   ]
  },
  {
   "cell_type": "code",
   "execution_count": 396,
   "metadata": {},
   "outputs": [],
   "source": [
    "coordinates_df = pd.concat([rtcc_1, rtcc_2, rtcc_3, rtcc_4], axis=0)"
   ]
  },
  {
   "cell_type": "code",
   "execution_count": 397,
   "metadata": {},
   "outputs": [],
   "source": [
    "# coordinates_df.to_csv(\"../data/real_time_crime_center/rtcc_coordinates.csv\", index=False)"
   ]
  },
  {
   "cell_type": "code",
   "execution_count": 399,
   "metadata": {},
   "outputs": [],
   "source": [
    "coordinates_df = pd.read_csv(\"../data/real_time_crime_center/rtcc_coordinates.csv\")\n",
    "coordinates_df = coordinates_df.rename(columns={\"0\": \"latitude\", \"1\": \"longitude\"})\n",
    "coordinates_df = coordinates_df[[\"item_number\", \"latitude\", \"longitude\"]]"
   ]
  },
  {
   "cell_type": "code",
   "execution_count": 400,
   "metadata": {},
   "outputs": [],
   "source": [
    "df = pd.merge(df, coordinates_df, on=\"item_number\")"
   ]
  },
  {
   "cell_type": "code",
   "execution_count": 401,
   "metadata": {},
   "outputs": [],
   "source": [
    "df = df.drop_duplicates()"
   ]
  },
  {
   "cell_type": "code",
   "execution_count": 402,
   "metadata": {},
   "outputs": [],
   "source": [
    "df['occurred_date_time'] = sorted(pd.to_datetime(df['occurred_date_time']))\n",
    "df['hour'] = df['occurred_date_time'].dt.hour\n",
    "df = df[~((df.hour.fillna(\"\") == \"\"))]\n",
    "df.loc[:, \"hour\"] = df.hour.astype(str)\n",
    "\n",
    "night = df[df.hour.isin([\"19\", \"20\", \"21\", \"22\", \"23\", \"00\", \"1\", \"2\", \"3\", \"4\", \"5\", \"6\"])]\n",
    "night = night[[\"latitude\", \"longitude\", \"item_number\"]]\n",
    "\n",
    "day = df[~((df.hour.isin([\"19\", \"20\", \"21\", \"22\", \"23\", \"00\", \"1\", \"2\", \"3\", \"4\", \"5\", \"6\"])))]\n",
    "day = day[[\"latitude\", \"longitude\", \"item_number\"]]\n",
    "\n",
    "\n",
    "# night.to_csv(\"../data/real_time_crime_center/rtcc_requested_locations_night.csv\")\n",
    "# day.to_csv(\"../data/real_time_crime_center/rtcc_requested_locations_day.csv\")"
   ]
  }
 ],
 "metadata": {
  "kernelspec": {
   "display_name": "Python 3.10.8 64-bit (microsoft store)",
   "language": "python",
   "name": "python3"
  },
  "language_info": {
   "codemirror_mode": {
    "name": "ipython",
    "version": 3
   },
   "file_extension": ".py",
   "mimetype": "text/x-python",
   "name": "python",
   "nbconvert_exporter": "python",
   "pygments_lexer": "ipython3",
   "version": "3.10.9"
  },
  "orig_nbformat": 4,
  "vscode": {
   "interpreter": {
    "hash": "23f823caeccb1684f6bd50492b68bb5eab208de0408f39b2457c6a38c0e8e818"
   }
  }
 },
 "nbformat": 4,
 "nbformat_minor": 2
}
