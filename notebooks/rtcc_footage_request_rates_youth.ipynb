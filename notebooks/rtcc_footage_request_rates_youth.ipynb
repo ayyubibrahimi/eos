{
 "cells": [
  {
   "cell_type": "code",
   "execution_count": 3,
   "metadata": {},
   "outputs": [],
   "source": [
    "## Public Records Request Notes\n",
    "## First PRR received on 3/29/2022 for data that spans 2018 - 3/29/2022\n",
    "## Second PPR received on 11/22/2022 for data that spans 3/29/2022 - 11/22/2022"
   ]
  },
  {
   "cell_type": "code",
   "execution_count": 4,
   "metadata": {},
   "outputs": [],
   "source": [
    "import pandas as pd\n",
    "import re"
   ]
  },
  {
   "cell_type": "code",
   "execution_count": 5,
   "metadata": {},
   "outputs": [],
   "source": [
    "def standardize_item_no(df):\n",
    "    df.loc[:, \"item_number\"] = df.item_number.str.lower().str.strip()\n",
    "    return df\n",
    "\n",
    "def clean():\n",
    "    df1 = pd.read_csv(\"../data/electronic_police_report_2018.csv\")\n",
    "    df2 = pd.read_csv(\"../data/electronic_police_report_2019.csv\")\n",
    "    df3 = pd.read_csv(\"../data/electronic_police_report_2020.csv\")\n",
    "    df4 = pd.read_csv(\"../data/electronic_police_report_2021.csv\")\n",
    "    df5 = pd.read_csv(\"../data/electronic_police_report_2022.csv\")\n",
    "\n",
    "    df1[\"year\"] = 2018\n",
    "    df2[\"year\"] = 2019\n",
    "    df3[\"year\"] = 2020\n",
    "    df4[\"year\"] = 2021\n",
    "    df5[\"year\"] = 2022\n",
    "\n",
    "    dfs = [df1, df2, df3, df4, df5]\n",
    "    dfa = pd.concat(dfs, join=\"outer\")\n",
    "\n",
    "    dfa = dfa.pipe(standardize_item_no)\n",
    "    \n",
    "    dfb = pd.read_csv(\"../data/rtcc.csv\")\n",
    "    dfb = dfb.pipe(standardize_item_no)\n",
    "    dfb[\"rtcc_footage_requested\"] = \"yes\"\n",
    "\n",
    "    df = pd.merge(dfb, dfa, on=\"item_number\")\n",
    "    return df"
   ]
  },
  {
   "cell_type": "code",
   "execution_count": 6,
   "metadata": {},
   "outputs": [],
   "source": [
    "def drop_rows_missing_offender_race(df):\n",
    "    df.loc[:, \"offender_race\"] = df.offender_race.fillna(\"\").str.lower().str.strip()\\\n",
    "    .str.replace(\"unknown\", \"\", regex=False)\\\n",
    "    # .str.replace(\"hispanic\", \"\", regex=False)\\\n",
    "    # .str.replace(\"asian\", \"\", regex=False)\\\n",
    "    # .str.replace(r\"amer\\. ind\\.\", \"\", regex=True)\n",
    "    return df[~((df.offender_race == \"\"))]\n",
    "\n",
    "def drop_rows_missing_victim_race(df):\n",
    "    df.loc[:, \"victim_race\"] = df.victim_race.fillna(\"\").str.lower().str.strip()\\\n",
    "    .str.replace(\"unknown\", \"\", regex=False)\\\n",
    "    .str.replace(r\"native hawaiian or other pacific islander\", \"\", regex=False)\n",
    "    # .str.replace(\"hispanic\", \"\", regex=False)\\\n",
    "    # .str.replace(\"asian\", \"\", regex=False)\\\n",
    "    # .str.replace(r\"amer\\. ind\\.\", \"\", regex=True)\n",
    "    return df[~((df.victim_race == \"\"))]\n",
    "\n",
    "\n",
    "def filter_offender_gender(df):\n",
    "    df.loc[:, \"offender_gender\"] = (\n",
    "        df.offender_gender.str.lower().str.strip().fillna(\"\").str.replace(\"unknown\", \"\", regex=False)\n",
    "    )\n",
    "    return df[~((df.offender_gender == \"\"))]\n",
    "\n",
    "\n",
    "\n",
    "def filter_victim_gender(df):\n",
    "    df.loc[:, \"victim_gender\"] = (\n",
    "        df.offender_gender.str.lower().str.strip().fillna(\"\").str.replace(\"unknown\", \"\", regex=False)\n",
    "    )\n",
    "    return df[~((df.victim_gender == \"\"))]\n",
    "\n",
    "\n",
    "def filter_arrested(df):\n",
    "    df.loc[:, \"offenderstatus\"] = df.offenderstatus.str.lower().str.strip().fillna(\"\")\n",
    "    df = df[df.offenderstatus.isin([\"arrested\"])]\n",
    "    return df[~((df.offenderstatus == \"\"))]\n",
    "\n",
    "\n",
    "def drop_rows_missing_data(df):\n",
    "    return df[~((df.year.fillna(\"\") == \"\"))]\n",
    "  \n",
    "  \n",
    "def drop_rows_missing_charge_desc(df):\n",
    "    df.loc[:, \"charge_description\"] = df.charge_description.str.lower().str.strip().fillna(\"\")\n",
    "    return df[~((df.charge_description == \"\"))]"
   ]
  },
  {
   "cell_type": "code",
   "execution_count": 7,
   "metadata": {},
   "outputs": [
    {
     "name": "stderr",
     "output_type": "stream",
     "text": [
      "c:\\Users\\PC\\AppData\\Local\\Programs\\Python\\Python39\\lib\\site-packages\\IPython\\core\\interactiveshell.py:3338: DtypeWarning: Columns (21) have mixed types.Specify dtype option on import or set low_memory=False.\n",
      "  if await self.run_code(code, result, async_=asy):\n"
     ]
    },
    {
     "data": {
      "text/plain": [
       "(22732, 27)"
      ]
     },
     "execution_count": 7,
     "metadata": {},
     "output_type": "execute_result"
    }
   ],
   "source": [
    "df = clean()\n",
    "df = df[df.rtcc_footage_requested.isin([\"yes\"])]\n",
    "df.shape"
   ]
  },
  {
   "cell_type": "code",
   "execution_count": 8,
   "metadata": {},
   "outputs": [],
   "source": [
    "df = df.pipe(drop_rows_missing_offender_race).drop_duplicates(subset=[\"offender_race\", \"offender_gender\", \"item_number\"])"
   ]
  },
  {
   "cell_type": "code",
   "execution_count": 9,
   "metadata": {},
   "outputs": [
    {
     "data": {
      "text/plain": [
       "Index(['item_number', 'Signal Code', 'rtcc_footage_requested', 'district',\n",
       "       'location', 'disposition', 'signal_type', 'signal_description',\n",
       "       'occurred_date_time', 'charge_code', 'charge_description',\n",
       "       'offender_race', 'offender_gender', 'offender_age', 'offender_number',\n",
       "       'person_type', 'victim_race', 'victim_gender', 'victim_age',\n",
       "       'victim_number', 'victim_fatal_status', 'hate_crime', 'report_type',\n",
       "       'year', 'offenderid', 'offenderstatus', 'persontype'],\n",
       "      dtype='object')"
      ]
     },
     "execution_count": 9,
     "metadata": {},
     "output_type": "execute_result"
    }
   ],
   "source": [
    "df.columns"
   ]
  },
  {
   "cell_type": "code",
   "execution_count": 10,
   "metadata": {},
   "outputs": [
    {
     "data": {
      "text/plain": [
       "(4495, 27)"
      ]
     },
     "execution_count": 10,
     "metadata": {},
     "output_type": "execute_result"
    }
   ],
   "source": [
    "df.shape"
   ]
  },
  {
   "cell_type": "code",
   "execution_count": 11,
   "metadata": {},
   "outputs": [
    {
     "data": {
      "text/plain": [
       "(2547, 27)"
      ]
     },
     "execution_count": 11,
     "metadata": {},
     "output_type": "execute_result"
    }
   ],
   "source": [
    "df.loc[:, \"offender_age\"] = df.offender_age.astype(str).str.replace(\"nan\", \"\", regex=False)\n",
    "df = df[~((df.offender_age.fillna(\"\") ==\"\"))]\n",
    "df.shape"
   ]
  },
  {
   "cell_type": "code",
   "execution_count": 12,
   "metadata": {},
   "outputs": [
    {
     "data": {
      "text/plain": [
       "array(['21.0', '23.0', '22.0', '25.0', '43.0', '16.0', '36.0', '30.0',\n",
       "       '41.0', '19.0', '33.0', '40.0', '24.0', '17.0', '28.0', '35.0',\n",
       "       '31.0', '20.0', '58.0', '18.0', '32.0', '44.0', '15.0', '39.0',\n",
       "       '38.0', '27.0', '26.0', '34.0', '45.0', '50.0', '63.0', '42.0',\n",
       "       '29.0', '47.0', '52.0', '48.0', '55.0', '53.0', '37.0', '60.0',\n",
       "       '46.0', '14.0', '51.0', '49.0', '57.0', '13.0', '61.0', '69.0',\n",
       "       '66.0', '56.0', '67.0', '68.0', '59.0', '54.0', '62.0', '64.0',\n",
       "       '70.0', '11.0', '12.0', '65.0', '2.0', '83.0', '10.0', '71.0',\n",
       "       '75.0'], dtype=object)"
      ]
     },
     "execution_count": 12,
     "metadata": {},
     "output_type": "execute_result"
    }
   ],
   "source": [
    "df.offender_age.unique()"
   ]
  },
  {
   "cell_type": "code",
   "execution_count": 13,
   "metadata": {},
   "outputs": [
    {
     "data": {
      "text/plain": [
       "2547"
      ]
     },
     "execution_count": 13,
     "metadata": {},
     "output_type": "execute_result"
    }
   ],
   "source": [
    "df.offender_age.count().sum()"
   ]
  },
  {
   "cell_type": "code",
   "execution_count": 14,
   "metadata": {},
   "outputs": [
    {
     "data": {
      "text/plain": [
       "371"
      ]
     },
     "execution_count": 14,
     "metadata": {},
     "output_type": "execute_result"
    }
   ],
   "source": [
    "youth = df[df.offender_age.isin([\"10.0\", \"11.0\", \"12.0\", \"13.0\", \"14.0\", \"15.0\",  \"16.0\", \"17.0\", \"18.0\",])]\n",
    "youth.offender_age.count().sum()"
   ]
  },
  {
   "cell_type": "code",
   "execution_count": 15,
   "metadata": {},
   "outputs": [
    {
     "data": {
      "text/plain": [
       "14.566156262269336"
      ]
     },
     "execution_count": 15,
     "metadata": {},
     "output_type": "execute_result"
    }
   ],
   "source": [
    "(youth.offender_age.count().sum()/df.offender_age.count().sum())*100 "
   ]
  },
  {
   "cell_type": "code",
   "execution_count": 16,
   "metadata": {},
   "outputs": [
    {
     "data": {
      "text/plain": [
       "black       0.978437\n",
       "white       0.016173\n",
       "hispanic    0.005391\n",
       "Name: offender_race, dtype: float64"
      ]
     },
     "execution_count": 16,
     "metadata": {},
     "output_type": "execute_result"
    }
   ],
   "source": [
    "youth.offender_race.value_counts(normalize=True)"
   ]
  }
 ],
 "metadata": {
  "kernelspec": {
   "display_name": "Python 3.9.11 64-bit",
   "language": "python",
   "name": "python3"
  },
  "language_info": {
   "codemirror_mode": {
    "name": "ipython",
    "version": 3
   },
   "file_extension": ".py",
   "mimetype": "text/x-python",
   "name": "python",
   "nbconvert_exporter": "python",
   "pygments_lexer": "ipython3",
   "version": "3.9.11"
  },
  "orig_nbformat": 4,
  "vscode": {
   "interpreter": {
    "hash": "f6c8f846148a3e4d140e6ddf63c190cff559dcf260a4a21539f0978f2b58638c"
   }
  }
 },
 "nbformat": 4,
 "nbformat_minor": 2
}
