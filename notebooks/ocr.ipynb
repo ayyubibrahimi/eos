{
 "cells": [
  {
   "cell_type": "code",
   "execution_count": null,
   "metadata": {},
   "outputs": [],
   "source": [
    "from wand.image import Image as WImage\n",
    "from wand.color import Color\n",
    "from wand.api import library\n",
    "from PIL import Image as PI\n",
    "import io\n",
    "import os\n",
    "import pyocr\n",
    "import pyocr.builders\n",
    "import pandas as pd\n",
    "import os"
   ]
  },
  {
   "cell_type": "code",
   "execution_count": null,
   "metadata": {},
   "outputs": [],
   "source": [
    "def ocr_pdfs():\n",
    "    pyocr.tesseract.TESSERACT_CMD = r\"C:/Program Files/Tesseract-OCR/tesseract.exe\"\n",
    "    dir_path = os.chdir(\"C:/Users/PC/Desktop/eos/nopd_cameras/data/rtcc\")\n",
    "    for file in os.listdir(dir_path):\n",
    "        if file.endswith(\".pdf\"):\n",
    "            tools = pyocr.get_available_tools()\n",
    "            if len(tools) == 0:\n",
    "                raise Exception(\"No tool available\")\n",
    "\n",
    "            tool = tools[0]\n",
    "            print(\"Will use tool '%s'\" % (tool.get_name()))\n",
    "            langs = tool.get_available_languages()\n",
    "            print(\"Available languages: %s\" % \", \".join(langs))\n",
    "            lang = langs[0]  # For English\n",
    "            print(\"Will use language '%s'\" % (lang))\n",
    "\n",
    "            req_image = []\n",
    "            final_text = {}\n",
    "\n",
    "            with WImage(filename=file, resolution=300) as image_pdf:\n",
    "                image_jpeg = image_pdf.convert(\"pdf\")\n",
    "\n",
    "            try:\n",
    "                for img in image_jpeg.sequence:\n",
    "                    img_page = WImage(image=img)\n",
    "                    req_image.append(img_page.make_blob(\"jpeg\"))\n",
    "            finally:\n",
    "                image_jpeg.destroy()\n",
    "\n",
    "            i = 0\n",
    "            for img in req_image:\n",
    "                txt = tool.image_to_string(\n",
    "                    PI.open(io.BytesIO(img)),\n",
    "                    lang=lang,\n",
    "                    builder=pyocr.builders.TextBuilder(),\n",
    "                )\n",
    "                final_text[str(i)] = txt\n",
    "                i += 1\n",
    "\n",
    "            text = final_text.items()\n",
    "            df = pd.DataFrame(text)\n",
    "            file_name = file + \".txt\"\n",
    "            path = r\"C:/Users/PC/Desktop/eos/nopd_cameras/data/rtcc/\"\n",
    "            df.to_csv(path + file_name)\n",
    "    return df"
   ]
  },
  {
   "cell_type": "code",
   "execution_count": null,
   "metadata": {},
   "outputs": [],
   "source": []
  }
 ],
 "metadata": {
  "kernelspec": {
   "display_name": "Python 3.10.8 64-bit (microsoft store)",
   "language": "python",
   "name": "python3"
  },
  "language_info": {
   "name": "python",
   "version": "3.10.8"
  },
  "orig_nbformat": 4,
  "vscode": {
   "interpreter": {
    "hash": "23f823caeccb1684f6bd50492b68bb5eab208de0408f39b2457c6a38c0e8e818"
   }
  }
 },
 "nbformat": 4,
 "nbformat_minor": 2
}
