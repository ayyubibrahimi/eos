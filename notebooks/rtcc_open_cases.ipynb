{
 "cells": [
  {
   "cell_type": "code",
   "execution_count": 1,
   "metadata": {},
   "outputs": [],
   "source": [
    "import pandas as pd\n",
    "\n",
    "def clean():\n",
    "    df1 = pd.read_csv(\"../data/electronic_police_report_2018.csv\")\n",
    "    df2 = pd.read_csv(\"../data/electronic_police_report_2019.csv\")\n",
    "    df3 = pd.read_csv(\"../data/electronic_police_report_2020.csv\")\n",
    "    df4 = pd.read_csv(\"../data/electronic_police_report_2021.csv\")\n",
    "    df5 = pd.read_csv(\"../data/electronic_police_report_2022.csv\")\n",
    "\n",
    "    df1[\"year\"] = 2018\n",
    "    df2[\"year\"] = 2019\n",
    "    df3[\"year\"] = 2020\n",
    "    df4[\"year\"] = 2021\n",
    "    df5[\"year\"] = 2022\n",
    "    \n",
    "    dfs = [df1, df2, df3, df4, df5]\n",
    "    dfa = pd.concat(dfs, join=\"outer\")\n",
    "    \n",
    "    dfb = pd.read_csv(\"../data/rtcc.csv\", encoding=\"cp1252\").rename(columns={\"Item_number\": \"item_number\"})\n",
    "    dfb[\"footage_requested\"] = \"yes\"\n",
    "\n",
    "    df = pd.merge(dfa, dfb, on=\"item_number\", how=\"outer\")\n",
    "    return df"
   ]
  },
  {
   "cell_type": "code",
   "execution_count": 66,
   "metadata": {},
   "outputs": [
    {
     "name": "stderr",
     "output_type": "stream",
     "text": [
      "C:\\Users\\PC\\AppData\\Local\\Temp\\ipykernel_23040\\3603306294.py:7: DtypeWarning: Columns (21) have mixed types. Specify dtype option on import or set low_memory=False.\n",
      "  df4 = pd.read_csv(\"../data/electronic_police_report_2021.csv\")\n"
     ]
    }
   ],
   "source": [
    "df = clean()"
   ]
  },
  {
   "cell_type": "code",
   "execution_count": 71,
   "metadata": {},
   "outputs": [],
   "source": [
    "df = df.drop_duplicates(subset=[\"offender_race\", \"offender_gender\", \"item_number\"])"
   ]
  },
  {
   "cell_type": "code",
   "execution_count": 72,
   "metadata": {},
   "outputs": [],
   "source": [
    "requested = df[df.footage_requested.isin([\"yes\"])]"
   ]
  },
  {
   "cell_type": "code",
   "execution_count": 73,
   "metadata": {},
   "outputs": [
    {
     "data": {
      "text/plain": [
       "year    disposition\n",
       "2018.0  OPEN           0.609707\n",
       "        CLOSED         0.369060\n",
       "        UNFOUNDED      0.021234\n",
       "2019.0  OPEN           0.608752\n",
       "        CLOSED         0.371653\n",
       "        UNFOUNDED      0.019595\n",
       "2020.0  OPEN           0.729339\n",
       "        CLOSED         0.252066\n",
       "        UNFOUNDED      0.018595\n",
       "2021.0  OPEN           0.747430\n",
       "        CLOSED         0.227606\n",
       "        UNFOUNDED      0.024963\n",
       "2022.0  OPEN           0.753593\n",
       "        CLOSED         0.236140\n",
       "        UNFOUNDED      0.010267\n",
       "Name: disposition, dtype: float64"
      ]
     },
     "execution_count": 73,
     "metadata": {},
     "output_type": "execute_result"
    }
   ],
   "source": [
    "requested.groupby(\"year\").disposition.value_counts(normalize=True)"
   ]
  },
  {
   "cell_type": "code",
   "execution_count": 74,
   "metadata": {},
   "outputs": [],
   "source": [
    "not_requested = df[~((df.footage_requested == \"yes\"))]"
   ]
  },
  {
   "cell_type": "code",
   "execution_count": 75,
   "metadata": {},
   "outputs": [
    {
     "data": {
      "text/plain": [
       "year    disposition\n",
       "2018.0  OPEN           0.710473\n",
       "        CLOSED         0.284331\n",
       "        UNFOUNDED      0.005196\n",
       "2019.0  OPEN           0.740690\n",
       "        CLOSED         0.252668\n",
       "        UNFOUNDED      0.006642\n",
       "2020.0  OPEN           0.816647\n",
       "        CLOSED         0.176915\n",
       "        UNFOUNDED      0.006438\n",
       "2021.0  OPEN           0.831388\n",
       "        CLOSED         0.158719\n",
       "        UNFOUNDED      0.009893\n",
       "2022.0  OPEN           0.846445\n",
       "        CLOSED         0.145262\n",
       "        UNFOUNDED      0.008293\n",
       "Name: disposition, dtype: float64"
      ]
     },
     "execution_count": 75,
     "metadata": {},
     "output_type": "execute_result"
    }
   ],
   "source": [
    "not_requested.groupby(\"year\").disposition.value_counts(normalize=True)"
   ]
  }
 ],
 "metadata": {
  "kernelspec": {
   "display_name": "Python 3.10.8 64-bit (microsoft store)",
   "language": "python",
   "name": "python3"
  },
  "language_info": {
   "codemirror_mode": {
    "name": "ipython",
    "version": 3
   },
   "file_extension": ".py",
   "mimetype": "text/x-python",
   "name": "python",
   "nbconvert_exporter": "python",
   "pygments_lexer": "ipython3",
   "version": "3.10.8"
  },
  "orig_nbformat": 4,
  "vscode": {
   "interpreter": {
    "hash": "23f823caeccb1684f6bd50492b68bb5eab208de0408f39b2457c6a38c0e8e818"
   }
  }
 },
 "nbformat": 4,
 "nbformat_minor": 2
}
