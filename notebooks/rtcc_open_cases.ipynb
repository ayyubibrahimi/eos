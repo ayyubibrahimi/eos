{
 "cells": [
  {
   "cell_type": "code",
   "execution_count": 65,
   "metadata": {},
   "outputs": [],
   "source": [
    "import pandas as pd\n",
    "\n",
    "def clean():\n",
    "    df1 = pd.read_csv(\"../data/electronic_police_report_2018.csv\")\n",
    "    df2 = pd.read_csv(\"../data/electronic_police_report_2019.csv\")\n",
    "    df3 = pd.read_csv(\"../data/electronic_police_report_2020.csv\")\n",
    "    df4 = pd.read_csv(\"../data/electronic_police_report_2021.csv\")\n",
    "    df5 = pd.read_csv(\"../data/electronic_police_report_2022.csv\")\n",
    "    df5[\"year\"] = 2022\n",
    "\n",
    "    dfs = [df1, df2, df3, df4, df5]\n",
    "    dfa = pd.concat(dfs, join=\"outer\")\n",
    "    \n",
    "    dfb = pd.read_csv(\"../data/rtcc.csv\", encoding=\"cp1252\").rename(columns={\"Item_number\": \"item_number\"})\n",
    "    dfb[\"footage_requested\"] = \"yes\"\n",
    "\n",
    "    df = pd.merge(dfa, dfb, on=\"item_number\", how=\"outer\")\n",
    "    return df.drop_duplicates(subset=[\"item_number\"])"
   ]
  },
  {
   "cell_type": "code",
   "execution_count": 66,
   "metadata": {},
   "outputs": [
    {
     "name": "stderr",
     "output_type": "stream",
     "text": [
      "C:\\Users\\PC\\AppData\\Local\\Temp\\ipykernel_18292\\420805230.py:7: DtypeWarning: Columns (21) have mixed types. Specify dtype option on import or set low_memory=False.\n",
      "  df4 = pd.read_csv(\"../data/electronic_police_report_2021.csv\")\n"
     ]
    }
   ],
   "source": [
    "df = clean()"
   ]
  },
  {
   "cell_type": "code",
   "execution_count": 67,
   "metadata": {},
   "outputs": [],
   "source": [
    "requested = df[df.footage_requested.isin([\"yes\"])]"
   ]
  },
  {
   "cell_type": "code",
   "execution_count": 68,
   "metadata": {},
   "outputs": [
    {
     "data": {
      "text/plain": [
       "year    disposition\n",
       "2018.0  OPEN           0.607676\n",
       "        CLOSED         0.369936\n",
       "        UNFOUNDED      0.022388\n",
       "2019.0  OPEN           0.608961\n",
       "        CLOSED         0.370672\n",
       "        UNFOUNDED      0.020367\n",
       "2020.0  OPEN           0.733725\n",
       "        CLOSED         0.247065\n",
       "        UNFOUNDED      0.019210\n",
       "2021.0  OPEN           0.742799\n",
       "        CLOSED         0.231430\n",
       "        UNFOUNDED      0.025771\n",
       "2022.0  OPEN           0.750538\n",
       "        CLOSED         0.238710\n",
       "        UNFOUNDED      0.010753\n",
       "Name: disposition, dtype: float64"
      ]
     },
     "execution_count": 68,
     "metadata": {},
     "output_type": "execute_result"
    }
   ],
   "source": [
    "requested.groupby(\"year\").disposition.value_counts(normalize=True)"
   ]
  },
  {
   "cell_type": "code",
   "execution_count": 69,
   "metadata": {},
   "outputs": [],
   "source": [
    "not_requested = df[~((df.footage_requested == \"yes\"))]"
   ]
  },
  {
   "cell_type": "code",
   "execution_count": 70,
   "metadata": {},
   "outputs": [
    {
     "data": {
      "text/plain": [
       "year    disposition\n",
       "2018.0  OPEN           0.712707\n",
       "        CLOSED         0.282034\n",
       "        UNFOUNDED      0.005259\n",
       "2019.0  OPEN           0.743054\n",
       "        CLOSED         0.250195\n",
       "        UNFOUNDED      0.006750\n",
       "2020.0  OPEN           0.819670\n",
       "        CLOSED         0.173817\n",
       "        UNFOUNDED      0.006514\n",
       "2021.0  OPEN           0.833193\n",
       "        CLOSED         0.156807\n",
       "        UNFOUNDED      0.009999\n",
       "2022.0  OPEN           0.848029\n",
       "        CLOSED         0.143585\n",
       "        UNFOUNDED      0.008386\n",
       "Name: disposition, dtype: float64"
      ]
     },
     "execution_count": 70,
     "metadata": {},
     "output_type": "execute_result"
    }
   ],
   "source": [
    "not_requested.groupby(\"year\").disposition.value_counts(normalize=True)"
   ]
  }
 ],
 "metadata": {
  "kernelspec": {
   "display_name": "Python 3.10.8 64-bit (microsoft store)",
   "language": "python",
   "name": "python3"
  },
  "language_info": {
   "codemirror_mode": {
    "name": "ipython",
    "version": 3
   },
   "file_extension": ".py",
   "mimetype": "text/x-python",
   "name": "python",
   "nbconvert_exporter": "python",
   "pygments_lexer": "ipython3",
   "version": "3.10.8"
  },
  "orig_nbformat": 4,
  "vscode": {
   "interpreter": {
    "hash": "23f823caeccb1684f6bd50492b68bb5eab208de0408f39b2457c6a38c0e8e818"
   }
  }
 },
 "nbformat": 4,
 "nbformat_minor": 2
}
