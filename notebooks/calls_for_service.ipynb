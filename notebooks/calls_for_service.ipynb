{
 "cells": [
  {
   "cell_type": "code",
   "execution_count": 46,
   "metadata": {},
   "outputs": [],
   "source": [
    "import pandas as pd\n",
    "\n",
    "def clean():\n",
    "    df1 = pd.read_csv(\"../data/calls_for_service_2015.csv\")\n",
    "    df1[\"year\"] = 2015\n",
    "    df2 = pd.read_csv(\"../data/calls_for_service_2016.csv\")\n",
    "    df2[\"year\"] = 2016\n",
    "    df3 = pd.read_csv(\"../data/calls_for_service_2017.csv\")\n",
    "    df3[\"year\"] = 2017\n",
    "    df4 = pd.read_csv(\"../data/calls_for_service_2018.csv\")\n",
    "    df4[\"year\"] = 2018\n",
    "    df5 = pd.read_csv(\"../data/calls_for_service_2019.csv\")\n",
    "    df5[\"year\"] = 2019\n",
    "    df6 = pd.read_csv(\"../data/calls_for_service_2020.csv\")\n",
    "    df6[\"year\"] = 2020\n",
    "    df7 = pd.read_csv(\"../data/calls_for_service_2021.csv\")\n",
    "    df7[\"year\"] = 2021\n",
    "\n",
    "    dfs = pd.DataFrame(pd.concat([df1, df2, df3, df4, df5, df6, df7]))\n",
    "    return dfs"
   ]
  },
  {
   "cell_type": "code",
   "execution_count": 47,
   "metadata": {},
   "outputs": [
    {
     "name": "stderr",
     "output_type": "stream",
     "text": [
      "C:\\Users\\PC\\AppData\\Local\\Temp\\ipykernel_21260\\3512359829.py:12: DtypeWarning: Columns (18) have mixed types. Specify dtype option on import or set low_memory=False.\n",
      "  df5 = pd.read_csv(\"../data/calls_for_service_2019.csv\")\n"
     ]
    }
   ],
   "source": [
    "df = clean()"
   ]
  },
  {
   "cell_type": "code",
   "execution_count": 48,
   "metadata": {},
   "outputs": [
    {
     "data": {
      "text/plain": [
       "2019    487362\n",
       "2018    460874\n",
       "2017    444111\n",
       "2020    432892\n",
       "2015    432733\n",
       "2021    428315\n",
       "2016    404062\n",
       "Name: year, dtype: int64"
      ]
     },
     "execution_count": 48,
     "metadata": {},
     "output_type": "execute_result"
    }
   ],
   "source": [
    "df.year.value_counts()"
   ]
  },
  {
   "cell_type": "code",
   "execution_count": 49,
   "metadata": {},
   "outputs": [
    {
     "data": {
      "text/plain": [
       "Index(['NOPD_Item', 'Type_', 'TypeText', 'Priority', 'InitialType',\n",
       "       'InitialTypeText', 'InitialPriority', 'MapX', 'MapY', 'TimeCreate',\n",
       "       'TimeDispatch', 'TimeArrive', 'TimeClosed', 'Disposition',\n",
       "       'DispositionText', 'SelfInitiated', 'Beat', 'BLOCK_ADDRESS', 'Zip',\n",
       "       'PoliceDistrict', 'Location', 'year', 'Type', 'TimeArrival'],\n",
       "      dtype='object')"
      ]
     },
     "execution_count": 49,
     "metadata": {},
     "output_type": "execute_result"
    }
   ],
   "source": [
    "df.columns"
   ]
  },
  {
   "cell_type": "code",
   "execution_count": 50,
   "metadata": {},
   "outputs": [],
   "source": [
    "df[\"cfs_tally\"] = 1"
   ]
  },
  {
   "cell_type": "code",
   "execution_count": 51,
   "metadata": {},
   "outputs": [],
   "source": [
    "df = df[\n",
    "        (\n",
    "            df.TypeText.isin(\n",
    "                [\n",
    "                    \"AGGRAVATED ASSAULT\",\n",
    "                    \"CARJACKING\",\n",
    "                    \"AGGRAVATED ASSAULT DOMESTIC\",\n",
    "                    \"ARMED ROBBERY WITH GUN\",\n",
    "                    \"AGGRAVATED BATTERY BY SHOOTING\",\n",
    "                    \"AGGRAVATED BATTERY DOMESTIC\",\n",
    "                    \"AGGRAVATED BURGLARY\",\n",
    "                    \"AGGRAVATED BATTERY BY CUTTING\",\n",
    "                    \"AGGRAVATED RAPE\",\n",
    "                    \"ARMED ROBBERY\",\n",
    "                    \"SIMPLE RAPE\",\n",
    "                    \"HOMICIDE BY SHOOTING\",\n",
    "                    \"ARMED ROBBERY WITH KNIFE\",\n",
    "                    \"AGGRAVATED KIDNAPPING\",\n",
    "                    \"SIMPLE ASSAULT DOMESTIC\",\n",
    "                    \"AGGRAVATED RAPE UNFOUNDED BY SPECIAL VICTIMS OR CHILD ABUSE\",\n",
    "                    \"AGGRAVATED BURGLARY DOMESTIC\",\n",
    "                    \"AGGRAVATED RAPE MALE VICTIM\",\n",
    "                    \"HOMICIDE\",\n",
    "                    \"HOMICIDE BY CUTTING\",\n",
    "                    \"ILLEGAL CARRYING OF WEAPON- KNIFE\",\n",
    "                    \"SIMPLE RAPE MALE VICTIM\",\n",
    "                    \"AGGRAVATED ARSON\",\n",
    "                    \"SIMPLE RAPE UNFOUNDED BY SPECIAL VICTIMS OR CHILD ABUSE\",\n",
    "                ]\n",
    "            )\n",
    "        )\n",
    "    ]"
   ]
  },
  {
   "cell_type": "code",
   "execution_count": 52,
   "metadata": {},
   "outputs": [
    {
     "data": {
      "text/plain": [
       "array(['AGGRAVATED ASSAULT', 'AGGRAVATED BURGLARY',\n",
       "       'ARMED ROBBERY WITH GUN', 'ARMED ROBBERY WITH KNIFE',\n",
       "       'HOMICIDE BY SHOOTING', 'AGGRAVATED RAPE',\n",
       "       'SIMPLE ASSAULT DOMESTIC', 'AGGRAVATED ASSAULT DOMESTIC',\n",
       "       'AGGRAVATED BATTERY BY SHOOTING', 'AGGRAVATED BATTERY DOMESTIC',\n",
       "       'SIMPLE RAPE', 'AGGRAVATED ARSON', 'HOMICIDE BY CUTTING',\n",
       "       'ARMED ROBBERY', 'ILLEGAL CARRYING OF WEAPON- KNIFE', 'CARJACKING',\n",
       "       'HOMICIDE', 'AGGRAVATED RAPE MALE VICTIM',\n",
       "       'AGGRAVATED RAPE UNFOUNDED BY SPECIAL VICTIMS OR CHILD ABUSE',\n",
       "       'AGGRAVATED KIDNAPPING',\n",
       "       'SIMPLE RAPE UNFOUNDED BY SPECIAL VICTIMS OR CHILD ABUSE',\n",
       "       'SIMPLE RAPE MALE VICTIM', 'AGGRAVATED BURGLARY DOMESTIC',\n",
       "       'AGGRAVATED BATTERY BY CUTTING'], dtype=object)"
      ]
     },
     "execution_count": 52,
     "metadata": {},
     "output_type": "execute_result"
    }
   ],
   "source": [
    "df.TypeText.unique()"
   ]
  },
  {
   "cell_type": "code",
   "execution_count": 53,
   "metadata": {},
   "outputs": [
    {
     "data": {
      "text/html": [
       "<div>\n",
       "<style scoped>\n",
       "    .dataframe tbody tr th:only-of-type {\n",
       "        vertical-align: middle;\n",
       "    }\n",
       "\n",
       "    .dataframe tbody tr th {\n",
       "        vertical-align: top;\n",
       "    }\n",
       "\n",
       "    .dataframe thead th {\n",
       "        text-align: right;\n",
       "    }\n",
       "</style>\n",
       "<table border=\"1\" class=\"dataframe\">\n",
       "  <thead>\n",
       "    <tr style=\"text-align: right;\">\n",
       "      <th></th>\n",
       "      <th></th>\n",
       "      <th>cfs_tally</th>\n",
       "    </tr>\n",
       "    <tr>\n",
       "      <th>year</th>\n",
       "      <th>cfs_tally</th>\n",
       "      <th></th>\n",
       "    </tr>\n",
       "  </thead>\n",
       "  <tbody>\n",
       "    <tr>\n",
       "      <th>2015</th>\n",
       "      <th>1</th>\n",
       "      <td>3474</td>\n",
       "    </tr>\n",
       "    <tr>\n",
       "      <th>2016</th>\n",
       "      <th>1</th>\n",
       "      <td>3760</td>\n",
       "    </tr>\n",
       "    <tr>\n",
       "      <th>2017</th>\n",
       "      <th>1</th>\n",
       "      <td>3701</td>\n",
       "    </tr>\n",
       "    <tr>\n",
       "      <th>2018</th>\n",
       "      <th>1</th>\n",
       "      <td>3702</td>\n",
       "    </tr>\n",
       "    <tr>\n",
       "      <th>2019</th>\n",
       "      <th>1</th>\n",
       "      <td>3991</td>\n",
       "    </tr>\n",
       "    <tr>\n",
       "      <th>2020</th>\n",
       "      <th>1</th>\n",
       "      <td>4967</td>\n",
       "    </tr>\n",
       "    <tr>\n",
       "      <th>2021</th>\n",
       "      <th>1</th>\n",
       "      <td>5524</td>\n",
       "    </tr>\n",
       "  </tbody>\n",
       "</table>\n",
       "</div>"
      ],
      "text/plain": [
       "                cfs_tally\n",
       "year cfs_tally           \n",
       "2015 1               3474\n",
       "2016 1               3760\n",
       "2017 1               3701\n",
       "2018 1               3702\n",
       "2019 1               3991\n",
       "2020 1               4967\n",
       "2021 1               5524"
      ]
     },
     "execution_count": 53,
     "metadata": {},
     "output_type": "execute_result"
    }
   ],
   "source": [
    "epr = df[[\"year\", \"cfs_tally\"]]\n",
    "epr = epr.groupby([\"year\"]).cfs_tally.value_counts()\n",
    "epr = pd.DataFrame(epr)\n",
    "epr\n"
   ]
  },
  {
   "cell_type": "code",
   "execution_count": 54,
   "metadata": {},
   "outputs": [],
   "source": [
    "epr.to_excel(\"../data/cfs_counts_violent_calls.xlsx\")"
   ]
  }
 ],
 "metadata": {
  "kernelspec": {
   "display_name": "Python 3.10.8 64-bit (microsoft store)",
   "language": "python",
   "name": "python3"
  },
  "language_info": {
   "codemirror_mode": {
    "name": "ipython",
    "version": 3
   },
   "file_extension": ".py",
   "mimetype": "text/x-python",
   "name": "python",
   "nbconvert_exporter": "python",
   "pygments_lexer": "ipython3",
   "version": "3.10.8"
  },
  "orig_nbformat": 4,
  "vscode": {
   "interpreter": {
    "hash": "23f823caeccb1684f6bd50492b68bb5eab208de0408f39b2457c6a38c0e8e818"
   }
  }
 },
 "nbformat": 4,
 "nbformat_minor": 2
}
