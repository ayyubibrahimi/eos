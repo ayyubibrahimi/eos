{
 "cells": [
  {
   "cell_type": "code",
   "execution_count": 138,
   "metadata": {},
   "outputs": [],
   "source": [
    "import pandas as pd\n",
    "\n",
    "def clean_item_no(df):\n",
    "    df.loc[:, \"item_number\"] = df.item_number.str.lower().str.strip().str.replace(r\"(\\w)(\\w+)(\\w{2})$\", r\"\\1-\\2-\\3\", regex=True)\n",
    "    return df\n",
    "\n",
    "def standardize_item_no(df):\n",
    "    df.loc[:, \"item_number\"] = df.item_number.str.lower().str.strip()\n",
    "    return df\n",
    "\n",
    "def drop_rows_missing_race(df):\n",
    "    df.loc[:, \"citizen_race\"] = df.citizen_race.fillna(\"\").str.lower().str.strip()\\\n",
    "    .str.replace(\"unknown\", \"\", regex=False)\\\n",
    "    # .str.replace(\"hispanic\", \"\", regex=False)\\\n",
    "    # .str.replace(\"asian\", \"\", regex=False)\\\n",
    "    # .str.replace(r\"amer\\. ind\\.\", \"\", regex=True)\n",
    "    return df[~((df.citizen_race == \"\"))]\n",
    "    \n",
    "def filter_gender(df):\n",
    "    df.loc[:, \"citizen_gender\"] = (\n",
    "        df.citizen_gender.str.lower().str.strip().fillna(\"\").str.replace(\"unknown\", \"\", regex=False)\n",
    "    )\n",
    "    return df[~((df.citizen_gender == \"\"))]"
   ]
  },
  {
   "cell_type": "code",
   "execution_count": 139,
   "metadata": {},
   "outputs": [
    {
     "name": "stderr",
     "output_type": "stream",
     "text": [
      "C:\\Users\\PC\\AppData\\Local\\Temp\\ipykernel_4436\\3475814522.py:2: DtypeWarning: Columns (40) have mixed types. Specify dtype option on import or set low_memory=False.\n",
      "  dfa = pd.read_csv(\"../data/sas_new_orleans_pd_2010_2021.csv\")\\\n",
      "C:\\Users\\PC\\AppData\\Local\\Temp\\ipykernel_4436\\3627603205.py:20: SettingWithCopyWarning: \n",
      "A value is trying to be set on a copy of a slice from a DataFrame.\n",
      "Try using .loc[row_indexer,col_indexer] = value instead\n",
      "\n",
      "See the caveats in the documentation: https://pandas.pydata.org/pandas-docs/stable/user_guide/indexing.html#returning-a-view-versus-a-copy\n",
      "  df.loc[:, \"citizen_gender\"] = (\n"
     ]
    }
   ],
   "source": [
    "def sas():\n",
    "    dfa = pd.read_csv(\"../data/sas_new_orleans_pd_2010_2021.csv\")\\\n",
    "        .pipe(clean_item_no)\n",
    "\n",
    "    dfb = pd.read_csv(\"../data/rtcc.csv\", encoding=\"cp1252\").rename(columns={\"Item_number\": \"item_number\"})\n",
    "    dfb = dfb.pipe(standardize_item_no)\n",
    "    dfb[\"rtcc_footage_requested\"] = \"yes\"\n",
    "\n",
    "    df = pd.merge(dfa, dfb, on=\"item_number\")\n",
    "    return df\n",
    "\n",
    "sas_df = sas()\n",
    "\n",
    "sas_df[~((sas_df.stop_and_search_year.fillna(\"\") == \"\"))]\n",
    "sas_df = sas_df.pipe(drop_rows_missing_race).pipe(filter_gender).drop_duplicates(subset=[\"stop_and_search_uid\", \"citizen_race\", \"citizen_gender\"])\n"
   ]
  },
  {
   "cell_type": "code",
   "execution_count": 140,
   "metadata": {},
   "outputs": [
    {
     "data": {
      "text/plain": [
       "Index(['stop_and_search_interview_id', 'item_number', 'district', 'zone',\n",
       "       'stop_reason', 'vehicle_year', 'vehicle_make', 'vehicle_model',\n",
       "       'vehicle_style', 'vehicle_color', 'citizen_id', 'citizen_race',\n",
       "       'citizen_height', 'citizen_weight', 'citizen_hair_color', 'zip_code',\n",
       "       'stop_and_search_location', 'id', 'stop_and_search_interview_id_2',\n",
       "       'vehicle_number', 'citizen_gender', 'citizen_eye_color',\n",
       "       'citizen_driver_license_state', 'assigned_district',\n",
       "       'assigned_department', 'stop_results', 'subject_type',\n",
       "       'search_occurred', 'evidence_seized', 'evidence_types',\n",
       "       'strip_body_cavity_search', 'legal_basis', 'consent_to_search',\n",
       "       'consent_form_completed', 'search_types', 'exit_vehicle', 'rank_desc',\n",
       "       'first_name', 'middle_name', 'last_name', 'badge_number',\n",
       "       'stop_and_search_year', 'stop_and_search_month', 'stop_and_search_day',\n",
       "       'stop_and_search_time', 'agency', 'uid', 'stop_and_search_uid',\n",
       "       'Signal Code', 'rtcc_footage_requested'],\n",
       "      dtype='object')"
      ]
     },
     "execution_count": 140,
     "metadata": {},
     "output_type": "execute_result"
    }
   ],
   "source": [
    "sas_df.columns"
   ]
  },
  {
   "cell_type": "code",
   "execution_count": 141,
   "metadata": {},
   "outputs": [],
   "source": [
    "sas_df = sas_df[sas_df.rtcc_footage_requested.isin([\"yes\"])]"
   ]
  },
  {
   "cell_type": "code",
   "execution_count": 142,
   "metadata": {},
   "outputs": [],
   "source": [
    "sas_df[\"rtcc_footage_request_tally\"] = 1"
   ]
  },
  {
   "cell_type": "code",
   "execution_count": 143,
   "metadata": {},
   "outputs": [
    {
     "data": {
      "text/plain": [
       "citizen_race              rtcc_footage_request_tally\n",
       "asian / pacific islander  1                                7\n",
       "black                     1                             2797\n",
       "hispanic                  1                               84\n",
       "native american           1                                4\n",
       "white                     1                              581\n",
       "Name: rtcc_footage_request_tally, dtype: int64"
      ]
     },
     "execution_count": 143,
     "metadata": {},
     "output_type": "execute_result"
    }
   ],
   "source": [
    "sas_df.groupby(\"citizen_race\").rtcc_footage_request_tally.value_counts()"
   ]
  },
  {
   "cell_type": "code",
   "execution_count": 144,
   "metadata": {},
   "outputs": [
    {
     "data": {
      "text/plain": [
       "array(['black', 'white', 'hispanic', 'asian / pacific islander',\n",
       "       'native american'], dtype=object)"
      ]
     },
     "execution_count": 144,
     "metadata": {},
     "output_type": "execute_result"
    }
   ],
   "source": [
    "sas_df.citizen_race.unique()\n"
   ]
  },
  {
   "cell_type": "code",
   "execution_count": 145,
   "metadata": {},
   "outputs": [],
   "source": [
    "sas_tally = sas_df[[\"citizen_race\", \"rtcc_footage_request_tally\",]]\n",
    "sas_tally = sas_tally.groupby([\"citizen_race\",]).rtcc_footage_request_tally.count()\n",
    "sas_tally = pd.DataFrame(sas_tally).reset_index()\n",
    "sas_tally.loc[(sas_tally.citizen_race == \"black\"), \"population\"] = \"105498\"\n",
    "sas_tally.loc[(sas_tally.citizen_race == \"white\"), \"population\"] = \"65756\"\n",
    "sas_tally.loc[(sas_tally.citizen_race == \"hispanic\"), \"population\"] = \"11205\"\n",
    "sas_tally.loc[(sas_tally.citizen_race == \"native american\"), \"population\"] = \"360\"\n",
    "sas_tally.loc[(sas_tally.citizen_race == \"asian / pacific islander\"), \"population\"] = \"5499\""
   ]
  },
  {
   "cell_type": "code",
   "execution_count": 146,
   "metadata": {},
   "outputs": [],
   "source": [
    "def calc_rate(dfb_total, population=\"\"):\n",
    "    population = int(population)\n",
    "    rate = (( dfb_total / population) * 1000)\n",
    "    return rate"
   ]
  },
  {
   "cell_type": "code",
   "execution_count": 147,
   "metadata": {},
   "outputs": [],
   "source": [
    "sas_tally[\"rate_per_1000_persons\"] = sas_tally.apply(lambda x: calc_rate(x.rtcc_footage_request_tally, x.population), axis=1)\n",
    "sas_tally[\"year\"] = \"2018-2022\""
   ]
  },
  {
   "cell_type": "code",
   "execution_count": 148,
   "metadata": {},
   "outputs": [],
   "source": [
    "# sas_tally.to_excel(\"../data/excel/rtcc_requests_sas_total.xlsx\")"
   ]
  },
  {
   "cell_type": "code",
   "execution_count": 149,
   "metadata": {},
   "outputs": [],
   "source": [
    "sas_stops = sas_df[[\"citizen_race\", \"search_occurred\", \"rtcc_footage_request_tally\", \"stop_results\"]]\n",
    "sas_stops = sas_stops[sas_stops.search_occurred.isin([\"yes\"])]\n",
    "sas_stops = sas_stops[sas_stops.stop_results.isin([\"physical arrest\"])]\n",
    "sas_stops = sas_stops.groupby([\"citizen_race\",]).rtcc_footage_request_tally.count()\n",
    "sas_stops = pd.DataFrame(sas_stops).reset_index()\n",
    "sas_stops.loc[(sas_stops.citizen_race == \"black\"), \"population\"] = \"105498\"\n",
    "sas_stops.loc[(sas_stops.citizen_race == \"white\"), \"population\"] = \"65756\"\n",
    "sas_stops.loc[(sas_stops.citizen_race == \"hispanic\"), \"population\"] = \"11205\"\n",
    "sas_stops.loc[(sas_stops.citizen_race == \"native american\"), \"population\"] = \"360\"\n",
    "sas_stops.loc[(sas_stops.citizen_race == \"asian / pacific islander\"), \"population\"] = \"5499\"\n",
    "sas_stops[\"rate_per_1000_persons\"] = sas_stops.apply(lambda x: calc_rate(x.rtcc_footage_request_tally, x.population), axis=1)\n",
    "sas_stops[\"year\"] = \"2018-2022\""
   ]
  },
  {
   "cell_type": "code",
   "execution_count": 151,
   "metadata": {},
   "outputs": [],
   "source": [
    "sas_stops.to_excel(\"../data/excel/rtcc_sas_stops_arrested.xlsx\")"
   ]
  }
 ],
 "metadata": {
  "kernelspec": {
   "display_name": "Python 3.10.8 64-bit (microsoft store)",
   "language": "python",
   "name": "python3"
  },
  "language_info": {
   "codemirror_mode": {
    "name": "ipython",
    "version": 3
   },
   "file_extension": ".py",
   "mimetype": "text/x-python",
   "name": "python",
   "nbconvert_exporter": "python",
   "pygments_lexer": "ipython3",
   "version": "3.10.8"
  },
  "orig_nbformat": 4,
  "vscode": {
   "interpreter": {
    "hash": "23f823caeccb1684f6bd50492b68bb5eab208de0408f39b2457c6a38c0e8e818"
   }
  }
 },
 "nbformat": 4,
 "nbformat_minor": 2
}
