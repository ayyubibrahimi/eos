{
 "cells": [
  {
   "cell_type": "code",
   "execution_count": 768,
   "metadata": {},
   "outputs": [],
   "source": [
    "### to-do ###\n",
    "# explore # of arrested (x amount of black males were arrested. how many were/are innocent? given the dubious effectiveness of tech)"
   ]
  },
  {
   "cell_type": "code",
   "execution_count": 769,
   "metadata": {},
   "outputs": [],
   "source": [
    "import pandas as pd\n",
    "\n",
    "def standardize_item_no(df):\n",
    "    df.loc[:, \"item_number\"] = df.item_number.str.lower().str.strip()\n",
    "    return df\n",
    "\n",
    "def clean():\n",
    "    df1 = pd.read_csv(\"../data/electronic_police_report_2018.csv\")\n",
    "    df2 = pd.read_csv(\"../data/electronic_police_report_2019.csv\")\n",
    "    df3 = pd.read_csv(\"../data/electronic_police_report_2020.csv\")\n",
    "    df4 = pd.read_csv(\"../data/electronic_police_report_2021.csv\")\n",
    "    df5 = pd.read_csv(\"../data/electronic_police_report_2022.csv\")\n",
    "    df5[\"year\"] = 2022\n",
    "\n",
    "    dfs = [df1, df2, df3, df4, df5]\n",
    "    dfa = pd.concat(dfs, join=\"outer\")\n",
    "    dfa = dfa.pipe(standardize_item_no)\n",
    "    \n",
    "    dfb = pd.read_csv(\"../data/rtcc.csv\", encoding=\"cp1252\").rename(columns={\"Item_number\": \"item_number\"})\n",
    "    dfb = dfb.pipe(standardize_item_no)\n",
    "\n",
    "    df = pd.merge(dfb, dfa, on=\"item_number\")\n",
    "    return df"
   ]
  },
  {
   "cell_type": "code",
   "execution_count": 770,
   "metadata": {},
   "outputs": [],
   "source": [
    "def drop_rows_missing_race(df):\n",
    "    df.loc[:, \"offender_race\"] = df.offender_race.fillna(\"\").str.lower().str.strip()\\\n",
    "    .str.replace(\"unknown\", \"\", regex=False)\\\n",
    "    .str.replace(\"hispanic\", \"\", regex=False)\\\n",
    "    .str.replace(\"asian\", \"\", regex=False)\\\n",
    "    .str.replace(r\"amer\\. ind\\.\", \"\", regex=True)\n",
    "    return df[~((df.offender_race == \"\"))]\n",
    "\n",
    "\n",
    "def filter_gender(df):\n",
    "    df.loc[:, \"offender_gender\"] = (\n",
    "        df.offender_gender.str.lower().str.strip().fillna(\"\").str.replace(\"unknown\", \"\", regex=False)\n",
    "    )\n",
    "    df = df[df.offender_gender.isin([\"male\"])]\n",
    "    return df[~((df.offender_gender == \"\"))]\n",
    "\n",
    "\n",
    "def filter_arrested(df):\n",
    "    df.loc[:, \"offenderstatus\"] = df.offenderstatus.str.lower().str.strip().fillna(\"\")\n",
    "    df = df[df.offenderstatus.isin([\"arrested\"])]\n",
    "    return df[~((df.offenderstatus == \"\"))]\n",
    "\n",
    "\n",
    "def filter_year(df):\n",
    "    df.loc[:, \"year\"] = df.year.astype(str).str.replace(r\"\\.$\", \"\", regex=True)\n",
    "    df = df[df.year.astype(str).isin([\"2018\", \"2019\", \"2020\", \"2021\", \"2022\"])]\n",
    "    return df\n",
    "  \n",
    "  \n",
    "def drop_rows_missing_charge_desc(df):\n",
    "    df.loc[:, \"charge_description\"] = df.charge_description.str.lower().str.strip().fillna(\"\")\n",
    "    return df[~((df.charge_description == \"\"))]"
   ]
  },
  {
   "cell_type": "code",
   "execution_count": 771,
   "metadata": {},
   "outputs": [],
   "source": [
    "def filter_data():\n",
    "  df = clean()\n",
    "  df = df.pipe(filter_year).pipe(drop_rows_missing_race).pipe(drop_rows_missing_charge_desc)\n",
    "  df = df.drop_duplicates()\n",
    "  return df"
   ]
  },
  {
   "cell_type": "code",
   "execution_count": 772,
   "metadata": {},
   "outputs": [
    {
     "name": "stderr",
     "output_type": "stream",
     "text": [
      "c:\\Users\\PC\\AppData\\Local\\Programs\\Python\\Python39\\lib\\site-packages\\IPython\\core\\interactiveshell.py:3398: DtypeWarning: Columns (21) have mixed types.Specify dtype option on import or set low_memory=False.\n",
      "  exec(code_obj, self.user_global_ns, self.user_ns)\n"
     ]
    }
   ],
   "source": [
    "df = filter_data()"
   ]
  },
  {
   "cell_type": "code",
   "execution_count": 773,
   "metadata": {},
   "outputs": [],
   "source": [
    "df[\"rtcc_footage_request_tally\"] = 1"
   ]
  },
  {
   "cell_type": "code",
   "execution_count": 774,
   "metadata": {},
   "outputs": [
    {
     "data": {
      "text/plain": [
       "offender_race  rtcc_footage_request_tally\n",
       "black          1                             6848\n",
       "white          1                              583\n",
       "Name: rtcc_footage_request_tally, dtype: int64"
      ]
     },
     "execution_count": 774,
     "metadata": {},
     "output_type": "execute_result"
    }
   ],
   "source": [
    "df.groupby(\"offender_race\").rtcc_footage_request_tally.value_counts()"
   ]
  },
  {
   "cell_type": "code",
   "execution_count": 775,
   "metadata": {},
   "outputs": [
    {
     "data": {
      "text/plain": [
       "array(['black', 'white'], dtype=object)"
      ]
     },
     "execution_count": 775,
     "metadata": {},
     "output_type": "execute_result"
    }
   ],
   "source": [
    "df.offender_race.unique()"
   ]
  },
  {
   "cell_type": "code",
   "execution_count": 776,
   "metadata": {},
   "outputs": [],
   "source": [
    "df = df[[\"offender_race\", \"rtcc_footage_request_tally\", \"charge_description\"]]\n",
    "df = df.groupby([\"offender_race\",\"charge_description\"]).rtcc_footage_request_tally.count()\n",
    "df = pd.DataFrame(df).reset_index()"
   ]
  },
  {
   "cell_type": "code",
   "execution_count": 777,
   "metadata": {},
   "outputs": [],
   "source": [
    "df.loc[(df.offender_race == \"black\"), \"population\"] = \"105498\"\n",
    "df.loc[(df.offender_race == \"white\"), \"population\"] = \"65756\"\n",
    "\n",
    "df.loc[(df.offender_race == \"black\"), \"total_requests\"] = \"6848\"\n",
    "df.loc[(df.offender_race == \"white\"), \"total_requests\"] = \"583\"\n",
    "\n",
    "\n",
    "# df.loc[(df.offender_race == \"hispanic\"), \"population\"] = \"11205\"\n",
    "# df.loc[(df.offender_race == \"amer. ind.\"), \"population\"] = \"360\"\n",
    "# df.loc[(df.offender_race == \"asian\"), \"population\"] = \"5499\""
   ]
  },
  {
   "cell_type": "code",
   "execution_count": 778,
   "metadata": {},
   "outputs": [],
   "source": [
    "def calc_rate(dfb_total, population=\"\"):\n",
    "    population = int(population)\n",
    "    rate = (( dfb_total / population) * 1000)\n",
    "    return rate\n",
    "\n",
    "def calc_ratio(charges, total=\"\"):\n",
    "    total = int(total)\n",
    "    ratio = charges/total\n",
    "    return ratio"
   ]
  },
  {
   "cell_type": "code",
   "execution_count": 779,
   "metadata": {},
   "outputs": [],
   "source": [
    "df[\"rate_per_1000_persons\"] = df.apply(lambda x: calc_rate(x.rtcc_footage_request_tally, x.population), axis=1)\n",
    "df[\"ratio\"] = df.apply(lambda x: calc_ratio(x.rtcc_footage_request_tally, x.total_requests), axis=1)\n",
    "df[\"year\"] = \"2018-2022\""
   ]
  },
  {
   "cell_type": "code",
   "execution_count": 780,
   "metadata": {},
   "outputs": [
    {
     "data": {
      "text/html": [
       "<div>\n",
       "<style scoped>\n",
       "    .dataframe tbody tr th:only-of-type {\n",
       "        vertical-align: middle;\n",
       "    }\n",
       "\n",
       "    .dataframe tbody tr th {\n",
       "        vertical-align: top;\n",
       "    }\n",
       "\n",
       "    .dataframe thead th {\n",
       "        text-align: right;\n",
       "    }\n",
       "</style>\n",
       "<table border=\"1\" class=\"dataframe\">\n",
       "  <thead>\n",
       "    <tr style=\"text-align: right;\">\n",
       "      <th></th>\n",
       "      <th>offender_race</th>\n",
       "      <th>charge_description</th>\n",
       "      <th>rtcc_footage_request_tally</th>\n",
       "      <th>population</th>\n",
       "      <th>total_requests</th>\n",
       "      <th>rate_per_1000_persons</th>\n",
       "      <th>ratio</th>\n",
       "      <th>year</th>\n",
       "    </tr>\n",
       "  </thead>\n",
       "  <tbody>\n",
       "    <tr>\n",
       "      <th>0</th>\n",
       "      <td>black</td>\n",
       "      <td>2nd degree cruelty to juveniles</td>\n",
       "      <td>1</td>\n",
       "      <td>105498</td>\n",
       "      <td>6848</td>\n",
       "      <td>0.009479</td>\n",
       "      <td>0.000146</td>\n",
       "      <td>2018-2022</td>\n",
       "    </tr>\n",
       "    <tr>\n",
       "      <th>1</th>\n",
       "      <td>black</td>\n",
       "      <td>access device fraud</td>\n",
       "      <td>20</td>\n",
       "      <td>105498</td>\n",
       "      <td>6848</td>\n",
       "      <td>0.189577</td>\n",
       "      <td>0.002921</td>\n",
       "      <td>2018-2022</td>\n",
       "    </tr>\n",
       "    <tr>\n",
       "      <th>235</th>\n",
       "      <td>white</td>\n",
       "      <td>access device fraud</td>\n",
       "      <td>6</td>\n",
       "      <td>65756</td>\n",
       "      <td>583</td>\n",
       "      <td>0.091246</td>\n",
       "      <td>0.010292</td>\n",
       "      <td>2018-2022</td>\n",
       "    </tr>\n",
       "    <tr>\n",
       "      <th>2</th>\n",
       "      <td>black</td>\n",
       "      <td>accessory - 2nd degree murder</td>\n",
       "      <td>1</td>\n",
       "      <td>105498</td>\n",
       "      <td>6848</td>\n",
       "      <td>0.009479</td>\n",
       "      <td>0.000146</td>\n",
       "      <td>2018-2022</td>\n",
       "    </tr>\n",
       "    <tr>\n",
       "      <th>3</th>\n",
       "      <td>black</td>\n",
       "      <td>accessory - agg. assault</td>\n",
       "      <td>4</td>\n",
       "      <td>105498</td>\n",
       "      <td>6848</td>\n",
       "      <td>0.037915</td>\n",
       "      <td>0.000584</td>\n",
       "      <td>2018-2022</td>\n",
       "    </tr>\n",
       "    <tr>\n",
       "      <th>...</th>\n",
       "      <td>...</td>\n",
       "      <td>...</td>\n",
       "      <td>...</td>\n",
       "      <td>...</td>\n",
       "      <td>...</td>\n",
       "      <td>...</td>\n",
       "      <td>...</td>\n",
       "      <td>...</td>\n",
       "    </tr>\n",
       "    <tr>\n",
       "      <th>351</th>\n",
       "      <td>white</td>\n",
       "      <td>violations of protective orders</td>\n",
       "      <td>2</td>\n",
       "      <td>65756</td>\n",
       "      <td>583</td>\n",
       "      <td>0.030415</td>\n",
       "      <td>0.003431</td>\n",
       "      <td>2018-2022</td>\n",
       "    </tr>\n",
       "    <tr>\n",
       "      <th>233</th>\n",
       "      <td>black</td>\n",
       "      <td>violations of protective orders</td>\n",
       "      <td>11</td>\n",
       "      <td>105498</td>\n",
       "      <td>6848</td>\n",
       "      <td>0.104267</td>\n",
       "      <td>0.001606</td>\n",
       "      <td>2018-2022</td>\n",
       "    </tr>\n",
       "    <tr>\n",
       "      <th>352</th>\n",
       "      <td>white</td>\n",
       "      <td>violations of registration provisions</td>\n",
       "      <td>1</td>\n",
       "      <td>65756</td>\n",
       "      <td>583</td>\n",
       "      <td>0.015208</td>\n",
       "      <td>0.001715</td>\n",
       "      <td>2018-2022</td>\n",
       "    </tr>\n",
       "    <tr>\n",
       "      <th>234</th>\n",
       "      <td>black</td>\n",
       "      <td>warrant issued by</td>\n",
       "      <td>7</td>\n",
       "      <td>105498</td>\n",
       "      <td>6848</td>\n",
       "      <td>0.066352</td>\n",
       "      <td>0.001022</td>\n",
       "      <td>2018-2022</td>\n",
       "    </tr>\n",
       "    <tr>\n",
       "      <th>353</th>\n",
       "      <td>white</td>\n",
       "      <td>warrant issued by</td>\n",
       "      <td>1</td>\n",
       "      <td>65756</td>\n",
       "      <td>583</td>\n",
       "      <td>0.015208</td>\n",
       "      <td>0.001715</td>\n",
       "      <td>2018-2022</td>\n",
       "    </tr>\n",
       "  </tbody>\n",
       "</table>\n",
       "<p>354 rows × 8 columns</p>\n",
       "</div>"
      ],
      "text/plain": [
       "    offender_race                     charge_description  \\\n",
       "0           black        2nd degree cruelty to juveniles   \n",
       "1           black                    access device fraud   \n",
       "235         white                    access device fraud   \n",
       "2           black          accessory - 2nd degree murder   \n",
       "3           black               accessory - agg. assault   \n",
       "..            ...                                    ...   \n",
       "351         white        violations of protective orders   \n",
       "233         black        violations of protective orders   \n",
       "352         white  violations of registration provisions   \n",
       "234         black                      warrant issued by   \n",
       "353         white                      warrant issued by   \n",
       "\n",
       "     rtcc_footage_request_tally population total_requests  \\\n",
       "0                             1     105498           6848   \n",
       "1                            20     105498           6848   \n",
       "235                           6      65756            583   \n",
       "2                             1     105498           6848   \n",
       "3                             4     105498           6848   \n",
       "..                          ...        ...            ...   \n",
       "351                           2      65756            583   \n",
       "233                          11     105498           6848   \n",
       "352                           1      65756            583   \n",
       "234                           7     105498           6848   \n",
       "353                           1      65756            583   \n",
       "\n",
       "     rate_per_1000_persons     ratio       year  \n",
       "0                 0.009479  0.000146  2018-2022  \n",
       "1                 0.189577  0.002921  2018-2022  \n",
       "235               0.091246  0.010292  2018-2022  \n",
       "2                 0.009479  0.000146  2018-2022  \n",
       "3                 0.037915  0.000584  2018-2022  \n",
       "..                     ...       ...        ...  \n",
       "351               0.030415  0.003431  2018-2022  \n",
       "233               0.104267  0.001606  2018-2022  \n",
       "352               0.015208  0.001715  2018-2022  \n",
       "234               0.066352  0.001022  2018-2022  \n",
       "353               0.015208  0.001715  2018-2022  \n",
       "\n",
       "[354 rows x 8 columns]"
      ]
     },
     "execution_count": 780,
     "metadata": {},
     "output_type": "execute_result"
    }
   ],
   "source": [
    "df.sort_values(\"charge_description\")"
   ]
  }
 ],
 "metadata": {
  "kernelspec": {
   "display_name": "Python 3.9.11 64-bit",
   "language": "python",
   "name": "python3"
  },
  "language_info": {
   "codemirror_mode": {
    "name": "ipython",
    "version": 3
   },
   "file_extension": ".py",
   "mimetype": "text/x-python",
   "name": "python",
   "nbconvert_exporter": "python",
   "pygments_lexer": "ipython3",
   "version": "3.9.11"
  },
  "orig_nbformat": 4,
  "vscode": {
   "interpreter": {
    "hash": "f6c8f846148a3e4d140e6ddf63c190cff559dcf260a4a21539f0978f2b58638c"
   }
  }
 },
 "nbformat": 4,
 "nbformat_minor": 2
}
