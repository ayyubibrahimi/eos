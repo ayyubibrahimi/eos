{
 "cells": [
  {
   "cell_type": "code",
   "execution_count": 1,
   "metadata": {},
   "outputs": [],
   "source": [
    "## Public Records Request Notes\n",
    "## First PRR received on 3/29/2022 for data that spans 2018 - 3/29/2022\n",
    "## Second PPR received on 11/22/2022 for data that spans 3/29/2022 - 11/22/2022"
   ]
  },
  {
   "cell_type": "code",
   "execution_count": 2,
   "metadata": {},
   "outputs": [],
   "source": [
    "import pandas as pd\n",
    "\n",
    "def standardize_item_no(df):\n",
    "    df.loc[:, \"item_number\"] = df.item_number.str.lower().str.strip()\n",
    "    return df\n",
    "\n",
    "def clean():\n",
    "    df1 = pd.read_csv(\"../data/electronic_police_report_2018.csv\")\n",
    "    df2 = pd.read_csv(\"../data/electronic_police_report_2019.csv\")\n",
    "    df3 = pd.read_csv(\"../data/electronic_police_report_2020.csv\")\n",
    "    df4 = pd.read_csv(\"../data/electronic_police_report_2021.csv\")\n",
    "    df5 = pd.read_csv(\"../data/electronic_police_report_2022.csv\")\n",
    "\n",
    "    df1[\"year\"] = 2018\n",
    "    df2[\"year\"] = 2019\n",
    "    df3[\"year\"] = 2020\n",
    "    df4[\"year\"] = 2021\n",
    "    df5[\"year\"] = 2022\n",
    "\n",
    "    dfs = [df1, df2, df3, df4, df5]\n",
    "    dfa = pd.concat(dfs, join=\"outer\")\n",
    "    dfa = dfa.pipe(standardize_item_no)\n",
    "    \n",
    "    dfb = pd.read_csv(\"../data/rtcc.csv\", encoding=\"cp1252\").rename(columns={\"Item_number\": \"item_number\"})\n",
    "    dfb = dfb.pipe(standardize_item_no)\n",
    "    dfb[\"rtcc_footage_requested\"] = \"yes\"\n",
    "\n",
    "    df = pd.merge(dfb, dfa, on=\"item_number\", how=\"outer\")\n",
    "    return df"
   ]
  },
  {
   "cell_type": "code",
   "execution_count": 3,
   "metadata": {},
   "outputs": [],
   "source": [
    "def drop_rows_missing_offender_race(df):\n",
    "    df.loc[:, \"offender_race\"] = df.offender_race.fillna(\"\").str.lower().str.strip()\\\n",
    "    .str.replace(\"unknown\", \"\", regex=False)\\\n",
    "    # .str.replace(\"hispanic\", \"\", regex=False)\\\n",
    "    # .str.replace(\"asian\", \"\", regex=False)\\\n",
    "    # .str.replace(r\"amer\\. ind\\.\", \"\", regex=True)\n",
    "    return df[~((df.offender_race == \"\"))]\n",
    "\n",
    "def drop_rows_missing_victim_race(df):\n",
    "    df.loc[:, \"victim_race\"] = df.victim_race.fillna(\"\").str.lower().str.strip()\\\n",
    "    .str.replace(\"unknown\", \"\", regex=False)\\\n",
    "    .str.replace(r\"native hawaiian or other pacific islander\", \"\", regex=False)\n",
    "    # .str.replace(\"hispanic\", \"\", regex=False)\\\n",
    "    # .str.replace(\"asian\", \"\", regex=False)\\\n",
    "    # .str.replace(r\"amer\\. ind\\.\", \"\", regex=True)\n",
    "    return df[~((df.victim_race == \"\"))]\n",
    "\n",
    "\n",
    "def filter_offender_gender(df):\n",
    "    df.loc[:, \"offender_gender\"] = (\n",
    "        df.offender_gender.str.lower().str.strip().fillna(\"\").str.replace(\"unknown\", \"\", regex=False)\n",
    "    )\n",
    "    return df[~((df.offender_gender == \"\"))]\n",
    "\n",
    "\n",
    "\n",
    "def filter_victim_gender(df):\n",
    "    df.loc[:, \"victim_gender\"] = (\n",
    "        df.offender_gender.str.lower().str.strip().fillna(\"\").str.replace(\"unknown\", \"\", regex=False)\n",
    "    )\n",
    "    return df[~((df.victim_gender == \"\"))]\n",
    "\n",
    "\n",
    "def filter_arrested(df):\n",
    "    df.loc[:, \"offenderstatus\"] = df.offenderstatus.str.lower().str.strip().fillna(\"\")\n",
    "    df = df[df.offenderstatus.isin([\"arrested\"])]\n",
    "    return df[~((df.offenderstatus == \"\"))]\n",
    "\n",
    "\n",
    "def filter_year(df):\n",
    "    # df = df[df.year.astype(str).isin([\"2018\", r\"2019\", r\"2020\", r\"2021\\.\", r\"2022\\.\"])]\n",
    "    return df[~((df.year.fillna(\"\") == \"\"))]\n",
    "  \n",
    "  \n",
    "def drop_rows_missing_charge_desc(df):\n",
    "    df.loc[:, \"charge_description\"] = df.charge_description.str.lower().str.strip().fillna(\"\")\n",
    "    return df[~((df.charge_description == \"\"))]"
   ]
  },
  {
   "cell_type": "code",
   "execution_count": 4,
   "metadata": {},
   "outputs": [
    {
     "name": "stderr",
     "output_type": "stream",
     "text": [
      "c:\\Users\\PC\\AppData\\Local\\Programs\\Python\\Python39\\lib\\site-packages\\IPython\\core\\interactiveshell.py:3338: DtypeWarning: Columns (21) have mixed types.Specify dtype option on import or set low_memory=False.\n",
      "  if await self.run_code(code, result, async_=asy):\n"
     ]
    },
    {
     "data": {
      "text/plain": [
       "(543015, 50)"
      ]
     },
     "execution_count": 4,
     "metadata": {},
     "output_type": "execute_result"
    }
   ],
   "source": [
    "df = clean()\n",
    "df.shape"
   ]
  },
  {
   "cell_type": "code",
   "execution_count": 5,
   "metadata": {},
   "outputs": [
    {
     "name": "stderr",
     "output_type": "stream",
     "text": [
      "c:\\Users\\PC\\AppData\\Local\\Programs\\Python\\Python39\\lib\\site-packages\\pandas\\core\\indexing.py:1676: SettingWithCopyWarning: \n",
      "A value is trying to be set on a copy of a slice from a DataFrame.\n",
      "Try using .loc[row_indexer,col_indexer] = value instead\n",
      "\n",
      "See the caveats in the documentation: https://pandas.pydata.org/pandas-docs/stable/user_guide/indexing.html#returning-a-view-versus-a-copy\n",
      "  self._setitem_single_column(ilocs[0], value, pi)\n"
     ]
    }
   ],
   "source": [
    "df = df.pipe(filter_year).pipe(drop_rows_missing_offender_race).pipe(filter_offender_gender)\\\n",
    "    .drop_duplicates(subset=[\"item_number\", \"offender_race\", \"offender_gender\", \"offender_age\", \"offender_number\", \"offenderid\", \"charge_description\", \"charge_code\", \"signal_description\", \"signal_type\", \"victim_race\", \"victim_gender\", \"victim_age\", \"victim_number\",])"
   ]
  },
  {
   "cell_type": "code",
   "execution_count": 6,
   "metadata": {},
   "outputs": [
    {
     "data": {
      "text/plain": [
       "Index(['item_number', 'Signal Code', 'rtcc_footage_requested', 'district',\n",
       "       'location', 'disposition', 'signal_type', 'signal_description',\n",
       "       'occurred_date_time', 'charge_code', 'charge_description',\n",
       "       'offender_race', 'offender_gender', 'offender_age', 'offender_number',\n",
       "       'person_type', 'victim_race', 'victim_gender', 'victim_age',\n",
       "       'victim_number', 'victim_fatal_status', 'hate_crime', 'report_type',\n",
       "       'year', 'offenderid', 'offenderstatus', 'persontype', 'Item_Number',\n",
       "       'District', 'Location', 'Disposition', 'Signal_Type',\n",
       "       'Signal_Description', 'Occurred_Date_Time', 'Charge_Code',\n",
       "       'Charge_Description', 'Offender_Number', 'OffenderID', 'OffenderStatus',\n",
       "       'Offender_Race', 'Offender_Gender', 'Offender_Age', 'Victim_Number',\n",
       "       'PersonType', 'Victim_Race', 'Victim_Gender', 'Victim_Age',\n",
       "       'Victim_Fatal_Status', 'Hate Crime', 'Report Type'],\n",
       "      dtype='object')"
      ]
     },
     "execution_count": 6,
     "metadata": {},
     "output_type": "execute_result"
    }
   ],
   "source": [
    "df.columns"
   ]
  },
  {
   "cell_type": "code",
   "execution_count": 7,
   "metadata": {},
   "outputs": [
    {
     "data": {
      "text/plain": [
       "array(['male', 'female'], dtype=object)"
      ]
     },
     "execution_count": 7,
     "metadata": {},
     "output_type": "execute_result"
    }
   ],
   "source": [
    "df.offender_gender.unique()"
   ]
  },
  {
   "cell_type": "code",
   "execution_count": 8,
   "metadata": {},
   "outputs": [],
   "source": [
    "df.loc[:, \"rtcc_footage_requested\"] = df.rtcc_footage_requested.fillna(\"no\")"
   ]
  },
  {
   "cell_type": "code",
   "execution_count": 9,
   "metadata": {},
   "outputs": [],
   "source": [
    "df[\"rtcc_footage_request_tally\"] = 1"
   ]
  },
  {
   "cell_type": "code",
   "execution_count": 10,
   "metadata": {},
   "outputs": [
    {
     "data": {
      "text/plain": [
       "no     175410\n",
       "yes      8653\n",
       "Name: rtcc_footage_requested, dtype: int64"
      ]
     },
     "execution_count": 10,
     "metadata": {},
     "output_type": "execute_result"
    }
   ],
   "source": [
    "df.rtcc_footage_requested.value_counts()"
   ]
  },
  {
   "cell_type": "code",
   "execution_count": 11,
   "metadata": {},
   "outputs": [],
   "source": [
    "rtcc = df[df.rtcc_footage_requested.isin([\"yes\"])]"
   ]
  },
  {
   "cell_type": "code",
   "execution_count": 12,
   "metadata": {},
   "outputs": [],
   "source": [
    "rtcc_district = rtcc[[\"district\", \"rtcc_footage_request_tally\",]]\n",
    "rtcc_district_perc = rtcc_district.groupby([\"district\",]).rtcc_footage_request_tally.count()/len(rtcc_district)\n",
    "rtcc_district_counts = rtcc_district.groupby([\"district\",]).rtcc_footage_request_tally.count()\n",
    "rtcc_district_counts = pd.DataFrame(rtcc_district_counts).reset_index()\n",
    "rtcc_district_perc = pd.DataFrame(rtcc_district_perc).reset_index()\n",
    "rtcc_district = pd.concat([rtcc_district_perc, rtcc_district_counts])\n",
    "# rtcc_district\n",
    "# rtcc_district.to_excel(\"../data/excel/rtcc_requests_district.xlsx\")"
   ]
  },
  {
   "cell_type": "code",
   "execution_count": 13,
   "metadata": {},
   "outputs": [],
   "source": [
    "rtcc = rtcc[[\"offender_race\", \"offender_gender\", \"rtcc_footage_request_tally\",]]\n",
    "rtcc = rtcc.groupby([\"offender_race\", \"offender_gender\"]).rtcc_footage_request_tally.count()\n",
    "rtcc = pd.DataFrame(rtcc).reset_index()"
   ]
  },
  {
   "cell_type": "code",
   "execution_count": 14,
   "metadata": {},
   "outputs": [],
   "source": [
    "# rtcc.loc[(rtcc.offender_race == \"black\"), \"population\"] = \"105498\"\n",
    "# rtcc.loc[(rtcc.offender_race == \"white\"), \"population\"] = \"65756\"\n",
    "# rtcc.loc[(rtcc.offender_race == \"hispanic\"), \"population\"] = \"11205\"\n",
    "# rtcc.loc[(rtcc.offender_race == \"amer. ind.\"), \"population\"] = \"360\"\n",
    "# rtcc.loc[(rtcc.offender_race == \"asian\"), \"population\"] = \"5499\"\n",
    "\n",
    "\n",
    "# rtcc.loc[(rtcc.victim_race == \"black\"), \"population\"] = \"105498\"\n",
    "# rtcc.loc[(rtcc.victim_race == \"white\"), \"population\"] = \"65756\"\n",
    "# rtcc.loc[(rtcc.victim_race == \"hispanic\"), \"population\"] = \"11205\"\n",
    "# rtcc.loc[(rtcc.victim_race == \"amer. ind.\"), \"population\"] = \"360\"\n",
    "# rtcc.loc[(rtcc.victim_race == \"asian\"), \"population\"] = \"5499\"\n",
    "\n",
    "rtcc.loc[(rtcc.offender_race == \"black\") & (rtcc.offender_gender == \"male\"), \"population\"] = \"52749\"\n",
    "rtcc.loc[(rtcc.offender_race == \"black\") & (rtcc.offender_gender == \"female\"), \"population\"] = \"52749\"\n",
    "rtcc.loc[(rtcc.offender_race == \"white\") & (rtcc.offender_gender == \"male\"), \"population\"] = \"32878\"\n",
    "rtcc.loc[(rtcc.offender_race == \"white\") & (rtcc.offender_gender == \"female\"), \"population\"] = \"32878\"\n",
    "rtcc.loc[(rtcc.offender_race == \"hispanic\") & (rtcc.offender_gender == \"male\"), \"population\"] = \"5602\"\n",
    "rtcc.loc[(rtcc.offender_race == \"hispanic\") & (rtcc.offender_gender == \"female\"), \"population\"] = \"5602\"\n",
    "rtcc.loc[(rtcc.offender_race == \"native american\") & (rtcc.offender_gender == \"male\"), \"population\"] = \"180\"\n",
    "rtcc.loc[(rtcc.offender_race == \"native american\") & (rtcc.offender_gender == \"female\"), \"population\"] = \"180\"\n",
    "rtcc.loc[(rtcc.offender_race == \"amer. ind.\") & (rtcc.offender_gender == \"male\"), \"population\"] = \"180\"\n",
    "rtcc.loc[(rtcc.offender_race == \"amer. ind.\") & (rtcc.offender_gender == \"female\"), \"population\"] = \"180\"\n",
    "rtcc.loc[(rtcc.offender_race == \"asian\") & (rtcc.offender_gender == \"male\"), \"population\"] = \"2750\"\n",
    "rtcc.loc[(rtcc.offender_race == \"asian\") & (rtcc.offender_gender == \"female\"), \"population\"] = \"2750\""
   ]
  },
  {
   "cell_type": "code",
   "execution_count": 15,
   "metadata": {},
   "outputs": [
    {
     "data": {
      "text/html": [
       "<div>\n",
       "<style scoped>\n",
       "    .dataframe tbody tr th:only-of-type {\n",
       "        vertical-align: middle;\n",
       "    }\n",
       "\n",
       "    .dataframe tbody tr th {\n",
       "        vertical-align: top;\n",
       "    }\n",
       "\n",
       "    .dataframe thead th {\n",
       "        text-align: right;\n",
       "    }\n",
       "</style>\n",
       "<table border=\"1\" class=\"dataframe\">\n",
       "  <thead>\n",
       "    <tr style=\"text-align: right;\">\n",
       "      <th></th>\n",
       "      <th>offender_race</th>\n",
       "      <th>offender_gender</th>\n",
       "      <th>rtcc_footage_request_tally</th>\n",
       "      <th>population</th>\n",
       "    </tr>\n",
       "  </thead>\n",
       "  <tbody>\n",
       "    <tr>\n",
       "      <th>0</th>\n",
       "      <td>amer. ind.</td>\n",
       "      <td>male</td>\n",
       "      <td>3</td>\n",
       "      <td>180</td>\n",
       "    </tr>\n",
       "    <tr>\n",
       "      <th>1</th>\n",
       "      <td>asian</td>\n",
       "      <td>male</td>\n",
       "      <td>9</td>\n",
       "      <td>2750</td>\n",
       "    </tr>\n",
       "    <tr>\n",
       "      <th>2</th>\n",
       "      <td>black</td>\n",
       "      <td>female</td>\n",
       "      <td>980</td>\n",
       "      <td>52749</td>\n",
       "    </tr>\n",
       "    <tr>\n",
       "      <th>3</th>\n",
       "      <td>black</td>\n",
       "      <td>male</td>\n",
       "      <td>6795</td>\n",
       "      <td>52749</td>\n",
       "    </tr>\n",
       "    <tr>\n",
       "      <th>4</th>\n",
       "      <td>hispanic</td>\n",
       "      <td>female</td>\n",
       "      <td>22</td>\n",
       "      <td>5602</td>\n",
       "    </tr>\n",
       "    <tr>\n",
       "      <th>5</th>\n",
       "      <td>hispanic</td>\n",
       "      <td>male</td>\n",
       "      <td>94</td>\n",
       "      <td>5602</td>\n",
       "    </tr>\n",
       "    <tr>\n",
       "      <th>6</th>\n",
       "      <td>white</td>\n",
       "      <td>female</td>\n",
       "      <td>150</td>\n",
       "      <td>32878</td>\n",
       "    </tr>\n",
       "    <tr>\n",
       "      <th>7</th>\n",
       "      <td>white</td>\n",
       "      <td>male</td>\n",
       "      <td>600</td>\n",
       "      <td>32878</td>\n",
       "    </tr>\n",
       "  </tbody>\n",
       "</table>\n",
       "</div>"
      ],
      "text/plain": [
       "  offender_race offender_gender  rtcc_footage_request_tally population\n",
       "0    amer. ind.            male                           3        180\n",
       "1         asian            male                           9       2750\n",
       "2         black          female                         980      52749\n",
       "3         black            male                        6795      52749\n",
       "4      hispanic          female                          22       5602\n",
       "5      hispanic            male                          94       5602\n",
       "6         white          female                         150      32878\n",
       "7         white            male                         600      32878"
      ]
     },
     "execution_count": 15,
     "metadata": {},
     "output_type": "execute_result"
    }
   ],
   "source": [
    "rtcc"
   ]
  },
  {
   "cell_type": "code",
   "execution_count": 16,
   "metadata": {},
   "outputs": [],
   "source": [
    "def calc_rate(dfb_total, population=\"\"):\n",
    "    population = int(population)\n",
    "    rate = (( dfb_total / population) * 1000)\n",
    "    return rate"
   ]
  },
  {
   "cell_type": "code",
   "execution_count": 17,
   "metadata": {},
   "outputs": [
    {
     "data": {
      "text/html": [
       "<div>\n",
       "<style scoped>\n",
       "    .dataframe tbody tr th:only-of-type {\n",
       "        vertical-align: middle;\n",
       "    }\n",
       "\n",
       "    .dataframe tbody tr th {\n",
       "        vertical-align: top;\n",
       "    }\n",
       "\n",
       "    .dataframe thead th {\n",
       "        text-align: right;\n",
       "    }\n",
       "</style>\n",
       "<table border=\"1\" class=\"dataframe\">\n",
       "  <thead>\n",
       "    <tr style=\"text-align: right;\">\n",
       "      <th></th>\n",
       "      <th>offender_race</th>\n",
       "      <th>offender_gender</th>\n",
       "      <th>rtcc_footage_request_tally</th>\n",
       "      <th>population</th>\n",
       "      <th>rate_per_1000_persons</th>\n",
       "      <th>year</th>\n",
       "    </tr>\n",
       "  </thead>\n",
       "  <tbody>\n",
       "    <tr>\n",
       "      <th>0</th>\n",
       "      <td>amer. ind.</td>\n",
       "      <td>male</td>\n",
       "      <td>3</td>\n",
       "      <td>180</td>\n",
       "      <td>16.666667</td>\n",
       "      <td>2018-2022</td>\n",
       "    </tr>\n",
       "    <tr>\n",
       "      <th>1</th>\n",
       "      <td>asian</td>\n",
       "      <td>male</td>\n",
       "      <td>9</td>\n",
       "      <td>2750</td>\n",
       "      <td>3.272727</td>\n",
       "      <td>2018-2022</td>\n",
       "    </tr>\n",
       "    <tr>\n",
       "      <th>2</th>\n",
       "      <td>black</td>\n",
       "      <td>female</td>\n",
       "      <td>980</td>\n",
       "      <td>52749</td>\n",
       "      <td>18.578551</td>\n",
       "      <td>2018-2022</td>\n",
       "    </tr>\n",
       "    <tr>\n",
       "      <th>3</th>\n",
       "      <td>black</td>\n",
       "      <td>male</td>\n",
       "      <td>6795</td>\n",
       "      <td>52749</td>\n",
       "      <td>128.817608</td>\n",
       "      <td>2018-2022</td>\n",
       "    </tr>\n",
       "    <tr>\n",
       "      <th>4</th>\n",
       "      <td>hispanic</td>\n",
       "      <td>female</td>\n",
       "      <td>22</td>\n",
       "      <td>5602</td>\n",
       "      <td>3.927169</td>\n",
       "      <td>2018-2022</td>\n",
       "    </tr>\n",
       "    <tr>\n",
       "      <th>5</th>\n",
       "      <td>hispanic</td>\n",
       "      <td>male</td>\n",
       "      <td>94</td>\n",
       "      <td>5602</td>\n",
       "      <td>16.779722</td>\n",
       "      <td>2018-2022</td>\n",
       "    </tr>\n",
       "    <tr>\n",
       "      <th>6</th>\n",
       "      <td>white</td>\n",
       "      <td>female</td>\n",
       "      <td>150</td>\n",
       "      <td>32878</td>\n",
       "      <td>4.562321</td>\n",
       "      <td>2018-2022</td>\n",
       "    </tr>\n",
       "    <tr>\n",
       "      <th>7</th>\n",
       "      <td>white</td>\n",
       "      <td>male</td>\n",
       "      <td>600</td>\n",
       "      <td>32878</td>\n",
       "      <td>18.249285</td>\n",
       "      <td>2018-2022</td>\n",
       "    </tr>\n",
       "  </tbody>\n",
       "</table>\n",
       "</div>"
      ],
      "text/plain": [
       "  offender_race offender_gender  rtcc_footage_request_tally population  \\\n",
       "0    amer. ind.            male                           3        180   \n",
       "1         asian            male                           9       2750   \n",
       "2         black          female                         980      52749   \n",
       "3         black            male                        6795      52749   \n",
       "4      hispanic          female                          22       5602   \n",
       "5      hispanic            male                          94       5602   \n",
       "6         white          female                         150      32878   \n",
       "7         white            male                         600      32878   \n",
       "\n",
       "   rate_per_1000_persons       year  \n",
       "0              16.666667  2018-2022  \n",
       "1               3.272727  2018-2022  \n",
       "2              18.578551  2018-2022  \n",
       "3             128.817608  2018-2022  \n",
       "4               3.927169  2018-2022  \n",
       "5              16.779722  2018-2022  \n",
       "6               4.562321  2018-2022  \n",
       "7              18.249285  2018-2022  "
      ]
     },
     "execution_count": 17,
     "metadata": {},
     "output_type": "execute_result"
    }
   ],
   "source": [
    "rtcc[\"rate_per_1000_persons\"] = rtcc.apply(lambda x: calc_rate(x.rtcc_footage_request_tally, x.population), axis=1)\n",
    "rtcc[\"year\"] = \"2018-2022\"\n",
    "rtcc"
   ]
  },
  {
   "cell_type": "code",
   "execution_count": 18,
   "metadata": {},
   "outputs": [],
   "source": [
    "# rtcc.to_excel(\"../data/excel/rtcc_requests_offender_by_race_and_gender.xlsx\")"
   ]
  },
  {
   "cell_type": "code",
   "execution_count": 19,
   "metadata": {},
   "outputs": [
    {
     "ename": "SyntaxError",
     "evalue": "closing parenthesis ')' does not match opening parenthesis '[' (3942310356.py, line 1)",
     "output_type": "error",
     "traceback": [
      "\u001b[1;36m  Input \u001b[1;32mIn [19]\u001b[1;36m\u001b[0m\n\u001b[1;33m    rtcc_charges = df[df.rtcc_footage_requested.isin([\"yes\"]))\u001b[0m\n\u001b[1;37m                                                             ^\u001b[0m\n\u001b[1;31mSyntaxError\u001b[0m\u001b[1;31m:\u001b[0m closing parenthesis ')' does not match opening parenthesis '['\n"
     ]
    }
   ],
   "source": [
    "rtcc_charges = df[df.rtcc_footage_requested.isin([\"yes\"]))"
   ]
  },
  {
   "cell_type": "code",
   "execution_count": null,
   "metadata": {},
   "outputs": [
    {
     "data": {
      "text/plain": [
       "Index(['item_number', 'Signal Code', 'rtcc_footage_requested', 'district',\n",
       "       'location', 'disposition', 'signal_type', 'signal_description',\n",
       "       'occurred_date_time', 'charge_code', 'charge_description',\n",
       "       'offender_race', 'offender_gender', 'offender_age', 'offender_number',\n",
       "       'person_type', 'victim_race', 'victim_gender', 'victim_age',\n",
       "       'victim_number', 'victim_fatal_status', 'hate_crime', 'report_type',\n",
       "       'year', 'offenderid', 'offenderstatus', 'persontype',\n",
       "       'rtcc_footage_request_tally'],\n",
       "      dtype='object')"
      ]
     },
     "execution_count": 18,
     "metadata": {},
     "output_type": "execute_result"
    }
   ],
   "source": [
    "rtcc_charges.columns"
   ]
  },
  {
   "cell_type": "code",
   "execution_count": null,
   "metadata": {},
   "outputs": [
    {
     "data": {
      "text/plain": [
       "array([nan, 'BATTERY OF A POLICE OFFICER', 'THEFT',\n",
       "       'UNAUTHORIZED USE OF ACCESS CARD', 'SIMPLE BATTERY',\n",
       "       'ILLEGAL CARRYING OF WEAPON', 'NEGLIGENT INJURING',\n",
       "       'DISTURBING THE PEACE', 'SIMPLE ROBBERY',\n",
       "       'PRINCIPAL TO SIMPLE ROBBERY', 'USE OF FIREARM IN ROBBERY',\n",
       "       'BATTERY', 'AGG. BATTERY', 'THEFT OF A MOTOR VEHICLE',\n",
       "       'CARJACKING', 'BANK FRAUD', 'ILLEGAL POSSESSION OF STOLEN THINGS',\n",
       "       'SIMPLE BURGLARY', 'SECOND DEGREE MURDER',\n",
       "       'PROHIBITED ACTS--SCHEDULE I DRUGS',\n",
       "       'ATTEMPT - SECOND DEGREEMURDER',\n",
       "       'SIMPLE CRIMINAL DAMAGE TO PROPERTY', 'ARMED ROBBERY',\n",
       "       'AGGRAVATED ASSAULT WITH A FIREARM', 'DOMESTIC ABUSE BATTERY',\n",
       "       'DOMESTIC ABUSE AGGRAVATED ASSAULT',\n",
       "       'POSSESSING FIREARM ABO PREMISES', 'THEFT OF GOODS',\n",
       "       'ATTEMPT - SIMPLE ROBBERY', 'FIRST DEGREE ROBBERY',\n",
       "       'SIMPLE ASSAULT', 'FLIGHT FROM AN OFFICER', 'RESISTING AN OFFICER',\n",
       "       'PAYMENT OF LEGAL TAXI FARE', 'AGG. CRIMINAL DAMAGE',\n",
       "       'ILLEGAL USE OF WEAPONS', 'POSSESSION OF FIREARM BY FELON',\n",
       "       'ATTEMPT - ARMED ROBBERY', 'PRINCIPAL TO ARMED ROBBERY',\n",
       "       'PRINCIPAL TO ATTEMPTED ARMED ROBBERY', 'ASSAULT',\n",
       "       'PURSE SNATCHING', 'PRINCIPAL TO ILLEGAL USE OF WEAPON',\n",
       "       'PRINCIPAL TO AGG. BATTERY', 'AGG. ASSAULT',\n",
       "       'CRIMINAL DAMAGE TO PROPERTY',\n",
       "       'ILLEGAL POSSESSION OF STOLEN FIREARMS',\n",
       "       'PROHIBITED ACTS - DRUG PARAPHENALIA',\n",
       "       'PROHIBITED ACTS-- SCHEDULE II DRUGS',\n",
       "       'POSSESSING IMITATION NARCOTICS',\n",
       "       'THEFT OF THE ASSETS OF A PERSON WHO IS AGED OR PERSON WITH A DISABILITY',\n",
       "       'PROHIBITED ACTS-- SCHEDULE IV DRUGS', 'SECOND DEGREE BATTERY',\n",
       "       'MISDEMEANOR SEXUAL BATTERY',\n",
       "       'ILLEGAL CARRYING OF A WEAPON WHILE IN POSSESSION OF NARCOTICS',\n",
       "       'HIT & RUN DRIVING',\n",
       "       'SALE DISTRIBUTION OR POSSESSION OF LEGEND DRUG',\n",
       "       'BATTERY OF A DATING PARTNER', 'SIMPLE KIDNAPPING',\n",
       "       'CRIMINAL DAMAGE/REMOVING PROPERTY', 'AGG. SECOND DEGREE BATTERY',\n",
       "       'SEXUAL BATTERY', 'ACCESSORY - THEFT',\n",
       "       'SIMPLE POSSESSION OF MARIJUANA AND/OR SYNTHETIC CANNABINOIDS',\n",
       "       'INTERFERING WITH A LAW ENFORCEMENT INVESTIGATION',\n",
       "       'ASSAULT BY DRIVE BY SHOOTING',\n",
       "       'SIMPLE BURGLARY (INHABITED DWELLING)', 'ACCESS DEVICE FRAUD',\n",
       "       'FALSIFYING REPORTS ALARMS', 'PRINCIPAL TO AGG. ASSAULT',\n",
       "       'CRIMINAL TRESPASS', 'ACCESSORY TO POSSESSION OF SCHEDULE II CDS',\n",
       "       'FIRST DEGREE VEHICULAR INJURING',\n",
       "       'RELATIVE TO MISSING/RUNAWAY JUVENILE',\n",
       "       'PRINCIPAL TO SIMPLE BURGLARY', 'CRIMINAL MISCHIEF',\n",
       "       'WARRANT ISSUED BY', 'DRUG PARAPHERNALIA',\n",
       "       'CONSPIRACY TO POSSESSION OF SCHEDULE I CDS',\n",
       "       'VIOLATIONS OF PROTECTIVE ORDERS', 'ATTEMPT - THEFT',\n",
       "       'FIRST DEGREE MURDER', 'FALSE IMPRISONEMENT WHILE ARMED',\n",
       "       'AGG. BURGLARY', 'UNAUTHORIZED ENTRY (BUSINESS)',\n",
       "       'PRINCIPAL TO POSSESSION OF SCHEDULE II CDS',\n",
       "       'RESISTING A POLICE OFFICER WITH FORCE OR VIOLENCE',\n",
       "       'ATTEMPT - DISARMING A PEACE OFFICER', 'ATTEMPT - SIMPLE BURGLARY',\n",
       "       'CONTRIBUTING TO DELINQUENCY (MINOR)', 'OBSTRUCTION OF JUSTICE',\n",
       "       'LEWD CONDUCT', 'THEFT OF DOGS',\n",
       "       'OPERATING VEHICLE WHILE INTOXICATED',\n",
       "       'ONE WAY STREETS AND ALLEYWAYS', 'DRIVING WHILE INTOXICATED',\n",
       "       'UNLAWFUL USE OF LICENSE', 'POSSESSION OF STOLEN PROPERTY',\n",
       "       'SOLICITING FOR PROSTITUTES', 'CONSPIRACY - ARMED ROBBERY',\n",
       "       'POSSESSION OF MARIJUANA (1ST OFFENSE)',\n",
       "       'RELATIVE TO HOME INVASION', 'OBEDIENCE TO TRAFFIC CONTROLS',\n",
       "       'ILLEGALLY SUPPLYING A FELON WITH A FIREARM',\n",
       "       'PRINCIPAL TO CRIMINAL DAMAGE', 'PRINCIPAL TO 2ND DEGREE MURDER',\n",
       "       'PUBLIC DRUNK; DRUG INCAPACITATION',\n",
       "       'CRIMINAL DAMAGE TO HISTORIC BUILDINGS OR LANDMARKS BY DEFACING WITH GRAFFITI',\n",
       "       'CRIMINAL DAMAGE TO PROPERTY BY DEFACING WITH GRAFFITI',\n",
       "       'UNAUTHORIZED USE OF A MOTOR VEHICLE',\n",
       "       'ILLEGAL CARRYING OF WEAPONS', 'FIREARM FREE ZONES',\n",
       "       'SECOND DEGREE RAPE', 'FILING FALSE RECORDS',\n",
       "       'SECOND DEGREE KIDNAPING',\n",
       "       'CONSPIRACY TO POSSESSION OF SCHEDULE II CDS',\n",
       "       'UNAUTHORIZED ENTRY (INHAB.DWELLING)',\n",
       "       'POSSESSION UNIDENTIFIABLE FIREARM',\n",
       "       'ATTEMPT - FIRST DEGREE MURDER', 'THIRD DEGREE RAPE',\n",
       "       'RUNAWAY JUVENILE', 'UNAUTHORIZED USE OF MOVABLE',\n",
       "       'RECKLESS OPERATION OF A VEHICLE', 'FALSIFYING REPORTS, ALARMS',\n",
       "       'VIOLATION OF CDS LAW NEAR SCHOOL', 'SECOND DEGREE ROBBERY',\n",
       "       'THEFT OF A FIREARM', 'PRINCIPAL TO POSSESSION OF SCHEDULE I CDS',\n",
       "       'ONE WAY ROADWAYS & TRAFFIC ISLANDS',\n",
       "       'DRIVING WITH SUSPENDED LICENSE',\n",
       "       'VEHICLE REGISTRATION IN VEHICLE', 'EXTORTION',\n",
       "       'FAILURE TO COMPLY WITH LEGAL ORDER', 'GARBAGE IN STREETS',\n",
       "       'CRIMINAL CONSPIRACY', 'RELATIVE TO INSURANCE FRAUD',\n",
       "       'PRINCIPAL TO THEFT', 'THEFT OF A USED BUILDING COMPONENT',\n",
       "       'OBSCENITY', 'POSSESSION OF FIREARM BY JUVENILE',\n",
       "       'PRINCIPAL TO 1ST DEGREE MURDER', 'TAMPERING',\n",
       "       'UNAUTHORIZED USE OF MOVEABLES',\n",
       "       'ATTEMPT THEFT OF A MOTOR VEHICLE', 'ATTEMPT - CARJACKING',\n",
       "       'PROSTITUTION', 'CERTAIN POSSESSION OF FIREARMS',\n",
       "       'RELATIVE TO PRINCIPAL TO ATTEMPTED HOMICIDE',\n",
       "       'ACTS OF DOMESTIC VIOLENCE(STRANGULATION)', 'CREDIT CARD FRAUD',\n",
       "       'OBSTRUCTING PUBLIC PASSAGES', 'OBSCENE LIVE CONDUCT',\n",
       "       'ASSAULT ON PEACE OFFICER (FIREARM)', 'AGGRESSIVE SOLICITATION',\n",
       "       'ESCAPE', 'ATTEMPT - PURSE SNATCHING', 'PAROLE VIOLATION',\n",
       "       'CRUELTY TO ANIMALS', 'SECOND OR SUBSEQUENT OFFENSES',\n",
       "       'BATTERY OF EMERGENCY ROOM PERSONNEL, EMERGENCY SERVICES PERSONNEL, OR A HEALTHCARE PROFESSIONAL',\n",
       "       'FIRST DEGREE RAPE', 'MONETARY INSTRUMENT ABUSE',\n",
       "       'INJURING PUBLIC RECORDS',\n",
       "       'POSSESSION OF A FIREARM OR CARRYING OF A CONCEALED WEAPON BY A PERSON CONVICTED OF DOMESTIC ABUSE BA',\n",
       "       'ATTEMPT - FIRST DEGREE ROBBERY', 'ATTEMPT - THEFT OF GOODS',\n",
       "       'RELATIVE TO BATTERY OF A DATING PARTNER (STRANGULATION)',\n",
       "       'INTIMIDATION', 'SELLING WITHOUT PERMIT', 'ALCOHOL IN VEHICLE',\n",
       "       'ATTEMPT - SIMPLE KIDNAPPING', 'ACCESSORY - ARMED ROBBERY',\n",
       "       'ACCESSORY TO POSSESSION OF SCHEDULE I CDS',\n",
       "       'ILLEGAL USE OF CDS IN MINOR PRESENCE',\n",
       "       'CONTRABAND (PENAL INSTITUTION)', 'TRAFFIC ATTACHMANT#',\n",
       "       'ATTEMPTED CRIME', 'ACCESSORY - AGG. ASSAULT',\n",
       "       'PRINCIPAL TO AGGRAVATED SECOND DEGREE BATTERY',\n",
       "       'RELATIVE TO DOMESTIC ABUSE BATTERY (CHILD ENDANGERMENT. CHILD/CHILDREN 13 YEARS OF AGE OR YOUNGER PR',\n",
       "       'SIMPLE BURGLARY (RELIGIOUS BUILDING)', 'ILLEGAL DUMPING',\n",
       "       'AGG. ARSON', 'CYBER STALKING', 'CARELESS OPERATION OF A VEHICLE',\n",
       "       'PROHIBITED ACTS-- SCHEDULE III DRUGS',\n",
       "       'ATTEMPT - SIMPLE BURGLARY-DWELLING',\n",
       "       'SIMPLE BURGLARY OF A LAW ENFORCEMENT OR EMERGENCY VEHICLE',\n",
       "       'AGGRAVATED ASSAULT UPON A DATING PARTNER',\n",
       "       'ATTEMPT - UNAUTHOR USE (MOVABLE)', 'IDENTITY THEFT',\n",
       "       'DISREGARDING TRAFFIC CONTROL SIGN', 'HEADLAMPS', 'TAIL LAMPS',\n",
       "       'PROOF OF INSURANCE', 'MIRRORS', 'INSPECTION STICKER REQUIRED',\n",
       "       \"DRIVER'S LICENSE REQUIRED\", 'HIT AND RUN DRIVING',\n",
       "       'ATTEMPT - AGG. BURGLARY', 'SIMPLE BATTERY OF THE INFIRM',\n",
       "       'CDC WARRANT#', 'IMPERSONATING A PEACE OFFICER',\n",
       "       'FALSE SWEARING / VIOLATING', 'ATTEMPT - CREDIT CARD FRAUD',\n",
       "       'ACCESSORY - ILLEGAL USE OF WEAPON',\n",
       "       'SPECIAL RESTRICTIONS ON LAMPS', 'PROPER EQUIPMENT REQUIRED',\n",
       "       'VIOLATIONS OF REGISTRATION PROVISIONS', 'CREDIT CARD FRAUD ',\n",
       "       'DOMESTIC ABUSE BATTERY - SIMPLE',\n",
       "       'DOMESTIC ABUSE BATTERY(PREGNANT VICTIM) - SIMPLE ',\n",
       "       'VEHICLES ENTITLED TO RIGHT OF WAY',\n",
       "       '2ND DEGREE CRUELTY TO JUVENILES', 'CRUELTY TO THE INFIRM',\n",
       "       'DOMESTIC ABUSE BATTERY(CHILD ENDANGERMENT) - SIMPLE',\n",
       "       'ACTS OF DOMESTIC VIOLENCE(STRANGULATION) - AGGRAVATED',\n",
       "       'FIRST DEGREE FETICIDE', 'CONSPIRACY - SIMPLE ROBBERY',\n",
       "       'LIMITATIONS ON BACKING', 'BATTERY OF A DATING PARTNER (SIMPLE)',\n",
       "       'BATTERY OF A DATING PARTNER (CHILD ENDANGERMENT.  CHILD/CHILDREN 13 YEARS OF AGE OR YOUNGER) SIMPLE',\n",
       "       'PROHIBITED ACTS-- SCHEDULE V DRUGS',\n",
       "       'DISTURBING THE PEACE - FISTIC ENCOUNTER', 'CHILD DESERTION',\n",
       "       'ACCESSORY - AGG. BATTERY', 'CRUELTY TO JUVENILES',\n",
       "       'AGG. KIDNAPPING', 'ATTEMPT - THEFT OF A MOTOR VEHICLE',\n",
       "       'ATTEMPT SECOND DEGREE RAPE', 'LITTERING FROM MOTOR VEHICLE',\n",
       "       'PRINCIPAL TO SIMPLE BATTERY', 'CROSSING POLICE CORDON',\n",
       "       'PRINCIPAL TO AGG. ARSON', 'ACCESSORY - SIMPLE ROBBERY',\n",
       "       'ACCESSORY - AGG. KIDNAPPING', 'DISCHARGING WEAPONS',\n",
       "       \"DRIVER'S LICENSE REQUIRED.\",\n",
       "       'ACTS OF DOMESTIC VIOLENCE(STRANGULATION) - SIMPLE',\n",
       "       'INDECENT BEHAVIOR WITH JUVENILES',\n",
       "       'FIREARM WITH OBLITERATED NUMBER',\n",
       "       'DISTURBING THE PEACE - VIOLENT/TUMULTUOUS MANNER',\n",
       "       'STOPPING AT STOP SIGNS', 'ATTEMPT ARMED ROBBERY WITH A FIREARM',\n",
       "       'DISTURBING THE PEACE - DRUNKENESS', 'FORGERY',\n",
       "       'SECURITY REQUIRED', 'DOMESTIC ABUSE BATTERY - AGGRAVATED',\n",
       "       'SIMPLE ARSON',\n",
       "       'CREATION OR OPERATION OF A CLANDESTINE LABORATORY FOR THE UNLAWFUL MANUFACTURING OF A CDS',\n",
       "       'ATTEMPT - POSSESSION STOLEN THINGS', 'FALSE IMPRISONMENT',\n",
       "       'DOMESTIC ABUSE BATTERY(CHILD ENDANGERMENT) - AGGRAVATED',\n",
       "       'CARRYING FIREARM ON SCHOOL PROPTY',\n",
       "       'PROHIBITED ACTS, ALL SCHEDULES', 'ACCESSORY - 2ND DEGREE MURDER',\n",
       "       'FAILURE TO APPEAR'], dtype=object)"
      ]
     },
     "execution_count": 19,
     "metadata": {},
     "output_type": "execute_result"
    }
   ],
   "source": [
    "rtcc_charges.charge_description.unique()"
   ]
  },
  {
   "cell_type": "code",
   "execution_count": null,
   "metadata": {},
   "outputs": [],
   "source": [
    "# rtcc_charges.charge_description.value_counts().head(25).to_excel(\"../data/excel/rtcc_charges_charge_description.xlsx\")"
   ]
  },
  {
   "cell_type": "code",
   "execution_count": null,
   "metadata": {},
   "outputs": [],
   "source": [
    "# rtcc_charges.groupby(\"year\").disposition.value_counts().to_excel(\"../data/excel/rtcc_charges_disposition.xlsx\")"
   ]
  },
  {
   "cell_type": "code",
   "execution_count": null,
   "metadata": {},
   "outputs": [
    {
     "name": "stderr",
     "output_type": "stream",
     "text": [
      "c:\\Users\\PC\\AppData\\Local\\Programs\\Python\\Python39\\lib\\site-packages\\pandas\\core\\indexing.py:1676: SettingWithCopyWarning: \n",
      "A value is trying to be set on a copy of a slice from a DataFrame.\n",
      "Try using .loc[row_indexer,col_indexer] = value instead\n",
      "\n",
      "See the caveats in the documentation: https://pandas.pydata.org/pandas-docs/stable/user_guide/indexing.html#returning-a-view-versus-a-copy\n",
      "  self._setitem_single_column(ilocs[0], value, pi)\n"
     ]
    },
    {
     "data": {
      "text/plain": [
       "array(['male', 'female', ''], dtype=object)"
      ]
     },
     "execution_count": 22,
     "metadata": {},
     "output_type": "execute_result"
    }
   ],
   "source": [
    "rtcc_charges.loc[:, \"offender_gender\"] = rtcc_charges.offender_gender.str.lower().str.strip().fillna(\"\")\\\n",
    "    .str.replace(r\"unknown\", \"\", regex=True)\n",
    "rtcc_charges.offender_gender.unique()"
   ]
  },
  {
   "cell_type": "code",
   "execution_count": null,
   "metadata": {},
   "outputs": [],
   "source": [
    "charge = df[df.charge_description.isin([\"ILLEGAL POSSESSION OF STOLEN THINGS\"])]\n",
    "\n",
    "\n",
    "blacks = charge[charge.offender_race.isin([\"black\"])]\n",
    "blacks_perc = blacks.groupby([\"offender_race\", \"charge_description\"]).rtcc_footage_requested.value_counts()/len(blacks)\n",
    "blacks_perc = pd.DataFrame(blacks_perc)\n",
    "\n",
    "blacks_counts = blacks.groupby([\"offender_race\", \"charge_description\"]).rtcc_footage_requested.value_counts()\n",
    "blacks_counts = pd.DataFrame(blacks_counts)\n",
    "\n",
    "\n",
    "whites = charge[charge.offender_race.isin([\"white\"])]\n",
    "whites_perc = whites.groupby([\"offender_race\", \"charge_description\"]).rtcc_footage_requested.value_counts()/len(whites)\n",
    "whites_perc = pd.DataFrame(whites_perc)\n",
    "\n",
    "whites_counts = whites.groupby([\"offender_race\", \"charge_description\"]).rtcc_footage_requested.value_counts()\n",
    "whites_counts = pd.DataFrame(whites_counts)\n",
    "\n",
    "\n",
    "df_concat = pd.DataFrame(pd.concat([blacks_perc, whites_perc, blacks_counts, whites_counts]))\n",
    "df_concat.columns\n",
    "df_concat.sort_values(\"offender_race\").to_excel(\"../data/excel/armed_robbery_rtcc_footage_request_by_illegal_posses.xlsx\")\n",
    "# df_concat\n",
    "# df_concat.to_excel(\"../data/excel/armed_robbery_rtcc_footage_request_by_race_armed_robbery.xlsx\")\n"
   ]
  }
 ],
 "metadata": {
  "kernelspec": {
   "display_name": "Python 3.9.11 64-bit",
   "language": "python",
   "name": "python3"
  },
  "language_info": {
   "codemirror_mode": {
    "name": "ipython",
    "version": 3
   },
   "file_extension": ".py",
   "mimetype": "text/x-python",
   "name": "python",
   "nbconvert_exporter": "python",
   "pygments_lexer": "ipython3",
   "version": "3.9.11"
  },
  "orig_nbformat": 4,
  "vscode": {
   "interpreter": {
    "hash": "f6c8f846148a3e4d140e6ddf63c190cff559dcf260a4a21539f0978f2b58638c"
   }
  }
 },
 "nbformat": 4,
 "nbformat_minor": 2
}
