{
 "cells": [
  {
   "cell_type": "code",
   "execution_count": 210,
   "metadata": {},
   "outputs": [],
   "source": [
    "## Public Records Request Notes\n",
    "## First PRR received on 3/29/2022 for data that spans 2018 - 3/29/2022\n",
    "## Second PPR received on 11/22/2022 for data that spans 3/29/2022 - 11/22/2022"
   ]
  },
  {
   "cell_type": "code",
   "execution_count": 211,
   "metadata": {},
   "outputs": [],
   "source": [
    "import pandas as pd\n",
    "import re"
   ]
  },
  {
   "cell_type": "code",
   "execution_count": 212,
   "metadata": {},
   "outputs": [],
   "source": [
    "def standardize_item_no(df):\n",
    "    df.loc[:, \"item_number\"] = df.item_number.str.lower().str.strip()\n",
    "    return df\n",
    "\n",
    "def clean():\n",
    "    df1 = pd.read_csv(\"../data/electronic_police_report_2018.csv\")\n",
    "    df2 = pd.read_csv(\"../data/electronic_police_report_2019.csv\")\n",
    "    df3 = pd.read_csv(\"../data/electronic_police_report_2020.csv\")\n",
    "    df4 = pd.read_csv(\"../data/electronic_police_report_2021.csv\")\n",
    "    df5 = pd.read_csv(\"../data/electronic_police_report_2022.csv\")\n",
    "\n",
    "    df1[\"year\"] = 2018\n",
    "    df2[\"year\"] = 2019\n",
    "    df3[\"year\"] = 2020\n",
    "    df4[\"year\"] = 2021\n",
    "    df5[\"year\"] = 2022\n",
    "\n",
    "    dfs = [df1, df2, df3, df4, df5]\n",
    "    dfa = pd.concat(dfs, join=\"outer\")\n",
    "\n",
    "    dfa = dfa.pipe(standardize_item_no)\n",
    "    \n",
    "    dfb = pd.read_csv(\"../data/rtcc.csv\")\n",
    "    dfb = dfb.pipe(standardize_item_no)\n",
    "    dfb[\"rtcc_footage_requested\"] = \"yes\"\n",
    "\n",
    "    df = pd.merge(dfb, dfa, on=\"item_number\")\n",
    "    return df"
   ]
  },
  {
   "cell_type": "code",
   "execution_count": 213,
   "metadata": {},
   "outputs": [],
   "source": [
    "def drop_rows_missing_offender_race(df):\n",
    "    df.loc[:, \"offender_race\"] = df.offender_race.fillna(\"\").str.lower().str.strip()\\\n",
    "    .str.replace(\"unknown\", \"\", regex=False)\\\n",
    "    # .str.replace(\"hispanic\", \"\", regex=False)\\\n",
    "    # .str.replace(\"asian\", \"\", regex=False)\\\n",
    "    # .str.replace(r\"amer\\. ind\\.\", \"\", regex=True)\n",
    "    return df[~((df.offender_race == \"\"))]\n",
    "\n",
    "def drop_rows_missing_victim_race(df):\n",
    "    df.loc[:, \"victim_race\"] = df.victim_race.fillna(\"\").str.lower().str.strip()\\\n",
    "    .str.replace(\"unknown\", \"\", regex=False)\\\n",
    "    .str.replace(r\"native hawaiian or other pacific islander\", \"\", regex=False)\n",
    "    # .str.replace(\"hispanic\", \"\", regex=False)\\\n",
    "    # .str.replace(\"asian\", \"\", regex=False)\\\n",
    "    # .str.replace(r\"amer\\. ind\\.\", \"\", regex=True)\n",
    "    return df[~((df.victim_race == \"\"))]\n",
    "\n",
    "\n",
    "def filter_offender_gender(df):\n",
    "    df.loc[:, \"offender_gender\"] = (\n",
    "        df.offender_gender.str.lower().str.strip().fillna(\"\").str.replace(\"unknown\", \"\", regex=False)\n",
    "    )\n",
    "    return df[~((df.offender_gender == \"\"))]\n",
    "\n",
    "\n",
    "\n",
    "def filter_victim_gender(df):\n",
    "    df.loc[:, \"victim_gender\"] = (\n",
    "        df.offender_gender.str.lower().str.strip().fillna(\"\").str.replace(\"unknown\", \"\", regex=False)\n",
    "    )\n",
    "    return df[~((df.victim_gender == \"\"))]\n",
    "\n",
    "\n",
    "def filter_arrested(df):\n",
    "    df.loc[:, \"offenderstatus\"] = df.offenderstatus.str.lower().str.strip().fillna(\"\")\n",
    "    df = df[df.offenderstatus.isin([\"arrested\"])]\n",
    "    return df[~((df.offenderstatus == \"\"))]\n",
    "\n",
    "\n",
    "def filter_year(df):\n",
    "    # df = df[df.year.astype(str).isin([\"2018\", r\"2019\", r\"2020\", r\"2021\\.\", r\"2022\\.\"])]\n",
    "    return df[~((df.year.fillna(\"\") == \"\"))]\n",
    "  \n",
    "  \n",
    "def drop_rows_missing_charge_desc(df):\n",
    "    df.loc[:, \"charge_description\"] = df.charge_description.str.lower().str.strip().fillna(\"\")\n",
    "    return df[~((df.charge_description == \"\"))]"
   ]
  },
  {
   "cell_type": "code",
   "execution_count": 214,
   "metadata": {},
   "outputs": [
    {
     "data": {
      "text/plain": [
       "(22732, 27)"
      ]
     },
     "execution_count": 214,
     "metadata": {},
     "output_type": "execute_result"
    }
   ],
   "source": [
    "df = clean()\n",
    "df.shape"
   ]
  },
  {
   "cell_type": "code",
   "execution_count": 215,
   "metadata": {},
   "outputs": [],
   "source": [
    "df = df.pipe(filter_year).pipe(drop_rows_missing_offender_race).pipe(filter_offender_gender)\\\n",
    "    .drop_duplicates(subset=[\"offender_race\", \"offender_gender\", \"item_number\"])"
   ]
  },
  {
   "cell_type": "code",
   "execution_count": 216,
   "metadata": {},
   "outputs": [
    {
     "data": {
      "text/plain": [
       "Index(['item_number', 'Signal Code', 'rtcc_footage_requested', 'district',\n",
       "       'location', 'disposition', 'signal_type', 'signal_description',\n",
       "       'occurred_date_time', 'charge_code', 'charge_description',\n",
       "       'offender_race', 'offender_gender', 'offender_age', 'offender_number',\n",
       "       'person_type', 'victim_race', 'victim_gender', 'victim_age',\n",
       "       'victim_number', 'victim_fatal_status', 'hate_crime', 'report_type',\n",
       "       'year', 'offenderid', 'offenderstatus', 'persontype'],\n",
       "      dtype='object')"
      ]
     },
     "execution_count": 216,
     "metadata": {},
     "output_type": "execute_result"
    }
   ],
   "source": [
    "df.columns"
   ]
  },
  {
   "cell_type": "code",
   "execution_count": 220,
   "metadata": {},
   "outputs": [
    {
     "ename": "SyntaxError",
     "evalue": "unexpected EOF while parsing (2887115248.py, line 1)",
     "output_type": "error",
     "traceback": [
      "\u001b[1;36m  Input \u001b[1;32mIn [220]\u001b[1;36m\u001b[0m\n\u001b[1;33m    df.loc[:, \"rtcc_footage_requested\"] = df.rtcc_footage_requested.fillna(\"no\"\u001b[0m\n\u001b[1;37m                                                                               ^\u001b[0m\n\u001b[1;31mSyntaxError\u001b[0m\u001b[1;31m:\u001b[0m unexpected EOF while parsing\n"
     ]
    }
   ],
   "source": [
    "df.loc[:, \"rtcc_footage_requested\"] = df.rtcc_footage_requested.fillna(\"no\")"
   ]
  },
  {
   "cell_type": "code",
   "execution_count": null,
   "metadata": {},
   "outputs": [],
   "source": [
    "df[\"rtcc_footage_request_tally\"] = 1"
   ]
  },
  {
   "cell_type": "code",
   "execution_count": null,
   "metadata": {},
   "outputs": [
    {
     "data": {
      "text/plain": [
       "no     104535\n",
       "yes      4478\n",
       "Name: rtcc_footage_requested, dtype: int64"
      ]
     },
     "execution_count": 47,
     "metadata": {},
     "output_type": "execute_result"
    }
   ],
   "source": [
    "df.rtcc_footage_requested.value_counts()"
   ]
  },
  {
   "cell_type": "code",
   "execution_count": null,
   "metadata": {},
   "outputs": [],
   "source": [
    "rtcc = df[df.rtcc_footage_requested.isin([\"yes\"])]"
   ]
  },
  {
   "cell_type": "code",
   "execution_count": null,
   "metadata": {},
   "outputs": [],
   "source": [
    "rtcc_district = rtcc[[\"district\", \"rtcc_footage_request_tally\",]]\n",
    "rtcc_district_perc = rtcc_district.groupby([\"district\",]).rtcc_footage_request_tally.count()/len(rtcc_district)\n",
    "rtcc_district_counts = rtcc_district.groupby([\"district\",]).rtcc_footage_request_tally.count()\n",
    "rtcc_district_counts = pd.DataFrame(rtcc_district_counts).reset_index()\n",
    "rtcc_district_perc = pd.DataFrame(rtcc_district_perc).reset_index()\n",
    "rtcc_district = pd.concat([rtcc_district_perc, rtcc_district_counts])\n",
    "# rtcc_district\n",
    "# rtcc_district.to_excel(\"../data/excel/rtcc_requests_district.xlsx\")"
   ]
  },
  {
   "cell_type": "code",
   "execution_count": null,
   "metadata": {},
   "outputs": [],
   "source": [
    "rtcc = rtcc[[\"offender_race\", \"offender_gender\", \"rtcc_footage_request_tally\",]]\n",
    "rtcc = rtcc.groupby([\"offender_race\", \"offender_gender\"]).rtcc_footage_request_tally.count()\n",
    "rtcc = pd.DataFrame(rtcc).reset_index()"
   ]
  },
  {
   "cell_type": "code",
   "execution_count": null,
   "metadata": {},
   "outputs": [],
   "source": [
    "# rtcc.loc[(rtcc.offender_race == \"black\"), \"population\"] = \"105498\"\n",
    "# rtcc.loc[(rtcc.offender_race == \"white\"), \"population\"] = \"65756\"\n",
    "# rtcc.loc[(rtcc.offender_race == \"hispanic\"), \"population\"] = \"11205\"\n",
    "# rtcc.loc[(rtcc.offender_race == \"amer. ind.\"), \"population\"] = \"360\"\n",
    "# rtcc.loc[(rtcc.offender_race == \"asian\"), \"population\"] = \"5499\"\n",
    "\n",
    "\n",
    "# rtcc.loc[(rtcc.victim_race == \"black\"), \"population\"] = \"105498\"\n",
    "# rtcc.loc[(rtcc.victim_race == \"white\"), \"population\"] = \"65756\"\n",
    "# rtcc.loc[(rtcc.victim_race == \"hispanic\"), \"population\"] = \"11205\"\n",
    "# rtcc.loc[(rtcc.victim_race == \"amer. ind.\"), \"population\"] = \"360\"\n",
    "# rtcc.loc[(rtcc.victim_race == \"asian\"), \"population\"] = \"5499\"\n",
    "\n",
    "rtcc.loc[(rtcc.offender_race == \"black\") & (rtcc.offender_gender == \"male\"), \"population\"] = \"52749\"\n",
    "rtcc.loc[(rtcc.offender_race == \"black\") & (rtcc.offender_gender == \"female\"), \"population\"] = \"52749\"\n",
    "rtcc.loc[(rtcc.offender_race == \"white\") & (rtcc.offender_gender == \"male\"), \"population\"] = \"32878\"\n",
    "rtcc.loc[(rtcc.offender_race == \"white\") & (rtcc.offender_gender == \"female\"), \"population\"] = \"32878\"\n",
    "rtcc.loc[(rtcc.offender_race == \"hispanic\") & (rtcc.offender_gender == \"male\"), \"population\"] = \"5602\"\n",
    "rtcc.loc[(rtcc.offender_race == \"hispanic\") & (rtcc.offender_gender == \"female\"), \"population\"] = \"5602\"\n",
    "rtcc.loc[(rtcc.offender_race == \"native american\") & (rtcc.offender_gender == \"male\"), \"population\"] = \"180\"\n",
    "rtcc.loc[(rtcc.offender_race == \"native american\") & (rtcc.offender_gender == \"female\"), \"population\"] = \"180\"\n",
    "rtcc.loc[(rtcc.offender_race == \"amer. ind.\") & (rtcc.offender_gender == \"male\"), \"population\"] = \"180\"\n",
    "rtcc.loc[(rtcc.offender_race == \"amer. ind.\") & (rtcc.offender_gender == \"female\"), \"population\"] = \"180\"\n",
    "rtcc.loc[(rtcc.offender_race == \"asian\") & (rtcc.offender_gender == \"male\"), \"population\"] = \"2750\"\n",
    "rtcc.loc[(rtcc.offender_race == \"asian\") & (rtcc.offender_gender == \"female\"), \"population\"] = \"2750\""
   ]
  },
  {
   "cell_type": "code",
   "execution_count": null,
   "metadata": {},
   "outputs": [
    {
     "data": {
      "text/html": [
       "<div>\n",
       "<style scoped>\n",
       "    .dataframe tbody tr th:only-of-type {\n",
       "        vertical-align: middle;\n",
       "    }\n",
       "\n",
       "    .dataframe tbody tr th {\n",
       "        vertical-align: top;\n",
       "    }\n",
       "\n",
       "    .dataframe thead th {\n",
       "        text-align: right;\n",
       "    }\n",
       "</style>\n",
       "<table border=\"1\" class=\"dataframe\">\n",
       "  <thead>\n",
       "    <tr style=\"text-align: right;\">\n",
       "      <th></th>\n",
       "      <th>offender_race</th>\n",
       "      <th>offender_gender</th>\n",
       "      <th>rtcc_footage_request_tally</th>\n",
       "      <th>population</th>\n",
       "    </tr>\n",
       "  </thead>\n",
       "  <tbody>\n",
       "    <tr>\n",
       "      <th>0</th>\n",
       "      <td>amer. ind.</td>\n",
       "      <td>female</td>\n",
       "      <td>1</td>\n",
       "      <td>180</td>\n",
       "    </tr>\n",
       "    <tr>\n",
       "      <th>1</th>\n",
       "      <td>amer. ind.</td>\n",
       "      <td>male</td>\n",
       "      <td>2</td>\n",
       "      <td>180</td>\n",
       "    </tr>\n",
       "    <tr>\n",
       "      <th>2</th>\n",
       "      <td>asian</td>\n",
       "      <td>male</td>\n",
       "      <td>8</td>\n",
       "      <td>2750</td>\n",
       "    </tr>\n",
       "    <tr>\n",
       "      <th>3</th>\n",
       "      <td>black</td>\n",
       "      <td>female</td>\n",
       "      <td>544</td>\n",
       "      <td>52749</td>\n",
       "    </tr>\n",
       "    <tr>\n",
       "      <th>4</th>\n",
       "      <td>black</td>\n",
       "      <td>male</td>\n",
       "      <td>3439</td>\n",
       "      <td>52749</td>\n",
       "    </tr>\n",
       "    <tr>\n",
       "      <th>5</th>\n",
       "      <td>hispanic</td>\n",
       "      <td>female</td>\n",
       "      <td>10</td>\n",
       "      <td>5602</td>\n",
       "    </tr>\n",
       "    <tr>\n",
       "      <th>6</th>\n",
       "      <td>hispanic</td>\n",
       "      <td>male</td>\n",
       "      <td>44</td>\n",
       "      <td>5602</td>\n",
       "    </tr>\n",
       "    <tr>\n",
       "      <th>7</th>\n",
       "      <td>white</td>\n",
       "      <td>female</td>\n",
       "      <td>87</td>\n",
       "      <td>32878</td>\n",
       "    </tr>\n",
       "    <tr>\n",
       "      <th>8</th>\n",
       "      <td>white</td>\n",
       "      <td>male</td>\n",
       "      <td>343</td>\n",
       "      <td>32878</td>\n",
       "    </tr>\n",
       "  </tbody>\n",
       "</table>\n",
       "</div>"
      ],
      "text/plain": [
       "  offender_race offender_gender  rtcc_footage_request_tally population\n",
       "0    amer. ind.          female                           1        180\n",
       "1    amer. ind.            male                           2        180\n",
       "2         asian            male                           8       2750\n",
       "3         black          female                         544      52749\n",
       "4         black            male                        3439      52749\n",
       "5      hispanic          female                          10       5602\n",
       "6      hispanic            male                          44       5602\n",
       "7         white          female                          87      32878\n",
       "8         white            male                         343      32878"
      ]
     },
     "execution_count": 52,
     "metadata": {},
     "output_type": "execute_result"
    }
   ],
   "source": [
    "rtcc"
   ]
  },
  {
   "cell_type": "code",
   "execution_count": null,
   "metadata": {},
   "outputs": [],
   "source": [
    "def calc_rate(dfb_total, population=\"\"):\n",
    "    population = int(population)\n",
    "    rate = (( dfb_total / population) * 1000)\n",
    "    return rate"
   ]
  },
  {
   "cell_type": "code",
   "execution_count": null,
   "metadata": {},
   "outputs": [
    {
     "data": {
      "text/html": [
       "<div>\n",
       "<style scoped>\n",
       "    .dataframe tbody tr th:only-of-type {\n",
       "        vertical-align: middle;\n",
       "    }\n",
       "\n",
       "    .dataframe tbody tr th {\n",
       "        vertical-align: top;\n",
       "    }\n",
       "\n",
       "    .dataframe thead th {\n",
       "        text-align: right;\n",
       "    }\n",
       "</style>\n",
       "<table border=\"1\" class=\"dataframe\">\n",
       "  <thead>\n",
       "    <tr style=\"text-align: right;\">\n",
       "      <th></th>\n",
       "      <th>offender_race</th>\n",
       "      <th>offender_gender</th>\n",
       "      <th>rtcc_footage_request_tally</th>\n",
       "      <th>population</th>\n",
       "      <th>rate_per_1000_persons</th>\n",
       "      <th>year</th>\n",
       "    </tr>\n",
       "  </thead>\n",
       "  <tbody>\n",
       "    <tr>\n",
       "      <th>0</th>\n",
       "      <td>amer. ind.</td>\n",
       "      <td>female</td>\n",
       "      <td>1</td>\n",
       "      <td>180</td>\n",
       "      <td>5.555556</td>\n",
       "      <td>2018-2022</td>\n",
       "    </tr>\n",
       "    <tr>\n",
       "      <th>1</th>\n",
       "      <td>amer. ind.</td>\n",
       "      <td>male</td>\n",
       "      <td>2</td>\n",
       "      <td>180</td>\n",
       "      <td>11.111111</td>\n",
       "      <td>2018-2022</td>\n",
       "    </tr>\n",
       "    <tr>\n",
       "      <th>2</th>\n",
       "      <td>asian</td>\n",
       "      <td>male</td>\n",
       "      <td>8</td>\n",
       "      <td>2750</td>\n",
       "      <td>2.909091</td>\n",
       "      <td>2018-2022</td>\n",
       "    </tr>\n",
       "    <tr>\n",
       "      <th>3</th>\n",
       "      <td>black</td>\n",
       "      <td>female</td>\n",
       "      <td>544</td>\n",
       "      <td>52749</td>\n",
       "      <td>10.312992</td>\n",
       "      <td>2018-2022</td>\n",
       "    </tr>\n",
       "    <tr>\n",
       "      <th>4</th>\n",
       "      <td>black</td>\n",
       "      <td>male</td>\n",
       "      <td>3439</td>\n",
       "      <td>52749</td>\n",
       "      <td>65.195549</td>\n",
       "      <td>2018-2022</td>\n",
       "    </tr>\n",
       "    <tr>\n",
       "      <th>5</th>\n",
       "      <td>hispanic</td>\n",
       "      <td>female</td>\n",
       "      <td>10</td>\n",
       "      <td>5602</td>\n",
       "      <td>1.785077</td>\n",
       "      <td>2018-2022</td>\n",
       "    </tr>\n",
       "    <tr>\n",
       "      <th>6</th>\n",
       "      <td>hispanic</td>\n",
       "      <td>male</td>\n",
       "      <td>44</td>\n",
       "      <td>5602</td>\n",
       "      <td>7.854338</td>\n",
       "      <td>2018-2022</td>\n",
       "    </tr>\n",
       "    <tr>\n",
       "      <th>7</th>\n",
       "      <td>white</td>\n",
       "      <td>female</td>\n",
       "      <td>87</td>\n",
       "      <td>32878</td>\n",
       "      <td>2.646146</td>\n",
       "      <td>2018-2022</td>\n",
       "    </tr>\n",
       "    <tr>\n",
       "      <th>8</th>\n",
       "      <td>white</td>\n",
       "      <td>male</td>\n",
       "      <td>343</td>\n",
       "      <td>32878</td>\n",
       "      <td>10.432508</td>\n",
       "      <td>2018-2022</td>\n",
       "    </tr>\n",
       "  </tbody>\n",
       "</table>\n",
       "</div>"
      ],
      "text/plain": [
       "  offender_race offender_gender  rtcc_footage_request_tally population  \\\n",
       "0    amer. ind.          female                           1        180   \n",
       "1    amer. ind.            male                           2        180   \n",
       "2         asian            male                           8       2750   \n",
       "3         black          female                         544      52749   \n",
       "4         black            male                        3439      52749   \n",
       "5      hispanic          female                          10       5602   \n",
       "6      hispanic            male                          44       5602   \n",
       "7         white          female                          87      32878   \n",
       "8         white            male                         343      32878   \n",
       "\n",
       "   rate_per_1000_persons       year  \n",
       "0               5.555556  2018-2022  \n",
       "1              11.111111  2018-2022  \n",
       "2               2.909091  2018-2022  \n",
       "3              10.312992  2018-2022  \n",
       "4              65.195549  2018-2022  \n",
       "5               1.785077  2018-2022  \n",
       "6               7.854338  2018-2022  \n",
       "7               2.646146  2018-2022  \n",
       "8              10.432508  2018-2022  "
      ]
     },
     "execution_count": 54,
     "metadata": {},
     "output_type": "execute_result"
    }
   ],
   "source": [
    "rtcc[\"rate_per_1000_persons\"] = rtcc.apply(lambda x: calc_rate(x.rtcc_footage_request_tally, x.population), axis=1)\n",
    "rtcc[\"year\"] = \"2018-2022\"\n",
    "rtcc"
   ]
  },
  {
   "cell_type": "code",
   "execution_count": null,
   "metadata": {},
   "outputs": [],
   "source": [
    "# rtcc.to_excel(\"../data/excel/rtcc_requests_offender_by_race_and_gender.xlsx\")"
   ]
  },
  {
   "cell_type": "code",
   "execution_count": null,
   "metadata": {},
   "outputs": [],
   "source": [
    "rtcc_charges = df[df.rtcc_footage_requested.isin([\"yes\"])]"
   ]
  },
  {
   "cell_type": "code",
   "execution_count": null,
   "metadata": {},
   "outputs": [
    {
     "data": {
      "text/plain": [
       "Index(['item_number', 'Signal Code', 'rtcc_footage_requested', 'district',\n",
       "       'location', 'disposition', 'signal_type', 'signal_description',\n",
       "       'occurred_date_time', 'charge_code', 'charge_description',\n",
       "       'offender_race', 'offender_gender', 'offender_age', 'offender_number',\n",
       "       'person_type', 'victim_race', 'victim_gender', 'victim_age',\n",
       "       'victim_number', 'victim_fatal_status', 'hate_crime', 'report_type',\n",
       "       'year', 'offenderid', 'offenderstatus', 'persontype',\n",
       "       'rtcc_footage_request_tally'],\n",
       "      dtype='object')"
      ]
     },
     "execution_count": 57,
     "metadata": {},
     "output_type": "execute_result"
    }
   ],
   "source": [
    "rtcc_charges.columns"
   ]
  },
  {
   "cell_type": "code",
   "execution_count": null,
   "metadata": {},
   "outputs": [
    {
     "data": {
      "text/plain": [
       "array(['SECOND DEGREE MURDER', 'SIMPLE CRIMINAL DAMAGE TO PROPERTY',\n",
       "       'ARMED ROBBERY', 'THEFT OF A MOTOR VEHICLE', 'BATTERY',\n",
       "       'POSSESSION OF FIREARM BY JUVENILE', 'AGG. BATTERY',\n",
       "       'AGGRAVATED ASSAULT WITH A FIREARM',\n",
       "       'ILLEGAL POSSESSION OF STOLEN THINGS', 'SIMPLE BURGLARY',\n",
       "       'SEXUAL BATTERY', 'SIMPLE ROBBERY', 'SIMPLE BATTERY',\n",
       "       'SIMPLE BURGLARY (INHABITED DWELLING)', 'PURSE SNATCHING', nan,\n",
       "       'ILLEGAL CARRYING OF WEAPON', 'OBSCENITY',\n",
       "       'AGG. SECOND DEGREE BATTERY', 'CRIMINAL DAMAGE TO PROPERTY',\n",
       "       'AGG. ASSAULT', 'ATTEMPT - PURSE SNATCHING',\n",
       "       'ATTEMPT - SECOND DEGREEMURDER', 'PRINCIPAL TO ARMED ROBBERY',\n",
       "       'ATTEMPT - ARMED ROBBERY', 'BATTERY OF A DATING PARTNER (SIMPLE)',\n",
       "       'CARJACKING', 'USE OF FIREARM IN ROBBERY', 'AGG. CRIMINAL DAMAGE',\n",
       "       'AGG. BURGLARY', 'THEFT', 'RECKLESS OPERATION OF A VEHICLE',\n",
       "       'ILLEGAL DUMPING', 'DISTURBING THE PEACE',\n",
       "       'POSSESSION OF FIREARM BY FELON', 'ILLEGAL USE OF WEAPONS',\n",
       "       'NEGLIGENT INJURING', 'GARBAGE IN STREETS',\n",
       "       'PROHIBITED ACTS--SCHEDULE I DRUGS',\n",
       "       'DOMESTIC ABUSE BATTERY - SIMPLE',\n",
       "       'DOMESTIC ABUSE AGGRAVATED ASSAULT',\n",
       "       'PROHIBITED ACTS - DRUG PARAPHENALIA',\n",
       "       'NEW BUSINESS; LICENSE DUE UPON COMMENCEMENT',\n",
       "       'SECOND DEGREE BATTERY', 'TERRORIZING',\n",
       "       'ILLEGAL POSSESSION OF STOLEN FIREARMS',\n",
       "       'ILLEGAL CARRYING OF A WEAPON WHILE IN POSSESSION OF NARCOTICS',\n",
       "       'FIRST DEGREE MURDER', 'PRINCIPAL TO THEFT',\n",
       "       'ACTS OF DOMESTIC VIOLENCE(STRANGULATION) - AGGRAVATED',\n",
       "       'CONSPIRACY TO POSSESSION OF SCHEDULE II CDS', 'SIMPLE ASSAULT',\n",
       "       'PROHIBITED ACTS-- SCHEDULE II DRUGS', 'SIMPLE ARSON',\n",
       "       'AGGRAVATED ASSAULT UPON A DATING PARTNER',\n",
       "       'ATTEMPT - SIMPLE ROBBERY', 'FIRST DEGREE ROBBERY',\n",
       "       'SALE OF SPECULATIVE ITEMS', 'UNAUTHORIZED USE OF A MOTOR VEHICLE',\n",
       "       'ATTEMPT - SIMPLE KIDNAPPING', 'ATTEMPT - CARJACKING',\n",
       "       'RESISTING AN OFFICER', 'CRIMINAL TRESPASS',\n",
       "       'VIOLATIONS OF PROTECTIVE ORDERS',\n",
       "       'PUBLIC DRUNK; DRUG INCAPACITATION', 'HIT & RUN DRIVING',\n",
       "       'OBSTRUCTING PUBLIC PASSAGES',\n",
       "       'ATTEMPT ARMED ROBBERY WITH A FIREARM', 'FOLLOWING TO CLOSELY',\n",
       "       'ILLEGAL CARRYING OF WEAPONS', 'UNAUTHORIZED ENTRY (BUSINESS)',\n",
       "       'FAILURRE TO REMIT TAX', 'FIRST DEGREE RAPE',\n",
       "       'INJURING PUBLIC RECORDS', 'POSSESSION OF STOLEN PROPERTY',\n",
       "       'ATTEMPT - SIMPLE BURGLARY', 'BATTERY OF A POLICE OFFICER',\n",
       "       'SIMPLE KIDNAPPING', 'CERTAIN POSSESSION OF FIREARMS',\n",
       "       'PRINCIPAL TO AGG. BATTERY', 'ATTEMPT - FIRST DEGREE MURDER',\n",
       "       'AGGRAVATED ASSAULT UPON A PEACE OFFICER',\n",
       "       'ATTEMPT THEFT OF A MOTOR VEHICLE', 'ATTEMPT - THEFT',\n",
       "       'ACCESS DEVICE FRAUD', 'ACCESSORY - ARMED ROBBERY',\n",
       "       'IDENTITY THEFT',\n",
       "       'ACTS OF DOMESTIC VIOLENCE(STRANGULATION) - SIMPLE',\n",
       "       \"VIEUX CARRE' MALLS\", 'UNAUTHORIZED USE OF MOVABLE', 'ASSAULT',\n",
       "       'PRINCIPAL TO AGG. ASSAULT', 'CRIMINAL MISCHIEF',\n",
       "       'SIMPLE OBSTRUCTION OF A HIGHWAY ', 'ATTEMPT - CRIMINAL DAMAGE ',\n",
       "       'ACCESSORY - AGG. BATTERY', 'UNAUTHORIZED USE OF ACCESS CARD',\n",
       "       'PRINCIPAL TO SIMPLE ROBBERY', 'BANK FRAUD',\n",
       "       'DOMESTIC ABUSE BATTERY', 'POSSESSING FIREARM ABO PREMISES',\n",
       "       'PRINCIPAL TO ATTEMPTED ARMED ROBBERY',\n",
       "       'POSSESSING IMITATION NARCOTICS',\n",
       "       'THEFT OF THE ASSETS OF A PERSON WHO IS AGED OR PERSON WITH A DISABILITY',\n",
       "       'PROHIBITED ACTS-- SCHEDULE IV DRUGS',\n",
       "       'MISDEMEANOR SEXUAL BATTERY', 'BATTERY OF A DATING PARTNER',\n",
       "       'CRIMINAL DAMAGE/REMOVING PROPERTY', 'ACCESSORY - THEFT',\n",
       "       'SIMPLE POSSESSION OF MARIJUANA AND/OR SYNTHETIC CANNABINOIDS',\n",
       "       'INTERFERING WITH A LAW ENFORCEMENT INVESTIGATION',\n",
       "       'ASSAULT BY DRIVE BY SHOOTING', 'FALSIFYING REPORTS ALARMS',\n",
       "       'ACCESSORY TO POSSESSION OF SCHEDULE II CDS',\n",
       "       'FIRST DEGREE VEHICULAR INJURING',\n",
       "       'RELATIVE TO MISSING/RUNAWAY JUVENILE',\n",
       "       'PRINCIPAL TO SIMPLE BURGLARY', 'FLIGHT FROM AN OFFICER',\n",
       "       'WARRANT ISSUED BY', 'CONSPIRACY TO POSSESSION OF SCHEDULE I CDS',\n",
       "       'FALSE IMPRISONEMENT WHILE ARMED',\n",
       "       'PRINCIPAL TO POSSESSION OF SCHEDULE II CDS', 'LEWD CONDUCT',\n",
       "       'THEFT OF DOGS', 'OPERATING VEHICLE WHILE INTOXICATED',\n",
       "       'ATTEMPT - DISARMING A PEACE OFFICER', 'OBSTRUCTION OF JUSTICE',\n",
       "       'POSSESSION OF MARIJUANA (1ST OFFENSE)',\n",
       "       'RELATIVE TO HOME INVASION', 'OBEDIENCE TO TRAFFIC CONTROLS',\n",
       "       'DRUG PARAPHERNALIA', 'PRINCIPAL TO CRIMINAL DAMAGE',\n",
       "       'CRIMINAL DAMAGE TO HISTORIC BUILDINGS OR LANDMARKS BY DEFACING WITH GRAFFITI',\n",
       "       'SECOND DEGREE RAPE', 'FILING FALSE RECORDS',\n",
       "       'SECOND DEGREE KIDNAPING', 'THIRD DEGREE RAPE',\n",
       "       'FALSIFYING REPORTS, ALARMS', 'SECOND DEGREE ROBBERY',\n",
       "       'ONE WAY ROADWAYS & TRAFFIC ISLANDS', 'EXTORTION', 'TAMPERING',\n",
       "       'UNAUTHORIZED USE OF MOVEABLES', 'PROSTITUTION',\n",
       "       'RELATIVE TO PRINCIPAL TO ATTEMPTED HOMICIDE',\n",
       "       'ACTS OF DOMESTIC VIOLENCE(STRANGULATION)', 'CREDIT CARD FRAUD',\n",
       "       'OBSCENE LIVE CONDUCT', 'AGGRESSIVE SOLICITATION',\n",
       "       'BATTERY OF EMERGENCY ROOM PERSONNEL, EMERGENCY SERVICES PERSONNEL, OR A HEALTHCARE PROFESSIONAL',\n",
       "       'ATTEMPT - FIRST DEGREE ROBBERY', 'THEFT OF GOODS',\n",
       "       'RUNAWAY JUVENILE', 'PRINCIPAL TO POSSESSION OF SCHEDULE I CDS',\n",
       "       'ACCESSORY TO POSSESSION OF SCHEDULE I CDS',\n",
       "       'CONTRIBUTING TO DELINQUENCY (MINOR)', 'TRAFFIC ATTACHMANT#',\n",
       "       'FIREARM FREE ZONES',\n",
       "       'PRINCIPAL TO AGGRAVATED SECOND DEGREE BATTERY',\n",
       "       'RELATIVE TO DOMESTIC ABUSE BATTERY (CHILD ENDANGERMENT. CHILD/CHILDREN 13 YEARS OF AGE OR YOUNGER PR',\n",
       "       'AGG. ARSON', 'CYBER STALKING',\n",
       "       'PROHIBITED ACTS-- SCHEDULE III DRUGS',\n",
       "       'ATTEMPT - SIMPLE BURGLARY-DWELLING',\n",
       "       'SIMPLE BURGLARY OF A LAW ENFORCEMENT OR EMERGENCY VEHICLE',\n",
       "       'PRINCIPAL TO 2ND DEGREE MURDER',\n",
       "       'DISREGARDING TRAFFIC CONTROL SIGN',\n",
       "       'ASSAULT ON PEACE OFFICER (FIREARM)', 'CDC WARRANT#',\n",
       "       'POSSESSION OF A FIREARM OR CARRYING OF A CONCEALED WEAPON BY A PERSON CONVICTED OF DOMESTIC ABUSE BA',\n",
       "       'FALSE SWEARING / VIOLATING', 'ATTEMPT - CREDIT CARD FRAUD',\n",
       "       'SPECIAL RESTRICTIONS ON LAMPS', 'PROOF OF INSURANCE',\n",
       "       'CARELESS OPERATION OF A VEHICLE',\n",
       "       'DOMESTIC ABUSE BATTERY(PREGNANT VICTIM) - SIMPLE ',\n",
       "       'CONSPIRACY - SIMPLE ROBBERY', 'ACCESSORY - AGG. ASSAULT',\n",
       "       'DISTURBING THE PEACE - FISTIC ENCOUNTER',\n",
       "       'ATTEMPT - THEFT OF A MOTOR VEHICLE', 'ATTEMPT SECOND DEGREE RAPE',\n",
       "       'LITTERING FROM MOTOR VEHICLE', 'PRINCIPAL TO AGG. ARSON',\n",
       "       'DOMESTIC ABUSE BATTERY(CHILD ENDANGERMENT) - SIMPLE',\n",
       "       'DISTURBING THE PEACE - VIOLENT/TUMULTUOUS MANNER', 'FORGERY',\n",
       "       'ATTEMPT - POSSESSION STOLEN THINGS', \"DRIVER'S LICENSE REQUIRED.\",\n",
       "       'ACCESSORY - 2ND DEGREE MURDER'], dtype=object)"
      ]
     },
     "execution_count": 58,
     "metadata": {},
     "output_type": "execute_result"
    }
   ],
   "source": [
    "rtcc_charges.charge_description.unique()"
   ]
  },
  {
   "cell_type": "code",
   "execution_count": null,
   "metadata": {},
   "outputs": [],
   "source": [
    "# rtcc_charges.charge_description.value_counts().head(25).to_excel(\"../data/excel/rtcc_charges_charge_description.xlsx\")"
   ]
  },
  {
   "cell_type": "code",
   "execution_count": null,
   "metadata": {},
   "outputs": [],
   "source": [
    "# rtcc_charges.groupby(\"year\").disposition.value_counts().to_excel(\"../data/excel/rtcc_charges_disposition.xlsx\")"
   ]
  },
  {
   "cell_type": "code",
   "execution_count": null,
   "metadata": {},
   "outputs": [
    {
     "name": "stderr",
     "output_type": "stream",
     "text": [
      "c:\\Users\\PC\\AppData\\Local\\Programs\\Python\\Python39\\lib\\site-packages\\pandas\\core\\indexing.py:1676: SettingWithCopyWarning: \n",
      "A value is trying to be set on a copy of a slice from a DataFrame.\n",
      "Try using .loc[row_indexer,col_indexer] = value instead\n",
      "\n",
      "See the caveats in the documentation: https://pandas.pydata.org/pandas-docs/stable/user_guide/indexing.html#returning-a-view-versus-a-copy\n",
      "  self._setitem_single_column(ilocs[0], value, pi)\n"
     ]
    },
    {
     "data": {
      "text/plain": [
       "array(['male', 'female'], dtype=object)"
      ]
     },
     "execution_count": 61,
     "metadata": {},
     "output_type": "execute_result"
    }
   ],
   "source": [
    "rtcc_charges.loc[:, \"offender_gender\"] = rtcc_charges.offender_gender.str.lower().str.strip().fillna(\"\")\\\n",
    "    .str.replace(r\"unknown\", \"\", regex=True)\n",
    "rtcc_charges.offender_gender.unique()"
   ]
  },
  {
   "cell_type": "code",
   "execution_count": null,
   "metadata": {},
   "outputs": [
    {
     "name": "stderr",
     "output_type": "stream",
     "text": [
      "\n",
      "KeyboardInterrupt\n",
      "\n"
     ]
    }
   ],
   "source": [
    "charge = df[df.charge_description.isin([\"ILLEGAL POSSESSION OF STOLEN THINGS\"])]\n",
    "\n",
    "\n",
    "blacks = charge[charge.offender_race.isin([\"black\"])]\n",
    "blacks_perc = blacks.groupby([\"offender_race\", \"charge_description\"]).rtcc_footage_requested.value_counts()/len(blacks)\n",
    "blacks_perc = pd.DataFrame(blacks_perc)\n",
    "\n",
    "blacks_counts = blacks.groupby([\"offender_race\", \"charge_description\"]).rtcc_footage_requested.value_counts()\n",
    "blacks_counts = pd.DataFrame(blacks_counts)\n",
    "\n",
    "\n",
    "whites = charge[charge.offender_race.isin([\"white\"])]\n",
    "whites_perc = whites.groupby([\"offender_race\", \"charge_description\"]).rtcc_footage_requested.value_counts()/len(whites)\n",
    "whites_perc = pd.DataFrame(whites_perc)\n",
    "\n",
    "whites_counts = whites.groupby([\"offender_race\", \"charge_description\"]).rtcc_footage_requested.value_counts()\n",
    "whites_counts = pd.DataFrame(whites_counts)\n",
    "\n",
    "\n",
    "df_concat = pd.DataFrame(pd.concat([blacks_perc, whites_perc, blacks_counts, whites_counts]))\n",
    "df_concat.columns\n",
    "df_concat.sort_values(\"offender_race\").to_excel(\"../data/excel/armed_robbery_rtcc_footage_request_by_illegal_posses.xlsx\")\n",
    "# df_concat\n",
    "# df_concat.to_excel(\"../data/excel/armed_robbery_rtcc_footage_request_by_race_armed_robbery.xlsx\")\n"
   ]
  }
 ],
 "metadata": {
  "kernelspec": {
   "display_name": "Python 3.9.11 64-bit",
   "language": "python",
   "name": "python3"
  },
  "language_info": {
   "codemirror_mode": {
    "name": "ipython",
    "version": 3
   },
   "file_extension": ".py",
   "mimetype": "text/x-python",
   "name": "python",
   "nbconvert_exporter": "python",
   "pygments_lexer": "ipython3",
   "version": "3.9.11"
  },
  "orig_nbformat": 4,
  "vscode": {
   "interpreter": {
    "hash": "f6c8f846148a3e4d140e6ddf63c190cff559dcf260a4a21539f0978f2b58638c"
   }
  }
 },
 "nbformat": 4,
 "nbformat_minor": 2
}
