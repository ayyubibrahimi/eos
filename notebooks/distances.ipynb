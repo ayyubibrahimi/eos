{
 "cells": [
  {
   "cell_type": "code",
   "execution_count": 7,
   "metadata": {},
   "outputs": [],
   "source": [
    "import sys\n",
    "sys.path.append(\"../\")\n",
    "import pandas as pd\n",
    "from sklearn.neighbors import BallTree\n",
    "import numpy as np\n",
    "\n",
    "\n",
    "def distance():\n",
    "    dfa = pd.read_csv(\"calls_for_service_2022_9_14_2022.csv\")\n",
    "\n",
    "    # filter for violent crimes (list of all crimes below)\n",
    "    dfa = dfa[\n",
    "        (\n",
    "            dfa.TypeText.isin(\n",
    "                [\n",
    "                    \"AGGRAVATED ASSAULT\",\n",
    "                    \"CARJACKING\",\n",
    "                    \"AGGRAVATED ASSAULT DOMESTIC\",\n",
    "                    \"ARMED ROBBERY WITH GUN\",\n",
    "                    \"AGGRAVATED BATTERY BY SHOOTING\",\n",
    "                    \"AGGRAVATED BATTERY DOMESTIC\",\n",
    "                    \"AGGRAVATED BURGLARY\",\n",
    "                    \"AGGRAVATED BATTERY BY CUTTING\",\n",
    "                    \"AGGRAVATED RAPE\",\n",
    "                    \"ARMED ROBBERY\",\n",
    "                    \"SIMPLE RAPE\",\n",
    "                    \"HOMICIDE BY SHOOTING\",\n",
    "                    \"ARMED ROBBERY WITH KNIFE\",\n",
    "                    \"AGGRAVATED KIDNAPPING\",\n",
    "                    \"SIMPLE ASSAULT DOMESTIC\",\n",
    "                    \"AGGRAVATED RAPE UNFOUNDED BY SPECIAL VICTIMS OR CHILD ABUSE\",\n",
    "                    \"AGGRAVATED BURGLARY DOMESTIC\",\n",
    "                    \"AGGRAVATED RAPE MALE VICTIM\",\n",
    "                    \"HOMICIDE\",\n",
    "                    \"HOMICIDE BY CUTTING\",\n",
    "                    \"ILLEGAL CARRYING OF WEAPON- KNIFE\",\n",
    "                    \"SIMPLE RAPE MALE VICTIM\",\n",
    "                    \"AGGRAVATED ARSON\",\n",
    "                    \"SIMPLE RAPE UNFOUNDED BY SPECIAL VICTIMS OR CHILD ABUSE\",\n",
    "                ]\n",
    "            )\n",
    "        )\n",
    "    ]\n",
    "\n",
    "    dfa.loc[:, \"TypeText\"] = dfa.TypeText.fillna(\"\")\n",
    "    dfa = dfa[~(dfa.TypeText == \"\")]\n",
    "\n",
    "    locations = (\n",
    "        dfa.Location.str.lower()\n",
    "        .str.strip()\n",
    "        .str.extract(r\"point \\((-.+\\..+) (.+\\..+)\\)\")\n",
    "    )\n",
    "\n",
    "    dfa.loc[:, \"latitude\"] = locations[1].fillna(\"\")\n",
    "    dfa = dfa[~((dfa.latitude == \"\"))]\n",
    "    dfa.loc[:, \"latitude\"] = dfa.latitude.astype(float)\n",
    "    \n",
    "    dfa.loc[:, \"longitude\"] = locations[0].fillna(\"\")\n",
    "    dfa = dfa[~((dfa.longitude == \"\"))]\n",
    "    dfa.loc[:, \"longitude\"] = dfa.longitude.astype(float)\n",
    "\n",
    "    dfb = pd.read_csv(\"new_orleans_cameras_3_11_2022_french_quarter_filtered.csv\")\n",
    "\n",
    "    bt = BallTree(np.deg2rad(dfa[[\"latitude\", \"longitude\"]].values), metric=\"haversine\")\n",
    "    distances, indices = bt.query(np.deg2rad(np.c_[dfb[\"latitude\"], dfb[\"longitude\"]]))\n",
    "\n",
    "    l = []\n",
    "    for d in distances:\n",
    "        miles = d * 3958.8\n",
    "        yards = miles * 1760\n",
    "        l.append(yards)\n",
    "        df = pd.DataFrame(l, columns=[\"distances\"])\n",
    "    return df\n"
   ]
  },
  {
   "cell_type": "code",
   "execution_count": 8,
   "metadata": {},
   "outputs": [],
   "source": [
    "data = distance()"
   ]
  },
  {
   "cell_type": "code",
   "execution_count": 9,
   "metadata": {},
   "outputs": [
    {
     "data": {
      "text/plain": [
       "distances    34\n",
       "dtype: int64"
      ]
     },
     "execution_count": 9,
     "metadata": {},
     "output_type": "execute_result"
    }
   ],
   "source": [
    "#  of cameras\n",
    "data.nunique()"
   ]
  },
  {
   "cell_type": "code",
   "execution_count": 10,
   "metadata": {},
   "outputs": [
    {
     "data": {
      "text/plain": [
       "distances    27.840212\n",
       "dtype: float64"
      ]
     },
     "execution_count": 10,
     "metadata": {},
     "output_type": "execute_result"
    }
   ],
   "source": [
    "# avg distance of camera (34) to a call for service for a violent crime (1/1/2022 - 9/13/2022)\n",
    "data.sum()/len(data)"
   ]
  }
 ],
 "metadata": {
  "kernelspec": {
   "display_name": "Python 3.10.8 64-bit (microsoft store)",
   "language": "python",
   "name": "python3"
  },
  "language_info": {
   "codemirror_mode": {
    "name": "ipython",
    "version": 3
   },
   "file_extension": ".py",
   "mimetype": "text/x-python",
   "name": "python",
   "nbconvert_exporter": "python",
   "pygments_lexer": "ipython3",
   "version": "3.10.8"
  },
  "orig_nbformat": 4,
  "vscode": {
   "interpreter": {
    "hash": "23f823caeccb1684f6bd50492b68bb5eab208de0408f39b2457c6a38c0e8e818"
   }
  }
 },
 "nbformat": 4,
 "nbformat_minor": 2
}
