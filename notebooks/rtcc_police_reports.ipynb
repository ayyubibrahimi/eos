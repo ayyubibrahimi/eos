{
 "cells": [
  {
   "cell_type": "code",
   "execution_count": 1,
   "metadata": {},
   "outputs": [],
   "source": [
    "import pandas as pd\n",
    "import re\n",
    "\n",
    "def clean():\n",
    "    df1 = pd.read_csv(\"../data/electronic_police_report_2018.csv\")\n",
    "    df2 = pd.read_csv(\"../data/electronic_police_report_2019.csv\")\n",
    "    df3 = pd.read_csv(\"../data/electronic_police_report_2020.csv\")\n",
    "    df4 = pd.read_csv(\"../data/electronic_police_report_2021.csv\")\n",
    "    df5 = pd.read_csv(\"../data/electronic_police_report_2022.csv\")\n",
    "    df1[\"year\"] = 2018\n",
    "    df2[\"year\"] = 2019\n",
    "    df3[\"year\"] = 2020\n",
    "    df4[\"year\"] = 2021\n",
    "    df5[\"year\"] = 2022\n",
    "    dfs = [df1, df2, df3, df4, df5]\n",
    "    dfa = pd.concat(dfs, join=\"outer\")\n",
    "\n",
    "    dfb = pd.read_csv(\"../data/rtcc/rtcc.csv\")\n",
    "    dfb[\"footage_requested\"] = \"yes\"\n",
    "\n",
    "    df = pd.merge(dfa, dfb, on=\"item_number\", how=\"outer\")\n",
    "    return df"
   ]
  },
  {
   "cell_type": "code",
   "execution_count": 2,
   "metadata": {},
   "outputs": [
    {
     "name": "stderr",
     "output_type": "stream",
     "text": [
      "C:\\Users\\PC\\AppData\\Local\\Temp\\ipykernel_16492\\708690341.py:8: DtypeWarning: Columns (21) have mixed types. Specify dtype option on import or set low_memory=False.\n",
      "  df4 = pd.read_csv(\"../data/electronic_police_report_2021.csv\")\n",
      "C:\\Users\\PC\\AppData\\Local\\Temp\\ipykernel_16492\\708690341.py:9: DtypeWarning: Columns (21) have mixed types. Specify dtype option on import or set low_memory=False.\n",
      "  df5 = pd.read_csv(\"../data/electronic_police_report_2022.csv\")\n"
     ]
    }
   ],
   "source": [
    "df = clean()"
   ]
  },
  {
   "cell_type": "code",
   "execution_count": 3,
   "metadata": {},
   "outputs": [],
   "source": [
    "df = df.drop_duplicates(subset=[\"offender_race\", \"offender_gender\", \"item_number\"])"
   ]
  },
  {
   "cell_type": "code",
   "execution_count": 4,
   "metadata": {},
   "outputs": [],
   "source": [
    "requested = df[df.footage_requested.isin([\"yes\"])]"
   ]
  },
  {
   "cell_type": "code",
   "execution_count": 5,
   "metadata": {},
   "outputs": [
    {
     "data": {
      "text/plain": [
       "2021.0    2043\n",
       "2020.0    1937\n",
       "2022.0    1715\n",
       "2019.0    1531\n",
       "2018.0     989\n",
       "Name: year, dtype: int64"
      ]
     },
     "execution_count": 5,
     "metadata": {},
     "output_type": "execute_result"
    }
   ],
   "source": [
    "requested.year.value_counts()"
   ]
  },
  {
   "cell_type": "code",
   "execution_count": 6,
   "metadata": {},
   "outputs": [
    {
     "data": {
      "text/plain": [
       "year    disposition\n",
       "2018.0  OPEN            603\n",
       "        CLOSED          365\n",
       "        UNFOUNDED        21\n",
       "2019.0  OPEN            932\n",
       "        CLOSED          569\n",
       "        UNFOUNDED        30\n",
       "2020.0  OPEN           1413\n",
       "        CLOSED          488\n",
       "        UNFOUNDED        36\n",
       "2021.0  OPEN           1527\n",
       "        CLOSED          465\n",
       "        UNFOUNDED        51\n",
       "2022.0  OPEN           1264\n",
       "        CLOSED          429\n",
       "        UNFOUNDED        22\n",
       "Name: disposition, dtype: int64"
      ]
     },
     "execution_count": 6,
     "metadata": {},
     "output_type": "execute_result"
    }
   ],
   "source": [
    "requested.groupby(\"year\").disposition.value_counts()"
   ]
  },
  {
   "cell_type": "code",
   "execution_count": 7,
   "metadata": {},
   "outputs": [],
   "source": [
    "# requested.groupby(\"year\").disposition.value_counts().to_excel(\"../data/excel/requested_by_year.xlsx\")"
   ]
  },
  {
   "cell_type": "code",
   "execution_count": 8,
   "metadata": {},
   "outputs": [],
   "source": [
    "not_requested = df[~((df.footage_requested == \"yes\"))]"
   ]
  },
  {
   "cell_type": "code",
   "execution_count": 9,
   "metadata": {},
   "outputs": [
    {
     "data": {
      "text/plain": [
       "year    disposition\n",
       "2018.0  OPEN           51272\n",
       "        CLOSED         20519\n",
       "        UNFOUNDED        375\n",
       "2019.0  OPEN           51075\n",
       "        CLOSED         17423\n",
       "        UNFOUNDED        458\n",
       "2020.0  OPEN           46681\n",
       "        CLOSED         10113\n",
       "        UNFOUNDED        368\n",
       "2021.0  OPEN           47143\n",
       "        CLOSED          9000\n",
       "        UNFOUNDED        561\n",
       "2022.0  OPEN           40250\n",
       "        CLOSED          6923\n",
       "        UNFOUNDED        436\n",
       "Name: disposition, dtype: int64"
      ]
     },
     "execution_count": 9,
     "metadata": {},
     "output_type": "execute_result"
    }
   ],
   "source": [
    "not_requested.groupby(\"year\").disposition.value_counts()"
   ]
  },
  {
   "cell_type": "code",
   "execution_count": 10,
   "metadata": {},
   "outputs": [],
   "source": [
    "# not_requested.groupby(\"year\").disposition.value_counts().to_excel(\"../data/excel/not_requested_by_year.xlsx\")"
   ]
  }
 ],
 "metadata": {
  "kernelspec": {
   "display_name": "Python 3.10.8 64-bit (microsoft store)",
   "language": "python",
   "name": "python3"
  },
  "language_info": {
   "codemirror_mode": {
    "name": "ipython",
    "version": 3
   },
   "file_extension": ".py",
   "mimetype": "text/x-python",
   "name": "python",
   "nbconvert_exporter": "python",
   "pygments_lexer": "ipython3",
   "version": "3.10.8"
  },
  "orig_nbformat": 4,
  "vscode": {
   "interpreter": {
    "hash": "23f823caeccb1684f6bd50492b68bb5eab208de0408f39b2457c6a38c0e8e818"
   }
  }
 },
 "nbformat": 4,
 "nbformat_minor": 2
}
