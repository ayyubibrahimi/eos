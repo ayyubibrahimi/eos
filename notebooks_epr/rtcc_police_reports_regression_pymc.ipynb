{
 "cells": [
  {
   "cell_type": "code",
   "execution_count": null,
   "metadata": {},
   "outputs": [],
   "source": [
    "import pandas as pd\n",
    "import numpy as np\n",
    "import pymc as pm\n",
    "from scipy.stats import binom\n",
    "import arviz as az\n",
    "from fancyimpute import IterativeImputer\n",
    "from sklearn.preprocessing import OneHotEncoder, LabelEncoder"
   ]
  },
  {
   "cell_type": "code",
   "execution_count": null,
   "metadata": {},
   "outputs": [],
   "source": [
    "# read in the police reports and real-time crime center data\n",
    "pr = pd.read_csv(\"../data/police_reports/electronic_police_report_2018_2022.csv\")\n",
    "rtcc = pd.read_csv(\"../data/real_time_crime_center/rtcc.csv\")\n",
    "rtcc[\"rtcc_requested\"] = 1 \n",
    "\n",
    "# create a new column in the police reports data indicating whether the offender is Black\n",
    "pr['race_black'] = (pr['offender_race'] == 'BLACK')\n",
    "\n",
    "# select only the necessary columns from the police reports data and join with the distinct item numbers from the rtcc data\n",
    "rc = pd.merge(pr, rtcc, on=\"item_number\", how=\"left\")\n",
    "\n",
    "rc['rtcc_requested'] = rc['rtcc_requested'].fillna(0)\n",
    "\n",
    "rc.loc[:, \"rtcc_requested\"] = rc.rtcc_requested.astype(str).str.replace(r\"\\.0\", \"\", regex=True)\n",
    "rc.loc[:, \"offenderid\"] = rc.offenderid.astype(str).str.replace(r\"\\.0\", \"\", regex=True)\n",
    "\n",
    "rc = rc[~((rc.charge_description.fillna(\"\") == \"\"))]\n",
    "rc = rc[~((rc.item_number.fillna(\"\") == \"\"))]\n",
    "\n",
    "# Replace empty and 'unknown' strings with NaN\n",
    "rc['offender_race'] = rc['offender_race'].replace('', np.nan).fillna(value=np.nan, inplace=False)\n",
    "rc['offender_race'] = rc['offender_race'].replace('UNKNOWN', np.nan)\n",
    "\n",
    "# Create a new dataframe with only the 'location' and 'offender_race' columns\n",
    "subset_df = rc[['location', 'offender_race']]\n",
    "\n",
    "# Split the data into known and unknown values based on the missing values in the 'offender_race' column\n",
    "known = subset_df[subset_df['offender_race'].notna()]\n",
    "unknown = subset_df[subset_df['offender_race'].isna()]\n",
    "\n",
    "# Encode categorical data using LabelEncoder\n",
    "le = LabelEncoder()\n",
    "known['location'] = le.fit_transform(known['location'])\n",
    "known['offender_race'] = le.fit_transform(known['offender_race'])\n",
    "\n",
    "# Impute missing values using IterativeImputer\n",
    "imputer = IterativeImputer()\n",
    "imputed_values = imputer.fit_transform(known)\n",
    "\n",
    "# Convert imputed values back to dataframe\n",
    "imputed_df = pd.DataFrame(imputed_values, columns=['location', 'offender_race'])\n",
    "imputed_df['location'] = imputed_df['location'].astype(int)\n",
    "imputed_df['offender_race'] = imputed_df['offender_race'].round().astype(int)\n",
    "\n",
    "# Convert the numerical data back to categorical data using LabelEncoder's inverse_transform method\n",
    "imputed_df['offender_race'] = le.inverse_transform(imputed_df['offender_race'])\n",
    "\n",
    "# Replace the missing values in the original 'offender_race' column with the imputed values\n",
    "rc.loc[unknown.index, 'offender_race'] = imputed_df['offender_race']\n",
    "\n",
    "df_0 = rc[rc['rtcc_requested'] == \"0\"]\n",
    "df_1 = rc[rc['rtcc_requested'] == '1']\n",
    "\n",
    "rc = pd.concat([df_0, df_1])\n",
    "print(rc.shape)\n",
    "\n",
    "rc = rc.drop_duplicates(subset=[\"item_number\", \"offenderid\"])\n",
    "rc.loc[:, \"rtcc_requested\"] = rc.rtcc_requested.astype(int)\n",
    "\n",
    "rc_grouped = rc.groupby(['race_black', 'charge_description']).agg(n=('item_number', 'count'), rtcc=('rtcc_requested', 'sum')).reset_index()\n",
    "rc_grouped['race_charge'] = pd.Categorical(rc_grouped['race_black'].astype(str) + '_' + rc_grouped['charge_description'])"
   ]
  },
  {
   "cell_type": "code",
   "execution_count": null,
   "metadata": {},
   "outputs": [],
   "source": [
    "with pm.Model() as model:\n",
    "    # set the prior for the regression coefficients\n",
    "    b = pm.Normal('b', mu=0, tau=1/5)\n",
    "    b_race = pm.Normal('b_race', mu=0, tau=1/5)\n",
    "    \n",
    "    # set the prior for the standard deviation of the intercept\n",
    "    sd_intercept = pm.Uniform('sd_intercept', lower=0, upper=10)\n",
    "    \n",
    "    # define n as a data input\n",
    "    n = pm.Data('n', rc_grouped['n'].values)\n",
    "    \n",
    "    # define race_black as a predictor\n",
    "    race_black = pm.Data('race_black', rc_grouped['race_black'].astype(int).values, mutable=True)\n",
    "\n",
    "    \n",
    "    # define charge_description as a categorical variable\n",
    "    charge_descr = rc_grouped['charge_description'].astype('category')\n",
    "    charge_descr_cats = charge_descr.cat.categories.values\n",
    "    charge_descr_ints = charge_descr.cat.codes.values\n",
    "    \n",
    "    # model the intercept as a normal distribution with a group-level standard deviation\n",
    "    intercept = pm.Normal('intercept', mu=0, sigma=sd_intercept, shape=len(charge_descr_cats))\n",
    "    \n",
    "    # model the effects of the charge descriptions\n",
    "    charge_effect = pm.Normal('charge_effect', mu=0, tau=1/5, shape=len(charge_descr_cats))\n",
    "    \n",
    "    # calculate the linear predictor\n",
    "    lp = intercept[charge_descr_ints] + b * race_black + b_race * race_black + charge_effect[charge_descr_ints]\n",
    "    \n",
    "    # model the counts of RTCC requests as a binomial distribution\n",
    "    p = pm.math.invlogit(lp)\n",
    "    rtcc_est = pm.Deterministic('rtcc_est', p * n)\n",
    "    pm.Binomial('rtcc', n=n, p=p, observed=rc_grouped['rtcc'].values)\n",
    "    \n",
    "    # set the prior for the standard deviation of the error term\n",
    "    sigma = pm.Uniform('sigma', lower=0, upper=100)\n",
    "\n",
    "# perform MCMC sampling\n",
    "with model:\n",
    "    trace = pm.sample(2000, tune=2000)"
   ]
  },
  {
   "cell_type": "code",
   "execution_count": null,
   "metadata": {},
   "outputs": [],
   "source": [
    "var_names = list(trace.posterior.data_vars.keys())\n",
    "print(var_names)"
   ]
  },
  {
   "cell_type": "code",
   "execution_count": null,
   "metadata": {},
   "outputs": [],
   "source": [
    "az.summary(trace.posterior, var_names=['b', 'b_race', 'charge_effect'])"
   ]
  },
  {
   "cell_type": "code",
   "execution_count": null,
   "metadata": {},
   "outputs": [],
   "source": [
    "## add code to filter out intercepts and see the effect \n",
    "b_summary = az.summary(trace.posterior[\"b\"], hdi_prob=0.95, round_to=2, var_names=['b'])\n",
    "b_summary = pd.DataFrame(b_summary)\n",
    "b_means = b_summary.mean()\n",
    "print(b_means)"
   ]
  },
  {
   "cell_type": "code",
   "execution_count": null,
   "metadata": {},
   "outputs": [],
   "source": [
    "## add code to filter out charges\n",
    "charge_summary = az.summary(trace.posterior[\"charge_effect\"], hdi_prob=0.95, round_to=2, var_names=['charge_effect'])\n",
    "charge_summary = pd.DataFrame(charge_summary)\n",
    "charge_means = charge_summary.mean()\n",
    "print(charge_means)"
   ]
  },
  {
   "cell_type": "code",
   "execution_count": null,
   "metadata": {},
   "outputs": [],
   "source": [
    "## add code to filter out charges\n",
    "race_summary = az.summary(trace.posterior[\"b_race\"], hdi_prob=0.95, round_to=2, var_names=['b_race'])\n",
    "race_summary = pd.DataFrame(race_summary)\n",
    "race_means = race_summary.mean()\n",
    "print(race_means)"
   ]
  },
  {
   "cell_type": "code",
   "execution_count": null,
   "metadata": {},
   "outputs": [],
   "source": [
    "coef_summary = az.summary(trace.posterior[\"charge_effect\"])\n",
    "coef_summary.index = rc[\"charge_description\"].unique()\n",
    "\n",
    "coef_summary = coef_summary[[\"mean\", \"hdi_3%\", \"hdi_97%\"]]\n",
    "coef_summary.columns = [\"mean\", \"q05\", \"q95\"]\n",
    "\n",
    "\n",
    "## take the median?\n",
    "coef_summary = coef_summary.sort_values(\"mean\", ascending=False)\n",
    "print(coef_summary.head(10))\n",
    "\n",
    "coef_summary = coef_summary.sort_values(\"mean\")\n",
    "print(coef_summary.head(10))"
   ]
  }
 ],
 "metadata": {
  "kernelspec": {
   "display_name": "Python 3",
   "language": "python",
   "name": "python3"
  },
  "language_info": {
   "name": "python",
   "version": "3.11.1"
  },
  "orig_nbformat": 4
 },
 "nbformat": 4,
 "nbformat_minor": 2
}
