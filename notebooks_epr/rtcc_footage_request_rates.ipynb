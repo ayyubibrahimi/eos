{
 "cells": [
  {
   "cell_type": "code",
   "execution_count": 76,
   "metadata": {},
   "outputs": [],
   "source": [
    "## Public Records Request Notes\n",
    "## First PRR received on 3/29/2022 for data that spans 2018 - 3/29/2022\n",
    "## Second PPR received on 11/22/2022 for data that spans 3/29/2022 - 11/22/2022"
   ]
  },
  {
   "cell_type": "code",
   "execution_count": 77,
   "metadata": {},
   "outputs": [],
   "source": [
    "import pandas as pd\n",
    "import re"
   ]
  },
  {
   "cell_type": "code",
   "execution_count": 78,
   "metadata": {},
   "outputs": [],
   "source": [
    "from lib import standardize_item_numbers\n",
    "\n",
    "def clean():\n",
    "    dfa = pd.read_csv(\"../data/police_reports/electronic_police_report_2018_2022.csv\")\n",
    "    dfa = dfa.pipe(standardize_item_numbers, [\"item_number\"])\n",
    "    \n",
    "    dfb = pd.read_csv(\"../data/real_time_crime_center/rtcc.csv\")\n",
    "    dfb = dfb.pipe(standardize_item_numbers, [\"item_number\"])\n",
    "    dfb[\"rtcc_footage_requested\"] = \"yes\"\n",
    "\n",
    "    df = pd.merge(dfb, dfa, on=\"item_number\")\n",
    "    return df"
   ]
  },
  {
   "cell_type": "code",
   "execution_count": 79,
   "metadata": {},
   "outputs": [],
   "source": [
    "def drop_rows_missing_offender_race(df):\n",
    "    df.loc[:, \"offender_race\"] = df.offender_race.fillna(\"\").str.lower().str.strip()\\\n",
    "    .str.replace(\"unknown\", \"\", regex=False)\\\n",
    "    # .str.replace(\"hispanic\", \"\", regex=False)\\\n",
    "    # .str.replace(\"asian\", \"\", regex=False)\\\n",
    "    # .str.replace(r\"amer\\. ind\\.\", \"\", regex=True)\n",
    "    return df[~((df.offender_race == \"\"))]\n",
    "\n",
    "def drop_rows_missing_victim_race(df):\n",
    "    df.loc[:, \"victim_race\"] = df.victim_race.fillna(\"\").str.lower().str.strip()\\\n",
    "    .str.replace(\"unknown\", \"\", regex=False)\\\n",
    "    .str.replace(r\"native hawaiian or other pacific islander\", \"\", regex=False)\n",
    "    # .str.replace(\"hispanic\", \"\", regex=False)\\\n",
    "    # .str.replace(\"asian\", \"\", regex=False)\\\n",
    "    # .str.replace(r\"amer\\. ind\\.\", \"\", regex=True)\n",
    "    return df[~((df.victim_race == \"\"))]\n",
    "\n",
    "\n",
    "def filter_offender_gender(df):\n",
    "    df.loc[:, \"offender_gender\"] = (\n",
    "        df.offender_gender.str.lower().str.strip().fillna(\"\").str.replace(\"unknown\", \"\", regex=False)\n",
    "    )\n",
    "    return df[~((df.offender_gender == \"\"))]\n",
    "\n",
    "\n",
    "\n",
    "def filter_victim_gender(df):\n",
    "    df.loc[:, \"victim_gender\"] = (\n",
    "        df.offender_gender.str.lower().str.strip().fillna(\"\").str.replace(\"unknown\", \"\", regex=False)\n",
    "    )\n",
    "    return df[~((df.victim_gender == \"\"))]\n",
    "\n",
    "\n",
    "def filter_arrested(df):\n",
    "    df.loc[:, \"offenderstatus\"] = df.offenderstatus.str.lower().str.strip().fillna(\"\")\n",
    "    df = df[df.offenderstatus.isin([\"arrested\"])]\n",
    "    return df[~((df.offenderstatus == \"\"))]\n",
    "\n",
    "\n",
    "def filter_year(df):\n",
    "    # df = df[df.year.astype(str).isin([\"2018\", r\"2019\", r\"2020\", r\"2021\\.\", r\"2022\\.\"])]\n",
    "    return df[~((df.year.fillna(\"\") == \"\"))]\n",
    "  \n",
    "  \n",
    "def drop_rows_missing_charge_desc(df):\n",
    "    df.loc[:, \"charge_description\"] = df.charge_description.str.lower().str.strip().fillna(\"\")\n",
    "    return df[~((df.charge_description == \"\"))]"
   ]
  },
  {
   "cell_type": "code",
   "execution_count": 80,
   "metadata": {},
   "outputs": [
    {
     "name": "stderr",
     "output_type": "stream",
     "text": [
      "C:\\Users\\PC\\AppData\\Local\\Temp\\ipykernel_1324\\2761447203.py:4: DtypeWarning: Columns (13,23,24) have mixed types. Specify dtype option on import or set low_memory=False.\n",
      "  dfa = pd.read_csv(\"../data/police_reports/electronic_police_report_2018_2022.csv\")\n"
     ]
    }
   ],
   "source": [
    "df = clean()\n",
    "df.shape\n",
    "df.to_csv(\"../data/real_time_crime_center/rtcc_joined_with_police_reports_2018-2022.csv\", index=False)"
   ]
  },
  {
   "cell_type": "code",
   "execution_count": 81,
   "metadata": {},
   "outputs": [],
   "source": [
    "df = df.pipe(filter_year).pipe(drop_rows_missing_offender_race).pipe(filter_offender_gender)\\\n",
    "    .drop_duplicates(subset=[\"offender_race\", \"offender_gender\", \"offender_age\", \"item_number\"])"
   ]
  },
  {
   "cell_type": "code",
   "execution_count": 82,
   "metadata": {},
   "outputs": [
    {
     "data": {
      "text/plain": [
       "Index(['item_number', 'Signal Code', 'rtcc_footage_requested', 'district',\n",
       "       'location', 'disposition', 'signal_type', 'signal_description',\n",
       "       'occurred_date_time', 'charge_code', 'charge_description',\n",
       "       'offender_race', 'offender_gender', 'offender_age', 'offender_number',\n",
       "       'person_type', 'victim_race', 'victim_gender', 'victim_age',\n",
       "       'victim_number', 'victim_fatal_status', 'hate_crime', 'report_type',\n",
       "       'year', 'offenderid', 'offenderstatus', 'persontype'],\n",
       "      dtype='object')"
      ]
     },
     "execution_count": 82,
     "metadata": {},
     "output_type": "execute_result"
    }
   ],
   "source": [
    "df.columns"
   ]
  },
  {
   "cell_type": "code",
   "execution_count": 83,
   "metadata": {},
   "outputs": [],
   "source": [
    "df.loc[:, \"rtcc_footage_requested\"] = df.rtcc_footage_requested.fillna(\"no\")"
   ]
  },
  {
   "cell_type": "code",
   "execution_count": 84,
   "metadata": {},
   "outputs": [],
   "source": [
    "df[\"rtcc_footage_request_tally\"] = 1"
   ]
  },
  {
   "cell_type": "code",
   "execution_count": 85,
   "metadata": {},
   "outputs": [
    {
     "data": {
      "text/plain": [
       "yes    4815\n",
       "Name: rtcc_footage_requested, dtype: int64"
      ]
     },
     "execution_count": 85,
     "metadata": {},
     "output_type": "execute_result"
    }
   ],
   "source": [
    "df.rtcc_footage_requested.value_counts()"
   ]
  },
  {
   "cell_type": "code",
   "execution_count": 86,
   "metadata": {},
   "outputs": [],
   "source": [
    "rtcc = df[df.rtcc_footage_requested.isin([\"yes\"])]"
   ]
  },
  {
   "cell_type": "code",
   "execution_count": 87,
   "metadata": {},
   "outputs": [],
   "source": [
    "rtcc_district = rtcc[[\"district\", \"rtcc_footage_request_tally\",]]\n",
    "rtcc_district_perc = rtcc_district.groupby([\"district\",]).rtcc_footage_request_tally.count()/len(rtcc_district)\n",
    "rtcc_district_counts = rtcc_district.groupby([\"district\",]).rtcc_footage_request_tally.count()\n",
    "rtcc_district_counts = pd.DataFrame(rtcc_district_counts).reset_index()\n",
    "rtcc_district_perc = pd.DataFrame(rtcc_district_perc).reset_index()\n",
    "rtcc_district = pd.concat([rtcc_district_perc, rtcc_district_counts])\n",
    "# rtcc_district\n",
    "# rtcc_district.to_excel(\"../data/excel/rtcc_requests_district.xlsx\")"
   ]
  },
  {
   "cell_type": "code",
   "execution_count": 88,
   "metadata": {},
   "outputs": [],
   "source": [
    "rtcc = rtcc[[\"offender_race\", \"offender_gender\", \"rtcc_footage_request_tally\",]]\n",
    "rtcc = rtcc.groupby([\"offender_race\", \"offender_gender\"]).rtcc_footage_request_tally.count()\n",
    "rtcc = pd.DataFrame(rtcc).reset_index()"
   ]
  },
  {
   "cell_type": "code",
   "execution_count": 89,
   "metadata": {},
   "outputs": [],
   "source": [
    "# rtcc.loc[(rtcc.offender_race == \"black\"), \"population\"] = \"105498\"\n",
    "# rtcc.loc[(rtcc.offender_race == \"white\"), \"population\"] = \"65756\"\n",
    "# rtcc.loc[(rtcc.offender_race == \"hispanic\"), \"population\"] = \"11205\"\n",
    "# rtcc.loc[(rtcc.offender_race == \"amer. ind.\"), \"population\"] = \"360\"\n",
    "# rtcc.loc[(rtcc.offender_race == \"asian\"), \"population\"] = \"5499\"\n",
    "\n",
    "\n",
    "# rtcc.loc[(rtcc.victim_race == \"black\"), \"population\"] = \"105498\"\n",
    "# rtcc.loc[(rtcc.victim_race == \"white\"), \"population\"] = \"65756\"\n",
    "# rtcc.loc[(rtcc.victim_race == \"hispanic\"), \"population\"] = \"11205\"\n",
    "# rtcc.loc[(rtcc.victim_race == \"amer. ind.\"), \"population\"] = \"360\"\n",
    "# rtcc.loc[(rtcc.victim_race == \"asian\"), \"population\"] = \"5499\"\n",
    "\n",
    "rtcc.loc[(rtcc.offender_race == \"black\") & (rtcc.offender_gender == \"male\"), \"population\"] = \"52749\"\n",
    "rtcc.loc[(rtcc.offender_race == \"black\") & (rtcc.offender_gender == \"female\"), \"population\"] = \"52749\"\n",
    "rtcc.loc[(rtcc.offender_race == \"white\") & (rtcc.offender_gender == \"male\"), \"population\"] = \"32878\"\n",
    "rtcc.loc[(rtcc.offender_race == \"white\") & (rtcc.offender_gender == \"female\"), \"population\"] = \"32878\"\n",
    "rtcc.loc[(rtcc.offender_race == \"hispanic\") & (rtcc.offender_gender == \"male\"), \"population\"] = \"5602\"\n",
    "rtcc.loc[(rtcc.offender_race == \"hispanic\") & (rtcc.offender_gender == \"female\"), \"population\"] = \"5602\"\n",
    "rtcc.loc[(rtcc.offender_race == \"native american\") & (rtcc.offender_gender == \"male\"), \"population\"] = \"180\"\n",
    "rtcc.loc[(rtcc.offender_race == \"native american\") & (rtcc.offender_gender == \"female\"), \"population\"] = \"180\"\n",
    "rtcc.loc[(rtcc.offender_race == \"amer. ind.\") & (rtcc.offender_gender == \"male\"), \"population\"] = \"180\"\n",
    "rtcc.loc[(rtcc.offender_race == \"amer. ind.\") & (rtcc.offender_gender == \"female\"), \"population\"] = \"180\"\n",
    "rtcc.loc[(rtcc.offender_race == \"asian\") & (rtcc.offender_gender == \"male\"), \"population\"] = \"2750\"\n",
    "rtcc.loc[(rtcc.offender_race == \"asian\") & (rtcc.offender_gender == \"female\"), \"population\"] = \"2750\""
   ]
  },
  {
   "cell_type": "code",
   "execution_count": 90,
   "metadata": {},
   "outputs": [
    {
     "data": {
      "text/html": [
       "<div>\n",
       "<style scoped>\n",
       "    .dataframe tbody tr th:only-of-type {\n",
       "        vertical-align: middle;\n",
       "    }\n",
       "\n",
       "    .dataframe tbody tr th {\n",
       "        vertical-align: top;\n",
       "    }\n",
       "\n",
       "    .dataframe thead th {\n",
       "        text-align: right;\n",
       "    }\n",
       "</style>\n",
       "<table border=\"1\" class=\"dataframe\">\n",
       "  <thead>\n",
       "    <tr style=\"text-align: right;\">\n",
       "      <th></th>\n",
       "      <th>offender_race</th>\n",
       "      <th>offender_gender</th>\n",
       "      <th>rtcc_footage_request_tally</th>\n",
       "      <th>population</th>\n",
       "    </tr>\n",
       "  </thead>\n",
       "  <tbody>\n",
       "    <tr>\n",
       "      <th>0</th>\n",
       "      <td>amer. ind.</td>\n",
       "      <td>female</td>\n",
       "      <td>1</td>\n",
       "      <td>180</td>\n",
       "    </tr>\n",
       "    <tr>\n",
       "      <th>1</th>\n",
       "      <td>amer. ind.</td>\n",
       "      <td>male</td>\n",
       "      <td>2</td>\n",
       "      <td>180</td>\n",
       "    </tr>\n",
       "    <tr>\n",
       "      <th>2</th>\n",
       "      <td>asian</td>\n",
       "      <td>male</td>\n",
       "      <td>8</td>\n",
       "      <td>2750</td>\n",
       "    </tr>\n",
       "    <tr>\n",
       "      <th>3</th>\n",
       "      <td>black</td>\n",
       "      <td>female</td>\n",
       "      <td>604</td>\n",
       "      <td>52749</td>\n",
       "    </tr>\n",
       "    <tr>\n",
       "      <th>4</th>\n",
       "      <td>black</td>\n",
       "      <td>male</td>\n",
       "      <td>3692</td>\n",
       "      <td>52749</td>\n",
       "    </tr>\n",
       "    <tr>\n",
       "      <th>5</th>\n",
       "      <td>hispanic</td>\n",
       "      <td>female</td>\n",
       "      <td>10</td>\n",
       "      <td>5602</td>\n",
       "    </tr>\n",
       "    <tr>\n",
       "      <th>6</th>\n",
       "      <td>hispanic</td>\n",
       "      <td>male</td>\n",
       "      <td>47</td>\n",
       "      <td>5602</td>\n",
       "    </tr>\n",
       "    <tr>\n",
       "      <th>7</th>\n",
       "      <td>native hawaiian or other pacific islander</td>\n",
       "      <td>female</td>\n",
       "      <td>1</td>\n",
       "      <td>NaN</td>\n",
       "    </tr>\n",
       "    <tr>\n",
       "      <th>8</th>\n",
       "      <td>white</td>\n",
       "      <td>female</td>\n",
       "      <td>92</td>\n",
       "      <td>32878</td>\n",
       "    </tr>\n",
       "    <tr>\n",
       "      <th>9</th>\n",
       "      <td>white</td>\n",
       "      <td>male</td>\n",
       "      <td>358</td>\n",
       "      <td>32878</td>\n",
       "    </tr>\n",
       "  </tbody>\n",
       "</table>\n",
       "</div>"
      ],
      "text/plain": [
       "                               offender_race offender_gender  \\\n",
       "0                                 amer. ind.          female   \n",
       "1                                 amer. ind.            male   \n",
       "2                                      asian            male   \n",
       "3                                      black          female   \n",
       "4                                      black            male   \n",
       "5                                   hispanic          female   \n",
       "6                                   hispanic            male   \n",
       "7  native hawaiian or other pacific islander          female   \n",
       "8                                      white          female   \n",
       "9                                      white            male   \n",
       "\n",
       "   rtcc_footage_request_tally population  \n",
       "0                           1        180  \n",
       "1                           2        180  \n",
       "2                           8       2750  \n",
       "3                         604      52749  \n",
       "4                        3692      52749  \n",
       "5                          10       5602  \n",
       "6                          47       5602  \n",
       "7                           1        NaN  \n",
       "8                          92      32878  \n",
       "9                         358      32878  "
      ]
     },
     "execution_count": 90,
     "metadata": {},
     "output_type": "execute_result"
    }
   ],
   "source": [
    "rtcc"
   ]
  },
  {
   "cell_type": "code",
   "execution_count": 91,
   "metadata": {},
   "outputs": [],
   "source": [
    "def calc_rate(dfb_total, population=\"\"):\n",
    "    population = int(population)\n",
    "    rate = (( dfb_total / population) * 1000)\n",
    "    return rate"
   ]
  },
  {
   "cell_type": "code",
   "execution_count": 92,
   "metadata": {},
   "outputs": [
    {
     "ename": "ValueError",
     "evalue": "cannot convert float NaN to integer",
     "output_type": "error",
     "traceback": [
      "\u001b[1;31m---------------------------------------------------------------------------\u001b[0m",
      "\u001b[1;31mValueError\u001b[0m                                Traceback (most recent call last)",
      "\u001b[1;32mc:\\Users\\PC\\Desktop\\eos\\nopd_cameras\\notebooks_epr\\rtcc_footage_request_rates.ipynb Cell 17\u001b[0m in \u001b[0;36m1\n\u001b[1;32m----> <a href='vscode-notebook-cell:/c%3A/Users/PC/Desktop/eos/nopd_cameras/notebooks_epr/rtcc_footage_request_rates.ipynb#X22sZmlsZQ%3D%3D?line=0'>1</a>\u001b[0m rtcc[\u001b[39m\"\u001b[39m\u001b[39mrate_per_1000_persons\u001b[39m\u001b[39m\"\u001b[39m] \u001b[39m=\u001b[39m rtcc\u001b[39m.\u001b[39;49mapply(\u001b[39mlambda\u001b[39;49;00m x: calc_rate(x\u001b[39m.\u001b[39;49mrtcc_footage_request_tally, x\u001b[39m.\u001b[39;49mpopulation), axis\u001b[39m=\u001b[39;49m\u001b[39m1\u001b[39;49m)\n\u001b[0;32m      <a href='vscode-notebook-cell:/c%3A/Users/PC/Desktop/eos/nopd_cameras/notebooks_epr/rtcc_footage_request_rates.ipynb#X22sZmlsZQ%3D%3D?line=1'>2</a>\u001b[0m rtcc[\u001b[39m\"\u001b[39m\u001b[39myear\u001b[39m\u001b[39m\"\u001b[39m] \u001b[39m=\u001b[39m \u001b[39m\"\u001b[39m\u001b[39m2018-2022\u001b[39m\u001b[39m\"\u001b[39m\n\u001b[0;32m      <a href='vscode-notebook-cell:/c%3A/Users/PC/Desktop/eos/nopd_cameras/notebooks_epr/rtcc_footage_request_rates.ipynb#X22sZmlsZQ%3D%3D?line=2'>3</a>\u001b[0m rtcc\n",
      "File \u001b[1;32m~\\AppData\\Local\\Packages\\PythonSoftwareFoundation.Python.3.10_qbz5n2kfra8p0\\LocalCache\\local-packages\\Python310\\site-packages\\pandas\\core\\frame.py:8845\u001b[0m, in \u001b[0;36mDataFrame.apply\u001b[1;34m(self, func, axis, raw, result_type, args, **kwargs)\u001b[0m\n\u001b[0;32m   8834\u001b[0m \u001b[39mfrom\u001b[39;00m \u001b[39mpandas\u001b[39;00m\u001b[39m.\u001b[39;00m\u001b[39mcore\u001b[39;00m\u001b[39m.\u001b[39;00m\u001b[39mapply\u001b[39;00m \u001b[39mimport\u001b[39;00m frame_apply\n\u001b[0;32m   8836\u001b[0m op \u001b[39m=\u001b[39m frame_apply(\n\u001b[0;32m   8837\u001b[0m     \u001b[39mself\u001b[39m,\n\u001b[0;32m   8838\u001b[0m     func\u001b[39m=\u001b[39mfunc,\n\u001b[1;32m   (...)\u001b[0m\n\u001b[0;32m   8843\u001b[0m     kwargs\u001b[39m=\u001b[39mkwargs,\n\u001b[0;32m   8844\u001b[0m )\n\u001b[1;32m-> 8845\u001b[0m \u001b[39mreturn\u001b[39;00m op\u001b[39m.\u001b[39;49mapply()\u001b[39m.\u001b[39m__finalize__(\u001b[39mself\u001b[39m, method\u001b[39m=\u001b[39m\u001b[39m\"\u001b[39m\u001b[39mapply\u001b[39m\u001b[39m\"\u001b[39m)\n",
      "File \u001b[1;32m~\\AppData\\Local\\Packages\\PythonSoftwareFoundation.Python.3.10_qbz5n2kfra8p0\\LocalCache\\local-packages\\Python310\\site-packages\\pandas\\core\\apply.py:733\u001b[0m, in \u001b[0;36mFrameApply.apply\u001b[1;34m(self)\u001b[0m\n\u001b[0;32m    730\u001b[0m \u001b[39melif\u001b[39;00m \u001b[39mself\u001b[39m\u001b[39m.\u001b[39mraw:\n\u001b[0;32m    731\u001b[0m     \u001b[39mreturn\u001b[39;00m \u001b[39mself\u001b[39m\u001b[39m.\u001b[39mapply_raw()\n\u001b[1;32m--> 733\u001b[0m \u001b[39mreturn\u001b[39;00m \u001b[39mself\u001b[39;49m\u001b[39m.\u001b[39;49mapply_standard()\n",
      "File \u001b[1;32m~\\AppData\\Local\\Packages\\PythonSoftwareFoundation.Python.3.10_qbz5n2kfra8p0\\LocalCache\\local-packages\\Python310\\site-packages\\pandas\\core\\apply.py:857\u001b[0m, in \u001b[0;36mFrameApply.apply_standard\u001b[1;34m(self)\u001b[0m\n\u001b[0;32m    856\u001b[0m \u001b[39mdef\u001b[39;00m \u001b[39mapply_standard\u001b[39m(\u001b[39mself\u001b[39m):\n\u001b[1;32m--> 857\u001b[0m     results, res_index \u001b[39m=\u001b[39m \u001b[39mself\u001b[39;49m\u001b[39m.\u001b[39;49mapply_series_generator()\n\u001b[0;32m    859\u001b[0m     \u001b[39m# wrap results\u001b[39;00m\n\u001b[0;32m    860\u001b[0m     \u001b[39mreturn\u001b[39;00m \u001b[39mself\u001b[39m\u001b[39m.\u001b[39mwrap_results(results, res_index)\n",
      "File \u001b[1;32m~\\AppData\\Local\\Packages\\PythonSoftwareFoundation.Python.3.10_qbz5n2kfra8p0\\LocalCache\\local-packages\\Python310\\site-packages\\pandas\\core\\apply.py:873\u001b[0m, in \u001b[0;36mFrameApply.apply_series_generator\u001b[1;34m(self)\u001b[0m\n\u001b[0;32m    870\u001b[0m \u001b[39mwith\u001b[39;00m option_context(\u001b[39m\"\u001b[39m\u001b[39mmode.chained_assignment\u001b[39m\u001b[39m\"\u001b[39m, \u001b[39mNone\u001b[39;00m):\n\u001b[0;32m    871\u001b[0m     \u001b[39mfor\u001b[39;00m i, v \u001b[39min\u001b[39;00m \u001b[39menumerate\u001b[39m(series_gen):\n\u001b[0;32m    872\u001b[0m         \u001b[39m# ignore SettingWithCopy here in case the user mutates\u001b[39;00m\n\u001b[1;32m--> 873\u001b[0m         results[i] \u001b[39m=\u001b[39m \u001b[39mself\u001b[39;49m\u001b[39m.\u001b[39;49mf(v)\n\u001b[0;32m    874\u001b[0m         \u001b[39mif\u001b[39;00m \u001b[39misinstance\u001b[39m(results[i], ABCSeries):\n\u001b[0;32m    875\u001b[0m             \u001b[39m# If we have a view on v, we need to make a copy because\u001b[39;00m\n\u001b[0;32m    876\u001b[0m             \u001b[39m#  series_generator will swap out the underlying data\u001b[39;00m\n\u001b[0;32m    877\u001b[0m             results[i] \u001b[39m=\u001b[39m results[i]\u001b[39m.\u001b[39mcopy(deep\u001b[39m=\u001b[39m\u001b[39mFalse\u001b[39;00m)\n",
      "\u001b[1;32mc:\\Users\\PC\\Desktop\\eos\\nopd_cameras\\notebooks_epr\\rtcc_footage_request_rates.ipynb Cell 17\u001b[0m in \u001b[0;36m1\n\u001b[1;32m----> <a href='vscode-notebook-cell:/c%3A/Users/PC/Desktop/eos/nopd_cameras/notebooks_epr/rtcc_footage_request_rates.ipynb#X22sZmlsZQ%3D%3D?line=0'>1</a>\u001b[0m rtcc[\u001b[39m\"\u001b[39m\u001b[39mrate_per_1000_persons\u001b[39m\u001b[39m\"\u001b[39m] \u001b[39m=\u001b[39m rtcc\u001b[39m.\u001b[39mapply(\u001b[39mlambda\u001b[39;00m x: calc_rate(x\u001b[39m.\u001b[39;49mrtcc_footage_request_tally, x\u001b[39m.\u001b[39;49mpopulation), axis\u001b[39m=\u001b[39m\u001b[39m1\u001b[39m)\n\u001b[0;32m      <a href='vscode-notebook-cell:/c%3A/Users/PC/Desktop/eos/nopd_cameras/notebooks_epr/rtcc_footage_request_rates.ipynb#X22sZmlsZQ%3D%3D?line=1'>2</a>\u001b[0m rtcc[\u001b[39m\"\u001b[39m\u001b[39myear\u001b[39m\u001b[39m\"\u001b[39m] \u001b[39m=\u001b[39m \u001b[39m\"\u001b[39m\u001b[39m2018-2022\u001b[39m\u001b[39m\"\u001b[39m\n\u001b[0;32m      <a href='vscode-notebook-cell:/c%3A/Users/PC/Desktop/eos/nopd_cameras/notebooks_epr/rtcc_footage_request_rates.ipynb#X22sZmlsZQ%3D%3D?line=2'>3</a>\u001b[0m rtcc\n",
      "\u001b[1;32mc:\\Users\\PC\\Desktop\\eos\\nopd_cameras\\notebooks_epr\\rtcc_footage_request_rates.ipynb Cell 17\u001b[0m in \u001b[0;36m2\n\u001b[0;32m      <a href='vscode-notebook-cell:/c%3A/Users/PC/Desktop/eos/nopd_cameras/notebooks_epr/rtcc_footage_request_rates.ipynb#X22sZmlsZQ%3D%3D?line=0'>1</a>\u001b[0m \u001b[39mdef\u001b[39;00m \u001b[39mcalc_rate\u001b[39m(dfb_total, population\u001b[39m=\u001b[39m\u001b[39m\"\u001b[39m\u001b[39m\"\u001b[39m):\n\u001b[1;32m----> <a href='vscode-notebook-cell:/c%3A/Users/PC/Desktop/eos/nopd_cameras/notebooks_epr/rtcc_footage_request_rates.ipynb#X22sZmlsZQ%3D%3D?line=1'>2</a>\u001b[0m     population \u001b[39m=\u001b[39m \u001b[39mint\u001b[39;49m(population)\n\u001b[0;32m      <a href='vscode-notebook-cell:/c%3A/Users/PC/Desktop/eos/nopd_cameras/notebooks_epr/rtcc_footage_request_rates.ipynb#X22sZmlsZQ%3D%3D?line=2'>3</a>\u001b[0m     rate \u001b[39m=\u001b[39m (( dfb_total \u001b[39m/\u001b[39m population) \u001b[39m*\u001b[39m \u001b[39m1000\u001b[39m)\n\u001b[0;32m      <a href='vscode-notebook-cell:/c%3A/Users/PC/Desktop/eos/nopd_cameras/notebooks_epr/rtcc_footage_request_rates.ipynb#X22sZmlsZQ%3D%3D?line=3'>4</a>\u001b[0m     \u001b[39mreturn\u001b[39;00m rate\n",
      "\u001b[1;31mValueError\u001b[0m: cannot convert float NaN to integer"
     ]
    }
   ],
   "source": [
    "rtcc[\"rate_per_1000_persons\"] = rtcc.apply(lambda x: calc_rate(x.rtcc_footage_request_tally, x.population), axis=1)\n",
    "rtcc[\"year\"] = \"2018-2022\"\n",
    "rtcc"
   ]
  },
  {
   "cell_type": "code",
   "execution_count": null,
   "metadata": {},
   "outputs": [],
   "source": [
    "# rtcc.to_excel(\"../data/excel/rtcc_requests_offender_by_race_and_gender.xlsx\")"
   ]
  },
  {
   "cell_type": "code",
   "execution_count": null,
   "metadata": {},
   "outputs": [],
   "source": [
    "rtcc_charges = df[df.rtcc_footage_requested.isin([\"yes\"])]"
   ]
  },
  {
   "cell_type": "code",
   "execution_count": null,
   "metadata": {},
   "outputs": [
    {
     "data": {
      "text/plain": [
       "Index(['item_number', 'Signal Code', 'rtcc_footage_requested', 'Unnamed: 0',\n",
       "       'district', 'location', 'disposition', 'signal_type',\n",
       "       'signal_description', 'occurred_date_time', 'charge_code',\n",
       "       'charge_description', 'offender_race', 'offender_gender',\n",
       "       'offender_age', 'offender_number', 'person_type', 'victim_race',\n",
       "       'victim_gender', 'victim_age', 'victim_number', 'victim_fatal_status',\n",
       "       'hate_crime', 'report_type', 'year', 'offenderid', 'offenderstatus',\n",
       "       'persontype', 'rtcc_footage_request_tally'],\n",
       "      dtype='object')"
      ]
     },
     "execution_count": 20,
     "metadata": {},
     "output_type": "execute_result"
    }
   ],
   "source": [
    "rtcc_charges.columns"
   ]
  },
  {
   "cell_type": "code",
   "execution_count": null,
   "metadata": {},
   "outputs": [
    {
     "data": {
      "text/plain": [
       "array(['SECOND DEGREE MURDER', 'SIMPLE CRIMINAL DAMAGE TO PROPERTY',\n",
       "       'ARMED ROBBERY', 'THEFT OF A MOTOR VEHICLE', 'BATTERY',\n",
       "       'POSSESSION OF FIREARM BY JUVENILE', 'AGG. BATTERY',\n",
       "       'AGGRAVATED ASSAULT WITH A FIREARM',\n",
       "       'ILLEGAL POSSESSION OF STOLEN THINGS', 'SIMPLE BURGLARY',\n",
       "       'SEXUAL BATTERY', 'SIMPLE ROBBERY', 'SIMPLE BATTERY',\n",
       "       'SIMPLE BURGLARY (INHABITED DWELLING)', 'PURSE SNATCHING', nan,\n",
       "       'ILLEGAL CARRYING OF WEAPON', 'OBSCENITY',\n",
       "       'AGG. SECOND DEGREE BATTERY', 'CRIMINAL DAMAGE TO PROPERTY',\n",
       "       'AGG. ASSAULT', 'ATTEMPT - PURSE SNATCHING',\n",
       "       'ATTEMPT - SECOND DEGREEMURDER', 'PRINCIPAL TO ARMED ROBBERY',\n",
       "       'ATTEMPT - ARMED ROBBERY', 'BATTERY OF A DATING PARTNER (SIMPLE)',\n",
       "       'CARJACKING', 'USE OF FIREARM IN ROBBERY', 'AGG. CRIMINAL DAMAGE',\n",
       "       'AGG. BURGLARY', 'THEFT', 'RECKLESS OPERATION OF A VEHICLE',\n",
       "       'ILLEGAL DUMPING', 'DISTURBING THE PEACE',\n",
       "       'POSSESSION OF FIREARM BY FELON', 'ILLEGAL USE OF WEAPONS',\n",
       "       'NEGLIGENT INJURING', 'GARBAGE IN STREETS',\n",
       "       'PROHIBITED ACTS--SCHEDULE I DRUGS',\n",
       "       'DOMESTIC ABUSE BATTERY - SIMPLE',\n",
       "       'DOMESTIC ABUSE AGGRAVATED ASSAULT',\n",
       "       'PROHIBITED ACTS - DRUG PARAPHENALIA',\n",
       "       'NEW BUSINESS; LICENSE DUE UPON COMMENCEMENT',\n",
       "       'SECOND DEGREE BATTERY', 'TERRORIZING',\n",
       "       'ILLEGAL POSSESSION OF STOLEN FIREARMS',\n",
       "       'ILLEGAL CARRYING OF A WEAPON WHILE IN POSSESSION OF NARCOTICS',\n",
       "       'FIRST DEGREE MURDER', 'PRINCIPAL TO THEFT',\n",
       "       'ACTS OF DOMESTIC VIOLENCE(STRANGULATION) - AGGRAVATED',\n",
       "       'CONSPIRACY TO POSSESSION OF SCHEDULE II CDS', 'SIMPLE ASSAULT',\n",
       "       'PROHIBITED ACTS-- SCHEDULE II DRUGS', 'SIMPLE ARSON',\n",
       "       'AGGRAVATED ASSAULT UPON A DATING PARTNER',\n",
       "       'ATTEMPT - SIMPLE ROBBERY', 'FIRST DEGREE ROBBERY',\n",
       "       'SALE OF SPECULATIVE ITEMS', 'UNAUTHORIZED USE OF A MOTOR VEHICLE',\n",
       "       'ATTEMPT - SIMPLE KIDNAPPING', 'ATTEMPT - CARJACKING',\n",
       "       'RESISTING AN OFFICER', 'CRIMINAL TRESPASS',\n",
       "       'VIOLATIONS OF PROTECTIVE ORDERS',\n",
       "       'PUBLIC DRUNK; DRUG INCAPACITATION', 'HIT & RUN DRIVING',\n",
       "       'OBSTRUCTING PUBLIC PASSAGES',\n",
       "       'ATTEMPT ARMED ROBBERY WITH A FIREARM', 'FOLLOWING TO CLOSELY',\n",
       "       'ILLEGAL CARRYING OF WEAPONS', 'PRINCIPAL TO SIMPLE ROBBERY',\n",
       "       'UNAUTHORIZED ENTRY (BUSINESS)', 'FAILURRE TO REMIT TAX',\n",
       "       'FIRST DEGREE RAPE', 'INJURING PUBLIC RECORDS',\n",
       "       'POSSESSION OF STOLEN PROPERTY', 'ATTEMPT - SIMPLE BURGLARY',\n",
       "       'BATTERY OF A POLICE OFFICER', 'SIMPLE KIDNAPPING',\n",
       "       'CERTAIN POSSESSION OF FIREARMS', 'PRINCIPAL TO 2ND DEGREE MURDER',\n",
       "       'ACCESSORY - 2ND DEGREE MURDER', 'PRINCIPAL TO AGG. BATTERY',\n",
       "       'ATTEMPT - FIRST DEGREE MURDER',\n",
       "       'AGGRAVATED ASSAULT UPON A PEACE OFFICER',\n",
       "       'ATTEMPT THEFT OF A MOTOR VEHICLE', 'ATTEMPT - THEFT',\n",
       "       'ACCESS DEVICE FRAUD', 'ACCESSORY - ARMED ROBBERY',\n",
       "       'IDENTITY THEFT',\n",
       "       'ACTS OF DOMESTIC VIOLENCE(STRANGULATION) - SIMPLE',\n",
       "       \"VIEUX CARRE' MALLS\", 'UNAUTHORIZED USE OF MOVABLE', 'ASSAULT',\n",
       "       'PRINCIPAL TO AGG. ASSAULT', 'CRIMINAL MISCHIEF',\n",
       "       'SIMPLE OBSTRUCTION OF A HIGHWAY ', 'ATTEMPT - CRIMINAL DAMAGE ',\n",
       "       'ACCESSORY - AGG. BATTERY', 'UNAUTHORIZED USE OF ACCESS CARD',\n",
       "       'BANK FRAUD', 'DOMESTIC ABUSE BATTERY',\n",
       "       'POSSESSING FIREARM ABO PREMISES',\n",
       "       'PRINCIPAL TO ATTEMPTED ARMED ROBBERY',\n",
       "       'POSSESSING IMITATION NARCOTICS',\n",
       "       'THEFT OF THE ASSETS OF A PERSON WHO IS AGED OR PERSON WITH A DISABILITY',\n",
       "       'PROHIBITED ACTS-- SCHEDULE IV DRUGS',\n",
       "       'MISDEMEANOR SEXUAL BATTERY', 'BATTERY OF A DATING PARTNER',\n",
       "       'CRIMINAL DAMAGE/REMOVING PROPERTY', 'ACCESSORY - THEFT',\n",
       "       'SIMPLE POSSESSION OF MARIJUANA AND/OR SYNTHETIC CANNABINOIDS',\n",
       "       'INTERFERING WITH A LAW ENFORCEMENT INVESTIGATION',\n",
       "       'ASSAULT BY DRIVE BY SHOOTING', 'FALSIFYING REPORTS ALARMS',\n",
       "       'ACCESSORY TO POSSESSION OF SCHEDULE II CDS',\n",
       "       'FIRST DEGREE VEHICULAR INJURING',\n",
       "       'RELATIVE TO MISSING/RUNAWAY JUVENILE',\n",
       "       'PRINCIPAL TO SIMPLE BURGLARY', 'FLIGHT FROM AN OFFICER',\n",
       "       'WARRANT ISSUED BY', 'CONSPIRACY TO POSSESSION OF SCHEDULE I CDS',\n",
       "       'FALSE IMPRISONEMENT WHILE ARMED',\n",
       "       'PRINCIPAL TO POSSESSION OF SCHEDULE II CDS', 'LEWD CONDUCT',\n",
       "       'THEFT OF DOGS', 'OPERATING VEHICLE WHILE INTOXICATED',\n",
       "       'ATTEMPT - DISARMING A PEACE OFFICER', 'OBSTRUCTION OF JUSTICE',\n",
       "       'POSSESSION OF MARIJUANA (1ST OFFENSE)',\n",
       "       'RELATIVE TO HOME INVASION', 'OBEDIENCE TO TRAFFIC CONTROLS',\n",
       "       'DRUG PARAPHERNALIA', 'PRINCIPAL TO CRIMINAL DAMAGE',\n",
       "       'CRIMINAL DAMAGE TO HISTORIC BUILDINGS OR LANDMARKS BY DEFACING WITH GRAFFITI',\n",
       "       'SECOND DEGREE RAPE', 'FILING FALSE RECORDS',\n",
       "       'SECOND DEGREE KIDNAPING', 'THIRD DEGREE RAPE',\n",
       "       'FALSIFYING REPORTS, ALARMS', 'SECOND DEGREE ROBBERY',\n",
       "       'ONE WAY ROADWAYS & TRAFFIC ISLANDS', 'EXTORTION', 'TAMPERING',\n",
       "       'UNAUTHORIZED USE OF MOVEABLES', 'PROSTITUTION',\n",
       "       'RELATIVE TO PRINCIPAL TO ATTEMPTED HOMICIDE',\n",
       "       'ACTS OF DOMESTIC VIOLENCE(STRANGULATION)', 'CREDIT CARD FRAUD',\n",
       "       'OBSCENE LIVE CONDUCT', 'AGGRESSIVE SOLICITATION',\n",
       "       'BATTERY OF EMERGENCY ROOM PERSONNEL, EMERGENCY SERVICES PERSONNEL, OR A HEALTHCARE PROFESSIONAL',\n",
       "       'ATTEMPT - FIRST DEGREE ROBBERY', 'THEFT OF GOODS',\n",
       "       'RUNAWAY JUVENILE', 'PRINCIPAL TO POSSESSION OF SCHEDULE I CDS',\n",
       "       'ACCESSORY TO POSSESSION OF SCHEDULE I CDS',\n",
       "       'CONTRIBUTING TO DELINQUENCY (MINOR)', 'TRAFFIC ATTACHMANT#',\n",
       "       'FIREARM FREE ZONES',\n",
       "       'PRINCIPAL TO AGGRAVATED SECOND DEGREE BATTERY',\n",
       "       'RELATIVE TO DOMESTIC ABUSE BATTERY (CHILD ENDANGERMENT. CHILD/CHILDREN 13 YEARS OF AGE OR YOUNGER PR',\n",
       "       'AGG. ARSON', 'CYBER STALKING',\n",
       "       'PROHIBITED ACTS-- SCHEDULE III DRUGS',\n",
       "       'ATTEMPT - SIMPLE BURGLARY-DWELLING',\n",
       "       'SIMPLE BURGLARY OF A LAW ENFORCEMENT OR EMERGENCY VEHICLE',\n",
       "       'DISREGARDING TRAFFIC CONTROL SIGN', 'CRUELTY TO ANIMALS',\n",
       "       'ASSAULT ON PEACE OFFICER (FIREARM)', 'CDC WARRANT#',\n",
       "       'POSSESSION OF A FIREARM OR CARRYING OF A CONCEALED WEAPON BY A PERSON CONVICTED OF DOMESTIC ABUSE BA',\n",
       "       'FALSE SWEARING / VIOLATING', 'ATTEMPT - CREDIT CARD FRAUD',\n",
       "       'SPECIAL RESTRICTIONS ON LAMPS', 'PROOF OF INSURANCE',\n",
       "       'CARELESS OPERATION OF A VEHICLE',\n",
       "       'DOMESTIC ABUSE BATTERY(PREGNANT VICTIM) - SIMPLE ',\n",
       "       'CONSPIRACY - SIMPLE ROBBERY', 'ACCESSORY - AGG. ASSAULT',\n",
       "       'DISTURBING THE PEACE - FISTIC ENCOUNTER',\n",
       "       'ATTEMPT - THEFT OF A MOTOR VEHICLE', 'ATTEMPT SECOND DEGREE RAPE',\n",
       "       'LITTERING FROM MOTOR VEHICLE', 'PRINCIPAL TO AGG. ARSON',\n",
       "       'DOMESTIC ABUSE BATTERY(CHILD ENDANGERMENT) - SIMPLE',\n",
       "       'DISTURBING THE PEACE - VIOLENT/TUMULTUOUS MANNER', 'FORGERY',\n",
       "       'ATTEMPT - POSSESSION STOLEN THINGS', \"DRIVER'S LICENSE REQUIRED.\"],\n",
       "      dtype=object)"
      ]
     },
     "execution_count": 21,
     "metadata": {},
     "output_type": "execute_result"
    }
   ],
   "source": [
    "rtcc_charges.charge_description.unique()"
   ]
  },
  {
   "cell_type": "code",
   "execution_count": null,
   "metadata": {},
   "outputs": [],
   "source": [
    "# rtcc_charges.charge_description.value_counts().head(25).to_excel(\"../data/excel/rtcc_charges_charge_description.xlsx\")"
   ]
  },
  {
   "cell_type": "code",
   "execution_count": null,
   "metadata": {},
   "outputs": [],
   "source": [
    "# rtcc_charges.groupby(\"year\").disposition.value_counts().to_excel(\"../data/excel/rtcc_charges_disposition.xlsx\")"
   ]
  },
  {
   "cell_type": "code",
   "execution_count": null,
   "metadata": {},
   "outputs": [
    {
     "data": {
      "text/plain": [
       "array(['male', 'female'], dtype=object)"
      ]
     },
     "execution_count": 24,
     "metadata": {},
     "output_type": "execute_result"
    }
   ],
   "source": [
    "rtcc_charges.loc[:, \"offender_gender\"] = rtcc_charges.offender_gender.str.lower().str.strip().fillna(\"\")\\\n",
    "    .str.replace(r\"unknown\", \"\", regex=True)\n",
    "rtcc_charges.offender_gender.unique()"
   ]
  },
  {
   "cell_type": "code",
   "execution_count": null,
   "metadata": {},
   "outputs": [
    {
     "data": {
      "text/plain": [
       "Index(['rtcc_footage_requested'], dtype='object')"
      ]
     },
     "execution_count": 26,
     "metadata": {},
     "output_type": "execute_result"
    }
   ],
   "source": [
    "charge = df[df.charge_description.isin([\"ILLEGAL POSSESSION OF STOLEN THINGS\"])]\n",
    "\n",
    "\n",
    "blacks = charge[charge.offender_race.isin([\"black\"])]\n",
    "blacks_perc = blacks.groupby([\"offender_race\", \"charge_description\"]).rtcc_footage_requested.value_counts()/len(blacks)\n",
    "blacks_perc = pd.DataFrame(blacks_perc)\n",
    "\n",
    "blacks_counts = blacks.groupby([\"offender_race\", \"charge_description\"]).rtcc_footage_requested.value_counts()\n",
    "blacks_counts = pd.DataFrame(blacks_counts)\n",
    "\n",
    "\n",
    "whites = charge[charge.offender_race.isin([\"white\"])]\n",
    "whites_perc = whites.groupby([\"offender_race\", \"charge_description\"]).rtcc_footage_requested.value_counts()/len(whites)\n",
    "whites_perc = pd.DataFrame(whites_perc)\n",
    "\n",
    "whites_counts = whites.groupby([\"offender_race\", \"charge_description\"]).rtcc_footage_requested.value_counts()\n",
    "whites_counts = pd.DataFrame(whites_counts)\n",
    "\n",
    "\n",
    "df_concat = pd.DataFrame(pd.concat([blacks_perc, whites_perc, blacks_counts, whites_counts]))\n",
    "df_concat.columns\n",
    "# df_concat.sort_values(\"offender_race\").to_excel(\"../data/excel/armed_robbery_rtcc_footage_request_by_illegal_posses.xlsx\")\n",
    "# df_concat\n",
    "# df_concat.to_excel(\"../data/excel/armed_robbery_rtcc_footage_request_by_race_armed_robbery.xlsx\")\n"
   ]
  }
 ],
 "metadata": {
  "kernelspec": {
   "display_name": "Python 3",
   "language": "python",
   "name": "python3"
  },
  "language_info": {
   "codemirror_mode": {
    "name": "ipython",
    "version": 3
   },
   "file_extension": ".py",
   "mimetype": "text/x-python",
   "name": "python",
   "nbconvert_exporter": "python",
   "pygments_lexer": "ipython3",
   "version": "3.10.10"
  },
  "orig_nbformat": 4,
  "vscode": {
   "interpreter": {
    "hash": "23f823caeccb1684f6bd50492b68bb5eab208de0408f39b2457c6a38c0e8e818"
   }
  }
 },
 "nbformat": 4,
 "nbformat_minor": 2
}
