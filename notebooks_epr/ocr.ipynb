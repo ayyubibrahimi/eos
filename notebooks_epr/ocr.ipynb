{
 "cells": [
  {
   "cell_type": "code",
   "execution_count": 1,
   "metadata": {},
   "outputs": [],
   "source": [
    "from wand.image import Image as WImage\n",
    "from wand.color import Color\n",
    "from wand.api import library\n",
    "from PIL import Image as PI\n",
    "import io\n",
    "import os\n",
    "import pyocr\n",
    "import pyocr.builders\n",
    "import pandas as pd\n",
    "import os"
   ]
  },
  {
   "cell_type": "code",
   "execution_count": 2,
   "metadata": {},
   "outputs": [],
   "source": [
    "def ocr_pdfs():\n",
    "    pyocr.tesseract.TESSERACT_CMD = r\"C:/Program Files/Tesseract-OCR/tesseract.exe\"\n",
    "    dir_path = os.chdir(\"C:/Users/PC/Desktop/eos/nopd_cameras/data/join_rtcc_tables\")\n",
    "    for file in os.listdir(dir_path):\n",
    "        if file.endswith(\".pdf\"):\n",
    "            tools = pyocr.get_available_tools()\n",
    "            if len(tools) == 0:\n",
    "                raise Exception(\"No tool available\")\n",
    "\n",
    "            tool = tools[0]\n",
    "            print(\"Will use tool '%s'\" % (tool.get_name()))\n",
    "            langs = tool.get_available_languages()\n",
    "            print(\"Available languages: %s\" % \", \".join(langs))\n",
    "            lang = langs[0]  # For English\n",
    "            print(\"Will use language '%s'\" % (lang))\n",
    "\n",
    "            req_image = []\n",
    "            final_text = {}\n",
    "\n",
    "            with WImage(filename=file, resolution=300) as image_pdf:\n",
    "                image_jpeg = image_pdf.convert(\"pdf\")\n",
    "\n",
    "            try:\n",
    "                for img in image_jpeg.sequence:\n",
    "                    img_page = WImage(image=img)\n",
    "                    req_image.append(img_page.make_blob(\"jpeg\"))\n",
    "            finally:\n",
    "                image_jpeg.destroy()\n",
    "\n",
    "            i = 0\n",
    "            for img in req_image:\n",
    "                txt = tool.image_to_string(\n",
    "                    PI.open(io.BytesIO(img)),\n",
    "                    lang=lang,\n",
    "                    builder=pyocr.builders.TextBuilder(),\n",
    "                )\n",
    "                final_text[str(i)] = txt\n",
    "                i += 1\n",
    "\n",
    "            text = final_text.items()\n",
    "            df = pd.DataFrame(text)\n",
    "            file_name = file + \".txt\"\n",
    "            path = r\"C:/Users/PC/Desktop/eos/nopd_cameras/data/rtcc/join_rtcc_tables/\"\n",
    "            df.to_csv(path + file_name)\n",
    "    return df"
   ]
  },
  {
   "cell_type": "code",
   "execution_count": 3,
   "metadata": {},
   "outputs": [
    {
     "name": "stdout",
     "output_type": "stream",
     "text": [
      "Will use tool 'Tesseract (sh)'\n",
      "Available languages: eng, osd\n",
      "Will use language 'eng'\n"
     ]
    },
    {
     "ename": "CacheError",
     "evalue": "unable to extend cache 'C:/Users/PC/AppData/Local/Temp/magick-nQ9JG49GVZJhm41L6SmkBWO6yDB91eHV72': No space left on device @ error/cache.c/OpenPixelCache/3910",
     "output_type": "error",
     "traceback": [
      "\u001b[1;31m---------------------------------------------------------------------------\u001b[0m",
      "\u001b[1;31mCacheError\u001b[0m                                Traceback (most recent call last)",
      "Cell \u001b[1;32mIn [3], line 1\u001b[0m\n\u001b[1;32m----> 1\u001b[0m ocr \u001b[39m=\u001b[39m ocr_pdfs()\n",
      "Cell \u001b[1;32mIn [2], line 20\u001b[0m, in \u001b[0;36mocr_pdfs\u001b[1;34m()\u001b[0m\n\u001b[0;32m     17\u001b[0m req_image \u001b[39m=\u001b[39m []\n\u001b[0;32m     18\u001b[0m final_text \u001b[39m=\u001b[39m {}\n\u001b[1;32m---> 20\u001b[0m \u001b[39mwith\u001b[39;00m WImage(filename\u001b[39m=\u001b[39;49mfile, resolution\u001b[39m=\u001b[39;49m\u001b[39m300\u001b[39;49m) \u001b[39mas\u001b[39;00m image_pdf:\n\u001b[0;32m     21\u001b[0m     image_jpeg \u001b[39m=\u001b[39m image_pdf\u001b[39m.\u001b[39mconvert(\u001b[39m\"\u001b[39m\u001b[39mpdf\u001b[39m\u001b[39m\"\u001b[39m)\n\u001b[0;32m     23\u001b[0m \u001b[39mtry\u001b[39;00m:\n",
      "File \u001b[1;32m~\\AppData\\Local\\Packages\\PythonSoftwareFoundation.Python.3.10_qbz5n2kfra8p0\\LocalCache\\local-packages\\Python310\\site-packages\\wand\\image.py:9347\u001b[0m, in \u001b[0;36mImage.__init__\u001b[1;34m(self, image, blob, file, filename, pseudo, background, colorspace, depth, extract, format, height, interlace, resolution, sampling_factors, units, width)\u001b[0m\n\u001b[0;32m   9345\u001b[0m     \u001b[39mself\u001b[39m\u001b[39m.\u001b[39msequence \u001b[39m=\u001b[39m Sequence(\u001b[39mself\u001b[39m)\n\u001b[0;32m   9346\u001b[0m     \u001b[39mself\u001b[39m\u001b[39m.\u001b[39mprofiles \u001b[39m=\u001b[39m ProfileDict(\u001b[39mself\u001b[39m)\n\u001b[1;32m-> 9347\u001b[0m \u001b[39mself\u001b[39;49m\u001b[39m.\u001b[39;49mraise_exception()\n",
      "File \u001b[1;32m~\\AppData\\Local\\Packages\\PythonSoftwareFoundation.Python.3.10_qbz5n2kfra8p0\\LocalCache\\local-packages\\Python310\\site-packages\\wand\\resource.py:225\u001b[0m, in \u001b[0;36mResource.raise_exception\u001b[1;34m(self, stacklevel)\u001b[0m\n\u001b[0;32m    223\u001b[0m     warnings\u001b[39m.\u001b[39mwarn(e, stacklevel\u001b[39m=\u001b[39mstacklevel \u001b[39m+\u001b[39m \u001b[39m1\u001b[39m)\n\u001b[0;32m    224\u001b[0m \u001b[39melif\u001b[39;00m \u001b[39misinstance\u001b[39m(e, \u001b[39mException\u001b[39;00m):\n\u001b[1;32m--> 225\u001b[0m     \u001b[39mraise\u001b[39;00m e\n",
      "\u001b[1;31mCacheError\u001b[0m: unable to extend cache 'C:/Users/PC/AppData/Local/Temp/magick-nQ9JG49GVZJhm41L6SmkBWO6yDB91eHV72': No space left on device @ error/cache.c/OpenPixelCache/3910"
     ]
    }
   ],
   "source": [
    "ocr = ocr_pdfs()"
   ]
  }
 ],
 "metadata": {
  "kernelspec": {
   "display_name": "Python 3.10.8 64-bit (microsoft store)",
   "language": "python",
   "name": "python3"
  },
  "language_info": {
   "codemirror_mode": {
    "name": "ipython",
    "version": 3
   },
   "file_extension": ".py",
   "mimetype": "text/x-python",
   "name": "python",
   "nbconvert_exporter": "python",
   "pygments_lexer": "ipython3",
   "version": "3.10.10"
  },
  "orig_nbformat": 4,
  "vscode": {
   "interpreter": {
    "hash": "23f823caeccb1684f6bd50492b68bb5eab208de0408f39b2457c6a38c0e8e818"
   }
  }
 },
 "nbformat": 4,
 "nbformat_minor": 2
}
