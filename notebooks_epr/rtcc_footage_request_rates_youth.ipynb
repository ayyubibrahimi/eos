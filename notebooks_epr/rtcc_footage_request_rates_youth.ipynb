{
 "cells": [
  {
   "cell_type": "code",
   "execution_count": 15,
   "metadata": {},
   "outputs": [],
   "source": [
    "## Public Records Request Notes\n",
    "## First PRR received on 3/29/2022 for data that spans 2018 - 3/29/2022\n",
    "## Second PPR received on 11/22/2022 for data that spans 3/29/2022 - 11/22/2022"
   ]
  },
  {
   "cell_type": "code",
   "execution_count": 16,
   "metadata": {},
   "outputs": [],
   "source": [
    "import pandas as pd\n",
    "import re\n",
    "from lib import standardize_item_numbers"
   ]
  },
  {
   "cell_type": "code",
   "execution_count": 17,
   "metadata": {},
   "outputs": [],
   "source": [
    "def clean():\n",
    "    dfa = pd.read_csv(\"../data/police_reports/electronic_police_report_2018_2022.csv\")\n",
    "    dfa = dfa.pipe(standardize_item_numbers, [\"item_number\"])\n",
    "    \n",
    "    dfb = pd.read_csv(\"../data/real_time_crime_center/rtcc.csv\")\n",
    "    dfb = dfb.pipe(standardize_item_numbers, [\"item_number\"])\n",
    "    dfb[\"rtcc_footage_requested\"] = \"yes\"\n",
    "\n",
    "    df = pd.merge(dfb, dfa, on=\"item_number\")\n",
    "    return df"
   ]
  },
  {
   "cell_type": "code",
   "execution_count": 18,
   "metadata": {},
   "outputs": [],
   "source": [
    "def drop_rows_missing_offender_race(df):\n",
    "    df.loc[:, \"offender_race\"] = df.offender_race.fillna(\"\").str.lower().str.strip()\\\n",
    "    .str.replace(\"unknown\", \"\", regex=False)\\\n",
    "    # .str.replace(\"hispanic\", \"\", regex=False)\\\n",
    "    # .str.replace(\"asian\", \"\", regex=False)\\\n",
    "    # .str.replace(r\"amer\\. ind\\.\", \"\", regex=True)\n",
    "    return df[~((df.offender_race == \"\"))]\n",
    "\n",
    "def drop_rows_missing_victim_race(df):\n",
    "    df.loc[:, \"victim_race\"] = df.victim_race.fillna(\"\").str.lower().str.strip()\\\n",
    "    .str.replace(\"unknown\", \"\", regex=False)\\\n",
    "    .str.replace(r\"native hawaiian or other pacific islander\", \"\", regex=False)\n",
    "    # .str.replace(\"hispanic\", \"\", regex=False)\\\n",
    "    # .str.replace(\"asian\", \"\", regex=False)\\\n",
    "    # .str.replace(r\"amer\\. ind\\.\", \"\", regex=True)\n",
    "    return df[~((df.victim_race == \"\"))]\n",
    "\n",
    "\n",
    "def filter_offender_gender(df):\n",
    "    df.loc[:, \"offender_gender\"] = (\n",
    "        df.offender_gender.str.lower().str.strip().fillna(\"\").str.replace(\"unknown\", \"\", regex=False)\n",
    "    )\n",
    "    return df[~((df.offender_gender == \"\"))]\n",
    "\n",
    "\n",
    "\n",
    "def filter_victim_gender(df):\n",
    "    df.loc[:, \"victim_gender\"] = (\n",
    "        df.offender_gender.str.lower().str.strip().fillna(\"\").str.replace(\"unknown\", \"\", regex=False)\n",
    "    )\n",
    "    return df[~((df.victim_gender == \"\"))]\n",
    "\n",
    "\n",
    "def filter_arrested(df):\n",
    "    df.loc[:, \"offenderstatus\"] = df.offenderstatus.str.lower().str.strip().fillna(\"\")\n",
    "    df = df[df.offenderstatus.isin([\"arrested\"])]\n",
    "    return df[~((df.offenderstatus == \"\"))]\n",
    "\n",
    "\n",
    "def drop_rows_missing_data(df):\n",
    "    return df[~((df.year.fillna(\"\") == \"\"))]\n",
    "  \n",
    "  \n",
    "def drop_rows_missing_charge_desc(df):\n",
    "    df.loc[:, \"charge_description\"] = df.charge_description.str.lower().str.strip().fillna(\"\")\n",
    "    return df[~((df.charge_description == \"\"))]"
   ]
  },
  {
   "cell_type": "code",
   "execution_count": 19,
   "metadata": {},
   "outputs": [
    {
     "name": "stderr",
     "output_type": "stream",
     "text": [
      "C:\\Users\\PC\\AppData\\Local\\Temp\\ipykernel_17684\\359145378.py:2: DtypeWarning: Columns (14,20,24,25) have mixed types. Specify dtype option on import or set low_memory=False.\n",
      "  dfa = pd.read_csv(\"../data/police_reports/electronic_police_report_2018_2022.csv\")\n"
     ]
    },
    {
     "data": {
      "text/plain": [
       "(22742, 28)"
      ]
     },
     "execution_count": 19,
     "metadata": {},
     "output_type": "execute_result"
    }
   ],
   "source": [
    "df = clean()\n",
    "df = df[df.rtcc_footage_requested.isin([\"yes\"])]\n",
    "df.shape"
   ]
  },
  {
   "cell_type": "code",
   "execution_count": 20,
   "metadata": {},
   "outputs": [
    {
     "data": {
      "text/plain": [
       "Index(['item_number', 'Signal Code', 'rtcc_footage_requested', 'Unnamed: 0',\n",
       "       'district', 'location', 'disposition', 'signal_type',\n",
       "       'signal_description', 'occurred_date_time', 'charge_code',\n",
       "       'charge_description', 'offender_race', 'offender_gender',\n",
       "       'offender_age', 'offender_number', 'person_type', 'victim_race',\n",
       "       'victim_gender', 'victim_age', 'victim_number', 'victim_fatal_status',\n",
       "       'hate_crime', 'report_type', 'year', 'offenderid', 'offenderstatus',\n",
       "       'persontype'],\n",
       "      dtype='object')"
      ]
     },
     "execution_count": 20,
     "metadata": {},
     "output_type": "execute_result"
    }
   ],
   "source": [
    "df.columns"
   ]
  },
  {
   "cell_type": "code",
   "execution_count": 21,
   "metadata": {},
   "outputs": [],
   "source": [
    "df = df.pipe(drop_rows_missing_offender_race).drop_duplicates(subset=[\"offender_race\", \"offender_gender\",\"offender_age\", \"item_number\"])"
   ]
  },
  {
   "cell_type": "code",
   "execution_count": 22,
   "metadata": {},
   "outputs": [
    {
     "data": {
      "text/plain": [
       "Index(['item_number', 'Signal Code', 'rtcc_footage_requested', 'Unnamed: 0',\n",
       "       'district', 'location', 'disposition', 'signal_type',\n",
       "       'signal_description', 'occurred_date_time', 'charge_code',\n",
       "       'charge_description', 'offender_race', 'offender_gender',\n",
       "       'offender_age', 'offender_number', 'person_type', 'victim_race',\n",
       "       'victim_gender', 'victim_age', 'victim_number', 'victim_fatal_status',\n",
       "       'hate_crime', 'report_type', 'year', 'offenderid', 'offenderstatus',\n",
       "       'persontype'],\n",
       "      dtype='object')"
      ]
     },
     "execution_count": 22,
     "metadata": {},
     "output_type": "execute_result"
    }
   ],
   "source": [
    "df.columns"
   ]
  },
  {
   "cell_type": "code",
   "execution_count": 23,
   "metadata": {},
   "outputs": [
    {
     "data": {
      "text/plain": [
       "(4765, 28)"
      ]
     },
     "execution_count": 23,
     "metadata": {},
     "output_type": "execute_result"
    }
   ],
   "source": [
    "df.shape"
   ]
  },
  {
   "cell_type": "code",
   "execution_count": 24,
   "metadata": {},
   "outputs": [
    {
     "data": {
      "text/plain": [
       "(2787, 28)"
      ]
     },
     "execution_count": 24,
     "metadata": {},
     "output_type": "execute_result"
    }
   ],
   "source": [
    "df.loc[:, \"offender_age\"] = df.offender_age.astype(str).str.replace(\"nan\", \"\", regex=False)\n",
    "df = df[~((df.offender_age.fillna(\"\") ==\"\"))]\n",
    "df.shape"
   ]
  },
  {
   "cell_type": "code",
   "execution_count": 25,
   "metadata": {},
   "outputs": [
    {
     "data": {
      "text/plain": [
       "array(['21.0', '23.0', '19.0', '22.0', '25.0', '43.0', '16.0', '36.0',\n",
       "       '30.0', '41.0', '33.0', '40.0', '24.0', '17.0', '28.0', '35.0',\n",
       "       '31.0', '20.0', '58.0', '18.0', '32.0', '29.0', '44.0', '15.0',\n",
       "       '39.0', '38.0', '27.0', '26.0', '34.0', '48.0', '45.0', '50.0',\n",
       "       '63.0', '42.0', '47.0', '52.0', '55.0', '53.0', '37.0', '60.0',\n",
       "       '46.0', '56.0', '14.0', '51.0', '13.0', '49.0', '57.0', '61.0',\n",
       "       '69.0', '66.0', '67.0', '68.0', '59.0', '54.0', '62.0', '64.0',\n",
       "       '70.0', '11.0', '12.0', '65.0', '2.0', '83.0', '10.0', '71.0',\n",
       "       '75.0'], dtype=object)"
      ]
     },
     "execution_count": 25,
     "metadata": {},
     "output_type": "execute_result"
    }
   ],
   "source": [
    "df.offender_age.unique()"
   ]
  },
  {
   "cell_type": "code",
   "execution_count": 26,
   "metadata": {},
   "outputs": [
    {
     "data": {
      "text/plain": [
       "2787"
      ]
     },
     "execution_count": 26,
     "metadata": {},
     "output_type": "execute_result"
    }
   ],
   "source": [
    "df.offender_age.count().sum()"
   ]
  },
  {
   "cell_type": "code",
   "execution_count": 27,
   "metadata": {},
   "outputs": [
    {
     "data": {
      "text/plain": [
       "443"
      ]
     },
     "execution_count": 27,
     "metadata": {},
     "output_type": "execute_result"
    }
   ],
   "source": [
    "youth = df[df.offender_age.isin([\"10.0\", \"11.0\", \"12.0\", \"13.0\", \"14.0\", \"15.0\",  \"16.0\", \"17.0\", \"18.0\",])]\n",
    "youth.offender_age.count().sum()"
   ]
  },
  {
   "cell_type": "code",
   "execution_count": 28,
   "metadata": {},
   "outputs": [
    {
     "data": {
      "text/plain": [
       "15.895227843559384"
      ]
     },
     "execution_count": 28,
     "metadata": {},
     "output_type": "execute_result"
    }
   ],
   "source": [
    "(youth.offender_age.count().sum()/df.offender_age.count().sum())*100 "
   ]
  },
  {
   "cell_type": "code",
   "execution_count": 29,
   "metadata": {},
   "outputs": [
    {
     "data": {
      "text/plain": [
       "black       0.979684\n",
       "white       0.015801\n",
       "hispanic    0.004515\n",
       "Name: offender_race, dtype: float64"
      ]
     },
     "execution_count": 29,
     "metadata": {},
     "output_type": "execute_result"
    }
   ],
   "source": [
    "youth.offender_race.value_counts(normalize=True)"
   ]
  }
 ],
 "metadata": {
  "kernelspec": {
   "display_name": "Python 3",
   "language": "python",
   "name": "python3"
  },
  "language_info": {
   "codemirror_mode": {
    "name": "ipython",
    "version": 3
   },
   "file_extension": ".py",
   "mimetype": "text/x-python",
   "name": "python",
   "nbconvert_exporter": "python",
   "pygments_lexer": "ipython3",
   "version": "3.9.11 (tags/v3.9.11:2de452f, Mar 16 2022, 14:33:45) [MSC v.1929 64 bit (AMD64)]"
  },
  "orig_nbformat": 4,
  "vscode": {
   "interpreter": {
    "hash": "f6c8f846148a3e4d140e6ddf63c190cff559dcf260a4a21539f0978f2b58638c"
   }
  }
 },
 "nbformat": 4,
 "nbformat_minor": 2
}
