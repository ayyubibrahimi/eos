{
 "cells": [
  {
   "cell_type": "code",
   "execution_count": 47,
   "metadata": {},
   "outputs": [],
   "source": [
    "import pandas as pd\n",
    "from lib import standardize_item_numbers, standardize_and_drop_rows_w_na_values\n",
    "import matplotlib.pyplot as plt\n",
    "import numpy as np"
   ]
  },
  {
   "cell_type": "code",
   "execution_count": 48,
   "metadata": {},
   "outputs": [],
   "source": [
    "def clean():\n",
    "    dfa = pd.read_csv(\"../data/police_reports/electronic_police_report_2018_2022.csv\")\n",
    "    dfa = dfa.pipe(standardize_item_numbers, [\"item_number\"])\n",
    "\n",
    "    dfb = pd.read_csv(\"../data/real_time_crime_center/rtcc.csv\")\n",
    "    dfb[\"rtcc_requested\"] = \"yes\"\n",
    "    dfb = dfb.pipe(standardize_item_numbers, [\"item_number\"])\n",
    "\n",
    "    df = pd.merge(dfa, dfb, on=\"item_number\", how=\"outer\")\n",
    "    return df"
   ]
  },
  {
   "cell_type": "code",
   "execution_count": 49,
   "metadata": {},
   "outputs": [
    {
     "name": "stderr",
     "output_type": "stream",
     "text": [
      "C:\\Users\\PC\\AppData\\Local\\Temp\\ipykernel_17536\\733151713.py:2: DtypeWarning: Columns (14,20,24,25) have mixed types. Specify dtype option on import or set low_memory=False.\n",
      "  dfa = pd.read_csv(\"../data/police_reports/electronic_police_report_2018_2022.csv\")\n"
     ]
    }
   ],
   "source": [
    "df = clean()"
   ]
  },
  {
   "cell_type": "code",
   "execution_count": 50,
   "metadata": {},
   "outputs": [
    {
     "name": "stderr",
     "output_type": "stream",
     "text": [
      "c:\\Users\\PC\\Desktop\\eos\\nopd_cameras\\notebooks_epr\\lib.py:39: SettingWithCopyWarning: \n",
      "A value is trying to be set on a copy of a slice from a DataFrame.\n",
      "Try using .loc[row_indexer,col_indexer] = value instead\n",
      "\n",
      "See the caveats in the documentation: https://pandas.pydata.org/pandas-docs/stable/user_guide/indexing.html#returning-a-view-versus-a-copy\n",
      "  df.loc[:, col] = (\n"
     ]
    }
   ],
   "source": [
    "og_rtcc_df = (df.drop_duplicates(subset=[\"offender_race\", \"offender_gender\", \"offender_age\", \"item_number\"])\n",
    "        .pipe(standardize_and_drop_rows_w_na_values, [\"offender_race\"])\n",
    ")"
   ]
  },
  {
   "cell_type": "code",
   "execution_count": 51,
   "metadata": {},
   "outputs": [
    {
     "data": {
      "image/png": "[encoded data removed]",
      "text/plain": [
       "<Figure size 640x480 with 1 Axes>"
      ]
     },
     "metadata": {},
     "output_type": "display_data"
    }
   ],
   "source": [
    "requested_df = og_rtcc_df[((og_rtcc_df.rtcc_requested == \"yes\"))]\n",
    "\n",
    "\n",
    "counts = pd.pivot_table(requested_df, index=['offender_race'], values=['rtcc_requested'], aggfunc={'rtcc_requested': np.count_nonzero}).reset_index()\n",
    "\n",
    "values = counts.rtcc_requested\n",
    "colors = ['r', 'g', 'b', 'c', 'm']\n",
    "explode = [0, 0, 0, 0.2, 0, 0]\n",
    "labels = ['American Indian', 'Asian', 'Black', 'Hispanic', 'Unknown', \"White\"]\n",
    "plt.pie(values, colors= colors, labels=labels, explode = explode)\n",
    "plt.title('Rtcc Requests by Race')\n",
    "plt.show()"
   ]
  },
  {
   "cell_type": "code",
   "execution_count": 52,
   "metadata": {},
   "outputs": [
    {
     "name": "stderr",
     "output_type": "stream",
     "text": [
      "C:\\Users\\PC\\AppData\\Local\\Temp\\ipykernel_17536\\1766426293.py:2: SettingWithCopyWarning: \n",
      "A value is trying to be set on a copy of a slice from a DataFrame.\n",
      "Try using .loc[row_indexer,col_indexer] = value instead\n",
      "\n",
      "See the caveats in the documentation: https://pandas.pydata.org/pandas-docs/stable/user_guide/indexing.html#returning-a-view-versus-a-copy\n",
      "  not_requested_df[\"rtcc_requested\"] = \"no\"\n"
     ]
    }
   ],
   "source": [
    "not_requested_df = og_rtcc_df[~((og_rtcc_df.rtcc_requested == \"yes\"))]\n",
    "not_requested_df[\"rtcc_requested\"] = \"no\"\n",
    "\n",
    "new_rtcc_df = pd.concat([not_requested_df, requested_df])"
   ]
  },
  {
   "cell_type": "code",
   "execution_count": 53,
   "metadata": {},
   "outputs": [
    {
     "data": {
      "text/plain": [
       "array(['THEFT', 'AGGRAVATED ASSAULT', 'DRUG LAW VIOLATION', 'DISTURBANCE',\n",
       "       'SIMPLE CRIMINAL DAMAGE', 'SHOPLIFTING',\n",
       "       'ILLEGAL CARRYING OF A GUN', 'MISSING/RUNAWAY JUVENILE',\n",
       "       'SIMPLE BURGLARY (VEHICLE)', 'Simple Battery', 'AGGRAVATED RAPE',\n",
       "       'MISCELLANEOUS INCIDENT', 'FUGITIVE ATTACHMENT',\n",
       "       'VIOLATION OF PROTECTIVE ORDERS',\n",
       "       'SIMPLE CRIMINAL DAMAGE (DOMESTIC)', 'BICYCLE THEFT',\n",
       "       'Aggravated Battery', 'ELECTRONIC MONITORING', 'CRIMINAL MISCHIEF',\n",
       "       'AGGRAVATED CRIMINAL DAMAGE', 'AUTO THEFT',\n",
       "       'SIMPLE BURGLARY (RESIDENCE)', 'SIMPLE BURGLARY (BUSINESS)',\n",
       "       'UNAUTHORIZED USE OF MOVABLES', 'SIMPLE BURGLARY',\n",
       "       'DISTURBANCE (FIGHT)', 'DISTURBANCE (DOMESTIC)',\n",
       "       'THREATS (DOMESTIC)', 'AGGRAVATED ASSAULT (DOMESTIC)',\n",
       "       'THEFT FROM EXTERIOR OF VEHICLE', 'SIMPLE ASSAULT',\n",
       "       'ILLEGAL USE OF WEAPONS', 'TRESPASSING', 'SIMPLE KIDNAPPING',\n",
       "       'ATTEMPTED ARMED ROBBERY (GUN)', 'ATTEMPTED SHOPLIFITING',\n",
       "       'ATTEMPTED THEFT', 'JUVENILE ATTACHMENT', 'ATTEMPTED AUTO THEFT',\n",
       "       'MISSING ADULT', 'SIMPLE ROBBERY', 'ARMED CARJACKING',\n",
       "       'THEFT BY FRAUD', 'AUTO THEFT & RECOVERY', 'ARMED ROBBERY (GUN)',\n",
       "       'THREATS', 'PICKPOCKET', 'POSSESSION OF STOLEN PROPERTY',\n",
       "       'MISDEMEANOR SEXUAL BATTERY', 'EMBEZZLEMENT', 'SIMPLE RAPE',\n",
       "       'ATTEMPTED SIMPLE ROBBERY', 'SEX OFFENDER COMPLIANCE CHECK',\n",
       "       'LOST PROPERTY', 'SIMPLE BURGLARY (DOMESTIC)', 'SUSPICIOUS PERSON',\n",
       "       'ATTEMPTED ARMED ROBBERY', 'ATTEMPTED AGGRAVATED RAPE',\n",
       "       'OUT OF PARISH VEHICLE RECOVERY', 'AGGRAVATED BURGLARY (DOMESTIC)',\n",
       "       'SIMPLE ASSAULT (DOMESTIC)', 'ARMED ROBBERY (KNIFE)',\n",
       "       'UNARMED CARJACKING', 'HIT AND RUN',\n",
       "       'ATTEMPTED SIMPLE BURGLARY (RESIDENCE)', 'CRUELTY TO A JUVENILE',\n",
       "       'AGGRAVATED BATTERY (CUTTING)', 'SEXUAL BATTERY',\n",
       "       'RESISTING ARREST', 'DISTURBANCE (MENTAL)', 'HOMICIDE (SHOOTING)',\n",
       "       'CRUELTY TO ANIMALS', 'AGGRAVATED BURGLARY', 'PROPERTY SNATCHING',\n",
       "       'ATTEMPTED SIMPLE BURGLARY (VEHICLE)', 'NEGLIGENT INJURING',\n",
       "       'AGGRAVATED BATTERY (DOMESTIC)', 'ILLEGAL CARRYING OF A WEAPON',\n",
       "       'ARMED ROBBERY', 'TRAFFIC INCIDENT', 'FORGERY', 'OBSCENITY',\n",
       "       'MEDICAL', 'ATTEMPTED ARMED CARJACKING',\n",
       "       'INDECENT BEHAVIOR WITH A JUVENILE', 'PROSTITUTION', 'GAMBLING',\n",
       "       'ISSUING WORTHESS CHECKS', 'ATTEMPTED SIMPLE BURGLARY (BUSINESS)',\n",
       "       'PUBLIC DRUNK', 'ATTEMPTED FRAUD', 'ATTEMPTED SIMPLE KIDNAPPING',\n",
       "       'PEEPING TOM', 'ATTEMPTED ARMED ROBBERY (KNIFE)', 'FIRE',\n",
       "       'SIMPLE ESCAPE', 'HOMICIDE', 'IMPERSONATING A POLICE OFFICER',\n",
       "       'MUNICIPAL COURT ATTACHEMENT', 'SIMPLE RAPE (MALE VICTIM)',\n",
       "       'VIDEO VOYEURISM', 'AUTO ACCIDENT (INJURY)',\n",
       "       'ATTEMPTED AGGRAVATED KIDNAPPING',\n",
       "       'ATTEMPTED THEFT FROM EXTERIOR OF VEHICLE',\n",
       "       'AGGRAVATED RAPE UNFOUNDED',\n",
       "       'CONTRIBUTING TO THE DELINQUENCY OF A MINOR', 'CURFEW VIOLATION',\n",
       "       'RECKLESS DRIVING', 'ATTEMPTED SEXUAL BATTERY',\n",
       "       'ILLEGAL CARRYING OF A KNIFE', 'CRIMINAL MISCHIEF (DOMESTIC)',\n",
       "       'ATTEMPTED SIMPLE RAPE', 'SIMPLE ARSON',\n",
       "       'AGGRAVATED RAPE (MALE VICTIM)', 'AGGRAVATED ARSON',\n",
       "       'ATTEMPTED SIMPLE BURGLARY', 'UNDERAGE DRINKING', 'BOMB THREAT',\n",
       "       'ATTEMPTED PICKPOCKET', 'ASSET SEIZURE',\n",
       "       'DRIVING WHILE INTOXICATED', 'TRUANT VIOLATION',\n",
       "       'AGGRAVATED KIDNAPPING', 'UNCLASSIFIED DEATH',\n",
       "       'ATTEMPTED SIMPLE ESCAPE', 'CARNAL KNOWLEDGE OF A JUVENILE',\n",
       "       'ATTEMPTED BICYCLE THEFT', 'ATTEMPTED MURDER (SHOOTING)',\n",
       "       'ATTEMPTED SIMPLE ROBBERY (PURSESNATCHING)',\n",
       "       'SIMPLE ARSON (DOMESTIC)', 'ATTEMPTED UNARMED CARJACKING',\n",
       "       'TRAFFIC ATTACHMENT', 'SIMPLE RAPE UNFOUNDED', 'ATTEMPTED MURDER',\n",
       "       'DIRECTED TRAFFIC ENFORCEMENT', 'WARRANT STOP AND RELEASE',\n",
       "       'AUTO ACCIDENT (FATALITY)', 'ATTEMPTED AGGRAVATED ARSON',\n",
       "       'ATTEMPTED MURDER (DOMESTIC)',\n",
       "       'CARNAL KNOWLEDGE OF A JUVENILE UNFOUNDED', 'HOMICIDE (CUTTING)',\n",
       "       'ATTEMPTED MURDER (CUTTING)', 'QUALITY OF LIFE',\n",
       "       'ORAL SEXUAL BATTERY', 'ATTEMPTED FORGERY', 'SEXTING', 'PROTEST',\n",
       "       'ATTEMPTED SIMPLE ARSON', 'ATTEMPTED EMBEZZLEMENT',\n",
       "       'HOMICIDE (DOMESTIC)', 'SUICIDE ATTEMPT', 'SUICIDE THREAT',\n",
       "       'DEATH', 'CRIME AGAINST NATURE', 'SEX OFFENDER COMPLIANCE CHECK ',\n",
       "       'ATTEMPTED AGGRAVATED BURGLARY',\n",
       "       'INDECENT BEHAVIOR WITH A JUVENILE UNFOUNDED', 'ABANDONED VEHICLE',\n",
       "       'FIREWORKS', 'EXPLOSION', 'SOLICITING FOR PROSTITUTION'],\n",
       "      dtype=object)"
      ]
     },
     "execution_count": 53,
     "metadata": {},
     "output_type": "execute_result"
    }
   ],
   "source": [
    "## review shootings\n",
    "\n",
    "signal_desc_dict = {\"SIMPLE BATTERY\": \"Simple Battery\", \"SIMPLE BATTERY (DOMESTIC)\": \"Simple Battery\", \"AGGRAVATED BATTERY\": \"Aggravated Battery\", \"AGGRAVATED BATTERY (SHOOTING)\": \"Aggravated Battery\"}\n",
    "\n",
    "signal_desc_clusters = lambda x: signal_desc_dict.get(x, x)\n",
    "\n",
    "new_rtcc_df.loc[:, \"signal_description\"] = new_rtcc_df.signal_description.map(signal_desc_clusters)\n",
    "\n",
    "new_rtcc_df.signal_description.unique()"
   ]
  },
  {
   "cell_type": "code",
   "execution_count": 54,
   "metadata": {},
   "outputs": [
    {
     "data": {
      "text/html": [
       "<div>\n",
       "<style scoped>\n",
       "    .dataframe tbody tr th:only-of-type {\n",
       "        vertical-align: middle;\n",
       "    }\n",
       "\n",
       "    .dataframe tbody tr th {\n",
       "        vertical-align: top;\n",
       "    }\n",
       "\n",
       "    .dataframe thead th {\n",
       "        text-align: right;\n",
       "    }\n",
       "</style>\n",
       "<table border=\"1\" class=\"dataframe\">\n",
       "  <thead>\n",
       "    <tr style=\"text-align: right;\">\n",
       "      <th></th>\n",
       "      <th></th>\n",
       "      <th></th>\n",
       "      <th>rtcc_requested</th>\n",
       "    </tr>\n",
       "    <tr>\n",
       "      <th>offender_race</th>\n",
       "      <th>signal_description</th>\n",
       "      <th>rtcc_requested</th>\n",
       "      <th></th>\n",
       "    </tr>\n",
       "  </thead>\n",
       "  <tbody>\n",
       "    <tr>\n",
       "      <th>amer. ind.</th>\n",
       "      <th>AGGRAVATED ASSAULT</th>\n",
       "      <th>no</th>\n",
       "      <td>1</td>\n",
       "    </tr>\n",
       "    <tr>\n",
       "      <th>hispanic</th>\n",
       "      <th>AGGRAVATED ASSAULT</th>\n",
       "      <th>no</th>\n",
       "      <td>41</td>\n",
       "    </tr>\n",
       "    <tr>\n",
       "      <th rowspan=\"2\" valign=\"top\">asian</th>\n",
       "      <th rowspan=\"2\" valign=\"top\">AGGRAVATED ASSAULT</th>\n",
       "      <th>no</th>\n",
       "      <td>10</td>\n",
       "    </tr>\n",
       "    <tr>\n",
       "      <th>yes</th>\n",
       "      <td>1</td>\n",
       "    </tr>\n",
       "    <tr>\n",
       "      <th>white</th>\n",
       "      <th>AGGRAVATED ASSAULT</th>\n",
       "      <th>yes</th>\n",
       "      <td>24</td>\n",
       "    </tr>\n",
       "    <tr>\n",
       "      <th>...</th>\n",
       "      <th>...</th>\n",
       "      <th>...</th>\n",
       "      <td>...</td>\n",
       "    </tr>\n",
       "    <tr>\n",
       "      <th>hispanic</th>\n",
       "      <th>SIMPLE ROBBERY</th>\n",
       "      <th>yes</th>\n",
       "      <td>2</td>\n",
       "    </tr>\n",
       "    <tr>\n",
       "      <th rowspan=\"2\" valign=\"top\">unknown</th>\n",
       "      <th rowspan=\"2\" valign=\"top\">SIMPLE ROBBERY</th>\n",
       "      <th>yes</th>\n",
       "      <td>12</td>\n",
       "    </tr>\n",
       "    <tr>\n",
       "      <th>no</th>\n",
       "      <td>36</td>\n",
       "    </tr>\n",
       "    <tr>\n",
       "      <th>black</th>\n",
       "      <th>SIMPLE ROBBERY</th>\n",
       "      <th>yes</th>\n",
       "      <td>231</td>\n",
       "    </tr>\n",
       "    <tr>\n",
       "      <th>white</th>\n",
       "      <th>SIMPLE ROBBERY</th>\n",
       "      <th>yes</th>\n",
       "      <td>10</td>\n",
       "    </tr>\n",
       "  </tbody>\n",
       "</table>\n",
       "<p>72 rows × 1 columns</p>\n",
       "</div>"
      ],
      "text/plain": [
       "                                                 rtcc_requested\n",
       "offender_race signal_description rtcc_requested                \n",
       "amer. ind.    AGGRAVATED ASSAULT no                           1\n",
       "hispanic      AGGRAVATED ASSAULT no                          41\n",
       "asian         AGGRAVATED ASSAULT no                          10\n",
       "                                 yes                          1\n",
       "white         AGGRAVATED ASSAULT yes                         24\n",
       "...                                                         ...\n",
       "hispanic      SIMPLE ROBBERY     yes                          2\n",
       "unknown       SIMPLE ROBBERY     yes                         12\n",
       "                                 no                          36\n",
       "black         SIMPLE ROBBERY     yes                        231\n",
       "white         SIMPLE ROBBERY     yes                         10\n",
       "\n",
       "[72 rows x 1 columns]"
      ]
     },
     "execution_count": 54,
     "metadata": {},
     "output_type": "execute_result"
    }
   ],
   "source": [
    "top_signal_requests_df = (pd.Series(requested_df.groupby(\"signal_description\")\n",
    "                                                .rtcc_requested.value_counts()\n",
    "                                                .sort_values(ascending=False).head(10))\n",
    ")\n",
    "top_signal_requests_df = (pd.DataFrame(top_signal_requests_df).unstack()\n",
    "                                                              .reset_index()\n",
    ")\n",
    "\n",
    "top_signal_requests_list = [x for x in top_signal_requests_df[\"signal_description\"]]\n",
    "\n",
    "top_signal_desc_df = new_rtcc_df[new_rtcc_df.signal_description.isin(top_signal_requests_list)]\n",
    "\n",
    "\n",
    "top_signal_desc_df = top_signal_desc_df.groupby([\"offender_race\", \"signal_description\"]).rtcc_requested.value_counts()\n",
    "top_signal_desc_df = pd.DataFrame(top_signal_desc_df).sort_values(\"signal_description\")\n",
    "top_signal_desc_df"
   ]
  },
  {
   "cell_type": "code",
   "execution_count": 55,
   "metadata": {},
   "outputs": [],
   "source": [
    "# top_signal_desc_df.to_csv(\"../analysis/excel/rtcc_requests_by_top_10_signal_descriptions.csv\")"
   ]
  },
  {
   "cell_type": "code",
   "execution_count": 56,
   "metadata": {},
   "outputs": [
    {
     "data": {
      "text/html": [
       "<div>\n",
       "<style scoped>\n",
       "    .dataframe tbody tr th:only-of-type {\n",
       "        vertical-align: middle;\n",
       "    }\n",
       "\n",
       "    .dataframe tbody tr th {\n",
       "        vertical-align: top;\n",
       "    }\n",
       "\n",
       "    .dataframe thead th {\n",
       "        text-align: right;\n",
       "    }\n",
       "</style>\n",
       "<table border=\"1\" class=\"dataframe\">\n",
       "  <thead>\n",
       "    <tr style=\"text-align: right;\">\n",
       "      <th></th>\n",
       "      <th></th>\n",
       "      <th></th>\n",
       "      <th>rtcc_requested</th>\n",
       "    </tr>\n",
       "    <tr>\n",
       "      <th>offender_race</th>\n",
       "      <th>charge_description</th>\n",
       "      <th>rtcc_requested</th>\n",
       "      <th></th>\n",
       "    </tr>\n",
       "  </thead>\n",
       "  <tbody>\n",
       "    <tr>\n",
       "      <th>amer. ind.</th>\n",
       "      <th>AGG. BATTERY</th>\n",
       "      <th>no</th>\n",
       "      <td>1</td>\n",
       "    </tr>\n",
       "    <tr>\n",
       "      <th rowspan=\"2\" valign=\"top\">unknown</th>\n",
       "      <th rowspan=\"2\" valign=\"top\">AGG. BATTERY</th>\n",
       "      <th>no</th>\n",
       "      <td>210</td>\n",
       "    </tr>\n",
       "    <tr>\n",
       "      <th>yes</th>\n",
       "      <td>114</td>\n",
       "    </tr>\n",
       "    <tr>\n",
       "      <th>hispanic</th>\n",
       "      <th>AGG. BATTERY</th>\n",
       "      <th>no</th>\n",
       "      <td>17</td>\n",
       "    </tr>\n",
       "    <tr>\n",
       "      <th>white</th>\n",
       "      <th>AGG. BATTERY</th>\n",
       "      <th>no</th>\n",
       "      <td>91</td>\n",
       "    </tr>\n",
       "    <tr>\n",
       "      <th>...</th>\n",
       "      <th>...</th>\n",
       "      <th>...</th>\n",
       "      <td>...</td>\n",
       "    </tr>\n",
       "    <tr>\n",
       "      <th rowspan=\"2\" valign=\"top\">black</th>\n",
       "      <th rowspan=\"2\" valign=\"top\">USE OF FIREARM IN ROBBERY</th>\n",
       "      <th>yes</th>\n",
       "      <td>140</td>\n",
       "    </tr>\n",
       "    <tr>\n",
       "      <th>no</th>\n",
       "      <td>257</td>\n",
       "    </tr>\n",
       "    <tr>\n",
       "      <th>asian</th>\n",
       "      <th>USE OF FIREARM IN ROBBERY</th>\n",
       "      <th>no</th>\n",
       "      <td>1</td>\n",
       "    </tr>\n",
       "    <tr>\n",
       "      <th>unknown</th>\n",
       "      <th>USE OF FIREARM IN ROBBERY</th>\n",
       "      <th>yes</th>\n",
       "      <td>8</td>\n",
       "    </tr>\n",
       "    <tr>\n",
       "      <th>white</th>\n",
       "      <th>USE OF FIREARM IN ROBBERY</th>\n",
       "      <th>yes</th>\n",
       "      <td>3</td>\n",
       "    </tr>\n",
       "  </tbody>\n",
       "</table>\n",
       "<p>90 rows × 1 columns</p>\n",
       "</div>"
      ],
      "text/plain": [
       "                                                        rtcc_requested\n",
       "offender_race charge_description        rtcc_requested                \n",
       "amer. ind.    AGG. BATTERY              no                           1\n",
       "unknown       AGG. BATTERY              no                         210\n",
       "                                        yes                        114\n",
       "hispanic      AGG. BATTERY              no                          17\n",
       "white         AGG. BATTERY              no                          91\n",
       "...                                                                ...\n",
       "black         USE OF FIREARM IN ROBBERY yes                        140\n",
       "                                        no                         257\n",
       "asian         USE OF FIREARM IN ROBBERY no                           1\n",
       "unknown       USE OF FIREARM IN ROBBERY yes                          8\n",
       "white         USE OF FIREARM IN ROBBERY yes                          3\n",
       "\n",
       "[90 rows x 1 columns]"
      ]
     },
     "execution_count": 56,
     "metadata": {},
     "output_type": "execute_result"
    }
   ],
   "source": [
    "top_charge_requests_sr = (pd.Series(requested_df.groupby(\"charge_description\")\n",
    "                                                .rtcc_requested.value_counts()\n",
    "                                                .sort_values(ascending=False).head(10))\n",
    ")\n",
    "top_charge_requests_df = (pd.DataFrame(top_charge_requests_sr).unstack()\n",
    "                                                              .reset_index()\n",
    ")\n",
    "\n",
    "top_charge_requests_list = [x for x in top_charge_requests_df[\"charge_description\"]]\n",
    "\n",
    "top_charge_desc_df = new_rtcc_df[new_rtcc_df.charge_description.isin(top_charge_requests_list)]\n",
    "\n",
    "\n",
    "top_charge_desc_df = top_charge_desc_df.groupby([\"offender_race\", \"charge_description\"]).rtcc_requested.value_counts()\n",
    "top_charge_desc_df = pd.DataFrame(top_charge_desc_df).sort_values(\"charge_description\")\n",
    "top_charge_desc_df"
   ]
  },
  {
   "cell_type": "code",
   "execution_count": 57,
   "metadata": {},
   "outputs": [],
   "source": [
    "# top_charge_desc_df.to_csv(\"../analysis/excel/rtcc_requests_by_top_10_charge_descriptions.csv\")"
   ]
  }
 ],
 "metadata": {
  "kernelspec": {
   "display_name": "Python 3.10.8 64-bit (microsoft store)",
   "language": "python",
   "name": "python3"
  },
  "language_info": {
   "codemirror_mode": {
    "name": "ipython",
    "version": 3
   },
   "file_extension": ".py",
   "mimetype": "text/x-python",
   "name": "python",
   "nbconvert_exporter": "python",
   "pygments_lexer": "ipython3",
   "version": "3.10.9"
  },
  "orig_nbformat": 4,
  "vscode": {
   "interpreter": {
    "hash": "23f823caeccb1684f6bd50492b68bb5eab208de0408f39b2457c6a38c0e8e818"
   }
  }
 },
 "nbformat": 4,
 "nbformat_minor": 2
}
