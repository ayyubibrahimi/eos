{
 "cells": [
  {
   "cell_type": "code",
   "execution_count": 430,
   "metadata": {},
   "outputs": [],
   "source": [
    "import pandas as pd\n",
    "from lib import standardize_item_numbers\n",
    "from scipy.stats import chi2_contingency\n",
    "import statsmodels.api as sm\n",
    "import numpy as np\n",
    "import statsmodels.stats.multitest as smm"
   ]
  },
  {
   "cell_type": "code",
   "execution_count": 431,
   "metadata": {},
   "outputs": [],
   "source": [
    "def clean():\n",
    "    dfa = pd.read_csv(\"../data/police_reports/electronic_police_report_2018_2022.csv\")\n",
    "    dfa = dfa.pipe(standardize_item_numbers, [\"item_number\"])\n",
    "\n",
    "    dfb = pd.read_csv(\"../data/real_time_crime_center/rtcc.csv\")\n",
    "    dfb[\"rtcc_requested\"] = \"1\"\n",
    "    dfb = dfb.pipe(standardize_item_numbers, [\"item_number\"])\n",
    "\n",
    "    df = pd.merge(dfa, dfb, on=\"item_number\")\n",
    "    return df"
   ]
  },
  {
   "cell_type": "code",
   "execution_count": 432,
   "metadata": {},
   "outputs": [
    {
     "name": "stderr",
     "output_type": "stream",
     "text": [
      "C:\\Users\\ayyubi\\AppData\\Local\\Temp\\ipykernel_39876\\153542535.py:2: DtypeWarning: Columns (13,23,24) have mixed types. Specify dtype option on import or set low_memory=False.\n",
      "  dfa = pd.read_csv(\"../data/police_reports/electronic_police_report_2018_2022.csv\")\n"
     ]
    }
   ],
   "source": [
    "df = clean()"
   ]
  },
  {
   "cell_type": "code",
   "execution_count": 433,
   "metadata": {},
   "outputs": [],
   "source": [
    "def clean_offender_race(df):\n",
    "    df.loc[:, \"offender_race\"] = df.offender_race.str.lower().str.strip()\n",
    "    return df"
   ]
  },
  {
   "cell_type": "code",
   "execution_count": 434,
   "metadata": {},
   "outputs": [],
   "source": [
    "df = df.pipe(clean_offender_race)"
   ]
  },
  {
   "cell_type": "code",
   "execution_count": 435,
   "metadata": {},
   "outputs": [],
   "source": [
    "top_10_charge_descs_sr = (pd.Series(df.groupby(\"charge_description\")\n",
    "                                                .rtcc_requested.value_counts()\n",
    "                                                .sort_values(ascending=False).head(10))\n",
    ")\n",
    "top_10_charge_descs_df = (pd.DataFrame(top_10_charge_descs_sr).unstack()\n",
    "                                                              .reset_index()\n",
    ")\n",
    "\n",
    "top_10_charge_desc_list = [x for x in top_10_charge_descs_df[\"charge_description\"]]"
   ]
  },
  {
   "cell_type": "code",
   "execution_count": 436,
   "metadata": {},
   "outputs": [],
   "source": [
    "df = df[df.charge_description.isin(top_10_charge_desc_list)]"
   ]
  },
  {
   "cell_type": "code",
   "execution_count": 437,
   "metadata": {},
   "outputs": [],
   "source": [
    "df = df[~((df.charge_description.fillna(\"\") == \"\"))]\n",
    "df.loc[:, \"offender_race\"] = df.offender_race.fillna(\"\").str.replace(r\"^$\", \"black\", regex=True)"
   ]
  },
  {
   "cell_type": "code",
   "execution_count": 438,
   "metadata": {},
   "outputs": [],
   "source": [
    "df = df[[\"offender_race\", \"charge_description\"]]\n",
    "\n",
    "charges = pd.get_dummies(df[\"charge_description\"])\n",
    "df = pd.concat([df, charges], axis=1)\n",
    "\n",
    "races = pd.get_dummies(df[\"offender_race\"])\n",
    "df = pd.concat([df, races], axis=1)"
   ]
  },
  {
   "cell_type": "code",
   "execution_count": 439,
   "metadata": {},
   "outputs": [],
   "source": [
    "df = df.drop(columns=[\"charge_description\", \"amer. ind.\", \"hispanic\", \"asian\", \"offender_race\",])"
   ]
  },
  {
   "cell_type": "code",
   "execution_count": 441,
   "metadata": {},
   "outputs": [
    {
     "data": {
      "text/html": [
       "<div>\n",
       "<style scoped>\n",
       "    .dataframe tbody tr th:only-of-type {\n",
       "        vertical-align: middle;\n",
       "    }\n",
       "\n",
       "    .dataframe tbody tr th {\n",
       "        vertical-align: top;\n",
       "    }\n",
       "\n",
       "    .dataframe thead th {\n",
       "        text-align: right;\n",
       "    }\n",
       "</style>\n",
       "<table border=\"1\" class=\"dataframe\">\n",
       "  <thead>\n",
       "    <tr style=\"text-align: right;\">\n",
       "      <th></th>\n",
       "      <th>AGG. BATTERY</th>\n",
       "      <th>AGG. CRIMINAL DAMAGE</th>\n",
       "      <th>AGGRAVATED ASSAULT WITH A FIREARM</th>\n",
       "      <th>ARMED ROBBERY</th>\n",
       "      <th>SIMPLE BURGLARY</th>\n",
       "      <th>SIMPLE CRIMINAL DAMAGE TO PROPERTY</th>\n",
       "      <th>SIMPLE ROBBERY</th>\n",
       "      <th>THEFT</th>\n",
       "      <th>THEFT OF A MOTOR VEHICLE</th>\n",
       "      <th>USE OF FIREARM IN ROBBERY</th>\n",
       "      <th>black</th>\n",
       "      <th>unknown</th>\n",
       "      <th>white</th>\n",
       "    </tr>\n",
       "  </thead>\n",
       "  <tbody>\n",
       "    <tr>\n",
       "      <th>black</th>\n",
       "      <td>1.830304e-13</td>\n",
       "      <td>7.589706e-25</td>\n",
       "      <td>1.709513e-09</td>\n",
       "      <td>1.177811e-56</td>\n",
       "      <td>1.816258e-14</td>\n",
       "      <td>4.304823e-33</td>\n",
       "      <td>2.594596e-24</td>\n",
       "      <td>0.009234</td>\n",
       "      <td>4.946784e-10</td>\n",
       "      <td>1.276295e-39</td>\n",
       "      <td>0.000000e+00</td>\n",
       "      <td>0.000000e+00</td>\n",
       "      <td>2.855272e-132</td>\n",
       "    </tr>\n",
       "    <tr>\n",
       "      <th>white</th>\n",
       "      <td>4.231211e-04</td>\n",
       "      <td>4.905849e-04</td>\n",
       "      <td>3.286511e-02</td>\n",
       "      <td>3.283886e-02</td>\n",
       "      <td>2.076675e-01</td>\n",
       "      <td>4.380683e-01</td>\n",
       "      <td>2.133689e-01</td>\n",
       "      <td>0.000327</td>\n",
       "      <td>3.615904e-01</td>\n",
       "      <td>1.520485e-04</td>\n",
       "      <td>2.855272e-132</td>\n",
       "      <td>6.804999e-17</td>\n",
       "      <td>0.000000e+00</td>\n",
       "    </tr>\n",
       "    <tr>\n",
       "      <th>unknown</th>\n",
       "      <td>4.341797e-11</td>\n",
       "      <td>1.184539e-34</td>\n",
       "      <td>5.873861e-13</td>\n",
       "      <td>6.568339e-54</td>\n",
       "      <td>1.093990e-17</td>\n",
       "      <td>4.607720e-34</td>\n",
       "      <td>1.698802e-29</td>\n",
       "      <td>0.000001</td>\n",
       "      <td>7.117821e-12</td>\n",
       "      <td>4.350754e-34</td>\n",
       "      <td>0.000000e+00</td>\n",
       "      <td>0.000000e+00</td>\n",
       "      <td>6.804999e-17</td>\n",
       "    </tr>\n",
       "  </tbody>\n",
       "</table>\n",
       "</div>"
      ],
      "text/plain": [
       "         AGG. BATTERY  AGG. CRIMINAL DAMAGE   \n",
       "black    1.830304e-13          7.589706e-25  \\\n",
       "white    4.231211e-04          4.905849e-04   \n",
       "unknown  4.341797e-11          1.184539e-34   \n",
       "\n",
       "         AGGRAVATED ASSAULT WITH A FIREARM  ARMED ROBBERY  SIMPLE BURGLARY   \n",
       "black                         1.709513e-09   1.177811e-56     1.816258e-14  \\\n",
       "white                         3.286511e-02   3.283886e-02     2.076675e-01   \n",
       "unknown                       5.873861e-13   6.568339e-54     1.093990e-17   \n",
       "\n",
       "         SIMPLE CRIMINAL DAMAGE TO PROPERTY  SIMPLE ROBBERY     THEFT   \n",
       "black                          4.304823e-33    2.594596e-24  0.009234  \\\n",
       "white                          4.380683e-01    2.133689e-01  0.000327   \n",
       "unknown                        4.607720e-34    1.698802e-29  0.000001   \n",
       "\n",
       "         THEFT OF A MOTOR VEHICLE  USE OF FIREARM IN ROBBERY          black   \n",
       "black                4.946784e-10               1.276295e-39   0.000000e+00  \\\n",
       "white                3.615904e-01               1.520485e-04  2.855272e-132   \n",
       "unknown              7.117821e-12               4.350754e-34   0.000000e+00   \n",
       "\n",
       "              unknown          white  \n",
       "black    0.000000e+00  2.855272e-132  \n",
       "white    6.804999e-17   0.000000e+00  \n",
       "unknown  0.000000e+00   6.804999e-17  "
      ]
     },
     "execution_count": 441,
     "metadata": {},
     "output_type": "execute_result"
    }
   ],
   "source": [
    "races = ['black', 'white', 'unknown']\n",
    "results_c2 = {}\n",
    "for race in races:\n",
    "    results_c2[race] = {}\n",
    "    for col in df:\n",
    "        if pd.api.types.is_numeric_dtype(df[col]):\n",
    "            CrosstabResult = pd.crosstab(index=df[race], columns=df[col])\n",
    "            ChiSqResult = chi2_contingency(CrosstabResult)\n",
    "            results_c2[race][col] = ChiSqResult[1]\n",
    "results = pd.DataFrame.from_dict(results_c2, orient=\"index\")\n",
    "results"
   ]
  },
  {
   "cell_type": "code",
   "execution_count": 442,
   "metadata": {},
   "outputs": [
    {
     "data": {
      "text/html": [
       "<div>\n",
       "<style scoped>\n",
       "    .dataframe tbody tr th:only-of-type {\n",
       "        vertical-align: middle;\n",
       "    }\n",
       "\n",
       "    .dataframe tbody tr th {\n",
       "        vertical-align: top;\n",
       "    }\n",
       "\n",
       "    .dataframe thead th {\n",
       "        text-align: right;\n",
       "    }\n",
       "</style>\n",
       "<table border=\"1\" class=\"dataframe\">\n",
       "  <thead>\n",
       "    <tr style=\"text-align: right;\">\n",
       "      <th></th>\n",
       "      <th>p_value</th>\n",
       "      <th>p_adjusted</th>\n",
       "    </tr>\n",
       "  </thead>\n",
       "  <tbody>\n",
       "    <tr>\n",
       "      <th>AGG. BATTERY</th>\n",
       "      <td>0.0</td>\n",
       "      <td>0.0</td>\n",
       "    </tr>\n",
       "    <tr>\n",
       "      <th>AGG. CRIMINAL DAMAGE</th>\n",
       "      <td>0.0</td>\n",
       "      <td>0.0</td>\n",
       "    </tr>\n",
       "    <tr>\n",
       "      <th>AGGRAVATED ASSAULT WITH A FIREARM</th>\n",
       "      <td>0.0</td>\n",
       "      <td>0.0</td>\n",
       "    </tr>\n",
       "    <tr>\n",
       "      <th>ARMED ROBBERY</th>\n",
       "      <td>0.0</td>\n",
       "      <td>0.0</td>\n",
       "    </tr>\n",
       "    <tr>\n",
       "      <th>SIMPLE BURGLARY</th>\n",
       "      <td>0.0</td>\n",
       "      <td>0.0</td>\n",
       "    </tr>\n",
       "    <tr>\n",
       "      <th>SIMPLE CRIMINAL DAMAGE TO PROPERTY</th>\n",
       "      <td>0.0</td>\n",
       "      <td>0.0</td>\n",
       "    </tr>\n",
       "    <tr>\n",
       "      <th>SIMPLE ROBBERY</th>\n",
       "      <td>0.0</td>\n",
       "      <td>0.0</td>\n",
       "    </tr>\n",
       "    <tr>\n",
       "      <th>THEFT</th>\n",
       "      <td>0.0</td>\n",
       "      <td>0.0</td>\n",
       "    </tr>\n",
       "    <tr>\n",
       "      <th>THEFT OF A MOTOR VEHICLE</th>\n",
       "      <td>0.0</td>\n",
       "      <td>0.0</td>\n",
       "    </tr>\n",
       "    <tr>\n",
       "      <th>USE OF FIREARM IN ROBBERY</th>\n",
       "      <td>0.0</td>\n",
       "      <td>0.0</td>\n",
       "    </tr>\n",
       "  </tbody>\n",
       "</table>\n",
       "</div>"
      ],
      "text/plain": [
       "                                    p_value  p_adjusted\n",
       "AGG. BATTERY                            0.0         0.0\n",
       "AGG. CRIMINAL DAMAGE                    0.0         0.0\n",
       "AGGRAVATED ASSAULT WITH A FIREARM       0.0         0.0\n",
       "ARMED ROBBERY                           0.0         0.0\n",
       "SIMPLE BURGLARY                         0.0         0.0\n",
       "SIMPLE CRIMINAL DAMAGE TO PROPERTY      0.0         0.0\n",
       "SIMPLE ROBBERY                          0.0         0.0\n",
       "THEFT                                   0.0         0.0\n",
       "THEFT OF A MOTOR VEHICLE                0.0         0.0\n",
       "USE OF FIREARM IN ROBBERY               0.0         0.0"
      ]
     },
     "execution_count": 442,
     "metadata": {},
     "output_type": "execute_result"
    }
   ],
   "source": [
    "count_data_black = df.groupby(['black']).sum()\n",
    "count_data_black = count_data_black.reset_index()\n",
    "\n",
    "results_dict = {}\n",
    "\n",
    "for col in count_data_black.columns[:]:\n",
    "    model = sm.GLM(count_data_black[col], count_data_black[['black']], family=sm.families.Poisson())\n",
    "    result = model.fit()\n",
    "    results_dict[col] = result.pvalues[0]\n",
    "    \n",
    "\n",
    "results_df = pd.DataFrame.from_dict(results_dict, orient='index', columns=['p_value'])\n",
    "results_df\n",
    "# perform multiple comparison correction using FDR method\n",
    "results_df['p_adjusted'] = smm.multipletests(results_df['p_value'], method='fdr_bh')[1]\n",
    "\n",
    "# filter for statistically significant results\n",
    "significant_results_df = results_df[results_df['p_adjusted'] < 0.05]\n",
    "significant_results_df"
   ]
  }
 ],
 "metadata": {
  "kernelspec": {
   "display_name": "Python 3.10.8 64-bit (microsoft store)",
   "language": "python",
   "name": "python3"
  },
  "language_info": {
   "codemirror_mode": {
    "name": "ipython",
    "version": 3
   },
   "file_extension": ".py",
   "mimetype": "text/x-python",
   "name": "python",
   "nbconvert_exporter": "python",
   "pygments_lexer": "ipython3",
   "version": "3.11.1"
  },
  "orig_nbformat": 4,
  "vscode": {
   "interpreter": {
    "hash": "23f823caeccb1684f6bd50492b68bb5eab208de0408f39b2457c6a38c0e8e818"
   }
  }
 },
 "nbformat": 4,
 "nbformat_minor": 2
}
