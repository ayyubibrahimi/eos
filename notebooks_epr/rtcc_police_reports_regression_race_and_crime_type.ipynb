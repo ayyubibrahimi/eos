{
 "cells": [
  {
   "cell_type": "code",
   "execution_count": 212,
   "metadata": {},
   "outputs": [],
   "source": [
    "import pandas as pd\n",
    "from lib import standardize_item_numbers\n",
    "from scipy.stats import chi2_contingency"
   ]
  },
  {
   "cell_type": "code",
   "execution_count": 213,
   "metadata": {},
   "outputs": [],
   "source": [
    "def clean():\n",
    "    dfa = pd.read_csv(\"../data/police_reports/electronic_police_report_2018_2022.csv\")\n",
    "    dfa = dfa.pipe(standardize_item_numbers, [\"item_number\"])\n",
    "\n",
    "    dfb = pd.read_csv(\"../data/real_time_crime_center/rtcc.csv\")\n",
    "    dfb[\"rtcc_requested\"] = \"1\"\n",
    "    dfb = dfb.pipe(standardize_item_numbers, [\"item_number\"])\n",
    "\n",
    "    df = pd.merge(dfa, dfb, on=\"item_number\")\n",
    "    return df"
   ]
  },
  {
   "cell_type": "code",
   "execution_count": 214,
   "metadata": {},
   "outputs": [
    {
     "name": "stderr",
     "output_type": "stream",
     "text": [
      "C:\\Users\\ayyubi\\AppData\\Local\\Temp\\ipykernel_40512\\153542535.py:2: DtypeWarning: Columns (13,23,24) have mixed types. Specify dtype option on import or set low_memory=False.\n",
      "  dfa = pd.read_csv(\"../data/police_reports/electronic_police_report_2018_2022.csv\")\n"
     ]
    }
   ],
   "source": [
    "df = clean()"
   ]
  },
  {
   "cell_type": "code",
   "execution_count": 215,
   "metadata": {},
   "outputs": [],
   "source": [
    "def clean_offender_race(df):\n",
    "    df.loc[:, \"offender_race\"] = df.offender_race.str.lower().str.strip()\n",
    "    return df"
   ]
  },
  {
   "cell_type": "code",
   "execution_count": 216,
   "metadata": {},
   "outputs": [],
   "source": [
    "df = df.pipe(clean_offender_race)"
   ]
  },
  {
   "cell_type": "code",
   "execution_count": 217,
   "metadata": {},
   "outputs": [],
   "source": [
    "top_10_charge_descs_sr = (pd.Series(df.groupby(\"charge_description\")\n",
    "                                                .rtcc_requested.value_counts()\n",
    "                                                .sort_values(ascending=False).head(10))\n",
    ")\n",
    "top_10_charge_descs_df = (pd.DataFrame(top_10_charge_descs_sr).unstack()\n",
    "                                                              .reset_index()\n",
    ")\n",
    "\n",
    "top_10_charge_desc_list = [x for x in top_10_charge_descs_df[\"charge_description\"]]"
   ]
  },
  {
   "cell_type": "code",
   "execution_count": 218,
   "metadata": {},
   "outputs": [],
   "source": [
    "df = df[df.charge_description.isin(top_10_charge_desc_list)]"
   ]
  },
  {
   "cell_type": "code",
   "execution_count": 219,
   "metadata": {},
   "outputs": [],
   "source": [
    "df = df[~((df.charge_description.fillna(\"\") == \"\"))]\n",
    "df.loc[:, \"offender_race\"] = df.offender_race.fillna(\"\").str.replace(r\"^$\", \"black\", regex=True)"
   ]
  },
  {
   "cell_type": "code",
   "execution_count": 220,
   "metadata": {},
   "outputs": [],
   "source": [
    "df = df[[\"offender_race\", \"charge_description\"]]\n",
    "\n",
    "charges = pd.get_dummies(df[\"charge_description\"])\n",
    "df = pd.concat([df, charges], axis=1)\n",
    "\n",
    "\n",
    "races = pd.get_dummies(df[\"offender_race\"])\n",
    "df = pd.concat([df, races], axis=1)"
   ]
  },
  {
   "cell_type": "code",
   "execution_count": 221,
   "metadata": {},
   "outputs": [],
   "source": [
    "df = df.drop(columns=[\"charge_description\", \"white\", \"amer. ind.\", \"hispanic\", \"unknown\", \"white\", \"asian\", \"offender_race\"])"
   ]
  },
  {
   "cell_type": "code",
   "execution_count": 222,
   "metadata": {},
   "outputs": [
    {
     "data": {
      "text/html": [
       "<div>\n",
       "<style scoped>\n",
       "    .dataframe tbody tr th:only-of-type {\n",
       "        vertical-align: middle;\n",
       "    }\n",
       "\n",
       "    .dataframe tbody tr th {\n",
       "        vertical-align: top;\n",
       "    }\n",
       "\n",
       "    .dataframe thead th {\n",
       "        text-align: right;\n",
       "    }\n",
       "</style>\n",
       "<table border=\"1\" class=\"dataframe\">\n",
       "  <thead>\n",
       "    <tr style=\"text-align: right;\">\n",
       "      <th></th>\n",
       "      <th>charge_description</th>\n",
       "      <th>p-value</th>\n",
       "      <th>race</th>\n",
       "    </tr>\n",
       "  </thead>\n",
       "  <tbody>\n",
       "    <tr>\n",
       "      <th>0</th>\n",
       "      <td>AGG. BATTERY</td>\n",
       "      <td>1.830304e-13</td>\n",
       "      <td>black</td>\n",
       "    </tr>\n",
       "    <tr>\n",
       "      <th>1</th>\n",
       "      <td>AGG. CRIMINAL DAMAGE</td>\n",
       "      <td>7.589706e-25</td>\n",
       "      <td>black</td>\n",
       "    </tr>\n",
       "    <tr>\n",
       "      <th>2</th>\n",
       "      <td>AGGRAVATED ASSAULT WITH A FIREARM</td>\n",
       "      <td>1.709513e-09</td>\n",
       "      <td>black</td>\n",
       "    </tr>\n",
       "    <tr>\n",
       "      <th>3</th>\n",
       "      <td>ARMED ROBBERY</td>\n",
       "      <td>1.177811e-56</td>\n",
       "      <td>black</td>\n",
       "    </tr>\n",
       "    <tr>\n",
       "      <th>4</th>\n",
       "      <td>SIMPLE BURGLARY</td>\n",
       "      <td>1.816258e-14</td>\n",
       "      <td>black</td>\n",
       "    </tr>\n",
       "    <tr>\n",
       "      <th>5</th>\n",
       "      <td>SIMPLE CRIMINAL DAMAGE TO PROPERTY</td>\n",
       "      <td>4.304823e-33</td>\n",
       "      <td>black</td>\n",
       "    </tr>\n",
       "    <tr>\n",
       "      <th>6</th>\n",
       "      <td>SIMPLE ROBBERY</td>\n",
       "      <td>2.594596e-24</td>\n",
       "      <td>black</td>\n",
       "    </tr>\n",
       "    <tr>\n",
       "      <th>7</th>\n",
       "      <td>THEFT</td>\n",
       "      <td>9.234163e-03</td>\n",
       "      <td>black</td>\n",
       "    </tr>\n",
       "    <tr>\n",
       "      <th>8</th>\n",
       "      <td>THEFT OF A MOTOR VEHICLE</td>\n",
       "      <td>4.946784e-10</td>\n",
       "      <td>black</td>\n",
       "    </tr>\n",
       "    <tr>\n",
       "      <th>9</th>\n",
       "      <td>USE OF FIREARM IN ROBBERY</td>\n",
       "      <td>1.276295e-39</td>\n",
       "      <td>black</td>\n",
       "    </tr>\n",
       "    <tr>\n",
       "      <th>10</th>\n",
       "      <td>black</td>\n",
       "      <td>0.000000e+00</td>\n",
       "      <td>black</td>\n",
       "    </tr>\n",
       "  </tbody>\n",
       "</table>\n",
       "</div>"
      ],
      "text/plain": [
       "                    charge_description       p-value   race\n",
       "0                         AGG. BATTERY  1.830304e-13  black\n",
       "1                 AGG. CRIMINAL DAMAGE  7.589706e-25  black\n",
       "2    AGGRAVATED ASSAULT WITH A FIREARM  1.709513e-09  black\n",
       "3                        ARMED ROBBERY  1.177811e-56  black\n",
       "4                      SIMPLE BURGLARY  1.816258e-14  black\n",
       "5   SIMPLE CRIMINAL DAMAGE TO PROPERTY  4.304823e-33  black\n",
       "6                       SIMPLE ROBBERY  2.594596e-24  black\n",
       "7                                THEFT  9.234163e-03  black\n",
       "8             THEFT OF A MOTOR VEHICLE  4.946784e-10  black\n",
       "9            USE OF FIREARM IN ROBBERY  1.276295e-39  black\n",
       "10                               black  0.000000e+00  black"
      ]
     },
     "execution_count": 222,
     "metadata": {},
     "output_type": "execute_result"
    }
   ],
   "source": [
    "results_black = {}\n",
    "for col in df:\n",
    "    if pd.api.types.is_numeric_dtype(df[col]):\n",
    "        CrosstabResult=pd.crosstab(index=df.black, columns=df[col])\n",
    "        ChiSqResult = chi2_contingency(CrosstabResult)\n",
    "        results_black[col] = ChiSqResult[1]\n",
    "\n",
    "results_black = pd.DataFrame.from_dict(results_black, orient=\"index\")\n",
    "results_black[\"race\"] = \"black\"\n",
    "results_black = results_black.reset_index()\n",
    "results_black = results_black.rename(columns={results_black.columns[0]: \"charge_description\", results_black.columns[1]: \"p-value\"})\n",
    "results_black"
   ]
  }
 ],
 "metadata": {
  "kernelspec": {
   "display_name": "Python 3.10.8 64-bit (microsoft store)",
   "language": "python",
   "name": "python3"
  },
  "language_info": {
   "codemirror_mode": {
    "name": "ipython",
    "version": 3
   },
   "file_extension": ".py",
   "mimetype": "text/x-python",
   "name": "python",
   "nbconvert_exporter": "python",
   "pygments_lexer": "ipython3",
   "version": "3.11.1"
  },
  "orig_nbformat": 4,
  "vscode": {
   "interpreter": {
    "hash": "23f823caeccb1684f6bd50492b68bb5eab208de0408f39b2457c6a38c0e8e818"
   }
  }
 },
 "nbformat": 4,
 "nbformat_minor": 2
}
