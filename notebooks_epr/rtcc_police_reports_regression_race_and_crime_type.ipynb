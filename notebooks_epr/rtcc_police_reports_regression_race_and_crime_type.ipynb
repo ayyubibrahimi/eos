{
 "cells": [
  {
   "cell_type": "code",
   "execution_count": 23,
   "metadata": {},
   "outputs": [],
   "source": [
    "import pandas as pd\n",
    "from lib import standardize_item_numbers\n",
    "from scipy.stats import chi2_contingency\n",
    "import statsmodels.api as sm\n",
    "import numpy as np\n",
    "import statsmodels.stats.multitest as smm"
   ]
  },
  {
   "cell_type": "code",
   "execution_count": 24,
   "metadata": {},
   "outputs": [],
   "source": [
    "def clean():\n",
    "    # police report data\n",
    "    dfa = pd.read_csv(\"../data/police_reports/electronic_police_report_2018_2022.csv\")\n",
    "    dfa = dfa.pipe(standardize_item_numbers, [\"item_number\"])\n",
    "\n",
    "    # This table only contains an item number. When merged with the report table, a table is produced where\n",
    "    # each row represents a police report where surveillance footage was requested  \n",
    "    dfb = pd.read_csv(\"../data/real_time_crime_center/rtcc.csv\")\n",
    "    dfb[\"rtcc_requested\"] = \"1\"\n",
    "    dfb = dfb.pipe(standardize_item_numbers, [\"item_number\"])\n",
    "\n",
    "    df = pd.merge(dfa, dfb, on=\"item_number\")\n",
    "    return df"
   ]
  },
  {
   "cell_type": "code",
   "execution_count": 25,
   "metadata": {},
   "outputs": [
    {
     "name": "stderr",
     "output_type": "stream",
     "text": [
      "C:\\Users\\ayyubi\\AppData\\Local\\Temp\\ipykernel_80512\\153542535.py:2: DtypeWarning: Columns (13,23,24) have mixed types. Specify dtype option on import or set low_memory=False.\n",
      "  dfa = pd.read_csv(\"../data/police_reports/electronic_police_report_2018_2022.csv\")\n"
     ]
    }
   ],
   "source": [
    "df = clean()"
   ]
  },
  {
   "cell_type": "code",
   "execution_count": 26,
   "metadata": {},
   "outputs": [],
   "source": [
    "def clean_offender_race(df):\n",
    "    df.loc[:, \"offender_race\"] = df.offender_race.str.lower().str.strip()\n",
    "    return df"
   ]
  },
  {
   "cell_type": "code",
   "execution_count": 27,
   "metadata": {},
   "outputs": [],
   "source": [
    "df = df.pipe(clean_offender_race)"
   ]
  },
  {
   "cell_type": "code",
   "execution_count": 28,
   "metadata": {},
   "outputs": [],
   "source": [
    "# drop rows missing charge descriptions/crimes\n",
    "df = df[~((df.charge_description.fillna(\"\") == \"\"))]"
   ]
  },
  {
   "cell_type": "code",
   "execution_count": 29,
   "metadata": {},
   "outputs": [],
   "source": [
    "# impute race with the mode\n",
    "df.loc[:, \"offender_race\"] = df.offender_race.fillna(\"\").str.replace(r\"^$\", \"black\", regex=True)"
   ]
  },
  {
   "cell_type": "code",
   "execution_count": 30,
   "metadata": {},
   "outputs": [],
   "source": [
    "# filter for top 10 most common charge descriptions/crimes\n",
    "top_10_charge_descs_sr = (pd.Series(df.groupby(\"charge_description\")\n",
    "                                                .rtcc_requested.value_counts()\n",
    "                                                .sort_values(ascending=False).head(10))\n",
    ")\n",
    "top_10_charge_descs_df = (pd.DataFrame(top_10_charge_descs_sr).unstack()\n",
    "                                                              .reset_index()\n",
    ")\n",
    "\n",
    "top_10_charge_desc_list = [x for x in top_10_charge_descs_df[\"charge_description\"]]"
   ]
  },
  {
   "cell_type": "code",
   "execution_count": 31,
   "metadata": {},
   "outputs": [],
   "source": [
    "df = df[df.charge_description.isin(top_10_charge_desc_list)]"
   ]
  },
  {
   "cell_type": "code",
   "execution_count": 32,
   "metadata": {},
   "outputs": [],
   "source": [
    "counts = df.groupby(\"offender_race\").charge_description.value_counts()\n",
    "counts = pd.DataFrame(counts)\n",
    "counts = counts.reset_index()\n",
    "counts =  counts.pivot(index='offender_race', columns='charge_description', values='count')\n",
    "counts = counts.reset_index()"
   ]
  },
  {
   "cell_type": "code",
   "execution_count": 33,
   "metadata": {},
   "outputs": [
    {
     "name": "stdout",
     "output_type": "stream",
     "text": [
      "p-value: 1.8328740039475772e-11\n"
     ]
    }
   ],
   "source": [
    "\n",
    "black_counts = counts.loc[counts['offender_race'] == 'black', ['THEFT OF A MOTOR VEHICLE', 'THEFT', 'ARMED ROBBERY',\n",
    "                                                       'USE OF FIREARM IN ROBBERY', 'AGG. BATTERY', 'SIMPLE BURGLARY',\n",
    "                                                       'SIMPLE ROBBERY', 'AGGRAVATED ASSAULT WITH A FIREARM',\n",
    "                                                       'SIMPLE CRIMINAL DAMAGE TO PROPERTY', 'AGG. CRIMINAL DAMAGE']].values\n",
    "\n",
    "white_counts = counts.loc[counts['offender_race'] == 'white', ['THEFT OF A MOTOR VEHICLE', 'THEFT', 'ARMED ROBBERY',\n",
    "                                                       'USE OF FIREARM IN ROBBERY', 'AGG. BATTERY', 'SIMPLE BURGLARY',\n",
    "                                                       'SIMPLE ROBBERY', 'AGGRAVATED ASSAULT WITH A FIREARM',\n",
    "                                                       'SIMPLE CRIMINAL DAMAGE TO PROPERTY', 'AGG. CRIMINAL DAMAGE']].values\n",
    "\n",
    "chi2, pval, dof, expected = chi2_contingency([black_counts, white_counts])\n",
    "print(\"p-value:\", pval)"
   ]
  },
  {
   "cell_type": "code",
   "execution_count": 34,
   "metadata": {},
   "outputs": [
    {
     "name": "stdout",
     "output_type": "stream",
     "text": [
      "                 Generalized Linear Model Regression Results                  \n",
      "==============================================================================\n",
      "Dep. Variable:                  count   No. Observations:                   39\n",
      "Model:                            GLM   Df Residuals:                       33\n",
      "Model Family:                 Poisson   Df Model:                            5\n",
      "Link Function:                    Log   Scale:                          1.0000\n",
      "Method:                          IRLS   Log-Likelihood:                -1007.7\n",
      "Date:                Tue, 11 Apr 2023   Deviance:                       1794.4\n",
      "Time:                        18:08:16   Pearson chi2:                 1.67e+03\n",
      "No. Iterations:                     9   Pseudo R-squ. (CS):              1.000\n",
      "Covariance Type:            nonrobust                                         \n",
      "=============================================================================================\n",
      "                                coef    std err          z      P>|z|      [0.025      0.975]\n",
      "---------------------------------------------------------------------------------------------\n",
      "Intercept                     0.6931      0.707      0.980      0.327      -0.693       2.079\n",
      "offender_race[T.asian]       -0.6931      1.225     -0.566      0.571      -3.094       1.707\n",
      "offender_race[T.black]        5.7064      0.707      8.069      0.000       4.320       7.093\n",
      "offender_race[T.hispanic]     0.6190      0.734      0.844      0.399      -0.819       2.057\n",
      "offender_race[T.unknown]      4.5992      0.707      6.501      0.000       3.213       5.986\n",
      "offender_race[T.white]        2.3888      0.710      3.363      0.001       0.997       3.781\n",
      "=============================================================================================\n"
     ]
    }
   ],
   "source": [
    "counts_sm = df.groupby(\"offender_race\").charge_description.value_counts()\n",
    "counts_sm = pd.DataFrame(counts_sm)\n",
    "counts_sm = counts_sm.reset_index()\n",
    "model = sm.GLM.from_formula(\"count ~ offender_race\", family=sm.families.Poisson(), data=counts_sm).fit()\n",
    "\n",
    "print(model.summary())"
   ]
  }
 ],
 "metadata": {
  "kernelspec": {
   "display_name": "Python 3.10.8 64-bit (microsoft store)",
   "language": "python",
   "name": "python3"
  },
  "language_info": {
   "codemirror_mode": {
    "name": "ipython",
    "version": 3
   },
   "file_extension": ".py",
   "mimetype": "text/x-python",
   "name": "python",
   "nbconvert_exporter": "python",
   "pygments_lexer": "ipython3",
   "version": "3.11.1"
  },
  "orig_nbformat": 4,
  "vscode": {
   "interpreter": {
    "hash": "23f823caeccb1684f6bd50492b68bb5eab208de0408f39b2457c6a38c0e8e818"
   }
  }
 },
 "nbformat": 4,
 "nbformat_minor": 2
}
