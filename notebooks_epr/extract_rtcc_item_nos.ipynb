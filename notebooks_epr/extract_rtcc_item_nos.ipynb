{
 "cells": [
  {
   "cell_type": "code",
   "execution_count": 80,
   "metadata": {},
   "outputs": [],
   "source": [
    "import pandas as pd\n"
   ]
  },
  {
   "cell_type": "code",
   "execution_count": 81,
   "metadata": {},
   "outputs": [],
   "source": [
    "def read_3_29_2022():\n",
    "    df = pd.read_csv(\n",
    "        (\"../data/join_rtcc_tables/rtcc_11_22_2022.txt\"),\n",
    "        sep=\"delimiter\",\n",
    "        header=None,\n",
    "        engine=\"python\",\n",
    "        index_col=False,\n",
    "    )\n",
    "    df = (\n",
    "        df\\\n",
    "        .rename(columns={df.columns[0]: \"item_number\"})\n",
    "    )\n",
    "    return df\n",
    "\n",
    "def read_3_2_2023():\n",
    "    df = pd.read_csv(\n",
    "        (\"../data/join_rtcc_tables/rtcc_3-2-2023.txt\"),\n",
    "        sep=\"delimiter\",\n",
    "        header=None,\n",
    "        engine=\"python\",\n",
    "        index_col=False,\n",
    "    )\n",
    "    df = (\n",
    "        df\\\n",
    "        .rename(columns={df.columns[0]: \"item_number\"})\n",
    "    )\n",
    "    return df"
   ]
  },
  {
   "cell_type": "code",
   "execution_count": 82,
   "metadata": {},
   "outputs": [],
   "source": [
    "dfa = read_3_29_2022()\n",
    "dfc = read_3_2_2023()"
   ]
  },
  {
   "cell_type": "code",
   "execution_count": 83,
   "metadata": {},
   "outputs": [],
   "source": [
    "def clean_item_nos(df):\n",
    "    no = df.item_number.str.extract(r\"(\\w-\\w+-\\w{2})\")\n",
    "    df.loc[:, \"item_number\"] = no[0]\n",
    "    return df[~((df.item_number.fillna(\"\") == \"\"))]"
   ]
  },
  {
   "cell_type": "code",
   "execution_count": 84,
   "metadata": {},
   "outputs": [],
   "source": [
    "\n",
    "dfa = dfa.pipe(clean_item_nos)\n",
    "dfb = pd.read_csv(\"../data/join_rtcc_tables/rtcc_3_29_2022.csv\", encoding=\"cp1252\")\n",
    "dfc = dfc.pipe(clean_item_nos)\n",
    "\n",
    "df = pd.concat([dfa, dfb, dfc])\n",
    "df\n",
    "df.to_csv(\"../data/join_rtcc_tables/rtcc.csv\", index=False)"
   ]
  }
 ],
 "metadata": {
  "kernelspec": {
   "display_name": "Python 3.10.8 64-bit (microsoft store)",
   "language": "python",
   "name": "python3"
  },
  "language_info": {
   "codemirror_mode": {
    "name": "ipython",
    "version": 3
   },
   "file_extension": ".py",
   "mimetype": "text/x-python",
   "name": "python",
   "nbconvert_exporter": "python",
   "pygments_lexer": "ipython3",
   "version": "3.10.10"
  },
  "orig_nbformat": 4,
  "vscode": {
   "interpreter": {
    "hash": "23f823caeccb1684f6bd50492b68bb5eab208de0408f39b2457c6a38c0e8e818"
   }
  }
 },
 "nbformat": 4,
 "nbformat_minor": 2
}
