{
 "cells": [
  {
   "cell_type": "code",
   "execution_count": 1,
   "metadata": {},
   "outputs": [],
   "source": [
    "import pandas as pd\n",
    "from lib import standardize_item_numbers\n",
    "import numpy as np"
   ]
  },
  {
   "cell_type": "code",
   "execution_count": 2,
   "metadata": {},
   "outputs": [],
   "source": [
    "def clean():\n",
    "    dfa = pd.read_csv(\"../data/police_reports/electronic_police_report_2018_2022.csv\")\n",
    "    dfa = dfa.pipe(standardize_item_numbers, [\"item_number\"])\n",
    "\n",
    "    dfb = pd.read_csv(\"../data/real_time_crime_center/rtcc.csv\")\n",
    "    dfb[\"rtcc_requested\"] = \"1\"\n",
    "    dfb = dfb.pipe(standardize_item_numbers, [\"item_number\"])\n",
    "\n",
    "    df = pd.merge(dfa, dfb, on=\"item_number\")\n",
    "    return dfa"
   ]
  },
  {
   "cell_type": "code",
   "execution_count": 3,
   "metadata": {},
   "outputs": [
    {
     "name": "stderr",
     "output_type": "stream",
     "text": [
      "C:\\Users\\PC\\AppData\\Local\\Temp\\ipykernel_16072\\1424771964.py:2: DtypeWarning: Columns (14,20,24,25) have mixed types. Specify dtype option on import or set low_memory=False.\n",
      "  dfa = pd.read_csv(\"../data/police_reports/electronic_police_report_2018_2022.csv\")\n"
     ]
    }
   ],
   "source": [
    "df = clean()"
   ]
  },
  {
   "cell_type": "code",
   "execution_count": 4,
   "metadata": {},
   "outputs": [
    {
     "data": {
      "text/plain": [
       "Index(['Unnamed: 0', 'item_number', 'district', 'location', 'disposition',\n",
       "       'signal_type', 'signal_description', 'occurred_date_time',\n",
       "       'charge_code', 'charge_description', 'offender_race', 'offender_gender',\n",
       "       'offender_age', 'offender_number', 'person_type', 'victim_race',\n",
       "       'victim_gender', 'victim_age', 'victim_number', 'victim_fatal_status',\n",
       "       'hate_crime', 'report_type', 'year', 'offenderid', 'offenderstatus',\n",
       "       'persontype'],\n",
       "      dtype='object')"
      ]
     },
     "execution_count": 4,
     "metadata": {},
     "output_type": "execute_result"
    }
   ],
   "source": [
    "df.columns"
   ]
  },
  {
   "cell_type": "code",
   "execution_count": 5,
   "metadata": {},
   "outputs": [
    {
     "name": "stderr",
     "output_type": "stream",
     "text": [
      "C:\\Users\\PC\\AppData\\Local\\Temp\\ipykernel_16072\\1998154791.py:1: FutureWarning: The default value of regex will change from True to False in a future version.\n",
      "  df.loc[:, \"location\"] = df.location.str.replace(r\"(\\w+)$\", r\"\\1, New Orleans, Louisiana\")\n"
     ]
    }
   ],
   "source": [
    "df.loc[:, \"location\"] = df.location.str.replace(r\"(\\w+)$\", r\"\\1, New Orleans, Louisiana\")\n",
    "\n",
    "requested = df[[\"item_number\", \"location\"]]\n",
    "\n",
    "requested_1 = requested[:5000]\n",
    "requested_2 = requested[5000:10000]\n",
    "requested_3 = requested[10000:15000]\n",
    "requested_4 = requested[15000:]\n",
    "\n",
    "# requested_1.to_csv(\"../data/real_time_crime_center/rtcc_locations_1.csv\", index=False)\n",
    "# requested_2.to_csv(\"../data/real_time_crime_center/rtcc_locations_2.csv\", index=False)\n",
    "# requested_3.to_csv(\"../data/real_time_crime_center/rtcc_locations_3.csv\", index=False)\n",
    "# requested_4.to_csv(\"../data/real_time_crime_center/rtcc_locations_4.csv\", index=False)"
   ]
  },
  {
   "cell_type": "code",
   "execution_count": 6,
   "metadata": {},
   "outputs": [],
   "source": [
    "requested_1_coordinates = pd.read_csv(\"../data/real_time_crime_center/rtcc_locations_1_coordinates.csv\")\n",
    "requested_1_df = pd.read_csv(\"../data/real_time_crime_center/rtcc_locations_1.csv\")\n",
    "rtcc_1 = pd.concat([requested_1_df, requested_1_coordinates], axis=1)"
   ]
  },
  {
   "cell_type": "code",
   "execution_count": 7,
   "metadata": {},
   "outputs": [],
   "source": [
    "requested_2_coordinates_df = pd.read_csv(\"../data/real_time_crime_center/rtcc_locations_2_coordinates.csv\")\n",
    "requested_2_df = pd.read_csv(\"../data/real_time_crime_center/rtcc_locations_2.csv\")\n",
    "rtcc_2 = pd.concat([requested_2_df, requested_2_coordinates_df], axis=1)"
   ]
  },
  {
   "cell_type": "code",
   "execution_count": 8,
   "metadata": {},
   "outputs": [],
   "source": [
    "requested_3_coordinates_df = pd.read_csv(\"../data/real_time_crime_center/rtcc_locations_3_coordinates.csv\")\n",
    "requested_3_df = pd.read_csv(\"../data/real_time_crime_center/rtcc_locations_3.csv\")\n",
    "rtcc_3 = pd.concat([requested_3_df, requested_3_coordinates_df], axis=1)"
   ]
  },
  {
   "cell_type": "code",
   "execution_count": 9,
   "metadata": {},
   "outputs": [],
   "source": [
    "requested_4_coordinates_df = pd.read_csv(\"../data/real_time_crime_center/rtcc_locations_4_coordinates.csv\")\n",
    "requested_4_df = pd.read_csv(\"../data/real_time_crime_center/rtcc_locations_4.csv\")\n",
    "rtcc_4 = pd.concat([requested_4_df, requested_4_coordinates_df], axis=1)"
   ]
  },
  {
   "cell_type": "code",
   "execution_count": 10,
   "metadata": {},
   "outputs": [],
   "source": [
    "coordinates_df = pd.concat([rtcc_1, rtcc_2, rtcc_3, rtcc_4], axis=0)"
   ]
  },
  {
   "cell_type": "code",
   "execution_count": 11,
   "metadata": {},
   "outputs": [],
   "source": [
    "# coordinates_df.to_csv(\"../data/real_time_crime_center/rtcc_coordinates.csv\", index=False)"
   ]
  },
  {
   "cell_type": "code",
   "execution_count": 12,
   "metadata": {},
   "outputs": [],
   "source": [
    "coordinates_df = pd.read_csv(\"../data/real_time_crime_center/rtcc_coordinates.csv\")\n",
    "coordinates_df = coordinates_df.rename(columns={\"0\": \"latitude\", \"1\": \"longitude\"})\n",
    "coordinates_df = coordinates_df[[\"item_number\", \"latitude\", \"longitude\"]]"
   ]
  },
  {
   "cell_type": "code",
   "execution_count": 13,
   "metadata": {},
   "outputs": [],
   "source": [
    "df = pd.merge(df, coordinates_df, on=\"item_number\")"
   ]
  },
  {
   "cell_type": "code",
   "execution_count": 14,
   "metadata": {},
   "outputs": [],
   "source": [
    "df = df.drop_duplicates()"
   ]
  },
  {
   "cell_type": "code",
   "execution_count": 15,
   "metadata": {},
   "outputs": [],
   "source": [
    "df['occurred_date_time'] = sorted(pd.to_datetime(df['occurred_date_time']))\n",
    "df['hour'] = df['occurred_date_time'].dt.hour\n",
    "df = df[~((df.hour.fillna(\"\") == \"\"))]\n",
    "df.loc[:, \"hour\"] = df.hour.astype(str)"
   ]
  },
  {
   "cell_type": "code",
   "execution_count": 16,
   "metadata": {},
   "outputs": [
    {
     "data": {
      "text/plain": [
       "array(['CLOSED', 'OPEN', 'UNFOUNDED'], dtype=object)"
      ]
     },
     "execution_count": 16,
     "metadata": {},
     "output_type": "execute_result"
    }
   ],
   "source": [
    "df.disposition.unique()"
   ]
  },
  {
   "cell_type": "code",
   "execution_count": 17,
   "metadata": {},
   "outputs": [
    {
     "data": {
      "text/html": [
       "<div>\n",
       "<style scoped>\n",
       "    .dataframe tbody tr th:only-of-type {\n",
       "        vertical-align: middle;\n",
       "    }\n",
       "\n",
       "    .dataframe tbody tr th {\n",
       "        vertical-align: top;\n",
       "    }\n",
       "\n",
       "    .dataframe thead th {\n",
       "        text-align: right;\n",
       "    }\n",
       "</style>\n",
       "<table border=\"1\" class=\"dataframe\">\n",
       "  <thead>\n",
       "    <tr style=\"text-align: right;\">\n",
       "      <th></th>\n",
       "      <th>occurred_date_time</th>\n",
       "      <th>latitude</th>\n",
       "      <th>longitude</th>\n",
       "      <th>hour</th>\n",
       "      <th>item_number</th>\n",
       "      <th>disposition</th>\n",
       "      <th>occurred_date</th>\n",
       "      <th>occurred_time</th>\n",
       "    </tr>\n",
       "  </thead>\n",
       "  <tbody>\n",
       "    <tr>\n",
       "      <th>0</th>\n",
       "      <td>2018-01-08 16:30:00</td>\n",
       "      <td>29.948867</td>\n",
       "      <td>-90.089342</td>\n",
       "      <td>16</td>\n",
       "      <td>d2077118</td>\n",
       "      <td>CLOSED</td>\n",
       "      <td>2018-01-08</td>\n",
       "      <td>16:30:00</td>\n",
       "    </tr>\n",
       "    <tr>\n",
       "      <th>2</th>\n",
       "      <td>2018-01-08 16:30:00</td>\n",
       "      <td>29.948867</td>\n",
       "      <td>-90.089342</td>\n",
       "      <td>16</td>\n",
       "      <td>d2077118</td>\n",
       "      <td>CLOSED</td>\n",
       "      <td>2018-01-08</td>\n",
       "      <td>16:30:00</td>\n",
       "    </tr>\n",
       "    <tr>\n",
       "      <th>4</th>\n",
       "      <td>2018-01-26 02:00:00</td>\n",
       "      <td>29.965823</td>\n",
       "      <td>-90.036381</td>\n",
       "      <td>2</td>\n",
       "      <td>e1274818</td>\n",
       "      <td>OPEN</td>\n",
       "      <td>2018-01-26</td>\n",
       "      <td>02:00:00</td>\n",
       "    </tr>\n",
       "    <tr>\n",
       "      <th>5</th>\n",
       "      <td>2018-01-26 02:00:00</td>\n",
       "      <td>30.072179</td>\n",
       "      <td>-89.943564</td>\n",
       "      <td>2</td>\n",
       "      <td>l2194418</td>\n",
       "      <td>OPEN</td>\n",
       "      <td>2018-01-26</td>\n",
       "      <td>02:00:00</td>\n",
       "    </tr>\n",
       "    <tr>\n",
       "      <th>9</th>\n",
       "      <td>2018-01-26 02:00:00</td>\n",
       "      <td>30.072179</td>\n",
       "      <td>-89.943564</td>\n",
       "      <td>2</td>\n",
       "      <td>l2194418</td>\n",
       "      <td>OPEN</td>\n",
       "      <td>2018-01-26</td>\n",
       "      <td>02:00:00</td>\n",
       "    </tr>\n",
       "    <tr>\n",
       "      <th>...</th>\n",
       "      <td>...</td>\n",
       "      <td>...</td>\n",
       "      <td>...</td>\n",
       "      <td>...</td>\n",
       "      <td>...</td>\n",
       "      <td>...</td>\n",
       "      <td>...</td>\n",
       "      <td>...</td>\n",
       "    </tr>\n",
       "    <tr>\n",
       "      <th>102906</th>\n",
       "      <td>2022-11-18 02:10:00</td>\n",
       "      <td>29.954712</td>\n",
       "      <td>-90.069155</td>\n",
       "      <td>2</td>\n",
       "      <td>b2385022</td>\n",
       "      <td>OPEN</td>\n",
       "      <td>2022-11-18</td>\n",
       "      <td>02:10:00</td>\n",
       "    </tr>\n",
       "    <tr>\n",
       "      <th>102907</th>\n",
       "      <td>2022-11-18 02:10:00</td>\n",
       "      <td>29.964152</td>\n",
       "      <td>-90.057798</td>\n",
       "      <td>2</td>\n",
       "      <td>a0325822</td>\n",
       "      <td>CLOSED</td>\n",
       "      <td>2022-11-18</td>\n",
       "      <td>02:10:00</td>\n",
       "    </tr>\n",
       "    <tr>\n",
       "      <th>102908</th>\n",
       "      <td>2022-11-18 02:10:00</td>\n",
       "      <td>30.076163</td>\n",
       "      <td>-89.858976</td>\n",
       "      <td>2</td>\n",
       "      <td>j2225922</td>\n",
       "      <td>OPEN</td>\n",
       "      <td>2022-11-18</td>\n",
       "      <td>02:10:00</td>\n",
       "    </tr>\n",
       "    <tr>\n",
       "      <th>102909</th>\n",
       "      <td>2022-11-18 19:15:00</td>\n",
       "      <td>29.973199</td>\n",
       "      <td>-90.039967</td>\n",
       "      <td>19</td>\n",
       "      <td>a1349122</td>\n",
       "      <td>OPEN</td>\n",
       "      <td>2022-11-18</td>\n",
       "      <td>19:15:00</td>\n",
       "    </tr>\n",
       "    <tr>\n",
       "      <th>102911</th>\n",
       "      <td>2022-11-20 12:44:00</td>\n",
       "      <td>43.075968</td>\n",
       "      <td>-107.290284</td>\n",
       "      <td>12</td>\n",
       "      <td>a3158222</td>\n",
       "      <td>UNFOUNDED</td>\n",
       "      <td>2022-11-20</td>\n",
       "      <td>12:44:00</td>\n",
       "    </tr>\n",
       "  </tbody>\n",
       "</table>\n",
       "<p>17773 rows × 8 columns</p>\n",
       "</div>"
      ],
      "text/plain": [
       "        occurred_date_time   latitude   longitude hour item_number  \\\n",
       "0      2018-01-08 16:30:00  29.948867  -90.089342   16    d2077118   \n",
       "2      2018-01-08 16:30:00  29.948867  -90.089342   16    d2077118   \n",
       "4      2018-01-26 02:00:00  29.965823  -90.036381    2    e1274818   \n",
       "5      2018-01-26 02:00:00  30.072179  -89.943564    2    l2194418   \n",
       "9      2018-01-26 02:00:00  30.072179  -89.943564    2    l2194418   \n",
       "...                    ...        ...         ...  ...         ...   \n",
       "102906 2022-11-18 02:10:00  29.954712  -90.069155    2    b2385022   \n",
       "102907 2022-11-18 02:10:00  29.964152  -90.057798    2    a0325822   \n",
       "102908 2022-11-18 02:10:00  30.076163  -89.858976    2    j2225922   \n",
       "102909 2022-11-18 19:15:00  29.973199  -90.039967   19    a1349122   \n",
       "102911 2022-11-20 12:44:00  43.075968 -107.290284   12    a3158222   \n",
       "\n",
       "       disposition occurred_date occurred_time  \n",
       "0           CLOSED    2018-01-08      16:30:00  \n",
       "2           CLOSED    2018-01-08      16:30:00  \n",
       "4             OPEN    2018-01-26      02:00:00  \n",
       "5             OPEN    2018-01-26      02:00:00  \n",
       "9             OPEN    2018-01-26      02:00:00  \n",
       "...            ...           ...           ...  \n",
       "102906        OPEN    2022-11-18      02:10:00  \n",
       "102907      CLOSED    2022-11-18      02:10:00  \n",
       "102908        OPEN    2022-11-18      02:10:00  \n",
       "102909        OPEN    2022-11-18      19:15:00  \n",
       "102911   UNFOUNDED    2022-11-20      12:44:00  \n",
       "\n",
       "[17773 rows x 8 columns]"
      ]
     },
     "execution_count": 17,
     "metadata": {},
     "output_type": "execute_result"
    }
   ],
   "source": [
    "dates = df[[\"occurred_date_time\", \"latitude\", \"longitude\", \"hour\", \"item_number\", \"disposition\"]]\n",
    "dates = dates[~((dates.occurred_date_time.fillna(\"\") == \"\"))]\n",
    "\n",
    "def split_dates(df):\n",
    "    data = df.occurred_date_time.astype(str).str.extract(r\"^(\\w+-\\w+-\\w+) (.+)\")\n",
    "    df.loc[:, \"occurred_date\"] = data[0]\n",
    "    df.loc[:, \"occurred_time\"] = data[1]    \n",
    "    return df\n",
    "\n",
    "dates = dates.pipe(split_dates)\n",
    "dates.to_csv(\"../data/real_time_crime_center/dates_6.csv\", index=False)\n",
    "dates\n",
    "\n",
    "# night = dates[dates.hour.isin([\"19\", \"20\", \"21\", \"22\", \"23\", \"00\", \"1\", \"2\", \"3\", \"4\", \"5\", \"6\"])]\n",
    "# night[\"night\"]  = \"night\"\n",
    "\n",
    "# day = dates[~((dates.hour.isin([\"19\", \"20\", \"21\", \"22\", \"23\", \"00\", \"1\", \"2\", \"3\", \"4\", \"5\", \"6\"])))]\n",
    "# day[\"day\"] = 1\n",
    "\n",
    "\n",
    "# night.to_csv(\"../data/real_time_crime_center/night.csv\", index=False)\n",
    "# day.to_csv(\"../data/real_time_crime_center/day.csv\", index=False)"
   ]
  }
 ],
 "metadata": {
  "kernelspec": {
   "display_name": "Python 3.10.8 64-bit (microsoft store)",
   "language": "python",
   "name": "python3"
  },
  "language_info": {
   "codemirror_mode": {
    "name": "ipython",
    "version": 3
   },
   "file_extension": ".py",
   "mimetype": "text/x-python",
   "name": "python",
   "nbconvert_exporter": "python",
   "pygments_lexer": "ipython3",
   "version": "3.10.9 (tags/v3.10.9:1dd9be6, Dec  6 2022, 20:01:21) [MSC v.1934 64 bit (AMD64)]"
  },
  "orig_nbformat": 4,
  "vscode": {
   "interpreter": {
    "hash": "23f823caeccb1684f6bd50492b68bb5eab208de0408f39b2457c6a38c0e8e818"
   }
  }
 },
 "nbformat": 4,
 "nbformat_minor": 2
}
