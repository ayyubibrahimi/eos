{
 "cells": [
  {
   "cell_type": "code",
   "execution_count": 178,
   "metadata": {},
   "outputs": [],
   "source": [
    "### to-do ###\n",
    "# compare rates with electronic police report data where rtcc footage is not requested "
   ]
  },
  {
   "cell_type": "code",
   "execution_count": 179,
   "metadata": {},
   "outputs": [],
   "source": [
    "import pandas as pd\n",
    "\n",
    "def clean():\n",
    "    df1 = pd.read_csv(\"electronic_police_report_2018.csv\")\n",
    "    df2 = pd.read_csv(\"electronic_police_report_2019.csv\")\n",
    "    df3 = pd.read_csv(\"electronic_police_report_2020.csv\")\n",
    "    df4 = pd.read_csv(\"electronic_police_report_2021.csv\")\n",
    "    df5 = pd.read_csv(\"electronic_police_report_2022.csv\")\n",
    "\n",
    "    dfs = [df1, df2, df3, df4, df5]\n",
    "    dfa = pd.concat(dfs, join=\"outer\")\n",
    "    \n",
    "    dfb = pd.read_csv(\"rtcc.csv\", encoding=\"cp1252\").rename(columns={\"Item_number\": \"item_number\"})\n",
    "\n",
    "    df = pd.merge(dfa, dfb, on=\"item_number\")\n",
    "    return df"
   ]
  },
  {
   "cell_type": "code",
   "execution_count": 180,
   "metadata": {},
   "outputs": [],
   "source": [
    "df = clean"
   ]
  },
  {
   "cell_type": "code",
   "execution_count": 181,
   "metadata": {},
   "outputs": [],
   "source": [
    "def drop_rows_missing_race(df):\n",
    "    df.loc[:, \"offender_race\"] = df.offender_race.fillna(\"\").str.lower().str.strip()\\\n",
    "    .str.replace(\"unknown\", \"\", regex=False)\n",
    "    # .str.replace(\"hispanic\", \"non-black\", regex=False)\\\n",
    "    # .str.replace(\"asian\", \"non-black\", regex=False)\\\n",
    "    # .str.replace(\"white\", \"non-black\", regex=False)\\\n",
    "    # .str.replace(r\"amer\\. ind\\.\", \"non-black\", regex=True)\n",
    "    return df[~((df.offender_race == \"\"))]\n",
    "\n",
    "\n",
    "def filter_gender(df):\n",
    "    df.loc[:, \"offender_gender\"] = (\n",
    "        df.offender_gender.str.lower().str.strip().fillna(\"\").str.replace(\"unknown\", \"\", regex=False)\n",
    "    )\n",
    "    df = df[df.offender_gender.isin([\"male\"])]\n",
    "    return df[~((df.offender_gender == \"\"))]\n",
    "\n",
    "\n",
    "def filter_arrested(df):\n",
    "    df.loc[:, \"offenderstatus\"] = df.offenderstatus.str.lower().str.strip().fillna(\"\")\n",
    "    df = df[df.offenderstatus.isin([\"arrested\"])]\n",
    "    return df[~((df.offenderstatus == \"\"))]\n",
    "\n",
    "\n",
    "def filter_year(df):\n",
    "    df = df[df.year.astype(str).isin([\"2022\"])]\n",
    "    # the following figures are percentages of the \"offender_race\" value\n",
    "    ### 2018 - 2022\n",
    "    \"\"\"\n",
    "      black         0.768292\n",
    "      unknown       0.152651\n",
    "      white         0.068554\n",
    "      hispanic      0.009226\n",
    "      asian         0.001065\n",
    "      -amer. ind.    0.000213\n",
    "    \"\"\"\n",
    "    ### 2022\n",
    "    \"\"\"\n",
    "      black      0.660252\n",
    "      unknown    0.297557\n",
    "      white      0.039230\n",
    "      asian      0.002961\n",
    "    \"\"\"\n",
    "    ### 2021\n",
    "    \"\"\"\n",
    "      black       0.663802\n",
    "      unknown     0.279270\n",
    "      white       0.055209\n",
    "      asian       0.001074\n",
    "      hispanic    0.000644\n",
    "    \"\"\"\n",
    "    ### 2020\n",
    "    \"\"\"\n",
    "      black         0.867308\n",
    "      unknown       0.069408\n",
    "      white         0.046369\n",
    "      hispanic      0.016040\n",
    "      amer. ind.    0.000875\n",
    "    \"\"\"\n",
    "    ### 2019\n",
    "    \"\"\"\n",
    "      black       0.849009\n",
    "      white       0.091532\n",
    "      unknown     0.044685\n",
    "      hispanic    0.013694\n",
    "      asian       0.001081\n",
    "    \"\"\"\n",
    "    ### 2018\n",
    "    \"\"\"\n",
    "      black       0.804891\n",
    "      white       0.129187\n",
    "      unknown     0.046252\n",
    "      hispanic    0.018075\n",
    "      asian       0.001595\n",
    "    \"\"\"\n",
    "    return df\n",
    "\n",
    "\n",
    "def extract_years(df):\n",
    "    years = df.occurred_date_time.astype(str).str.extract(r\"(\\w{4})\")\n",
    "\n",
    "    df.loc[:, \"year\"] = years[0]\n",
    "    return df"
   ]
  },
  {
   "cell_type": "code",
   "execution_count": 182,
   "metadata": {},
   "outputs": [],
   "source": [
    "def filter_data():\n",
    "  df = clean()\n",
    "  df = df.pipe(filter_year).pipe(drop_rows_missing_race).pipe(filter_gender)\n",
    "  return df"
   ]
  },
  {
   "cell_type": "code",
   "execution_count": 183,
   "metadata": {},
   "outputs": [
    {
     "name": "stderr",
     "output_type": "stream",
     "text": [
      "c:\\Users\\PC\\AppData\\Local\\Programs\\Python\\Python39\\lib\\site-packages\\IPython\\core\\interactiveshell.py:3398: DtypeWarning: Columns (21) have mixed types.Specify dtype option on import or set low_memory=False.\n",
      "  exec(code_obj, self.user_global_ns, self.user_ns)\n",
      "c:\\Users\\PC\\AppData\\Local\\Programs\\Python\\Python39\\lib\\site-packages\\pandas\\core\\indexing.py:1676: SettingWithCopyWarning: \n",
      "A value is trying to be set on a copy of a slice from a DataFrame.\n",
      "Try using .loc[row_indexer,col_indexer] = value instead\n",
      "\n",
      "See the caveats in the documentation: https://pandas.pydata.org/pandas-docs/stable/user_guide/indexing.html#returning-a-view-versus-a-copy\n",
      "  self._setitem_single_column(ilocs[0], value, pi)\n"
     ]
    }
   ],
   "source": [
    "df = filter_data()"
   ]
  },
  {
   "cell_type": "code",
   "execution_count": 184,
   "metadata": {},
   "outputs": [],
   "source": [
    "df[\"rtcc_footage_request_tally\"] = 1"
   ]
  },
  {
   "cell_type": "code",
   "execution_count": 185,
   "metadata": {},
   "outputs": [],
   "source": [
    "df = df[[\"offender_race\", \"rtcc_footage_request_tally\", \"offender_gender\"]]\n",
    "df = df.groupby([\"offender_race\", \"offender_gender\"]).rtcc_footage_request_tally.count()\n",
    "df = pd.DataFrame(df).reset_index()"
   ]
  },
  {
   "cell_type": "code",
   "execution_count": 186,
   "metadata": {},
   "outputs": [],
   "source": [
    "df.loc[(df.offender_race == \"black\"), \"population\"] = \"105498\"\n",
    "df.loc[(df.offender_race == \"white\"), \"population\"] = \"65756\"\n",
    "df.loc[(df.offender_race == \"hispanic\"), \"population\"] = \"11205\"\n",
    "df.loc[(df.offender_race == \"amer. ind.\"), \"population\"] = \"360\"\n",
    "df.loc[(df.offender_race == \"asian\"), \"population\"] = \"5499\""
   ]
  },
  {
   "cell_type": "code",
   "execution_count": 187,
   "metadata": {},
   "outputs": [],
   "source": [
    "def calc_rate(dfb_total, population=\"\"):\n",
    "    population = int(population)\n",
    "    rate = (( dfb_total / population) * 1000)\n",
    "    return rate"
   ]
  },
  {
   "cell_type": "code",
   "execution_count": 188,
   "metadata": {},
   "outputs": [],
   "source": [
    "df[\"rate_per_1000_persons\"] = df.apply(lambda x: calc_rate(x.rtcc_footage_request_tally, x.population), axis=1)\n",
    "df[\"year\"] = \"2022\""
   ]
  },
  {
   "cell_type": "code",
   "execution_count": 189,
   "metadata": {},
   "outputs": [
    {
     "data": {
      "text/html": [
       "<div>\n",
       "<style scoped>\n",
       "    .dataframe tbody tr th:only-of-type {\n",
       "        vertical-align: middle;\n",
       "    }\n",
       "\n",
       "    .dataframe tbody tr th {\n",
       "        vertical-align: top;\n",
       "    }\n",
       "\n",
       "    .dataframe thead th {\n",
       "        text-align: right;\n",
       "    }\n",
       "</style>\n",
       "<table border=\"1\" class=\"dataframe\">\n",
       "  <thead>\n",
       "    <tr style=\"text-align: right;\">\n",
       "      <th></th>\n",
       "      <th>offender_race</th>\n",
       "      <th>offender_gender</th>\n",
       "      <th>rtcc_footage_request_tally</th>\n",
       "      <th>population</th>\n",
       "      <th>rate_per_1000_persons</th>\n",
       "      <th>year</th>\n",
       "    </tr>\n",
       "  </thead>\n",
       "  <tbody>\n",
       "    <tr>\n",
       "      <th>0</th>\n",
       "      <td>asian</td>\n",
       "      <td>male</td>\n",
       "      <td>4</td>\n",
       "      <td>5499</td>\n",
       "      <td>0.727405</td>\n",
       "      <td>2022</td>\n",
       "    </tr>\n",
       "    <tr>\n",
       "      <th>1</th>\n",
       "      <td>black</td>\n",
       "      <td>male</td>\n",
       "      <td>757</td>\n",
       "      <td>105498</td>\n",
       "      <td>7.175491</td>\n",
       "      <td>2022</td>\n",
       "    </tr>\n",
       "    <tr>\n",
       "      <th>2</th>\n",
       "      <td>white</td>\n",
       "      <td>male</td>\n",
       "      <td>50</td>\n",
       "      <td>65756</td>\n",
       "      <td>0.760387</td>\n",
       "      <td>2022</td>\n",
       "    </tr>\n",
       "  </tbody>\n",
       "</table>\n",
       "</div>"
      ],
      "text/plain": [
       "  offender_race offender_gender  rtcc_footage_request_tally population  \\\n",
       "0         asian            male                           4       5499   \n",
       "1         black            male                         757     105498   \n",
       "2         white            male                          50      65756   \n",
       "\n",
       "   rate_per_1000_persons  year  \n",
       "0               0.727405  2022  \n",
       "1               7.175491  2022  \n",
       "2               0.760387  2022  "
      ]
     },
     "execution_count": 189,
     "metadata": {},
     "output_type": "execute_result"
    }
   ],
   "source": [
    "df.sort_values(\"offender_race\")"
   ]
  }
 ],
 "metadata": {
  "kernelspec": {
   "display_name": "Python 3.9.11 64-bit",
   "language": "python",
   "name": "python3"
  },
  "language_info": {
   "codemirror_mode": {
    "name": "ipython",
    "version": 3
   },
   "file_extension": ".py",
   "mimetype": "text/x-python",
   "name": "python",
   "nbconvert_exporter": "python",
   "pygments_lexer": "ipython3",
   "version": "3.9.11"
  },
  "orig_nbformat": 4,
  "vscode": {
   "interpreter": {
    "hash": "f6c8f846148a3e4d140e6ddf63c190cff559dcf260a4a21539f0978f2b58638c"
   }
  }
 },
 "nbformat": 4,
 "nbformat_minor": 2
}
